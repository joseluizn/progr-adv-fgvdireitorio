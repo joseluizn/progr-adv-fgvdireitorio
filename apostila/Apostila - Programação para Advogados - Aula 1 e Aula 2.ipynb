{
 "cells": [
  {
   "cell_type": "markdown",
   "metadata": {},
   "source": [
    "# Programação para advogados\n",
    "\n",
    "Graduação em Direito FGV Direito Rio"
   ]
  },
  {
   "cell_type": "markdown",
   "metadata": {},
   "source": [
    "# Índice\n",
    "\n",
    "#### - [Introdução](#intro)\n",
    "\n",
    "#### - [Aula 1 - Familiarização com o ambiente de trabalho](#aula1)\n",
    "\n",
    "#### - [Aula 2 - Variáveis, números e strings](#aula2)\n",
    "\n",
    "#### - [Resumo](#resumo)\n",
    "\n",
    "#### - [Exercícios](#exercicio)"
   ]
  },
  {
   "cell_type": "markdown",
   "metadata": {},
   "source": [
    "<a id=intro></a>\n",
    "## Introdução\n",
    "\n",
    "O presente curso tem como objetivo ensinar a alunos de Direito aspectos básicos de programação. Acreditamos que a exposição cuidadosa de conceitos de ciência da computação por intermédio de exemplos jurídicos e acompanhada de exercícios pontuais é suficiente para fazer com que alunos de graduação adquiram as habilidades necessárias para trabalhar o direito de maneira inovadora.\n",
    "\n",
    "Essa apostila, em formato de Jupyter Notebook, irá funcionar como um complemento ao conteúdo discutido em cada uma das aulas presenciais. Assim, todos os conceitos que serão discutidos em sala de aula estão presentes aqui. Nosso objetivo foi criar um material didático que possa ser seguido pelo aluno em paralelo, de modo a relembrar e reforçar cada uma das aulas. Assim, oferecemos exercícios extras em cada aula para fixar o conteúdo discutido em sala."
   ]
  },
  {
   "cell_type": "markdown",
   "metadata": {},
   "source": [
    "<a id=aula1></a>\n",
    "# Aula 1 - Familiarização com o ambiente de trabalho\n",
    "\n",
    "Ao longo do curso, vamos usar esse Jupyter Notebook como principal material didático. Nossa primeira aula de programação envolve conhecer os recursos dessa ferramenta."
   ]
  },
  {
   "cell_type": "code",
   "execution_count": 1,
   "metadata": {},
   "outputs": [
    {
     "data": {
      "text/html": [
       "\n",
       "        <iframe\n",
       "            width=\"560\"\n",
       "            height=\"315\"\n",
       "            src=\"https://www.youtube.com/embed/saaieUYFVao?frameborder=0&allow=accelerometer%3B+autoplay%3B+encrypted-media%3B+gyroscope%3B+picture-in-picture\"\n",
       "            frameborder=\"0\"\n",
       "            allowfullscreen\n",
       "            \n",
       "        ></iframe>\n",
       "        "
      ],
      "text/plain": [
       "<IPython.lib.display.IFrame at 0x7f37ab50f770>"
      ]
     },
     "execution_count": 1,
     "metadata": {},
     "output_type": "execute_result"
    }
   ],
   "source": [
    "from IPython.display import IFrame\n",
    "\n",
    "IFrame(width=\"560\", height=\"315\", src=\"https://www.youtube.com/embed/saaieUYFVao\", frameborder=\"0\", allow=\"accelerometer; autoplay; encrypted-media; gyroscope; picture-in-picture\")"
   ]
  },
  {
   "cell_type": "markdown",
   "metadata": {},
   "source": [
    "<i>Célula acima contém um vídeo explicando o funcionamento da ferramenta do Jupyter Notebook. O vídeo esta disponível nesse link: https://www.youtube.com/embed/saaieUYFVao</i>"
   ]
  },
  {
   "cell_type": "markdown",
   "metadata": {},
   "source": [
    "Jupyter Notebook é um framework que permite a edição de texto, junto com a execução de código Python, em células autocontidas. Dessa forma, é possível executar e editar, no seu próprio computador, os códigos dos exemplos expostos aqui.\n",
    "\n",
    "A homepage do projeto [Jupyter](https://jupyter.org) contém instruções para instalação do software para [Windows, OSX e Linux](https://jupyter.org/install), assim como um ambiente no qual você pode usar a [ferramenta online](https://jupyter.org/try).\n",
    "\n",
    "Neste curso, estamos usando um Jupyter Hub, de modo que você não precisa se preocupar com fazer uma instalação do Jupyter em seu computador. Se, porém, você quiser desenvolver seus próṕrios projetos no futuro, esses links podem servir de referência.\n",
    "\n",
    "O projeto também disponibiliza um pequeno tutorial interativo com algumas funcionalidades básicas que podem ser útil durante o uso:\n",
    "\n",
    "* [Notebook Basics](https://hub.gke2.mybinder.org/user/ipython-ipython-in-depth-xjwb6ti4/notebooks/examples/Notebook/Notebook%20Basics.ipynb) - descrição do uso base no Jupyter\n",
    "* [IPython - beyond plain python](https://hub.gke2.mybinder.org/user/ipython-ipython-in-depth-xjwb6ti4/notebooks/examples/IPython%20Kernel/Beyond%20Plain%20Python.ipynb) - algumas funcionalidades que utilizaremos para obter mais informações sobre o código (especialmente início)\n",
    "* [Markdown Cells](https://hub.gke2.mybinder.org/user/ipython-ipython-in-depth-xjwb6ti4/notebooks/examples/Notebook/Working%20With%20Markdown%20Cells.ipynb) - como utilizar as células de Markdown (pode ser útil para auxiliar nas anotações)"
   ]
  },
  {
   "cell_type": "markdown",
   "metadata": {},
   "source": [
    "Ao longo do curso, vamos usar dois tipos de célula:\n",
    "\n",
    "* Células com texto e elementos web chamadas de `markdown` (você pode criar uma nova célula desse tipo abaixo do local atual apertando `Esc` > `B` > `M` e, finalmente, `Enter` para editar);\n",
    "* Células que contêm código em Python (você pode criar células desse tipo apertando simplesmente `Esc` > `B`). Para alterar uma célula de Markdown para Python você deve entrar no modo de comando e pressionar `Y`\n",
    "\n",
    "A vantagem desse formato é que podemos exibir dados, imagens, listas e tabelas sem a necessidade de outros programas, ao mesmo tempo em que desenvolvemos nosso código de maneira bem documentada.\n",
    "\n",
    "Os dois tipos de célula podem ser valiosos para o estudante: células de texto fazem com que esse notebook seriva verdadeiramente como um caderno. Você pode adicionar células de texto antes e depois do conteúdo que preparamos de antemão para anotar os conceitos com as suas próprias palavras. Por sua vez, as células de código servem para que você possa experimentar com o funcionamento do Python. Encorajamos os alunos a criarem quantas células quiserem para testar a forma como a linguagem se comporta. Programação é um tipo de saber prático. É muito difícil aprender a programar sem se engajar ativamente."
   ]
  },
  {
   "cell_type": "markdown",
   "metadata": {},
   "source": [
    "    OBS: Se, em algum momento, a experimentação causar problemas e o notebook não estiver mais funcionando, não há motivo para pânico! Aperte ESC > 00 (o número 0, duas vezes). Um prompt aparecerá perguntando se você quer reiniciar o kernel. Responda que sim e tudo voltará ao normal. As variáveis que estavam guardadas na memória serão apagadas, mas o notebook voltará a responder a seus comandos."
   ]
  },
  {
   "cell_type": "markdown",
   "metadata": {},
   "source": [
    "<a id=aula2></a>\n",
    "### Aula 2 - Variáveis, números e strings\n",
    "\n",
    "Programar envolve lidar com variáveis de diferentes tipos e combiná-las em expressões. O que podemos fazer com cada uma delas? Vamos descobrir."
   ]
  },
  {
   "cell_type": "markdown",
   "metadata": {},
   "source": [
    "#### Um exemplo jurídico\n",
    "\n",
    "Como a programação se relaciona com o Direito? Uma boa estratégia para começar a explorar essa relação é olhar para o direito contratual.\n",
    "\n",
    "Em geral, contratos possuem conjuntos de prestações contrapostas que devem ser executadas por cada uma das partes para que o contrato seja bem sucedido. Um contrato de compra e venda, por exemplo, depende de uma prestação por parte do comprador (o pagamento) e uma contraprestação por parte do vendedor (a entrega do produto). Essas características fazem com que seja relativamente fácil representar o contrato de compra e venda em código de computador."
   ]
  },
  {
   "cell_type": "markdown",
   "metadata": {},
   "source": [
    "Para começar, vejamos nosso contrato em seu formato tradicional:\n",
    "\n",
    "<br>\n",
    "<br>\n",
    "    <img src=https://images.pexels.com/photos/48148/document-agreement-documents-sign-48148.jpeg style = \"width:40%\">\n",
    "    <center> <i> Imagem meramente ilustrativa. Imagem apresenta a assinatura manual de contrato em papel. </i> </center>\n",
    "    \n",
    "Podemos imaginar que o texto de um contrato de compra e venda padrão seja o seguinte:\n",
    "\n",
    "<blockquote>\n",
    "\n",
    "**Cláusula 1ª**\n",
    "\n",
    "Caio da Silva Pereira, brasileiro, solteiro, portador do CPF nº XXXX, residente e domiciliado à Av. Rio Branco, nº 1, Centro, nesta cidade do Rio de Janeiro, doravante denominado comprador, acorda em pagar a Tício de Oliveira, brasileiro, solteiro, portador do CPF nº XXXX, residente e domiciliado à Rua Praia de Botafogo, 190, Botafogo, nesta cidade do Rio de Janeiro, doravante denominado vendedor, a quantia certa de R$ 50,00 reais em espécie.\n",
    "\n",
    "**Cláusula 2ª**\n",
    "\n",
    "O vendedor se obriga a entregar ao comprador, no prazo certo de 15 (quinze) dias, um pendrive da marca X, com capacidade de 16Gb.\n",
    "\n",
    "</blockquote>\n",
    "\n",
    "Podemos imaginar, também, que a versão completa do contrato contivesse mais algumas cláusulas a respeito das punições previstas para o não cumprimento das obrigações pactuadas, bem como provisões regulando o foro competente para julgamento.\n",
    "\n",
    "Em seus elementos centrais, porém, podemos identificar um contrato claro que, na sequência, transformaremos em código."
   ]
  },
  {
   "cell_type": "markdown",
   "metadata": {},
   "source": [
    "Vamos começar com a cláusula 1ª. Em negrito, está a primeira qualifcação importante do contrato: o comprador se chama Caio.\n",
    "\n",
    "<blockquote>\n",
    "\n",
    "**Cláusula 1ª**\n",
    "\n",
    "**Caio** da Silva Pereira, brasileiro, solteiro, portador do CPF nº XXXX, residente e domiciliado à Av. Rio Branco, nº 1, Centro, nesta cidade do Rio de Janeiro, **doravante denominado comprador**, acorda em pagar a Tício de Oliveira, brasileiro, solteiro, portador do CPF nº XXXX, residente e domiciliado à Rua Praia de Botafogo, 190, Botafogo, nesta cidade do Rio de Janeiro, doravante denominado vendedor, a quantia certa de R$ 50,00 reais em espécie.\n",
    "\n",
    "</blockquote>\n",
    "\n",
    "Em código, podemos dizer que Caio é o comprador de maneira bastante simples:"
   ]
  },
  {
   "cell_type": "code",
   "execution_count": 2,
   "metadata": {},
   "outputs": [],
   "source": [
    "#um contrato de compra e venda em Python\n",
    "comprador = \"Caio\""
   ]
  },
  {
   "cell_type": "markdown",
   "metadata": {},
   "source": [
    "Assim como em um contrato, podemos definir `comprador` em função não só do primeiro nome, mas de uma série de características que permitem identifica-lo unicamente. Ao longo do curso, veremos formas de fazer isso em Python. Para fins do nosso exemplo, porém, basta guardarmos o primeiro nome do comprador.\n",
    "\n",
    "A mesma estratégia pode ser usada para guardarmos o nome do `vendedor`, Tício:"
   ]
  },
  {
   "cell_type": "code",
   "execution_count": 3,
   "metadata": {},
   "outputs": [],
   "source": [
    "#um contrato de compra e venda em Python\n",
    "comprador = \"Caio\"\n",
    "vendedor = \"Tício\""
   ]
  },
  {
   "cell_type": "markdown",
   "metadata": {},
   "source": [
    "Cada um desses nomes está guardado em uma **variável** diferente. Depois, podemos alterar o nome atrelado a `comprador` e `vendedor` sem alterarmos inteiramente o nosso programa. A mesma ideia pode ser usada para guardar as outras informações importantes do nosso contrato simplifcado, como o `valor_pago` e a informação a respeito da entrega do produto (`produto_entregue`):"
   ]
  },
  {
   "cell_type": "code",
   "execution_count": 4,
   "metadata": {},
   "outputs": [],
   "source": [
    "#um contrato de compra e venda em Python\n",
    "comprador = \"Caio\"\n",
    "vendedor = \"Tício\"\n",
    "valor_pago = 50\n",
    "produto_entregue = True"
   ]
  },
  {
   "cell_type": "markdown",
   "metadata": {},
   "source": [
    "Finalmente, implementamos a lógica do contrato, estipulando o que acontece como uma função de cada um dos valores guardados nas variáveis:"
   ]
  },
  {
   "cell_type": "code",
   "execution_count": 5,
   "metadata": {},
   "outputs": [
    {
     "name": "stdout",
     "output_type": "stream",
     "text": [
      "Tudo certo! Semprônio pagou corretamente e Tício entregou o produto em tempo.\n"
     ]
    }
   ],
   "source": [
    "#um contrato de compra e venda em Python\n",
    "comprador = \"Semprônio\"\n",
    "vendedor = \"Tício\"\n",
    "valor_pago = 50\n",
    "produto_entregue = True\n",
    "\n",
    "#vamos verificar se as condições do contrato foram cumpridas ou não\n",
    "if valor_pago == 50 and produto_entregue is True:\n",
    "    print(f\"Tudo certo! {comprador} pagou corretamente e {vendedor} entregou o produto em tempo.\")\n",
    "elif valor_pago == 50 and produto_entregue is False:\n",
    "    print(f\"O vendedor descumpriu o contrato! {comprador} pagou corretamente, mas {vendedor} não entregou o produto.\")\n",
    "elif valor_pago < 50 and produto_entregue is True:\n",
    "    print(f\"O comprador descumpriu o contrato! {comprador} não pagou corretamente, mas {vendedor} entregou o produto.\")\n",
    "else:\n",
    "    print(\"Não sei o que dizer... Não fui programado para resolver esse problema.\")"
   ]
  },
  {
   "cell_type": "markdown",
   "metadata": {},
   "source": [
    "Não se preocupe se não entender perfeitamente tudo o que aconteceu na célula acima. Veremos cada um dos elementos técnicos dela ao longo do curso. O importante é tentar ver como ela pode representar um contrato com o qual estamos acostumados a lidar em uma linguagem natural.\n",
    "\n",
    "Altere as variáveis e rode a célula novamente para ver o que acontece em cada uma das situações. Você pode alterar o nome do comprador, do vendedor, o valor pago e se o produto foi entregue ou não. Se você conseguir, pode completar as hipóteses do contrato!"
   ]
  },
  {
   "cell_type": "markdown",
   "metadata": {},
   "source": [
    "#### Variáveis\n",
    "\n",
    "Cada um dos quatro elementos do nosso contrato hipotético é uma **variável** no nosso código. Assim, se você altera o valor sendo atribuído à variável (no lado direito do `=`), você altera o resultado da verificação do contrato. No caso dos nomes do `comprador` e do `vendedor` altera-se o nome de quem fez a ação. Quando o que é alterado é o `valor_pago` ou a variável `produto_entregue`, o resultado do contrato se altera com o seu inadimplemento (ou não cumprimento).\n",
    "\n",
    "O interessante das variáveis é que elas podem ser atualizadas e guardar valores que se alteram ao longo do tempo. Vamos reiniciar a variável `vendedor` com o nome \"Tício\" e imprimir o resultado:"
   ]
  },
  {
   "cell_type": "code",
   "execution_count": 6,
   "metadata": {},
   "outputs": [
    {
     "name": "stdout",
     "output_type": "stream",
     "text": [
      "Tício\n"
     ]
    }
   ],
   "source": [
    "vendedor = \"Tício\"\n",
    "print(vendedor)"
   ]
  },
  {
   "cell_type": "markdown",
   "metadata": {},
   "source": [
    "O comando `print` imprime qualquer coisa que passamos dentro dos parênteses. Se a variável `vendedor` contém o nome \"Tício\", o resultado será \"Tício\". Se, por outro lado, `vendedor = 'Shirley'`, o resultado será \"Shirley\"."
   ]
  },
  {
   "cell_type": "code",
   "execution_count": 7,
   "metadata": {},
   "outputs": [
    {
     "name": "stdout",
     "output_type": "stream",
     "text": [
      "Shirley\n"
     ]
    }
   ],
   "source": [
    "vendedor = \"Shirley\"\n",
    "print(vendedor)"
   ]
  },
  {
   "cell_type": "markdown",
   "metadata": {},
   "source": [
    "A variável `vendedor` é completamente agnóstica com relação ao tipo de valor que ela deve guardar. Nosso vendedor pode ser o número 42:"
   ]
  },
  {
   "cell_type": "code",
   "execution_count": 8,
   "metadata": {},
   "outputs": [
    {
     "name": "stdout",
     "output_type": "stream",
     "text": [
      "42\n"
     ]
    }
   ],
   "source": [
    "vendedor = 42\n",
    "print(vendedor)"
   ]
  },
  {
   "cell_type": "markdown",
   "metadata": {},
   "source": [
    "#### Tipos de variáveis\n",
    "\n",
    "A diferença entre \"Tício\" e 42 pode ser compreendida quando vemos que textos e números são tipos de dado completamente diferentes. O nome \"Tício\" pode ser concatenado com outros textos. Podemos verificar se ele contém a letra \"v\", podemos extrair suas vogais, entre muitas outras coisas, mas não podemos dividir \"Tício\" por 2, isso não faz sentido! Em contraste, embora possamos dividir 42 por 2, não podemos contar quantas vezes a letra \"a\" aparece em 42.\n",
    "\n",
    "#### Variáveis numéricas\n",
    "\n",
    "Cada tipo de variável pode constar de certas **expressões** ou **operações**. A maneira mais fácil de ver isso é através das operações de soma, subtração, divisão e multiplicação com variáveis numéricas."
   ]
  },
  {
   "cell_type": "code",
   "execution_count": 9,
   "metadata": {},
   "outputs": [],
   "source": [
    "#inicia as variáveis a e b\n",
    "a = 42\n",
    "b = 2"
   ]
  },
  {
   "cell_type": "code",
   "execution_count": 10,
   "metadata": {},
   "outputs": [
    {
     "data": {
      "text/plain": [
       "44"
      ]
     },
     "execution_count": 10,
     "metadata": {},
     "output_type": "execute_result"
    }
   ],
   "source": [
    "#soma\n",
    "a + b"
   ]
  },
  {
   "cell_type": "code",
   "execution_count": 11,
   "metadata": {},
   "outputs": [
    {
     "data": {
      "text/plain": [
       "40"
      ]
     },
     "execution_count": 11,
     "metadata": {},
     "output_type": "execute_result"
    }
   ],
   "source": [
    "#subtração\n",
    "a - b"
   ]
  },
  {
   "cell_type": "code",
   "execution_count": 12,
   "metadata": {},
   "outputs": [
    {
     "data": {
      "text/plain": [
       "84"
      ]
     },
     "execution_count": 12,
     "metadata": {},
     "output_type": "execute_result"
    }
   ],
   "source": [
    "#multiplicação\n",
    "a * b"
   ]
  },
  {
   "cell_type": "code",
   "execution_count": 13,
   "metadata": {},
   "outputs": [
    {
     "data": {
      "text/plain": [
       "21.0"
      ]
     },
     "execution_count": 13,
     "metadata": {},
     "output_type": "execute_result"
    }
   ],
   "source": [
    "#divisão\n",
    "a / b"
   ]
  },
  {
   "cell_type": "markdown",
   "metadata": {},
   "source": [
    "Essas são as operações básicas da matemática e elas são possíveis por conta do tipo de dado contido nas variáveis `a` e `b`. O Python permite que vejamos qual é o tipo de cada variável com o comando `type`:"
   ]
  },
  {
   "cell_type": "code",
   "execution_count": 14,
   "metadata": {},
   "outputs": [
    {
     "data": {
      "text/plain": [
       "int"
      ]
     },
     "execution_count": 14,
     "metadata": {},
     "output_type": "execute_result"
    }
   ],
   "source": [
    "type(a)"
   ]
  },
  {
   "cell_type": "markdown",
   "metadata": {},
   "source": [
    "O comando nos informa que a variável `a` é do tipo `int`, o que significa que estamos lidando com um número inteiro. Números inteiros podem ser somados, subtraídos, divididos, multiplicados. Podem servir para estabelecer uma contagem...\n",
    "\n",
    "Também podemos testar o tipo do resultado de uma operação:"
   ]
  },
  {
   "cell_type": "code",
   "execution_count": 15,
   "metadata": {},
   "outputs": [
    {
     "data": {
      "text/plain": [
       "int"
      ]
     },
     "execution_count": 15,
     "metadata": {},
     "output_type": "execute_result"
    }
   ],
   "source": [
    "type(a + b)"
   ]
  },
  {
   "cell_type": "markdown",
   "metadata": {},
   "source": [
    "A soma de `a` e `b` (44) é um número inteiro! E a divisão de `a` e `b`?"
   ]
  },
  {
   "cell_type": "code",
   "execution_count": 16,
   "metadata": {},
   "outputs": [
    {
     "data": {
      "text/plain": [
       "float"
      ]
     },
     "execution_count": 16,
     "metadata": {},
     "output_type": "execute_result"
    }
   ],
   "source": [
    "type(a / b)"
   ]
  },
  {
   "cell_type": "markdown",
   "metadata": {},
   "source": [
    "O resultado da divisão de `a` e `b` é um outro tipo de dado, um `float` ou número de ponto flutuante, que nada mais é do que uma representação numérica que admite casas decimais. Algumas vezes faz mais sentido usarmos inteiros (quando estamos contando processos, por exemplo), outras vezes faz mais sentido usarmos números de pontos flutuantes (quando estamos verificando um rateio de preços, por exemplo). O Python é inteligente o suficiente para converter entre esses tipos em algumas ocasiões (como na divisão acima), mas não em todas, de maneira que é importante termos em mente essa diferença."
   ]
  },
  {
   "cell_type": "markdown",
   "metadata": {},
   "source": [
    "Apesar das aparências, as variáveis numéricas são muito importantes no caso do Direito. Imagine um caso onde a sentença estipula uma pena base de 9 anos para um homicídio. O autor, no entanto, faz parte de uma milícia, fazendo incidir a circunstância de aumento da pena prevista no art. 121, § 6º:\n",
    "\n",
    "<blockquote>\n",
    "    § 6º A pena é aumentada de 1/3 (um terço) até a metade se o crime for praticado por milícia privada, sob o pretexto de prestação de serviço de segurança ou por grupo de extermínio.\n",
    "</blockquote>\n",
    "\n",
    "Nesse caso, precisamos aplicar um aumento à pena base que é uma fração dela. Suponhamos que esse aumento fique estabelecido em 1/3. Poderíamos representa-lo em Python da seguinte forma:"
   ]
  },
  {
   "cell_type": "code",
   "execution_count": 17,
   "metadata": {
    "scrolled": true
   },
   "outputs": [
    {
     "name": "stdout",
     "output_type": "stream",
     "text": [
      "12.0\n"
     ]
    }
   ],
   "source": [
    "pena_base = 9\n",
    "circunstancia_de_aumento = 1/3\n",
    "\n",
    "pena_final = pena_base + (pena_base * circunstancia_de_aumento)\n",
    "print(pena_final)"
   ]
  },
  {
   "cell_type": "markdown",
   "metadata": {},
   "source": [
    "#### Strings - variáveis de texto"
   ]
  },
  {
   "cell_type": "code",
   "execution_count": 18,
   "metadata": {},
   "outputs": [
    {
     "data": {
      "text/plain": [
       "str"
      ]
     },
     "execution_count": 18,
     "metadata": {},
     "output_type": "execute_result"
    }
   ],
   "source": [
    "vendedor = \"Tício\"\n",
    "type(vendedor)"
   ]
  },
  {
   "cell_type": "markdown",
   "metadata": {},
   "source": [
    "Strings (`str`), ou variáveis de texto, são algo completamente diferente. Vamos tentar adicionar o número 42 à nossa variável de texto `vendedor` e ver o que acontece."
   ]
  },
  {
   "cell_type": "code",
   "execution_count": 19,
   "metadata": {},
   "outputs": [
    {
     "ename": "TypeError",
     "evalue": "can only concatenate str (not \"int\") to str",
     "output_type": "error",
     "traceback": [
      "\u001b[0;31m---------------------------------------------------------------------------\u001b[0m",
      "\u001b[0;31mTypeError\u001b[0m                                 Traceback (most recent call last)",
      "Cell \u001b[0;32mIn[19], line 1\u001b[0m\n\u001b[0;32m----> 1\u001b[0m \u001b[43mvendedor\u001b[49m\u001b[43m \u001b[49m\u001b[38;5;241;43m+\u001b[39;49m\u001b[43m \u001b[49m\u001b[38;5;241;43m3\u001b[39;49m\n",
      "\u001b[0;31mTypeError\u001b[0m: can only concatenate str (not \"int\") to str"
     ]
    }
   ],
   "source": [
    "vendedor + 3"
   ]
  },
  {
   "cell_type": "markdown",
   "metadata": {},
   "source": [
    "O Python retorna um erro de tipo (`TypeError`) que nos informa que só pode concatenar `str` a `str` e não `int` a `str`. Isso significa que podemos usar adições de maneira criativa para concatenar diferentes nomes. Vamos criar uma variável `vendedor_sobrenome`, preenchê-la com o valor relevante e imprimir o resultado de `vendedor + vendedor_sobrenome`.\n",
    "\n",
    "    DICA: Fique atento aos códigos de erro! Eles podem te ensinar tanto sobre programação quanto esse curso.\n",
    "    \n",
    "    O texto completo do erro é: TypeError: can only concatenate str (not \"int\") to str"
   ]
  },
  {
   "cell_type": "code",
   "execution_count": 20,
   "metadata": {},
   "outputs": [
    {
     "name": "stdout",
     "output_type": "stream",
     "text": [
      "TícioHartmann\n"
     ]
    }
   ],
   "source": [
    "vendedor_sobrenome = \"Hartmann\"\n",
    "print(vendedor + vendedor_sobrenome)"
   ]
  },
  {
   "cell_type": "markdown",
   "metadata": {},
   "source": [
    "A soma, quando aplicada a strings, resulta em uma string maior que junta (ou concatena) os dois elementos que estão sendo somados. Legal! Será que podemos fazer o mesmo com subtrações?"
   ]
  },
  {
   "cell_type": "code",
   "execution_count": 21,
   "metadata": {},
   "outputs": [
    {
     "ename": "TypeError",
     "evalue": "unsupported operand type(s) for -: 'str' and 'str'",
     "output_type": "error",
     "traceback": [
      "\u001b[0;31m---------------------------------------------------------------------------\u001b[0m",
      "\u001b[0;31mTypeError\u001b[0m                                 Traceback (most recent call last)",
      "Cell \u001b[0;32mIn[21], line 1\u001b[0m\n\u001b[0;32m----> 1\u001b[0m \u001b[38;5;28mprint\u001b[39m(\u001b[43mvendedor\u001b[49m\u001b[43m \u001b[49m\u001b[38;5;241;43m-\u001b[39;49m\u001b[43m \u001b[49m\u001b[43mvendedor_sobrenome\u001b[49m)\n",
      "\u001b[0;31mTypeError\u001b[0m: unsupported operand type(s) for -: 'str' and 'str'"
     ]
    }
   ],
   "source": [
    "print(vendedor - vendedor_sobrenome)"
   ]
  },
  {
   "cell_type": "markdown",
   "metadata": {},
   "source": [
    "Não... A célula acima tem como resultado um erro. A descrição do erro é:\n",
    "    \n",
    "        TypeError: unsupported operand type(s) for -: 'str' and 'str'. </i>\n",
    "\n",
    "Quando aplicamos a subtração, o Python nos informa que `-` não é um operador válido para os tipos `str` e `str`. Nem tudo o que pode ser feito com números pode ser feito com strings.\n",
    "\n",
    "Por outro lado, podemos fazer outras coisas com strings que não são possíveis com números. Para exemplificar essas operações, vamos avaliar uma frase bastante longa tirada de uma famosa decisão do STF:"
   ]
  },
  {
   "cell_type": "code",
   "execution_count": 22,
   "metadata": {},
   "outputs": [],
   "source": [
    "voto_longo = \"Na esteira, assim, da assentada jurisprudência dos tribunais brasileiros, que já reconheceram para fins previdenciários, fiscais, de alguns direitos sociais a união homoafetiva, tenho como procedentes as ações, nos termos dos pedidos formulados, para reconhecer admissível como entidade familiar a união de pessoas do mesmo sexo e os mesmos direitos e deveres dos companheiros nas uniões estáveis serem reconhecidos àqueles que optam pela relação homoafetiva.\""
   ]
  },
  {
   "cell_type": "markdown",
   "metadata": {},
   "source": [
    "Vamos supor que eu só esteja interessado no final do voto, na parte que diz se a ação foi considerada procedente ou não. Podemos simplesmente ver se \"procedente\" está contido no texto!"
   ]
  },
  {
   "cell_type": "code",
   "execution_count": 23,
   "metadata": {},
   "outputs": [
    {
     "data": {
      "text/plain": [
       "True"
      ]
     },
     "execution_count": 23,
     "metadata": {},
     "output_type": "execute_result"
    }
   ],
   "source": [
    "\"procedente\" in voto_longo"
   ]
  },
  {
   "cell_type": "markdown",
   "metadata": {},
   "source": [
    "O resultado diz que a expressão `\"procedente\" in voto_long` é verdadeira! O que nos leva ao último tipo de variável contido no exemplo acima, as variáveis lógicas ou booleanas.\n",
    "\n",
    "Uma única observação antes de prosseguirmos: cuidado com os testes! \"Improcedente\" também contém o trecho \"procedente\", de maneira que precisaríamos de uma estratégia mais sofisticada para identificar se os pedidos foram deferidos ou não."
   ]
  },
  {
   "cell_type": "code",
   "execution_count": 24,
   "metadata": {},
   "outputs": [
    {
     "data": {
      "text/plain": [
       "True"
      ]
     },
     "execution_count": 24,
     "metadata": {},
     "output_type": "execute_result"
    }
   ],
   "source": [
    "\"procedente\" in \"improcedente\""
   ]
  },
  {
   "cell_type": "markdown",
   "metadata": {},
   "source": [
    "#### Booleanos\n",
    "\n",
    "Variáveis booleanas são verdadeiras (`True`) ou falsas (`False`) e não assumem nenhum outro valor. Vamos retornar rapidamente aos elementos do nosso contrato hipotético:"
   ]
  },
  {
   "cell_type": "code",
   "execution_count": 25,
   "metadata": {},
   "outputs": [],
   "source": [
    "#um contrato de compra e venda em Python\n",
    "comprador = \"Caio\"\n",
    "vendedor = \"Tício\"\n",
    "valor_pago = 50\n",
    "produto_entregue = True"
   ]
  },
  {
   "cell_type": "markdown",
   "metadata": {},
   "source": [
    "Sabemos que `comprador` e `vendedor` são do tipo `str` e que `valor_pago` é do tipo `int`. Já adiantamos que `produto_entregue` é do tipo `bool`, mas vamos confirmar nossa hipótese programaticamente."
   ]
  },
  {
   "cell_type": "code",
   "execution_count": 26,
   "metadata": {},
   "outputs": [
    {
     "data": {
      "text/plain": [
       "bool"
      ]
     },
     "execution_count": 26,
     "metadata": {},
     "output_type": "execute_result"
    }
   ],
   "source": [
    "type(produto_entregue)"
   ]
  },
  {
   "cell_type": "markdown",
   "metadata": {},
   "source": [
    "Revisitando brevemente à verificação do nosso contrato, podemos perceber que ela leva em consideração cada um dos tipos. Vamos ver o que acontece quando mudamos o tipo de dado contido em `produto_entregue`:"
   ]
  },
  {
   "cell_type": "code",
   "execution_count": 27,
   "metadata": {},
   "outputs": [
    {
     "name": "stdout",
     "output_type": "stream",
     "text": [
      "Não sei o que dizer... Não fui programado para resolver esse problema.\n"
     ]
    }
   ],
   "source": [
    "produto_entregue = \"verdadeiro\"\n",
    "\n",
    "#vamos verificar se as condições do contrato foram cumpridas ou não\n",
    "if valor_pago == 50 and produto_entregue is True:\n",
    "    print(f\"Tudo certo! {comprador} pagou corretamente e {vendedor} entregou o produto em tempo.\")\n",
    "elif valor_pago == 50 and produto_entregue is False:\n",
    "    print(f\"O vendedor descumpriu o contrato! {comprador} pagou corretamente, mas {vendedor} não entregou o produto.\")\n",
    "elif valor_pago < 50 and produto_entregue is True:\n",
    "    print(f\"O comprador descumpriu o contrato! {comprador} não pagou corretamente, mas {vendedor} entregou o produto.\")\n",
    "else:\n",
    "    print(\"Não sei o que dizer... Não fui programado para resolver esse problema.\")"
   ]
  },
  {
   "cell_type": "markdown",
   "metadata": {},
   "source": [
    "O programa simplesmente não sabe o que dizer. Afinal, ele foi programado para lidar com um valor booleano na variável `produto_entregue`. O mesmo aconteceria caso mudássemos qualquer uma das outras variáveis. Se `valor_pago` fosse uma `str` (se passássemos \"50\", ao invés de 50, por exemplo), as coisas também não funcionariam bem."
   ]
  },
  {
   "cell_type": "code",
   "execution_count": 28,
   "metadata": {},
   "outputs": [
    {
     "ename": "TypeError",
     "evalue": "'<' not supported between instances of 'str' and 'int'",
     "output_type": "error",
     "traceback": [
      "\u001b[0;31m---------------------------------------------------------------------------\u001b[0m",
      "\u001b[0;31mTypeError\u001b[0m                                 Traceback (most recent call last)",
      "Cell \u001b[0;32mIn[28], line 12\u001b[0m\n\u001b[1;32m     10\u001b[0m \u001b[38;5;28;01melif\u001b[39;00m valor_pago \u001b[38;5;241m==\u001b[39m \u001b[38;5;241m50\u001b[39m \u001b[38;5;129;01mand\u001b[39;00m produto_entregue \u001b[38;5;129;01mis\u001b[39;00m \u001b[38;5;28;01mFalse\u001b[39;00m:\n\u001b[1;32m     11\u001b[0m     \u001b[38;5;28mprint\u001b[39m(\u001b[38;5;124m\"\u001b[39m\u001b[38;5;124mO vendedor descumpriu o contrato! \u001b[39m\u001b[38;5;132;01m%s\u001b[39;00m\u001b[38;5;124m pagou corretamente, mas \u001b[39m\u001b[38;5;132;01m%s\u001b[39;00m\u001b[38;5;124m não entregou o produto.\u001b[39m\u001b[38;5;124m\"\u001b[39m \u001b[38;5;241m%\u001b[39m (comprador, vendedor))\n\u001b[0;32m---> 12\u001b[0m \u001b[38;5;28;01melif\u001b[39;00m \u001b[43mvalor_pago\u001b[49m\u001b[43m \u001b[49m\u001b[38;5;241;43m<\u001b[39;49m\u001b[43m \u001b[49m\u001b[38;5;241;43m50\u001b[39;49m \u001b[38;5;129;01mand\u001b[39;00m produto_entregue \u001b[38;5;129;01mis\u001b[39;00m \u001b[38;5;28;01mTrue\u001b[39;00m:\n\u001b[1;32m     13\u001b[0m     \u001b[38;5;28mprint\u001b[39m(\u001b[38;5;124m\"\u001b[39m\u001b[38;5;124mO comprador descumpriu o contrato! \u001b[39m\u001b[38;5;132;01m%s\u001b[39;00m\u001b[38;5;124m não pagou corretamente, mas \u001b[39m\u001b[38;5;132;01m%s\u001b[39;00m\u001b[38;5;124m entregou o produto.\u001b[39m\u001b[38;5;124m\"\u001b[39m \u001b[38;5;241m%\u001b[39m (comprador, vendedor))\n\u001b[1;32m     14\u001b[0m \u001b[38;5;28;01melse\u001b[39;00m:\n",
      "\u001b[0;31mTypeError\u001b[0m: '<' not supported between instances of 'str' and 'int'"
     ]
    }
   ],
   "source": [
    "#corrige produto_entregue\n",
    "produto_entregue = True\n",
    "\n",
    "#transforma valor_pago em uma string\n",
    "valor_pago = \"50\"\n",
    "\n",
    "#vamos verificar se as condições do contrato foram cumpridas ou não\n",
    "if valor_pago == 50 and produto_entregue is True:\n",
    "    print(\"Tudo certo! %s pagou corretamente e %s entregou o produto em tempo.\" % (comprador, vendedor))\n",
    "elif valor_pago == 50 and produto_entregue is False:\n",
    "    print(\"O vendedor descumpriu o contrato! %s pagou corretamente, mas %s não entregou o produto.\" % (comprador, vendedor))\n",
    "elif valor_pago < 50 and produto_entregue is True:\n",
    "    print(\"O comprador descumpriu o contrato! %s não pagou corretamente, mas %s entregou o produto.\" % (comprador, vendedor))\n",
    "else:\n",
    "    print(\"Não sei o que dizer... Não fui programado para resolver esse problema.\")"
   ]
  },
  {
   "cell_type": "markdown",
   "metadata": {},
   "source": [
    "A célula acima resulta em um erro devido aos tipos de variável. Texto completo do erro:\n",
    "\n",
    "    TypeError: '<' not supported between instances of 'str' and 'int'\n",
    "\n",
    "O erro agora é ainda mais grave, com o programa sendo incapaz de rodar até o final (isso não aconteceu no exemplo anterior por conta da maneira como o Python avalia implicitamente o valor booleano de algumas variáveis, mas isso é assunto para outra aula)."
   ]
  },
  {
   "cell_type": "markdown",
   "metadata": {},
   "source": [
    "<a id=resumo></a>\n",
    "# Resumo\n",
    "\n",
    "Em nossa aula, vimos o conceito de variáveis e alguns dos diferentes tipos de dados que podemos guardar nelas. Fizemos isso em um contexto que, esperamos, seja amigável e acessível a advogados e operadores do Direito de maneira mais ampla.\n",
    "\n",
    "Em revisão, vimos que:\n",
    "* Podemos guardar dados em variáveis com nomes que escolhemos;\n",
    "* Atualizar os valores que estão guardados em cada variável.\n",
    "* Que as variáveis podem guardar dados de diferentes tipos:\n",
    "    * Variáveis numéricas podem ser `int` ou `float` e aceitam as operações matemáticas padrão;\n",
    "    * Variáveis de texto são do tipo `str` e aceitam alguns tipos de operações semelhantes às operações matemáticas (concatenação/soma) e algumas operações específicas (como verificar se um subconjunto de texto está contido em um texto mais longo);\n",
    "    * Variáveis booleanas, ou `bool` são aquelas que só assumem dois valores: `True` e `False`.\n",
    "* Certos programas e expressões esperam certos tipos de variáveis e podem falhar quando o alimentamos com o tipo errado de dado."
   ]
  },
  {
   "cell_type": "markdown",
   "metadata": {},
   "source": [
    "<a id=exercicio></a>\n",
    "# Exercícios\n",
    "\n",
    "Acreditamos que programação é o tipo de coisa que se aprende fazendo. Assim, precisamos que você complete o exercício abaixo, baseado em outro contrato hipotético:\n",
    "\n",
    "* Crie uma variável chamada `contratante`, contendo o **nome** da pessoa que está contratando o serviço.\n",
    "* Crie outra variável chamada `contratado`, contendo o **nome** da pessoa que irá prestar o serviço.\n",
    "* Crie uma variável `honorarios_mes` contendo o **valor** cobrado mensalmente pelo `contratado`.\n",
    "* Determine se `servicos_prestados` é **verdadeira** ou não.\n",
    "* Crie uma variável `honorarios_dia` que estabelece o **valor** cobrado por dia a partir de `honorarios_mes`, assumindo que o mês tem 30 dias.\n",
    "\n",
    "As respostas devem ser feitas em qualquer célula abaixo. Após rodar a célula criada por você (lembre-se, após escrever seu código, aperte `cntrl + enter`), rode a célula que contém a função `correcao_exercico1`."
   ]
  },
  {
   "cell_type": "code",
   "execution_count": null,
   "metadata": {},
   "outputs": [],
   "source": [
    "#escreva sua resposta aqui!"
   ]
  },
  {
   "cell_type": "markdown",
   "metadata": {},
   "source": [
    "Rode a célula abaixo para verificar sua resposta ao exercício!\n",
    "\n",
    "Não se esqueça de executar a célula acima com sua resposta para que seu código seja armazenado na memório do Jupyter Notebook."
   ]
  },
  {
   "cell_type": "code",
   "execution_count": null,
   "metadata": {},
   "outputs": [],
   "source": [
    "#rode esta célula para a correção!\n",
    "from correcoes import aula2_ex1\n",
    "aula2_ex1(vars())"
   ]
  },
  {
   "cell_type": "markdown",
   "metadata": {},
   "source": [
    "#### Exercício extra\n",
    "\n",
    "Vimos que diferentes tipos de variável comportam diferentes operações. Rode a célula abaixo para responder a um quiz sobre esse assunto."
   ]
  },
  {
   "cell_type": "code",
   "execution_count": null,
   "metadata": {},
   "outputs": [],
   "source": [
    "from correcoes import exercicio_extra1\n",
    "exercicio_extra1()"
   ]
  }
 ],
 "metadata": {
  "kernelspec": {
   "display_name": "Python 3",
   "language": "python",
   "name": "python3"
  },
  "language_info": {
   "codemirror_mode": {
    "name": "ipython",
    "version": 3
   },
   "file_extension": ".py",
   "mimetype": "text/x-python",
   "name": "python",
   "nbconvert_exporter": "python",
   "pygments_lexer": "ipython3",
   "version": "3.1.undefined"
  },
  "toc": {
   "base_numbering": 1,
   "nav_menu": {
    "height": "12px",
    "width": "168px"
   },
   "number_sections": false,
   "sideBar": true,
   "skip_h1_title": false,
   "title_cell": "Índice",
   "title_sidebar": "Conteúdo",
   "toc_cell": false,
   "toc_position": {
    "height": "calc(100% - 180px)",
    "left": "10px",
    "top": "150px",
    "width": "378px"
   },
   "toc_section_display": true,
   "toc_window_display": false
  }
 },
 "nbformat": 4,
 "nbformat_minor": 2
}

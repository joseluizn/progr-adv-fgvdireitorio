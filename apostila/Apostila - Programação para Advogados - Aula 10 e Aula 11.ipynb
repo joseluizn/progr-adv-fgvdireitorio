{
 "cells": [
  {
   "cell_type": "markdown",
   "metadata": {},
   "source": [
    "<a id=aulas10e11></a>\n",
    "# Aulas 10 e 11 - Expressões regulares"
   ]
  },
  {
   "cell_type": "markdown",
   "metadata": {},
   "source": [
    "No começo do curso, vimos como é problemático procurar por certas substrings dentro de um texto. Na ocasião, queríamos descobrir se uma decisão judicial era pela procedência ou pela improcedência do pedido. Uma primeira tentativa, identificando se a substring \"procedente\" estava contida na string original, se mostrou insuficiente. Afinal, \"procedente\" está contido no texto \"improcedente\"! Como podemos garantir que nosso teste retornará verdadeiro quando \"procedente\" estiver no começo, mas não no final, de uma palavra? Note que não é suficiente procurar pela substring \" procedente\": pode ser que \"procedente\" seja a primeira palavra de uma linha, por exemplo.\n",
    "\n",
    "Felizmente, as **expressões regulares** permitem que façamos buscas mais sofisticadas dentro de textos. O pacote `re` implementa essas funcionalidades no Python, permitindo que a nossa busca textual não seja simplesmente por matches exatos, mas possa incluir *padrões*. Para procurar por padrões, porém, temos que aprender uma sintaxe nova.\n",
    "\n",
    "Esta sintaxe usa certos caracteres (em especial a contrabarra) para indicar o padrão que está sendo buscado. Por exemplo: \"\\b\", dentro da sintaxe das expressões regulares, indica que o padrão buscado deve ser procurado apenas após os **limites de palavras**, que podem ser espaços em branco, mas também podem ser linhas em branco.\n",
    "\n",
    "Sobre linhas, é importante notar que a contrabarra cumpre certas funções dentro das strings de Python que são diferentes daquelas cumpridas no caso das expressões regulares. Assim, é necessário especificar que não queremos que o Python interprete a nossa string normalmente, adicionando a letra r antes dela.\n",
    "\n",
    "Fica mais fácil notar essa diferença com um exemplo:"
   ]
  },
  {
   "cell_type": "code",
   "execution_count": 1,
   "metadata": {},
   "outputs": [
    {
     "name": "stdout",
     "output_type": "stream",
     "text": [
      "Olha o que acontece quando fazemos \n",
      "uma nova linha é gerada\n"
     ]
    }
   ],
   "source": [
    "print(\"Olha o que acontece quando fazemos \\numa nova linha é gerada\")"
   ]
  },
  {
   "cell_type": "code",
   "execution_count": 2,
   "metadata": {},
   "outputs": [
    {
     "name": "stdout",
     "output_type": "stream",
     "text": [
      "Olha o que acontece quando fazemos \\n : nada.\n"
     ]
    }
   ],
   "source": [
    "print(r\"Olha o que acontece quando fazemos \\n : nada.\")"
   ]
  },
  {
   "cell_type": "markdown",
   "metadata": {},
   "source": [
    "A forma como vamos trabalhar com expressões regulares em Python é a seguinte: nós vamos *compilar* alguns padrões e depois usar os métodos do objeto resultante (o padrão compilado) para fazer buscas nas strings maiores. Assim, se queremos buscar pelo padrão (exato) \"procedente\", o primeiro passo é criar um objeto compilado:"
   ]
  },
  {
   "cell_type": "code",
   "execution_count": 7,
   "metadata": {},
   "outputs": [],
   "source": [
    "import re\n",
    "\n",
    "procedente_exato = re.compile(r\"procedente\")"
   ]
  },
  {
   "cell_type": "markdown",
   "metadata": {},
   "source": [
    "Podemos procurar pelo padrão em um determinado texto (por exemplo, o texto `decisao_improcedencia`, definido abaixo), chamando o método `.search()`."
   ]
  },
  {
   "cell_type": "code",
   "execution_count": 8,
   "metadata": {},
   "outputs": [],
   "source": [
    "decisao_improcedencia = \"\"\"Sendo assim, em face das razões expostas, com fundamento nos \n",
    "poderes processuais outorgados ao Relator da causa (RTJ 139/53 – \n",
    "RTJ 168/174), e considerando, ainda, os precedentes firmados pelo \n",
    "Plenário desta Suprema Corte, julgo improcedente a presente ação de \n",
    "mandado de segurança, restando prejudicado, em consequência, o exame \n",
    "dos embargos de declaração opostos pelo impetrante.\"\"\""
   ]
  },
  {
   "cell_type": "code",
   "execution_count": 9,
   "metadata": {},
   "outputs": [
    {
     "data": {
      "text/plain": [
       "<re.Match object; span=(233, 243), match='procedente'>"
      ]
     },
     "execution_count": 9,
     "metadata": {},
     "output_type": "execute_result"
    }
   ],
   "source": [
    "procedente_exato.search(decisao_improcedencia)"
   ]
  },
  {
   "cell_type": "markdown",
   "metadata": {},
   "source": [
    "Podemos usar alguns métodos específicos de objetos matchs, exemplo se queremos apenas o texto o ``.group()``.\n",
    "\n",
    "Isso pode parecer pouco útil para essa busca simples, mas se estamos realizando busca por padrões mais sofisticados esse método terá usos."
   ]
  },
  {
   "cell_type": "code",
   "execution_count": 17,
   "metadata": {},
   "outputs": [
    {
     "name": "stdout",
     "output_type": "stream",
     "text": [
      "procedente\n"
     ]
    },
    {
     "data": {
      "text/plain": [
       "(233, 243)"
      ]
     },
     "execution_count": 17,
     "metadata": {},
     "output_type": "execute_result"
    }
   ],
   "source": [
    "print(procedente_exato.search(decisao_improcedencia).group())\n",
    "\n",
    "procedente_exato.search(decisao_improcedencia).span()"
   ]
  },
  {
   "cell_type": "markdown",
   "metadata": {},
   "source": [
    "O método `.search()` retorna **a primeira substring** que combine (\"match\") o padrão buscado. Como pode ser observado na célula acima, o resultado contém tanto o span indicando os índices inicial (233) e final (243) da ocorrência, quanto o texto exato onde houve a combinação (\"match\"): \"procedente\".\n",
    "\n",
    "Como já discutimos na primeira aula, o resultado dessa busca simples é insatisfatório. Afinal, a decisão citada é pela improcedência! Além do mais, não haveria necessidade de usar expressões regulares para fazer algo que poderia ser feito usando strings (com o operador `in` ou o método `find`, por exemplo).\n",
    "\n",
    "A vantagem de usar expressões regulares está justamente no fato de que podemos estabelecer critérios mais sofisticados para que haja combinações. Podemos, por exemplo, estabelecer que só deve haver match com instâncias onde \"procedente\" inicie uma palavra nova, seja através de uma nova linha, de um espaço ou de um ponto final.\n",
    "\n",
    "Podemos fazer isso usando uma expressão que tem um significado especial em expressões regulares: \"\\b\"."
   ]
  },
  {
   "cell_type": "code",
   "execution_count": 19,
   "metadata": {},
   "outputs": [],
   "source": [
    "procedente_palavra = re.compile(r\"\\bprocedente\")\n",
    "    \n",
    "procedente_palavra.search(decisao_improcedencia)"
   ]
  },
  {
   "cell_type": "markdown",
   "metadata": {},
   "source": [
    "O bloco acima não retorna nada porque não há nenhum match para a expressão regular \"\\bprocedente\" no texto decisao_improcedencia. Em contraste, a expressão regular \"\\bimprocedente\" deve retornar um match:"
   ]
  },
  {
   "cell_type": "code",
   "execution_count": 21,
   "metadata": {},
   "outputs": [
    {
     "data": {
      "text/plain": [
       "<re.Match object; span=(231, 243), match='improcedente'>"
      ]
     },
     "execution_count": 21,
     "metadata": {},
     "output_type": "execute_result"
    }
   ],
   "source": [
    "improcedente_palavra = re.compile(r\"\\bimprocedente\")\n",
    "    \n",
    "improcedente_palavra.search(decisao_improcedencia)"
   ]
  },
  {
   "cell_type": "markdown",
   "metadata": {},
   "source": [
    "Usar a expressão \"\\b\", portanto, pode ser útil. Ela retorna matches somente caso o padrão buscado estiver imediatamente após um limite de palavras, como pontuação, nova linha ou espaços. Mas ainda podemos melhorar muito. O exemplo abaixo mostra como nossa busca ainda é sensível à variação na capitalização das letras."
   ]
  },
  {
   "cell_type": "code",
   "execution_count": 22,
   "metadata": {},
   "outputs": [],
   "source": [
    "decisao_improcedencia = \"\"\"Sendo assim, em face das razões expostas, com fundamento nos \n",
    "poderes processuais outorgados ao Relator da causa (RTJ 139/53 – \n",
    "RTJ 168/174), e considerando, ainda, os precedentes firmados pelo \n",
    "Plenário desta Suprema Corte, julgo IMPROCEDENTE a presente ação de \n",
    "mandado de segurança, restando prejudicado, em consequência, o exame \n",
    "dos embargos de declaração opostos pelo impetrante.\"\"\"\n",
    "\n",
    "improcedente_palavra.search(decisao_improcedencia)"
   ]
  },
  {
   "cell_type": "markdown",
   "metadata": {},
   "source": [
    "Felizmente, podemos adicionar o parâmetro `re.IGNORECASE` como um dos argumentos recebidos pela função `re.compile()`, o que faz com que o padrão seja agnóstico sobre maiúsculas ou minúsculas."
   ]
  },
  {
   "cell_type": "code",
   "execution_count": 25,
   "metadata": {},
   "outputs": [
    {
     "data": {
      "text/plain": [
       "<re.Match object; span=(231, 243), match='IMPROCEDENTE'>"
      ]
     },
     "execution_count": 25,
     "metadata": {},
     "output_type": "execute_result"
    }
   ],
   "source": [
    "improcedente_palavra = re.compile(r\"\\bimprocedente\", re.IGNORECASE)\n",
    "    \n",
    "improcedente_palavra.search(decisao_improcedencia)"
   ]
  },
  {
   "cell_type": "markdown",
   "metadata": {},
   "source": [
    "Uma característica comum entre muitas das expressões regulares que vamos ver é que a expressão pode ser \"negada\" através do uso da letra como maiúscula. Assim, se \"\\b\" procura pelo padrão apenas no começo de palavras, \"\\B\" procura pelo padrão única e exclusivamente dentro de palavras maiores. Assim, a busca por \"\\Bprocedente\" em decisao_improcedencia deve retornar um match."
   ]
  },
  {
   "cell_type": "code",
   "execution_count": 27,
   "metadata": {},
   "outputs": [
    {
     "data": {
      "text/plain": [
       "<re.Match object; span=(233, 243), match='PROCEDENTE'>"
      ]
     },
     "execution_count": 27,
     "metadata": {},
     "output_type": "execute_result"
    }
   ],
   "source": [
    "procedente_meio_palavra = re.compile(r\"\\Bprocedente\", re.IGNORECASE)\n",
    "    \n",
    "procedente_meio_palavra.search(decisao_improcedencia)"
   ]
  },
  {
   "cell_type": "markdown",
   "metadata": {},
   "source": [
    "Uma lista não exaustiva de expressões regulares úteis em Python é a que se segue (adaptada [desta fonte](https://www.youtube.com/watch?v=K8L6KVGG-7o)):\n",
    "\n",
    ".       - Qualquer caractere exceto nova linha <br>\n",
    "\\d      - Dígito (0-9)<br>\n",
    "\\D      - Qualquer coisa que não seja um dígito (0-9)<br>\n",
    "\\w      - \"Word Character\" (a-z, A-Z, 0-9, _)<br>\n",
    "\\W      - Qualquer coisa que não seja um \"Word Character\"<br>\n",
    "\\s      - Espaços em branco (espaço, tab, nova linha)<br>\n",
    "\\S      - Qualquer coisa que não seja um espaço em branco<br>\n",
    "<br><br>\n",
    "\\b      - Limite de palavra<br>\n",
    "\\B      - Meio de palavra<br>\n",
    "^       - Começo de string<br>\n",
    "$       - Final de string<br>\n",
    "<br>\n",
    "[]      - Dá match em qualquer dos caracteres dentro dos colchetes<br>\n",
    "[^ ]    - Dá match em qualquer caractere exceto os caracteres dentro dos colchetes\n",
    "<br><br>\n",
    "Quantificadores:<br>\n",
    "\\*       - 0 ou mais<br>\n",
    "\\+       - 1 ou mais<br>\n",
    "\\?       - 0 ou 1 vez<br>\n",
    "{3}      - Número exato<br>\n",
    "{3, 4}   - Range de números (mínimo, máximo)\n",
    "\n",
    "Uma lista completa (em inglês) desses caracteres e da sintaxe de Regex pode ser encontrada na documentação do módulo: https://docs.python.org/3/library/re.html#regular-expression-syntax"
   ]
  },
  {
   "cell_type": "markdown",
   "metadata": {},
   "source": [
    "Podemos usar as expressões regulares para acima encontrar as duas menções à Revista Trimestral de Jurisprudência do STJ em `decisao_improcedencia`. Antes de começar a construir o padrão, vamos olhar para o texto mais uma vez e encontrar as características que nos permitem identificar uma menção à RTJ."
   ]
  },
  {
   "cell_type": "code",
   "execution_count": 28,
   "metadata": {},
   "outputs": [],
   "source": [
    "decisao_improcedencia = \"\"\"Sendo assim, em face das razões expostas, com fundamento nos \n",
    "poderes processuais outorgados ao Relator da causa (RTJ 139/53 – \n",
    "RTJ 168/174), e considerando, ainda, os precedentes firmados pelo \n",
    "Plenário desta Suprema Corte, julgo IMPROCEDENTE a presente ação de \n",
    "mandado de segurança, restando prejudicado, em consequência, o exame \n",
    "dos embargos de declaração opostos pelo impetrante.\"\"\""
   ]
  },
  {
   "cell_type": "markdown",
   "metadata": {},
   "source": [
    "Sabemos que as menções que estamos procurando:\n",
    "\n",
    "1) se iniciam com a substring \"RTJ\";\n",
    "\n",
    "2) seguida por um espaço em branco;\n",
    "\n",
    "3) seguida por um conjunto de 3 números;\n",
    "\n",
    "4) seguido por uma barra;\n",
    "\n",
    "5) seguida por um conjunto de 2 ou 3 números.\n",
    "\n",
    "Começando com a parte fácil, podemos identificar menções à RTJ com o padrão \"RTJ\"."
   ]
  },
  {
   "cell_type": "code",
   "execution_count": 29,
   "metadata": {},
   "outputs": [
    {
     "data": {
      "text/plain": [
       "<re.Match object; span=(114, 117), match='RTJ'>"
      ]
     },
     "execution_count": 29,
     "metadata": {},
     "output_type": "execute_result"
    }
   ],
   "source": [
    "padrao_rtj = re.compile(r\"RTJ\")\n",
    "padrao_rtj.search(decisao_improcedencia)"
   ]
  },
  {
   "cell_type": "markdown",
   "metadata": {},
   "source": [
    "Para adicionar o espaço em branco, temos algumas opções. Poderíamos, por exemplo, optar por dar match em qualquer caractere, usando a expressão regular \".\"."
   ]
  },
  {
   "cell_type": "code",
   "execution_count": 30,
   "metadata": {},
   "outputs": [
    {
     "data": {
      "text/plain": [
       "<re.Match object; span=(114, 118), match='RTJ '>"
      ]
     },
     "execution_count": 30,
     "metadata": {},
     "output_type": "execute_result"
    }
   ],
   "source": [
    "padrao_rtj = re.compile(r\"RTJ.\")\n",
    "padrao_rtj.search(decisao_improcedencia)"
   ]
  },
  {
   "cell_type": "markdown",
   "metadata": {},
   "source": [
    "Note que o nosso match tem um caractere a mais: o índice final agora é 118 e não 117. Podemos, porém, ser mais restritos.\n",
    "\n",
    "Se sabemos que RTJ sempre se seguirá de um espaço em branco, podemos usar \"\\s\" para dar match somente nesse tipo de caractere."
   ]
  },
  {
   "cell_type": "code",
   "execution_count": 31,
   "metadata": {},
   "outputs": [
    {
     "data": {
      "text/plain": [
       "<re.Match object; span=(114, 118), match='RTJ '>"
      ]
     },
     "execution_count": 31,
     "metadata": {},
     "output_type": "execute_result"
    }
   ],
   "source": [
    "padrao_rtj = re.compile(r\"RTJ\\s\")\n",
    "padrao_rtj.search(decisao_improcedencia)"
   ]
  },
  {
   "cell_type": "markdown",
   "metadata": {},
   "source": [
    "O resultado é o mesmo, mas poderia ser diferente. Imagine que existisse uma revista chamada RTJRJ, a Revista do Tribunal de Justiça do Rio de Janeiro. Nossa primeira expressão regular daria um match com ela, enquanto a segunda, não:"
   ]
  },
  {
   "cell_type": "code",
   "execution_count": 32,
   "metadata": {},
   "outputs": [
    {
     "data": {
      "text/plain": [
       "<re.Match object; span=(0, 4), match='RTJR'>"
      ]
     },
     "execution_count": 32,
     "metadata": {},
     "output_type": "execute_result"
    }
   ],
   "source": [
    "padrao_rtj = re.compile(r\"RTJ.\")\n",
    "padrao_rtj.search(\"RTJRJ\")"
   ]
  },
  {
   "cell_type": "code",
   "execution_count": 33,
   "metadata": {},
   "outputs": [],
   "source": [
    "padrao_rtj = re.compile(r\"RTJ\\s\")\n",
    "padrao_rtj.search(\"RTJRJ\")"
   ]
  },
  {
   "cell_type": "markdown",
   "metadata": {},
   "source": [
    "O próximo passo é encontrar uma sequência de três números. Podemos fazer isso adicionando 3 vezes a expressão \"\\d\"."
   ]
  },
  {
   "cell_type": "code",
   "execution_count": 34,
   "metadata": {},
   "outputs": [
    {
     "data": {
      "text/plain": [
       "<re.Match object; span=(114, 121), match='RTJ 139'>"
      ]
     },
     "execution_count": 34,
     "metadata": {},
     "output_type": "execute_result"
    }
   ],
   "source": [
    "padrao_rtj = re.compile(r\"RTJ\\s\\d\\d\\d\")\n",
    "padrao_rtj.search(decisao_improcedencia)"
   ]
  },
  {
   "cell_type": "markdown",
   "metadata": {},
   "source": [
    "Parece deselegante ter que repetir \"\\d\" três vezes, portanto, podemos usar um quantificador exato e especificar que estamos buscando por três digitos usando {3}."
   ]
  },
  {
   "cell_type": "code",
   "execution_count": 36,
   "metadata": {},
   "outputs": [
    {
     "data": {
      "text/plain": [
       "<re.Match object; span=(114, 121), match='RTJ 139'>"
      ]
     },
     "execution_count": 36,
     "metadata": {},
     "output_type": "execute_result"
    }
   ],
   "source": [
    "padrao_rtj = re.compile(r\"RTJ\\s\\d{3}\")\n",
    "padrao_rtj.search(decisao_improcedencia)"
   ]
  },
  {
   "cell_type": "markdown",
   "metadata": {},
   "source": [
    "Na sequência, precisamos encontrar uma barra. Uma alternativa é usar a expressão \".\", que dá match em qualquer caractere, mas já vimos que essa é uma estratégia preguiçosa. Especialmente porque temos uma expectativa exata do caractere utilizado.\n",
    "\n",
    "Mais inteligente é usar a definição de \"Word character\", pra dar match apenas em coisas que não são \"Word characters\", ou seja, que não são letras, nem números. Afinal, pode ser que, ao invés de uma barra, o juiz resolva fazer a referência através de um traço ou de uma contrabarra."
   ]
  },
  {
   "cell_type": "code",
   "execution_count": 37,
   "metadata": {},
   "outputs": [
    {
     "data": {
      "text/plain": [
       "<re.Match object; span=(114, 122), match='RTJ 139/'>"
      ]
     },
     "execution_count": 37,
     "metadata": {},
     "output_type": "execute_result"
    }
   ],
   "source": [
    "padrao_rtj = re.compile(r\"RTJ\\s\\d{3}\\W\")\n",
    "padrao_rtj.search(decisao_improcedencia)"
   ]
  },
  {
   "cell_type": "markdown",
   "metadata": {},
   "source": [
    "Finalmente, precisamos lidar com os últimos números. O problema é que nós não sabemos exatamente quantos digitos aparecerão nesse caso. Pode ser que a referência tenha três ou dois dígitos. Um quantificador útil para usar nesse caso é o `*`, que dará match em 0 ou mais ocorrências seguintes. Se tivermos certeza que haverá apenas um número, poderiamos também utilizar o quantirficador `+`."
   ]
  },
  {
   "cell_type": "code",
   "execution_count": 38,
   "metadata": {},
   "outputs": [
    {
     "data": {
      "text/plain": [
       "<re.Match object; span=(114, 124), match='RTJ 139/53'>"
      ]
     },
     "execution_count": 38,
     "metadata": {},
     "output_type": "execute_result"
    }
   ],
   "source": [
    "padrao_rtj = re.compile(r\"RTJ\\s\\d{3}\\W\\d*\")\n",
    "padrao_rtj.search(decisao_improcedencia)"
   ]
  },
  {
   "cell_type": "markdown",
   "metadata": {},
   "source": [
    "Pronto! Conseguimos identificar a primeira referência feita à Revista Trimestral de Jurisprudência em `decisao_improcedencia`, mas sabemos que existe mais uma referência. O método adequado para encontrar todos os matches de um determinado padrão é `.findall()`."
   ]
  },
  {
   "cell_type": "code",
   "execution_count": 20,
   "metadata": {},
   "outputs": [
    {
     "data": {
      "text/plain": [
       "['RTJ 139/53', 'RTJ 168/174']"
      ]
     },
     "execution_count": 20,
     "metadata": {},
     "output_type": "execute_result"
    }
   ],
   "source": [
    "padrao_rtj = re.compile(r\"RTJ\\s\\d{3}\\W\\d*\")\n",
    "padrao_rtj.findall(decisao_improcedencia)"
   ]
  },
  {
   "cell_type": "markdown",
   "metadata": {},
   "source": [
    "O resultado de `.findall()` é uma lista que contém cada um dos matches."
   ]
  },
  {
   "cell_type": "code",
   "execution_count": 21,
   "metadata": {
    "scrolled": true
   },
   "outputs": [
    {
     "data": {
      "text/plain": [
       "list"
      ]
     },
     "execution_count": 21,
     "metadata": {},
     "output_type": "execute_result"
    }
   ],
   "source": [
    "type(padrao_rtj.findall(decisao_improcedencia))"
   ]
  },
  {
   "cell_type": "markdown",
   "metadata": {},
   "source": [
    "Outra forma de usar o findall é diretamente do módulo `re`, sem compilar a regex previamente."
   ]
  },
  {
   "cell_type": "code",
   "execution_count": 23,
   "metadata": {},
   "outputs": [
    {
     "data": {
      "text/plain": [
       "['RTJ 139/53', 'RTJ 168/174']"
      ]
     },
     "execution_count": 23,
     "metadata": {},
     "output_type": "execute_result"
    }
   ],
   "source": [
    "re.findall(r\"RTJ\\s\\d{3}\\W\\d*\", decisao_improcedencia, re.IGNORECASE)"
   ]
  },
  {
   "cell_type": "markdown",
   "metadata": {},
   "source": [
    "<a id=resumo></a>\n",
    "# Resumo\n",
    "\n",
    "Podemos utilizar expressões regulares e o módulo `re` para realizar operações mais complexas em strings, em especial o uso de regex nos possibilita encontrar padrões e não apenas matches exatos em textos.\n",
    "\n",
    "* Utilizamos o módulo `re` para fazer operações com regex (expressões regulares) em Python.\n",
    "* Para criar expressões utilizamos uma sintaxe própria com caracteres reservados que representam grupos de caracteres de texto.\n",
    "* Podemos fazer algumas operações que fazíamos com string também com regex. Em nossa aula utilizamos busca, outro exemplo que podemos fazer é o uso do método `.replace()` para fazer substituições.\n",
    "\n",
    "\n",
    "**Dica:** o site https://regex101.com/ cria explicações para ajudar a compreender e testar expressões regulares complexas, explicando cada parte da regex criada."
   ]
  },
  {
   "cell_type": "markdown",
   "metadata": {},
   "source": [
    "<a id=exercicio></a>\n",
    "# Desafio\n",
    "\n",
    "Na aula passada, vimos a estrutura do número do CNJ:\n",
    "\n",
    "Outra coisa interessante que podemos fazer com strings é separá-las e extrair informações a partir disso. Um exemplo é a numeração única do CNJ. Segundo a [resolução 65/2008](http://www.cnj.jus.br///images/atos_normativos/resolucao/resolucao_65_16122008_04032013165912.pdf), os números do CNJ respondem ao seguinte padrão:\n",
    "\n",
    "<br>\n",
    "<center> NNNNNNN-DD.AAAA.J.TR.OOOO </center>\n",
    "<br>\n",
    "\n",
    "Onde N = o número do processo, DD = dígito verificador, AAAA = ano de protocolo, J = ramo da justiça, TR = tribunal e OOOO = órgão julgador.\n",
    "\n",
    "Naquela ocasião, tivemos que desenvolver uma estratégia sofisticada para inferir as informações referentes a cada processo a partir dos índices de cada caracetere. Podemos usar expressões regulares para identificar menções a números do CNJ de maneira muito mais simples.\n",
    "\n",
    "Guarde na variável `extrair_cnj` uma expressão regular compilada que extrai números do CNJ de um dado texto. Abaixo, carregamos novamente a sentença do TJRJ utilizada na aula passada para que você possa realizar testes."
   ]
  },
  {
   "cell_type": "code",
   "execution_count": 43,
   "metadata": {},
   "outputs": [],
   "source": [
    "import requests\n",
    "\n",
    "#essa url faz o download do arquivo do google drive daquele id\n",
    "google_url = \"https://drive.google.com/uc?export=download&id=\"\n",
    "file_id = \"1JJ4Qf1gt1o2tTryhUFuCfloqFBJYkqdC\"\n",
    "\n",
    "tjrj_1_text = requests.get(google_url + file_id).content.decode(encoding = \"latin9\")"
   ]
  },
  {
   "cell_type": "code",
   "execution_count": 46,
   "metadata": {
    "scrolled": true
   },
   "outputs": [
    {
     "name": "stdout",
     "output_type": "stream",
     "text": [
      "\tTrata-se de reclamação através da qual a parte autora pleiteia a condenação da reclamada a cumprir uma obrigação de fazer e pagar indenização por danos morais. Resumidamente, alegou que reside no distrito de Porto Velho do Cunha e, já há algum tempo, o serviço de fornecimento de energia elétrica vem sendo prestado de forma deficiente. Disse que freqüentemente há interrupções. Solicitou reparos junto a reclamada. Houve até reuniões com os representantes da reclamada, mas as falhas permanecem. Ressaltou toda sorte de transtornos e findou requerendo a condenação da reclamada a normalizar, de uma vez por todas, o fornecimento de energia, bem como pagar indenização por danos morais. \n",
      "\n",
      "\tA decisão de fls. 15 deferiu a antecipação da tutela. \n",
      "\n",
      "\tRealizou-se AIJ, na qual a ré apresentou contestação escrita, acompanhada de documentos. \n",
      "\n",
      "\tA questão consiste em determinar se os fatos constituem motivo para a imposição de indenização por danos morais. \n",
      "\n",
      "\tRápida pesquisa de jurisprudência das Turmas Recursais do Estado do Rio de Janeiro demonstra que a resposta é negativa. As decisões recentes revelam que, ainda que se trate de serviço essencial, a interrupção breve por falhas operacionais não configura dano moral indenizável. É de todo conveniente transcrever as seguintes decisões, recentemente proferidas por diversos Juízes integrantes das Turmas Recursais deste Estado, inclusive com fundamento em súmula da jurisprudência dominante no Tribunal de Justiça: \n",
      "\n",
      "\"Relação de consumo. Serviço de fornecimento de energia elétrica. Pedido de compensação por danos morais em decorrência de alegada indisponibilidade do serviço das 20h00min do dia 17.02.2011 até as 08h00min do dia 18.02.2011. A sentença julgou procedente em parte o pedido, condenando a concessionária ré a pagar R$ 2.000,00 à autora, a título de compensação por danos morais. Recurso inominado interposto pela Ampla Energia e Serviços S. A. que merece provimento. A narrativa da inicial não encontra amparo em prova mínima. Não houve indisponibilidade do serviço por tempo juridicamente relevante - tampouco comprovação de descontinuidade total do serviço por pelo menos 24 horas ininterruptas -, o que afasta a possibilidade de acolhimento do pedido de indenização por danos morais. Cabe aplicar ao caso o entendimento expresso no verbete nº 193 da Súmula da jurisprudência do TJRJ: 'Breve interrupção na prestação dos serviços essenciais de água, energia elétrica, telefone e gás por deficiência operacional não constitui dano moral'. Isto posto, dou provimento ao recurso e julgo improcedente o pedido de compensação por danos morais. Sem ônus sucumbenciais, em razão do provimento do recurso.\"\n",
      "(Proc. nº 0002874-42.2010.8.19.0053, Rel. Juiz TIAGO HOLANDA MASCARENHAS, j. em 16.08.2012)\n",
      "\n",
      "\"Relação de Consumo. Fornecimento de energia elétrica. Oscilações no fornecimento. Pretensão de indenização por danos materiais e morais. Dano material não comprovado. Dano moral não configurado. A sentença recorrida julgou improcedente o pedido, revogando a liminar concedida initio litis (fls. 45). Sentença que deu correta solução à lide e não merece reforma. A autora reclama de interrupção imotivada do serviço ocorrida no dia 10/10/2010, em Cabo frio, com restabelecimento no dia 12/10/2010. Fornecedora que comprova de modo suficiente que a suspensão do serviço decorreu de força maior, a forte ventania que atingiu a região (fls. 41). Falha que deve ser interpretada como mero inadimplemento contratual insuficiente para acarretar ofensa a direito da personalidade, já que no caso concreto, não houve relato de danos específicos efetivamente suportados pelos consumidores, em decorrência da interrupção. Prova do alegado dano que não foi individualizada. Para fixação de dano moral, há que ser relatado exatamente o fato danoso e as repercussões dele na vida do ofendido, especialmente quando a questão não reflete dano moral in re ipsa, já que não se trata de corte da energia elétrica (fato em si constrangedor, por pressupor inadimplência ou fraude), mas sim de 'suspensão temporária', devido a problemas técnicos enfrentados pela concessionária de energia elétrica. Mero aborrecimento cotidiano, não identificadas graves repercussões no bem estar e no psiquismo da consumidora. Inicial que não indica um número de protocolo de reclamação e que só veio instruída com uma única fatura de consumo, referente a período anterior aos fatos narrados (fls. 10). Dano moral não configurado. No E. TJERJ a questão já está pacificada, nos termos do Enunciado 18 do Aviso TJRJ 29/11, verbis: 'Breve interrupção na prestação dos serviços essenciais de água, energia elétrica, telefone e gás por deficiência operacional não constitui dano moral'. Dano material que exige a prova cabal do prejuízo que, na hipótese, não foi produzida (at. 333, I, do CPC). Acerto do decisum ao concluir pela improcedência dos pedidos. Ante o exposto, conheço do recurso interposto pela autora e lhe nego provimento para manter a sentença por seus próprios fundamentos, fazendo pequeno reparo somente para dela excluir a confirmação da tutela, posto que não foi concedida antecipação de efeitos da tutela initio litis. Honorários fixados em R$ 300,00, nos termos do art. 20, § 4º do CPC, observado o art. 12, da Lei 1.060/50.\"\n",
      "(Proc. nº 0017793-31.2011.8.19.0011, Rel. Juíza MÁRCIA DE ANDRADE PUMAR, j. em 09.08.2012)\n",
      "\n",
      "\"Narra a parte autora que é consumidora dos serviços prestados pela ré, e que, no dia 18/9/2011, ocorreu um apagão na comunidade onde mora, no município de São João da Barra - RJ. Sustenta que ficou sem o serviço de energia elétrica por quase 17 horas, das 4h30 às 21h, e que desde então vêm ocorrendo picos de energia na região. Requer indenização a título de danos morais. Realizado 'Pautão de ACIJ', foi prolatada a sentença de fls. 17/18 que julgou procedente em parte o pedido para condenar a ré ao pagamento de R$ 1.000,00, a título de indenização por danos morais. Recurso inominado da parte ré, argumentando, em síntese, que a parte autora não comprova os danos que alega ter sofrido, pugnando pela improcedência do pedido ou a redução do quantum indenizatório. É o breve relatório. Decido. No caso em comento, verifica-se, pela narrativa da inicial, que a interrupção do fornecimento de energia elétrica na residência da parte autora durou menos de 24 (vinte e quatro) horas, entendendo este Juízo que não estão caracterizados os danos morais alegados. Aplica-se ao caso concreto o Enunciado 18, do Aviso 94/2010, in verbis: 'Breve interrupção na prestação dos serviços essenciais de água, energia elétrica, telefone e gás por deficiência operacional não constitui dano moral'. Ante o exposto, voto no sentido de conhecer e dar provimento ao recurso da parte ré, para julgar improcedente o pedido de danos morais acolhido na sentença monocrática. Sem custas e sem honorários.\"\n",
      "(Proc. nº 0005467-10.2011.8.19.0053, Rel. Juíza PALOMA ROCHA DOUAT PESSANHA, j. em 12.07.2012)\n",
      "\n",
      "\"Reclama a parte autora de interrupções/oscilações em seu fornecimento de energia elétrica. Ausência parcial de prestação de serviço. Mero transtorno e aborrecimento que não gera repercussões mais gravosas na vida do usuário. Falha na prestação de serviço que, embora reconhecida, não é capaz de afetar a paz de espírito e o equilíbrio psíquico do usuário. Dano moral não configurado. Consoante o verbete 75 da Súmula do Egrégio TJRJ 'o simples descumprimento do dever legal ou contratual, por caracterizar mero aborrecimento, em princípio, não configura dano moral, salvo se da infração advém circunstância que atenta contra a dignidade da parte'. Cite-se ainda o entendimento consolidado no Enunciado 14.4.3 do Encontro dos Juízes de Juizados Especiais Cíveis e Turmas Recursais do Estado do Rio de Janeiro, segundo o qual 'o inadimplemento contratual, por si só, não enseja dano moral, salvo se da infração advém circunstancia que atenta contra a dignidade da parte'. Ante o exposto, na forma prevista no art. 46 da Lei 9.099/95, voto pelo provimento do recurso para julgar improcedente o pedido formulado na inicial. Sem ônus sucumbenciais.\"\n",
      "(Proc. nº 0003653-79.2011.8.19.0079, Rel. Juiz RICARDO ALBERTO PEREIRA, j. em 09.07.2012) \n",
      "\n",
      "\"Parte Autora alega que no mês de março de 2010, ficou sem energia elétrica durante os dias de 13, 14, 15 e 16 de março, sem qualquer justo motivo ou aviso prévio; que contatou a ré (com protocolos), registrou a ocorrência, e a ré só conseguiu restabelecer o fornecimento de energia as 20h do dia 16. Pedido: danos morais. A fls. 12/16 juntou noticia de um jornal mostrando 'PROCON multa ampla por apagões em SG e Niterói', notícia de jornal mostrando '72h de descaso: moradores de 8 bairros de 4 municípios tem prejuízos com a falta de luz'. Contestação da ré (fls. 27/44) sustenta necessidade de perícia técnica; que tratou-se de uma interrupção no fornecimento de energia em virtude de fortes temporais; inexistência de danos morais. A fls. 45/88 juntou notícias de jornais mostrando a falta de energia, fotos do estrago feito por causa do temporal em postes da rua. Sentença (fls. 93/95) da Dra. Renata de Lima Machado Amaral que julgou parcialmente procedentes os pedidos, pois entendeu que a responsabilidade da demandada fica excluída diante de caso de força maior, porém, a consumidora teve o serviço restabelecido 04 dias após o referido temporal, fato que fere a garantia legal do consumidor de serviços com padrões adequados de qualidade, segurança e desempenho, condenou a ré a pagar danos morais de R$ 2.500,00. Recurso interposto pela parte ré (fls. 96/104) postulando a reforma da sentença, para improcedência dos pedidos ou redução dos danos morais. Contra-razões da parte autora (fls. 110/118) pela manutenção da sentença. O recurso merece provimento. Provas documentais a ressuscitarem lembrança acerca de fato notório - tempestade de março de 2010 - que derrubou árvores e postes, além de paralisarem transportes terrestres e marítimos nas cidades do Rio, Niterói e São Gonçalo. Força maior. A despeito de previsível a tempestade, imprevisíveis as conseqüências de tal monta. Ainda que assim não fosse, inevitáveis os desdobramentos a interferir, de forma inconteste, nos serviços de restabelecimento, eis que dependentes de outros, estranhos ao empreendimento. Nexo de causalidade rompido, desde a interrupção até a demora. Prazo de 48 horas para restabelecer o abastecimento que só pode ser exigido em circunstâncias normais e regulares. Ausência, pois, de falha da prestação de serviço a impor a condenação da ré na compensação a que foi condenada, mormente por ultrapassar a média dos arbitramentos fixados em paradigmas. Ante o exposto voto no sentido de conhecer do recurso para dar-lhe provimento e julgar improcedentes os pedidos. Custas ex lege. Sem honorários.\"\n",
      "(Proc. nº 0014637-35.2010.8.19.0087, Rel. Juiz ANTONIO CARLOS MAISONNETTE PEREIRA, j. em 04.07.2012) \n",
      "\n",
      "\"Relação de consumo. Serviço de fornecimento de energia elétrica. Pedido de compensação por danos morais em decorrência de alegada indisponibilidade do serviço em diversas ocasiões. A sentença julgou procedente em parte o pedido, condenando a concessionária ré a pagar R$ 2.500,00 ao autor, a título de compensação por danos morais. Recurso inominado interposto pela Ampla Energia e Serviços S. A. que merece provimento. A narrativa da inicial não encontra amparo em prova mínima. Não houve indisponibilidade do serviço por tempo juridicamente relevante - tampouco comprovação de descontinuidade total do serviço por pelo menos 24 horas ininterruptas -,  o  que afasta a possibilidade de acolhimento do pedido de indenização por danos morais. Cabe aplicar ao caso o entendimento expresso no verbete nº 193 da Súmula da jurisprudência do TJRJ: 'Breve interrupção na prestação dos serviços essenciais de água, energia elétrica, telefone e gás por deficiência operacional não constitui dano moral'. Isto posto, dou provimento ao recurso e julgo improcedente o pedido de compensação por danos morais. Sem ônus sucumbenciais, em razão do provimento do recurso.\"\n",
      "(Proc. nº 0001556-43.2010.8.19.0079, Rel. Juiz ANTONIO AURELIO ABI-RAMIA DUARTE, j. em 27.06.2012)  \n",
      "\n",
      "\"Energia elétrica. Oscilações recorrentes no fornecimento. 'Apagão'. Fato generalizado. Pretensão indenizatória. Dano moral não caracterizado. Sentença reformada. A autora, residente no Município de São João da Barra, narra oscilações no serviço prestado pela ré que culminou com a interrupção no fornecimento de energia elétrica no dia 28/09/2010. Demora no restabelecimento do serviço superior a 12 horas. Em defesa, a ré nega a ocorrência de falha do serviço, bem como a existência de alteração no consumo para a unidade da parte autora no período. Alega que a interrupção ocorreu por motivo de força maior, causa exclusiva da eclosão do evento narrado, apta a romper o nexo de causalidade e a isentar a concessionária de qualquer responsabilidade dele decorrente. Sentença de procedência parcial do pedido para condenar a ré ao pagamento de R$ 2.000,00 (dois mil reais), a titulo de danos morais (fls.13/17). Recurso da ré. Sentença que merece ser reformada. Interrupções ocorridas e/ou demora no restabelecimento do serviço, sem relato de danos efetivamente suportados pelo consumidor, não justificam a compensação pretendida. O fato de residir no local, por si só, não traz a reboque a presunção de lesão a direito da parte autora. Danos morais não caracterizados. Consoante lição do professor e Desembargador Sergio Cavalieri Filho, dano moral 'é a lesão de bem integrante da personalidade, tal como a honra, a liberdade, a saúde, a integridade psicológica, causando dor, sofrimento, tristeza, vexame e humilhação à vítima' (in Programa de Responsabilidade Civil, 1998, p. 74). Aborrecimento típico do dia-a-dia e comum ao homem médio. Tentativa de banalização da indenização por danos morais que merece ser repelida. O que a lei manda indenizar é o dano efetivo e não transtornos corriqueiros que não configuram danos morais. Isto posto, voto no sentido de dar provimento ao recurso para julgar improcedente o pedido. Custas antecipadas. Sem honorários advocatícios.\"\n",
      "(Proc. nº 0002416-88.2011.8.19.0053, Rel. Juiz ALEXANDRE CHINI NETO, j. em 26.04.2012) \n",
      "\n",
      "\tOra, a hipótese dos autos é exatamente idêntica. O fornecimento de energia elétrica para a unidade consumidora da autora realmente foi interrompido em algumas ocasiões. A luz foi e voltou. Tal fato, conforme entendimento amplamente (sem trocadilho) adotado pelo Conselho Recursal, não constitui dano moral. \n",
      "\n",
      "\tPelos motivos expostos, JULGO IMPROCEDENTE O PEDIDO DE INDENIZAÇÃO POR DANOS MORAIS. Revogo a decisão de fls. 15. Sem custas nem honorários, salvo se houver recurso. Transitada em julgado, baixa e arquivo. P. R. I.\n",
      "\n"
     ]
    }
   ],
   "source": [
    "print(tjrj_1_text)"
   ]
  },
  {
   "cell_type": "code",
   "execution_count": null,
   "metadata": {},
   "outputs": [],
   "source": [
    "#seu código aqui"
   ]
  },
  {
   "cell_type": "code",
   "execution_count": null,
   "metadata": {},
   "outputs": [],
   "source": [
    "#correcao\n",
    "from correcoes import aula11_ex1\n",
    "aula11_ex1(extrair_cnj)"
   ]
  },
  {
   "cell_type": "markdown",
   "metadata": {},
   "source": [
    "# Precedentes"
   ]
  },
  {
   "cell_type": "markdown",
   "metadata": {},
   "source": [
    "No STF (e também no STJ), raramente a menção a precedentes é feita através do número do CNJ. É muito mais comum que os ministros falem sobre uma classe processual e o número do processo (afinal, essa é a maneira canônica pela qual nos referimos a processos julgados pelo STF). Isso exige uma estratégia um pouco diferente para identificarmos menções a esses processos. Como exemplo, considere a ementa a seguir:"
   ]
  },
  {
   "cell_type": "code",
   "execution_count": 24,
   "metadata": {},
   "outputs": [],
   "source": [
    "trecho_decisao = \"\"\"\n",
    "DECISÃO: Trata-se de “habeas corpus”, com pedido de medida liminar, \n",
    "impetrado contra decisão emanada de eminente Ministro de Tribunal \n",
    "Superior da União que, em sede de outra ação de “habeas corpus” ainda em \n",
    "curso no Superior Tribunal de Justiça (HC 390.905/SP), indeferiu medida \n",
    "liminar que lhe havia sido requerida em favor do ora paciente.\n",
    "\n",
    "Sendo esse o contexto, passo a apreciar a admissibilidade, na espécie, \n",
    "da presente ação de “habeas corpus”. E, ao fazê-lo, devo observar que ambas \n",
    "as Turmas do Supremo Tribunal Federal firmaram orientação no sentido da \n",
    "incognoscibilidade desse remédio constitucional, quando impetrado, como \n",
    "no caso ora em análise, contra decisão monocrática proferida por Ministro \n",
    "de Tribunal Superior da União (HC 116.875/AC, Rel. Min. CÁRMEN \n",
    "LÚCIA – HC 117.346/SP, Rel. Min. CÁRMEN LÚCIA – HC 117.798/SP, \n",
    "Rel. Min. RICARDO LEWANDOWSKI – HC 118.189/MG, Rel. \n",
    "Min. RICARDO LEWANDOWSKI – HC 119.821/TO, Rel. Min. GILMAR \n",
    "MENDES – HC 121.684-AgR/SP, Rel. Min. TEORI ZAVASCKI – \n",
    "HC 122.381-AgR/SP, Rel. Min. DIAS TOFFOLI – HC 122.718/SP, Rel. \n",
    "Min. ROSA WEBER – RHC 114.737/RN, Rel. Min. CÁRMEN LÚCIA – \n",
    "RHC 114.961/SP, Rel. Min. DIAS TOFFOLI, v.g.)\n",
    "\"\"\""
   ]
  },
  {
   "cell_type": "markdown",
   "metadata": {},
   "source": [
    "Como podemos extrair todos os HCs que são citados pela decisão? Sempre há menção à classe processual, seguida por um espaço, seguido pelo número do processo, com milhares separados por um ponto. Uma primeira estratégia, portanto, poderia ser a seguinte:"
   ]
  },
  {
   "cell_type": "code",
   "execution_count": 25,
   "metadata": {},
   "outputs": [
    {
     "data": {
      "text/plain": [
       "['HC 390.905',\n",
       " 'HC 116.875',\n",
       " 'HC 117.346',\n",
       " 'HC 117.798',\n",
       " 'HC 118.189',\n",
       " 'HC 119.821',\n",
       " 'HC 121.684',\n",
       " 'HC 122.381',\n",
       " 'HC 122.718',\n",
       " 'HC 114.737',\n",
       " 'HC 114.961']"
      ]
     },
     "execution_count": 25,
     "metadata": {},
     "output_type": "execute_result"
    }
   ],
   "source": [
    "regex_hc = re.compile(r\"HC\\s\\d*\\W\\d*\")\n",
    "regex_hc.findall(trecho_decisao)"
   ]
  },
  {
   "cell_type": "markdown",
   "metadata": {},
   "source": [
    "O problema com a expressão acima é que ela traz um RHC como sendo apenas um HC. Isso pode ser problemático. Uma maneira de lidar com isso é usando o operador lógico \"ou\", representado em expressões regulares como \"|\"."
   ]
  },
  {
   "cell_type": "code",
   "execution_count": 26,
   "metadata": {},
   "outputs": [
    {
     "data": {
      "text/plain": [
       "['HC 390.905',\n",
       " 'HC 116.875',\n",
       " 'HC 117.346',\n",
       " 'HC 117.798',\n",
       " 'HC 118.189',\n",
       " 'HC 119.821',\n",
       " 'HC 121.684',\n",
       " 'HC 122.381',\n",
       " 'HC 122.718',\n",
       " 'RHC 114.737',\n",
       " 'RHC 114.961']"
      ]
     },
     "execution_count": 26,
     "metadata": {},
     "output_type": "execute_result"
    }
   ],
   "source": [
    "regex_hc_rhc = re.compile(r\"\\bHC\\s\\d*\\W\\d*|\\bRHC\\s\\d*\\W\\d*\")\n",
    "regex_hc_rhc.findall(trecho_decisao)"
   ]
  },
  {
   "cell_type": "markdown",
   "metadata": {},
   "source": [
    "Ou"
   ]
  },
  {
   "cell_type": "code",
   "execution_count": 27,
   "metadata": {},
   "outputs": [
    {
     "data": {
      "text/plain": [
       "['HC 390.905',\n",
       " 'HC 116.875',\n",
       " 'HC 117.346',\n",
       " 'HC 117.798',\n",
       " 'HC 118.189',\n",
       " 'HC 119.821',\n",
       " 'HC 121.684',\n",
       " 'HC 122.381',\n",
       " 'HC 122.718',\n",
       " 'RHC 114.737',\n",
       " 'RHC 114.961']"
      ]
     },
     "execution_count": 27,
     "metadata": {},
     "output_type": "execute_result"
    }
   ],
   "source": [
    "regex_hc_rhc_alt = re.compile(r\"\\bHC\\s\\d+\\.\\d+|\\bRHC\\s[0-9]+\\.[0-9]+\")\n",
    "regex_hc_rhc_alt.findall(trecho_decisao)"
   ]
  },
  {
   "cell_type": "markdown",
   "metadata": {},
   "source": [
    "Podemos também utilizar o fato de a única alteração ser na classe, e a numeração ser a mesma.\n",
    "\n",
    "Observa outra forma de fazermos essa identificação:"
   ]
  },
  {
   "cell_type": "code",
   "execution_count": 60,
   "metadata": {},
   "outputs": [
    {
     "name": "stdout",
     "output_type": "stream",
     "text": [
      "HC 390.905\n",
      "HC 116.875\n",
      "HC 117.346\n",
      "HC 117.798\n",
      "HC 118.189\n",
      "HC 119.821\n",
      "HC 121.684\n",
      "HC 122.381\n",
      "HC 122.718\n",
      "RHC 114.737\n",
      "RHC 114.961\n"
     ]
    }
   ],
   "source": [
    "for match in regex_hc_rhc_alt.finditer(trecho_decisao):\n",
    "    print(match.group())"
   ]
  },
  {
   "cell_type": "markdown",
   "metadata": {},
   "source": [
    "# Exercício extra\n",
    "\n",
    "Guarde na variável `regex_extra` uma expressão regular compilada que seja capaz de extrair todas as menções a REs e AIs da decisão abaixo."
   ]
  },
  {
   "cell_type": "code",
   "execution_count": 71,
   "metadata": {},
   "outputs": [],
   "source": [
    "decisao = \"\"\"\n",
    "Decisão: O Supremo Tribunal Federal reconheceu a repercussão geral da controvérsia objeto dos presentes autos que versa sobre o direito, ou não, do segurado contribuinte da Previdência Social, à luz do art. 5, XXXVI, da Constituição Federal, ao cálculo da aposentadoria de acordo com a legislação vigente à época em que preenchidos os requisitos exigidos para a sua concessão, a qual se revela mais vantajosa do que aquela vigente à data da efetiva jubilação. Trata-se do Tema n. 334 da Gestão por Temas da Repercussão Geral do STF, que será submetido à apreciação do Pleno desta Corte, nos autos do RE n. 630.501/RS, Relatora a Ministra Ellen Gracie.\n",
    "\n",
    "In casu, o acórdão recorrido assentou:\n",
    "\n",
    "“APOSENTADORIA. DIREITO ADQUIRIDO. LEI N 7.787, DE 1989. INEXISTÊNCIA DE PREJUÍZO.\n",
    "\n",
    "Inexiste direito adquirido do segurado de ver recalculada a renda mensal inicial de sua aposentadoria segundo as regras anteriores à Lei n 7.787, de 1989, sob as quais teria completado os requisitos do benefício, uma vez que a nova lei não trouxe nenhum prejuízo aos segurados” (fls. 86).\n",
    "\n",
    "Destarte, aplicando a decisão Plenária no RE n. 579.431, secundada, a posteriori pelo AI n. 503.064-AgR-AgR, Relator o Ministro CELSO DE MELLO; AI n. 811.626-AgR-AgR, Relator o Ministro RICARDO LEWANDOWSKI, e RE n. 513.473-ED, Relator o Ministro CEZAR PELUSO, determino a devolução dos autos ao Tribunal de origem (artigo 328, parágrafo único, do RISTF c.c. artigo 543-B e seus parágrafos do Código de Processo Civil).\n",
    "\n",
    "Publique-se.\n",
    "\"\"\""
   ]
  },
  {
   "cell_type": "code",
   "execution_count": null,
   "metadata": {},
   "outputs": [],
   "source": [
    "#seu código aqui"
   ]
  },
  {
   "cell_type": "code",
   "execution_count": null,
   "metadata": {},
   "outputs": [],
   "source": [
    "from correcoes import exercico_extra9\n",
    "exercico_extra9(regex_extra)"
   ]
  }
 ],
 "metadata": {
  "kernelspec": {
   "display_name": "base",
   "language": "python",
   "name": "python3"
  },
  "language_info": {
   "codemirror_mode": {
    "name": "ipython",
    "version": 3
   },
   "file_extension": ".py",
   "mimetype": "text/x-python",
   "name": "python",
   "nbconvert_exporter": "python",
   "pygments_lexer": "ipython3",
   "version": "3.9.1 (default, Dec 11 2020, 09:29:25) [MSC v.1916 64 bit (AMD64)]"
  },
  "toc": {
   "base_numbering": 1,
   "nav_menu": {
    "height": "12px",
    "width": "168px"
   },
   "number_sections": false,
   "sideBar": true,
   "skip_h1_title": false,
   "title_cell": "Índice",
   "title_sidebar": "Conteúdo",
   "toc_cell": false,
   "toc_position": {
    "height": "calc(100% - 180px)",
    "left": "10px",
    "top": "150px",
    "width": "378px"
   },
   "toc_section_display": true,
   "toc_window_display": false
  },
  "vscode": {
   "interpreter": {
    "hash": "19d1d53a962d236aa061289c2ac16dc8e6d9648c89fe79f459ae9a3493bc67b4"
   }
  }
 },
 "nbformat": 4,
 "nbformat_minor": 4
}

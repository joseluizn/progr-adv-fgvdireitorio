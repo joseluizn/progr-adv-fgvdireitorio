{
 "cells": [
  {
   "cell_type": "markdown",
   "metadata": {},
   "source": [
    "# Programação para advogados\n",
    "\n",
    "Graduação em direito FGV Direito Rio"
   ]
  },
  {
   "cell_type": "markdown",
   "metadata": {},
   "source": [
    "#### - [Dicionários](#aula4)\n",
    "\n",
    "#### - [Resumo](#resumo)\n",
    "\n",
    "#### - [Exercícios](#exercicio)"
   ]
  },
  {
   "cell_type": "markdown",
   "metadata": {},
   "source": [
    "<a id=aula4></a>\n",
    "# Aula 4 - Dicionários\n",
    "\n",
    "Se podemos fazer muito com listas e tuplas, podemos fazer muito mais com dicionários! Nesta aula, veremos como podemos associar clientes de um escritório aos processos atrelados a eles."
   ]
  },
  {
   "cell_type": "markdown",
   "metadata": {},
   "source": [
    "Raramente queremos fazer uma simples lista de clientes. Para isso, podemos usar outras tecnologias. Se vamos *programar*, provavelmente queremos fazer algo mais sofisticado. No mínimo, queremos associar cada um dos nossos clientes aos processos atrelados a eles.\n",
    "\n",
    "Vamos relembrar nossa lista de clientes do escritório hipotético da última aula:"
   ]
  },
  {
   "cell_type": "code",
   "execution_count": 1,
   "metadata": {},
   "outputs": [
    {
     "data": {
      "text/plain": [
       "8"
      ]
     },
     "execution_count": 1,
     "metadata": {},
     "output_type": "execute_result"
    }
   ],
   "source": [
    "lista_clientes = [\n",
    "    \"Maria Berenice Dias\",\n",
    "    \"Pontes de Miranda\",\n",
    "    \"José Afonso da Silva\",\n",
    "    \"Aliomar Baleeiro\",\n",
    "    \"Guilherme Nucci\",\n",
    "    \"Nelson Hungria\",\n",
    "    \"Sobral Pinto\",\n",
    "    \"Evandro Lins e Silva\",\n",
    "]\n",
    "len(lista_clientes)"
   ]
  },
  {
   "cell_type": "markdown",
   "metadata": {},
   "source": [
    "De acordo com a lista acima, temos oito clientes. Mas pode ser que tenhamos 20 processos em trâmite (os números de processo foram gerados aleatoriamente e não correspondem ao formato de nenhum tribunal que conhecemos):"
   ]
  },
  {
   "cell_type": "code",
   "execution_count": 2,
   "metadata": {},
   "outputs": [],
   "source": [
    "lista_processos = [\n",
    "    \"2002.766393\",\n",
    "    \"2011.487453\",\n",
    "    \"2004.314066\",\n",
    "    \"1998.516307\",\n",
    "    \"2011.491429\",\n",
    "    \"2003.714034\",\n",
    "    \"2000.695102\",\n",
    "    \"2012.628045\",\n",
    "    \"2017.462447\",\n",
    "    \"1996.518281\",\n",
    "    \"1997.416985\",\n",
    "    \"2002.321557\",\n",
    "    \"2002.737116\",\n",
    "    \"2011.655314\",\n",
    "    \"1990.414436\",\n",
    "    \"2012.369756\",\n",
    "    \"1996.773047\",\n",
    "    \"1995.344760\",\n",
    "    \"1993.328622\",\n",
    "    \"2016.681535\",\n",
    "]"
   ]
  },
  {
   "cell_type": "markdown",
   "metadata": {},
   "source": [
    "Imagine um estagiário confuso olhando para essas duas listas. Não seria muito mais útil se pudéssemos guardar essas informações de maneira combinada? De maneira que cada cliente esteja relacionado aos seus processos? Claro que sim! E para isso, o Python tem uma estrutura chamada **dicionário** ou `dict`.\n",
    "\n",
    "<br>\n",
    "<br>\n",
    "    <img src=https://i.imgur.com/OcSofVI.jpg style = \"width:50%\">\n",
    "    <center> <i> Imagem meramente ilustrativa </i> </center>\n",
    "    <!-- fonte open source: https://images.unsplash.com/photo-1524639064490-254e0a1db723?ixlib=rb-1.2.1&ixid=eyJhcHBfaWQiOjEyMDd9&auto=format&fit=crop&w=1350&q=80 -->\n",
    "    \n",
    "<i> A imagem acima contém a ilustração de um dicionário físico.</i>"
   ]
  },
  {
   "cell_type": "markdown",
   "metadata": {},
   "source": [
    "Assim como um dicionário físico associa certas palavras a certas definições, um `dict` associa certas *chaves*, ou `keys`, a certos *valores* ou `values`. A sintaxe de criação de um dicionário é um pouco diferente daquela que usamos para gerar listas. Enquanto no caso de listas usamos colchetes (`[]`) para deifnir os limites, no caso do dicionário usamos chaves (`{}`). Da mesma forma, como agora temos pares, devemos sempre declarar cada item do nosso dicionário com a sintaxe `chave : valor`. Podemos ver como isso funciona criando um dicionário chamado `dicionario_clientes` e começando a alimentá-lo."
   ]
  },
  {
   "cell_type": "code",
   "execution_count": 3,
   "metadata": {},
   "outputs": [],
   "source": [
    "dicionario_clientes = {\n",
    "    \"Maria Berenice Dias\": \"1990.414436\",\n",
    "    \"Sobral Pinto\": \"1993.328622\",\n",
    "}"
   ]
  },
  {
   "cell_type": "markdown",
   "metadata": {},
   "source": [
    "Com a sintaxe acima, podemos associar o \"cliente\" Maria Berenice Dias com o processo 1990.414436 e o \"cliente\" Sobral Pinto com o processo 1993.328622. Criamos nosso primeiro `dict`:"
   ]
  },
  {
   "cell_type": "code",
   "execution_count": 4,
   "metadata": {},
   "outputs": [
    {
     "data": {
      "text/plain": [
       "dict"
      ]
     },
     "execution_count": 4,
     "metadata": {},
     "output_type": "execute_result"
    }
   ],
   "source": [
    "type(dicionario_clientes)"
   ]
  },
  {
   "cell_type": "markdown",
   "metadata": {},
   "source": [
    "Agora, se quisermos consultar nosso dicionário para saber quais processos estão atrelados a Maria Berenice Dias, por exemplo, basta chamarmos a chave 'Maria Berenice Dias' entre colchetes (`[]`) após o nome do dicionário. É parecido com o que faríamos com o índice de uma lista:"
   ]
  },
  {
   "cell_type": "code",
   "execution_count": 5,
   "metadata": {},
   "outputs": [
    {
     "data": {
      "text/plain": [
       "'1990.414436'"
      ]
     },
     "execution_count": 5,
     "metadata": {},
     "output_type": "execute_result"
    }
   ],
   "source": [
    "dicionario_clientes[\"Maria Berenice Dias\"]"
   ]
  },
  {
   "cell_type": "markdown",
   "metadata": {},
   "source": [
    "Dicionários são pares de *chaves* e *valores*, de maneira que os métodos `.keys()` e `.values()` são dois dos mais importantes relacionados a essa estrutura de dados."
   ]
  },
  {
   "cell_type": "markdown",
   "metadata": {},
   "source": [
    "O método `.keys()` serve para sabermos quais são as *chaves* do nosso dicionário. No contexto de `dicionario_clientes`, isso significa olhar quem são nossos clientes:"
   ]
  },
  {
   "cell_type": "code",
   "execution_count": 6,
   "metadata": {},
   "outputs": [
    {
     "data": {
      "text/plain": [
       "dict_keys(['Maria Berenice Dias', 'Sobral Pinto'])"
      ]
     },
     "execution_count": 6,
     "metadata": {},
     "output_type": "execute_result"
    }
   ],
   "source": [
    "dicionario_clientes.keys()"
   ]
  },
  {
   "cell_type": "markdown",
   "metadata": {},
   "source": [
    "`.values()`, por sua vez, retorna os números de processo:"
   ]
  },
  {
   "cell_type": "code",
   "execution_count": 7,
   "metadata": {},
   "outputs": [
    {
     "data": {
      "text/plain": [
       "dict_values(['1990.414436', '1993.328622'])"
      ]
     },
     "execution_count": 7,
     "metadata": {},
     "output_type": "execute_result"
    }
   ],
   "source": [
    "dicionario_clientes.values()"
   ]
  },
  {
   "cell_type": "markdown",
   "metadata": {},
   "source": [
    "Lembre-se que temos mais processos do que clientes, de maneira que alguns clientes vão ter múltiplos processos. Um valor de um dicionário pode ser uma lista! Vamos adicionar três processos diferentes ao cliente Guilherme Nucci. Repare que adicionar itens a um dicionário é diferente do que ocorre com uma lista. Não precisamos chamar um método próprio, já que podemos simplesmente declarar uma chave inédita:"
   ]
  },
  {
   "cell_type": "code",
   "execution_count": 8,
   "metadata": {},
   "outputs": [
    {
     "name": "stdout",
     "output_type": "stream",
     "text": [
      "{'Maria Berenice Dias': '1990.414436', 'Sobral Pinto': '1993.328622', 'Guilherme Nucci': ['2003.714034', '2000.695102', '2012.628045']}\n"
     ]
    }
   ],
   "source": [
    "dicionario_clientes[\"Guilherme Nucci\"] = ['2003.714034', '2000.695102', '2012.628045']\n",
    "print(dicionario_clientes)"
   ]
  },
  {
   "cell_type": "markdown",
   "metadata": {},
   "source": [
    "<a id=exercicio></a>\n",
    "# Exercício\n",
    "\n",
    "Temos agora um dicionário contendo três dos nossos oito clientes e cinco dos nossos 20 processos. Termine de fazer essa transposição! Lembre-se que cada um dos clientes deve ser uma chave e que cada processo só pode aparecer uma única vez nos valores do nosso dicionário."
   ]
  },
  {
   "cell_type": "code",
   "execution_count": 9,
   "metadata": {},
   "outputs": [],
   "source": [
    "#escreva seu código aqui\n"
   ]
  },
  {
   "cell_type": "code",
   "execution_count": null,
   "metadata": {},
   "outputs": [],
   "source": [
    "from correcoes import aula4_ex1\n",
    "aula4_ex1(dicionario_clientes)"
   ]
  },
  {
   "cell_type": "markdown",
   "metadata": {},
   "source": [
    "Dicionários, na verdade, são ainda mais potentes do que podemos imaginar a partir do exemplo acima. Afinal, cada processo contém uma série de informações próprias que também gostaríamos de saber, coisas como qual é o órgão julgador daquele processo, qual foi a data de protocolo do processo, em que fase processual ele se encontra, e assim por diante.\n",
    "\n",
    "Assim como podemos ter listas de listas, também podemos ter dicionários como valores de dicionários. Assim, um dicionário hipotético mais complexo poderia ter a seguinte estrutura:"
   ]
  },
  {
   "cell_type": "code",
   "execution_count": 10,
   "metadata": {},
   "outputs": [],
   "source": [
    "dicionario_completo = {}\n",
    "dicionario_completo[\"Guilherme Nucci\"] = {\n",
    "    \"2003.714034\": {\n",
    "        \"Órgão julgador\": \"80ª Vara Cível\",\n",
    "        \"data_protocolo\": \"2003-08-19\",\n",
    "        \"fase_atual\": \"aguardando sentença\",\n",
    "    },\n",
    "    \"2000.695102\": {\n",
    "        \"Órgão julgador\": \"STF\",\n",
    "        \"data_protocolo\": \"2000-05-21\",\n",
    "        \"fase_atual\": \"Recurso Extraordinário\",\n",
    "    },\n",
    "    \"2012.628045\": {\n",
    "        \"Órgão julgador\": \"81ª Vara Cível\",\n",
    "        \"data_protocolo\": \"2012-10-01\",\n",
    "        \"fase_atual\": \"Embargos de Declaração\",\n",
    "    },\n",
    "}"
   ]
  },
  {
   "cell_type": "markdown",
   "metadata": {},
   "source": [
    "Nessa estrutura mais complexa, podemos primeiro verificar quais processos estão atrelados ao autor Guilherme Nucci:"
   ]
  },
  {
   "cell_type": "code",
   "execution_count": 11,
   "metadata": {},
   "outputs": [
    {
     "data": {
      "text/plain": [
       "{'2003.714034': {'Órgão julgador': '80ª Vara Cível',\n",
       "  'data_protocolo': '2003-08-19',\n",
       "  'fase_atual': 'aguardando sentença'},\n",
       " '2000.695102': {'Órgão julgador': 'STF',\n",
       "  'data_protocolo': '2000-05-21',\n",
       "  'fase_atual': 'Recurso Extraordinário'},\n",
       " '2012.628045': {'Órgão julgador': '81ª Vara Cível',\n",
       "  'data_protocolo': '2012-10-01',\n",
       "  'fase_atual': 'Embargos de Declaração'}}"
      ]
     },
     "execution_count": 11,
     "metadata": {},
     "output_type": "execute_result"
    }
   ],
   "source": [
    "dicionario_completo[\"Guilherme Nucci\"]"
   ]
  },
  {
   "cell_type": "markdown",
   "metadata": {},
   "source": [
    "Para depois perguntar especificamente pelo processo 2000.695102, por exemplo:"
   ]
  },
  {
   "cell_type": "code",
   "execution_count": 12,
   "metadata": {},
   "outputs": [
    {
     "data": {
      "text/plain": [
       "{'Órgão julgador': 'STF',\n",
       " 'data_protocolo': '2000-05-21',\n",
       " 'fase_atual': 'Recurso Extraordinário'}"
      ]
     },
     "execution_count": 12,
     "metadata": {},
     "output_type": "execute_result"
    }
   ],
   "source": [
    "dicionario_completo[\"Guilherme Nucci\"][\"2000.695102\"]"
   ]
  },
  {
   "cell_type": "markdown",
   "metadata": {},
   "source": [
    "E assim por diante. Repare que estamos passando as chaves uma após a outra: primeiro, selecionamos o valor atrelado à chave \"Guilherme Nucci\" no `dicionario_completo` para depois buscar a chave \"2000.695102\" nesse novo dicionário que retornou da primeira busca.\n",
    "\n",
    "Essa estrutura recursiva (ou \"nested\", para usar o termo técnico) pode se tornar bastante complexa. Mais adiante, aprenderemos a usar estruturas mais abstratas de dados que ajudam a reduzir essa complexidade.\n",
    "\n",
    "Por enquanto, queremos apenas transmitir o poder potencial dos dicionários e sua capacidade de representar estruturas complexas de dados, contendo vários níveis diferentes, com informações cada vez mais locais a respeito das informações que buscamos."
   ]
  },
  {
   "cell_type": "markdown",
   "metadata": {},
   "source": [
    "Repare que não podemos usar o mesmo tipo de referência de índices que usamos no caso de listas. Se pedirmos o primeiro item de `dicionario_completo`, o Python não sabe o que fazer:"
   ]
  },
  {
   "cell_type": "code",
   "execution_count": 13,
   "metadata": {},
   "outputs": [
    {
     "ename": "KeyError",
     "evalue": "1",
     "output_type": "error",
     "traceback": [
      "\u001b[0;31m---------------------------------------------------------------------------\u001b[0m",
      "\u001b[0;31mKeyError\u001b[0m                                  Traceback (most recent call last)",
      "Cell \u001b[0;32mIn[13], line 1\u001b[0m\n\u001b[0;32m----> 1\u001b[0m dicionario_completo[\u001b[39m1\u001b[39;49m]\n",
      "\u001b[0;31mKeyError\u001b[0m: 1"
     ]
    }
   ],
   "source": [
    "dicionario_completo[1]"
   ]
  },
  {
   "cell_type": "markdown",
   "metadata": {},
   "source": [
    "<i>A execução da célula acima resulta em um erro do tipo KeyError (Erro de chave). A mensagem de erro é:\n",
    "\n",
    "    KeyError: 1\n",
    "</i>\n",
    "\n",
    "Isso acontece porque não temos nenhuma chave (`key`) identificada pelo `int` 1. Dicionários só aceitam referências a suas chaves. O mesmo vale para remover itens. Se lembrarmos do método `.pop()` quando aplicado a listas, perceberemos que, naquele caso, `.pop()` recebe um `int` representando o índice para realizar a remoção do item. No caso dos dicionários, `.pop()` recebe uma chave. Como exemplo, vamos supor que o processo 2000.695102, relativo ao dicionário acima, termine e precise ser retirado. Podemos usar o método `.pop()`:"
   ]
  },
  {
   "cell_type": "code",
   "execution_count": 14,
   "metadata": {},
   "outputs": [
    {
     "data": {
      "text/plain": [
       "{'Órgão julgador': 'STF',\n",
       " 'data_protocolo': '2000-05-21',\n",
       " 'fase_atual': 'Recurso Extraordinário'}"
      ]
     },
     "execution_count": 14,
     "metadata": {},
     "output_type": "execute_result"
    }
   ],
   "source": [
    "dicionario_completo[\"Guilherme Nucci\"].pop(\"2000.695102\")"
   ]
  },
  {
   "cell_type": "markdown",
   "metadata": {},
   "source": [
    "Retiramos do dicionário atrelado ao autor Guilherme Nucci (que acessamos através de `dicionario_completo[\"Guilherme Nucci\"]`) o processo número 2000.695102. Quando imprimimos novamente o dicionário, vemos apenas os outros dois processos que incluímos inicialmente."
   ]
  },
  {
   "cell_type": "code",
   "execution_count": 15,
   "metadata": {},
   "outputs": [
    {
     "data": {
      "text/plain": [
       "{'Guilherme Nucci': {'2003.714034': {'Órgão julgador': '80ª Vara Cível',\n",
       "   'data_protocolo': '2003-08-19',\n",
       "   'fase_atual': 'aguardando sentença'},\n",
       "  '2012.628045': {'Órgão julgador': '81ª Vara Cível',\n",
       "   'data_protocolo': '2012-10-01',\n",
       "   'fase_atual': 'Embargos de Declaração'}}}"
      ]
     },
     "execution_count": 15,
     "metadata": {},
     "output_type": "execute_result"
    }
   ],
   "source": [
    "dicionario_completo"
   ]
  },
  {
   "cell_type": "markdown",
   "metadata": {},
   "source": [
    "Assim como fizemos com listas, também podemos checar se a exclusão foi feita usando a sintaxe `in`:"
   ]
  },
  {
   "cell_type": "code",
   "execution_count": 16,
   "metadata": {},
   "outputs": [
    {
     "data": {
      "text/plain": [
       "False"
      ]
     },
     "execution_count": 16,
     "metadata": {},
     "output_type": "execute_result"
    }
   ],
   "source": [
    "'2000.695102' in dicionario_completo[\"Guilherme Nucci\"]"
   ]
  },
  {
   "cell_type": "markdown",
   "metadata": {},
   "source": [
    "Agora imagine que o processo 2012.628045 teve os embargos de declaração negados e um recurso de apelação interposto. Como podemos alterar somente esse campo do dicionário? Usando o método `.update()`:"
   ]
  },
  {
   "cell_type": "code",
   "execution_count": 17,
   "metadata": {},
   "outputs": [],
   "source": [
    "dicionario_completo[\"Guilherme Nucci\"][\"2012.628045\"].update({'fase_atual': 'Recurso de apelação'})"
   ]
  },
  {
   "cell_type": "code",
   "execution_count": 18,
   "metadata": {},
   "outputs": [
    {
     "data": {
      "text/plain": [
       "{'Guilherme Nucci': {'2003.714034': {'Órgão julgador': '80ª Vara Cível',\n",
       "   'data_protocolo': '2003-08-19',\n",
       "   'fase_atual': 'aguardando sentença'},\n",
       "  '2012.628045': {'Órgão julgador': '81ª Vara Cível',\n",
       "   'data_protocolo': '2012-10-01',\n",
       "   'fase_atual': 'Recurso de apelação'}}}"
      ]
     },
     "execution_count": 18,
     "metadata": {},
     "output_type": "execute_result"
    }
   ],
   "source": [
    "dicionario_completo"
   ]
  },
  {
   "cell_type": "markdown",
   "metadata": {},
   "source": [
    "O método `.update()` toma como argumento um dicionário e altera no primeiro dicionário (variável anterior ao ponto) apenas os pares de chaves e valores mencionados nele. Assim, Órgão julgador e data_protocolo se mantêm inalterados. Apenas a `fase_atual` é atualizada para constar que agora não estamos mais na fase de embargos de declaração, mas sim na de recurso de apelação."
   ]
  },
  {
   "cell_type": "markdown",
   "metadata": {},
   "source": [
    "Dado que estamos na fase de apelação, porém, imaginando que o recurso foi recebido pelo juízo *a quo*, precisamos atualizar também o órgão julgador! Use o método `.update()` na célula abaixo para registrar que o processo foi distribuído para a \"60ª Câmara Cível\". Após, rode o código de correção na célula seguinte."
   ]
  },
  {
   "cell_type": "code",
   "execution_count": 19,
   "metadata": {},
   "outputs": [],
   "source": [
    "#escreva seu código aqui\n"
   ]
  },
  {
   "cell_type": "code",
   "execution_count": null,
   "metadata": {},
   "outputs": [],
   "source": [
    "from correcoes import aula4_ex2\n",
    "aula4_ex2(dicionario_completo)"
   ]
  },
  {
   "cell_type": "markdown",
   "metadata": {},
   "source": [
    "#### Construtor `dict`\n",
    "\n",
    "Podemos construir dicionários usando uma sintaxe alternativa. Algumas células acima, criamos um dicionário com a linha `dicionario_completo = {}` e adicionamos itens subsequentemente ao dicionário com a sintaxe `dicionario[\"chave\"] = valor`. Uma alternativa é usar o construtor de dicionários. Vamos recriar o processo 2003.714034 usando essa nova sintaxe:"
   ]
  },
  {
   "cell_type": "code",
   "execution_count": 20,
   "metadata": {},
   "outputs": [
    {
     "data": {
      "text/plain": [
       "{'num_processo': '2003.714034',\n",
       " 'orgao_julgador': '80ª Vara Cível',\n",
       " 'data_protocolo': '2003-08-19',\n",
       " 'fase_atual': 'aguardando sentença'}"
      ]
     },
     "execution_count": 20,
     "metadata": {},
     "output_type": "execute_result"
    }
   ],
   "source": [
    "dict_processo = dict(\n",
    "    num_processo=\"2003.714034\",\n",
    "    orgao_julgador=\"80ª Vara Cível\",\n",
    "    data_protocolo=\"2003-08-19\",\n",
    "    fase_atual=\"aguardando sentença\",\n",
    ")\n",
    "dict_processo"
   ]
  },
  {
   "cell_type": "markdown",
   "metadata": {},
   "source": [
    "<a id=resumo></a>\n",
    "# Resumo\n",
    "\n",
    "Nesta aula, vimos como funcionam os dicionários em Python:\n",
    "\n",
    "* Dicionários são uma estrutura de dados que permite unir certas chaves (`keys`) a certos valores (`values`), assim como ocorre com dicionários físicos.\n",
    "* Podemos guardar listas ou até mesmo dicionários como valores de um dicionário, o que significa que dicionários podem ser \"nested\", no linguajar técnico.\n",
    "* Podemos adicionar novos pares de chaves e valores a um dicionário usando a sintaxe `dicionario[chave] = valor`.\n",
    "* Além disso, temos métodos predefinidos para remover itens (`.pop()`) e atualizar (`.update()`) valores guardados em um dicionário.\n",
    "* Enquanto acessamos os itens de uma lista a partir de seus índices, acessamos os itens de um dicionário através de suas chaves e apenas através delas.\n",
    "* Finalmente, vimos outros modos de criar dicionários."
   ]
  },
  {
   "cell_type": "markdown",
   "metadata": {},
   "source": [
    "# Exercício extra\n",
    "\n",
    "Imagine que você acabou de terminar a faculdade, foi aprovado na OAB e está pronto para começar o seu escritório. Você fecha contratos com algumas pessoas físicas que concordaram em pagar um valor mensal em troca dos seus serviços de consultoria jurídica. Você precisa guardar certas informações a respeito de seus clientes e decide criar um dicionário com a \"idade\", o \"cpf\" e o \"valor_mensal\" devido por cada um. Faça isso (inventando os valores) para seus clientes (é necessário que você tenha pelo menos um cliente) e salve o resultado em uma variável chamada `dict_clientes` (esta variável também deve ser um dicionário)."
   ]
  },
  {
   "cell_type": "code",
   "execution_count": null,
   "metadata": {},
   "outputs": [],
   "source": [
    "#seu código aqui!\n"
   ]
  },
  {
   "cell_type": "code",
   "execution_count": null,
   "metadata": {},
   "outputs": [],
   "source": [
    "from correcoes import exercicio_extra3\n",
    "exercicio_extra3(dict_clientes)"
   ]
  }
 ],
 "metadata": {
  "kernelspec": {
   "display_name": "Python 3",
   "language": "python",
   "name": "python3"
  },
  "language_info": {
   "codemirror_mode": {
    "name": "ipython",
    "version": 3
   },
   "file_extension": ".py",
   "mimetype": "text/x-python",
   "name": "python",
   "nbconvert_exporter": "python",
   "pygments_lexer": "ipython3",
   "version": "3.10.8"
  },
  "toc": {
   "base_numbering": 1,
   "nav_menu": {
    "height": "12px",
    "width": "168px"
   },
   "number_sections": false,
   "sideBar": true,
   "skip_h1_title": false,
   "title_cell": "Índice",
   "title_sidebar": "Conteúdo",
   "toc_cell": false,
   "toc_position": {
    "height": "calc(100% - 180px)",
    "left": "10px",
    "top": "150px",
    "width": "378px"
   },
   "toc_section_display": true,
   "toc_window_display": false
  }
 },
 "nbformat": 4,
 "nbformat_minor": 2
}

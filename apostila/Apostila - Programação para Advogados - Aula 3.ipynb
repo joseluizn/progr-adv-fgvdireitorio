{
 "cells": [
  {
   "cell_type": "markdown",
   "metadata": {},
   "source": [
    "# Programação para advogados\n",
    "\n",
    "Graduação em direito FGV Direito Rio"
   ]
  },
  {
   "cell_type": "markdown",
   "metadata": {},
   "source": [
    "# Aula 3 - Tuplas, listas, condicionais, indexing e slicing\n",
    "\n",
    "## Índice\n",
    "\n",
    "#### - [Listas](#listas)\n",
    "\n",
    "#### - [Indexing](#indexing)\n",
    "\n",
    "#### - [Slicing](#slicing)\n",
    "\n",
    "#### - [Tuplas](#tuplas)\n",
    "\n",
    "#### - [Condicionais](#condicionais)\n",
    "\n",
    "#### - [Resumo](#resumo)\n",
    "\n",
    "#### - [Exercícios](#exercicio)\n"
   ]
  },
  {
   "cell_type": "markdown",
   "metadata": {},
   "source": [
    "<a id=listas></a>\n",
    "\n",
    "# Listas\n",
    "\n",
    "No Direito e na vida, estamos constantemente usando listas. Fazemos listas de compras, listas de lugares que queremos visitar, listas de tarefas que precisamos realizar, assim como listas de clientes, listas de processos e etc.\n",
    "\n",
    "Para nos mantermos no tema do Direito, vamos imaginar um advogado que possui um escritório pequeno, especializado em defender as obras de doutrinadores do Direito. Esse escritório lida com as obras de apenas seis autores, que vamos chamar de clientes, mesmo que alguns não estejam vivos. De toda forma, esse advogado mantém, desde já, uma lista bem organizada de seus clientes.\n",
    "\n",
    "Sendo um pouco menos habilidoso com tecnologia, esse advogado mantém sua lista em um documento de texto. A lista dele pode parecer mais ou menos assim:\n",
    "\n",
    "* Maria Berenice Dias\n",
    "* Jorge Miranda\n",
    "* Pontes de Miranda\n",
    "* Ada Pellegrini\n",
    "* Paulo Bonavides\n",
    "* Aliomar Baleeiro\n",
    "\n",
    "Toda vez que ele precisa verificar se um de seus clientes é parte em um processo, ele precisa olhar para essa lista e fazer essa verificação manualmente. Sempre que precisa qualificar um de seus clientes em uma petição, esse advogado precisa abrir o documento de texto, selecionar o nome relevante, copia-lo e colar em um novo documento. Esse fluxo de trabalho pode funcionar bem para seis clientes, mas dificilmente será adequado para trabalhar com mesmo algumas poucas centenas de clientes.\n",
    "\n",
    "Podemos fazer melhor."
   ]
  },
  {
   "cell_type": "markdown",
   "metadata": {},
   "source": [
    "Não estamos preocupados apenas com variáveis \"soltas\", queremos usá-las em estruturas mais complexas, que nos permitam fazer coisas úteis. Nesta aula, veremos listas e tuplas e como usar algumas técnicas para extrair informações desses objetos."
   ]
  },
  {
   "cell_type": "code",
   "execution_count": 1,
   "metadata": {},
   "outputs": [
    {
     "name": "stdout",
     "output_type": "stream",
     "text": [
      "['Maria Berenice Dias', 'Jorge Miranda', 'Pontes de Miranda', 'Ada Pellegrini', 'Paulo Bonavides', 'Aliomar Baleeiro']\n"
     ]
    }
   ],
   "source": [
    "lista_clientes = [\n",
    "    \"Maria Berenice Dias\",\n",
    "    \"Jorge Miranda\",\n",
    "    \"Pontes de Miranda\",\n",
    "    \"Ada Pellegrini\",\n",
    "    \"Paulo Bonavides\",\n",
    "    \"Aliomar Baleeiro\",\n",
    "]\n",
    "\n",
    "# imprime a lista\n",
    "print(lista_clientes)"
   ]
  },
  {
   "cell_type": "markdown",
   "metadata": {},
   "source": [
    "Agora, temos a mesma informação em uma estrutura de dados com a qual podemos trabalhar no Python!\n",
    "\n",
    "A **lista** é uma das estruturas de dados mais utilizadas no Python e se define por uma sequência de variáveis, separadas por **vírgula** e delimitadas por **colchetes**. Ela contém quantos elementos você quiser incluir. No caso, guardamos os seis nomes de clientes do nosso escritório hipotético.\n",
    "\n",
    "Listas são indiferentes quanto ao tipo de dado guardado nelas. Elas podem conter dados de tipo `str`, `int`, `float`, `bool` e vários outros tipos, incluindo listas e combinações de diferentes tipos de dados."
   ]
  },
  {
   "cell_type": "code",
   "execution_count": 2,
   "metadata": {},
   "outputs": [],
   "source": [
    "lista_mista = [\"João Junior\", \"0038782-33.1999.4.01.3400\", 1999, False]"
   ]
  },
  {
   "cell_type": "markdown",
   "metadata": {},
   "source": [
    "Quando pedimos pelo `type` de `lista_clientes` ou `lista_mista`, em vez de recebermos o tipo dos elementos que estão contidos na nossa lista (`str`, no caso de `lista_clientes` e três tipos diferentes, no caso de `lista_mista`), receberemos o `type` do próprio objeto, ou seja, veremos que `lista_clientes` é do tipo `list`."
   ]
  },
  {
   "cell_type": "code",
   "execution_count": 3,
   "metadata": {},
   "outputs": [
    {
     "data": {
      "text/plain": [
       "list"
      ]
     },
     "execution_count": 3,
     "metadata": {},
     "output_type": "execute_result"
    }
   ],
   "source": [
    "type(lista_clientes)"
   ]
  },
  {
   "cell_type": "code",
   "execution_count": 4,
   "metadata": {},
   "outputs": [
    {
     "data": {
      "text/plain": [
       "list"
      ]
     },
     "execution_count": 4,
     "metadata": {},
     "output_type": "execute_result"
    }
   ],
   "source": [
    "type(lista_mista)"
   ]
  },
  {
   "cell_type": "markdown",
   "metadata": {},
   "source": [
    "Nós raramente queremos falar de uma lista inteira. Então geralmente vamos usar métodos mais criativos para acessar cada um de seus elementos. Isso pode ser feito através de índices."
   ]
  },
  {
   "cell_type": "markdown",
   "metadata": {},
   "source": [
    "<a id=indexing></a>\n",
    "## Indexing\n",
    "\n",
    "O primeiro elemento de `lista_clientes` é a `str` \"Maria Berenice Dias\". Posso acessar esse elemento dizendo para o Python que  quero o elemento número 0 da lista. Essa é uma informação importante: **o Python começa a contar do 0!** Como consequência, se você quer o primeiro elemento de uma lista, você quer seu elemento 0."
   ]
  },
  {
   "cell_type": "code",
   "execution_count": 5,
   "metadata": {},
   "outputs": [
    {
     "name": "stdout",
     "output_type": "stream",
     "text": [
      "Maria Berenice Dias\n"
     ]
    }
   ],
   "source": [
    "print(lista_clientes[0])"
   ]
  },
  {
   "cell_type": "markdown",
   "metadata": {},
   "source": [
    "Isso tem consequências. Se você quer acessar o **sexto** elemento da lista, qual item você deve escolher? (preencha a variável `item` abaixo com o número do elemento que deve ser acessado, rode a célula e depois rode a célula posterior, que contém a função `aula3_ex1`)."
   ]
  },
  {
   "cell_type": "code",
   "execution_count": null,
   "metadata": {},
   "outputs": [],
   "source": [
    "#preencha a variável item com o valor que você considera o correto\n",
    "item = "
   ]
  },
  {
   "cell_type": "code",
   "execution_count": null,
   "metadata": {},
   "outputs": [],
   "source": [
    "#rode esta célula para a correção!\n",
    "from correcoes import aula3_ex1\n",
    "aula3_ex1(item)"
   ]
  },
  {
   "cell_type": "markdown",
   "metadata": {},
   "source": [
    "Podemos usar a resposta anterior (é necessário que você acerte o exercício!) para acessar o último item:"
   ]
  },
  {
   "cell_type": "code",
   "execution_count": null,
   "metadata": {
    "scrolled": true
   },
   "outputs": [],
   "source": [
    "print(lista_clientes[item])"
   ]
  },
  {
   "cell_type": "markdown",
   "metadata": {},
   "source": [
    "Existe outra forma de acessar o último item de uma lista: pedindo o índice -1:"
   ]
  },
  {
   "cell_type": "code",
   "execution_count": 7,
   "metadata": {},
   "outputs": [
    {
     "name": "stdout",
     "output_type": "stream",
     "text": [
      "Aliomar Baleeiro\n"
     ]
    }
   ],
   "source": [
    "print(lista_clientes[-1])"
   ]
  },
  {
   "cell_type": "markdown",
   "metadata": {},
   "source": [
    "Isso significa que os índices contam não só para frente, mas também para trás. Assim, o penúltimo item pode ser acessado através do índice -2 e assim por diante:"
   ]
  },
  {
   "cell_type": "code",
   "execution_count": 8,
   "metadata": {},
   "outputs": [
    {
     "name": "stdout",
     "output_type": "stream",
     "text": [
      "Paulo Bonavides\n"
     ]
    }
   ],
   "source": [
    "print(lista_clientes[-2])"
   ]
  },
  {
   "cell_type": "markdown",
   "metadata": {},
   "source": [
    "Da forma como as listas funcionam, podemos usar os índices para alterar o item guardando naquela posição. Vamos supor que, ao mesmo tempo, o cliente Paulo Bonavides tenha resolvido romper seus laços com o escritório e o jurista José Afonso da Silva tenha necessitado dos serviços jurídicos de nossa banca hipotética. Para lidar com essa situação, basta alterarmos o que está guardado no penúltimo item da nossa lista:"
   ]
  },
  {
   "cell_type": "code",
   "execution_count": 9,
   "metadata": {
    "scrolled": true
   },
   "outputs": [
    {
     "name": "stdout",
     "output_type": "stream",
     "text": [
      "['Maria Berenice Dias', 'Jorge Miranda', 'Pontes de Miranda', 'Ada Pellegrini', 'José Afonso da Silva', 'Aliomar Baleeiro']\n"
     ]
    }
   ],
   "source": [
    "lista_clientes[-2] = \"José Afonso da Silva\"\n",
    "print(lista_clientes)"
   ]
  },
  {
   "cell_type": "markdown",
   "metadata": {},
   "source": [
    "<a id=slicing></a>\n",
    "\n",
    "# Slicing\n",
    "Pode ser que, em vez de referenciar um único item, eu esteja interessado em um subconjunto maior da minha lista. Pode ser, por exemplo, que eu queria saber quais foram os três primeiros clientes do escritório. É possível fazer isso através de **slices** ou *recortes*:"
   ]
  },
  {
   "cell_type": "code",
   "execution_count": 11,
   "metadata": {},
   "outputs": [
    {
     "name": "stdout",
     "output_type": "stream",
     "text": [
      "['Maria Berenice Dias', 'Jorge Miranda', 'Pontes de Miranda']\n"
     ]
    }
   ],
   "source": [
    "primeiros_clientes = lista_clientes[0:3]\n",
    "print(primeiros_clientes)"
   ]
  },
  {
   "cell_type": "markdown",
   "metadata": {},
   "source": [
    "Repare em algumas coisas a respeito dessa forma de subdividir listas:\n",
    "\n",
    "1) Novamente, **o índice começa no 0**;\n",
    "\n",
    "2) A sintaxe **inclui** o primeiro item (no exemplo acima, o item de índice 0 é incluído), mas **exclui** o último item (o item de índice 3 **não** é incluído no resultado `primeiros_clientes`)."
   ]
  },
  {
   "cell_type": "markdown",
   "metadata": {},
   "source": [
    "Suponhamos que o criminalista Guilherme Nucci resolvesse se juntar aos nossos clientes. Como podemos adicioná-lo à nossa lista? A forma mais convencional é usar o método `append`:"
   ]
  },
  {
   "cell_type": "code",
   "execution_count": 12,
   "metadata": {},
   "outputs": [
    {
     "name": "stdout",
     "output_type": "stream",
     "text": [
      "['Maria Berenice Dias', 'Jorge Miranda', 'Pontes de Miranda', 'Ada Pellegrini', 'José Afonso da Silva', 'Aliomar Baleeiro', 'Guilherme Nucci']\n"
     ]
    }
   ],
   "source": [
    "lista_clientes.append(\"Guilherme Nucci\")\n",
    "print(lista_clientes)"
   ]
  },
  {
   "cell_type": "markdown",
   "metadata": {},
   "source": [
    "O método `append` adiciona o que tiver sido passado para ele como argumento (ou seja, aquilo que estiver entre os parênteses) **ao final** da lista."
   ]
  },
  {
   "cell_type": "markdown",
   "metadata": {},
   "source": [
    "Antes, tinhamos seis clientes. Agora, sabemos que temos sete, mas vamos supor que, em algum momento, a coisa saia de controle. Temos como contar quantos elementos estão contidos em uma lista? Sim! Podemos usar a função `len()`:"
   ]
  },
  {
   "cell_type": "code",
   "execution_count": 13,
   "metadata": {},
   "outputs": [
    {
     "data": {
      "text/plain": [
       "7"
      ]
     },
     "execution_count": 13,
     "metadata": {},
     "output_type": "execute_result"
    }
   ],
   "source": [
    "len(lista_clientes)"
   ]
  },
  {
   "cell_type": "markdown",
   "metadata": {},
   "source": [
    "Agora imagine que, diante do sucesso obtido a partir da adoção das técnicas de programação adotadas pelos seus membros, nosso escritório hipotético ganhe uma nova safra de clientes. Vamos dizer que Nelson Hungria, Sobral Pinto e Evandro Lins e Silva contrataram com o escritório no mesmo dia. Como podemos adicionar todos esses novos clientes à nossa lista de uma vez?\n",
    "\n",
    "Podemos usar o método `extend`, nativo das listas:"
   ]
  },
  {
   "cell_type": "code",
   "execution_count": 14,
   "metadata": {},
   "outputs": [
    {
     "name": "stdout",
     "output_type": "stream",
     "text": [
      "['Maria Berenice Dias', 'Jorge Miranda', 'Pontes de Miranda', 'Ada Pellegrini', 'José Afonso da Silva', 'Aliomar Baleeiro', 'Guilherme Nucci', 'Nelson Hungria', 'Sobral Pinto', 'Evandro Lins e Silva']\n"
     ]
    }
   ],
   "source": [
    "lista_clientes.extend([\"Nelson Hungria\", \"Sobral Pinto\", \"Evandro Lins e Silva\"])\n",
    "print(lista_clientes)"
   ]
  },
  {
   "cell_type": "markdown",
   "metadata": {},
   "source": [
    "Não devemos usar o método `append` porque, como mencionamos, o método `append` toma apenas um argumento e adiciona o argumento ao final da lista. Vamos usar a `lista_mista` para ilustrar esse comportamento, adicionando nossos novos clientes a ela usando `append`:"
   ]
  },
  {
   "cell_type": "code",
   "execution_count": 15,
   "metadata": {},
   "outputs": [
    {
     "name": "stdout",
     "output_type": "stream",
     "text": [
      "['João Junior', '0038782-33.1999.4.01.3400', 1999, False, ['Nelson Hungria', 'Sobral Pinto', 'Evandro Lins e Silva']]\n"
     ]
    }
   ],
   "source": [
    "lista_mista.append([\"Nelson Hungria\", \"Sobral Pinto\", \"Evandro Lins e Silva\"])\n",
    "print(lista_mista)"
   ]
  },
  {
   "cell_type": "markdown",
   "metadata": {},
   "source": [
    "Muito embora possa não ser óbvio à primeira vista, o último item da `lista_mista` é agora uma nova lista. Podemos verificar isso invocando seu último elemento:"
   ]
  },
  {
   "cell_type": "code",
   "execution_count": 16,
   "metadata": {},
   "outputs": [
    {
     "name": "stdout",
     "output_type": "stream",
     "text": [
      "['Nelson Hungria', 'Sobral Pinto', 'Evandro Lins e Silva']\n",
      "<class 'list'>\n"
     ]
    }
   ],
   "source": [
    "print(lista_mista[-1])\n",
    "print(type(lista_mista[-1]))"
   ]
  },
  {
   "cell_type": "markdown",
   "metadata": {},
   "source": [
    "Em algumas ocasiões, esse comportamento nos será útil, mas, por ora, parece mais interessante adicionar cada item da lista à outra lista. Também poderíamos ter feito isso através de uma adição:"
   ]
  },
  {
   "cell_type": "code",
   "execution_count": 17,
   "metadata": {},
   "outputs": [
    {
     "name": "stdout",
     "output_type": "stream",
     "text": [
      "['João Junior', '0038782-33.1999.4.01.3400', 1999, False, ['Nelson Hungria', 'Sobral Pinto', 'Evandro Lins e Silva'], 'Nelson Hungria', 'Sobral Pinto', 'Evandro Lins e Silva']\n"
     ]
    }
   ],
   "source": [
    "lista_mista_alt = lista_mista + [\"Nelson Hungria\", \"Sobral Pinto\", \"Evandro Lins e Silva\"]\n",
    "print(lista_mista_alt)"
   ]
  },
  {
   "cell_type": "markdown",
   "metadata": {},
   "source": [
    "Como podemos perceber, a adição se comporta como `extend` e não como `append`."
   ]
  },
  {
   "cell_type": "markdown",
   "metadata": {},
   "source": [
    "Nem tudo são flores. Algumas vezes, os clientes desistem de ser representados pelo escritório. Vamos supor que o constitucionalista Jorge Miranda tenha resolvido buscar novos representantes legais. Como podemos retirá-lo da nossa lista?"
   ]
  },
  {
   "cell_type": "code",
   "execution_count": 18,
   "metadata": {},
   "outputs": [
    {
     "name": "stdout",
     "output_type": "stream",
     "text": [
      "['Maria Berenice Dias', 'Pontes de Miranda', 'Ada Pellegrini', 'José Afonso da Silva', 'Aliomar Baleeiro', 'Guilherme Nucci', 'Nelson Hungria', 'Sobral Pinto', 'Evandro Lins e Silva']\n"
     ]
    }
   ],
   "source": [
    "lista_clientes.remove(\"Jorge Miranda\")\n",
    "print(lista_clientes)"
   ]
  },
  {
   "cell_type": "markdown",
   "metadata": {},
   "source": [
    "Pronto! Cliente removido. Vamos supor que os responsáveis pela obra de Ada Pellegrini tenham resolvido seguir o mesmo caminho que Jorge Miranda e se juntado à concorrência. Outro meio de excluir itens de uma lista é através do índice:"
   ]
  },
  {
   "cell_type": "code",
   "execution_count": 19,
   "metadata": {},
   "outputs": [
    {
     "name": "stdout",
     "output_type": "stream",
     "text": [
      "['Maria Berenice Dias', 'Pontes de Miranda', 'José Afonso da Silva', 'Aliomar Baleeiro', 'Guilherme Nucci', 'Nelson Hungria', 'Sobral Pinto', 'Evandro Lins e Silva']\n"
     ]
    }
   ],
   "source": [
    "lista_clientes.pop(2) #lembre-se, o Python conta a partir do 0!!!!\n",
    "print(lista_clientes)"
   ]
  },
  {
   "cell_type": "markdown",
   "metadata": {},
   "source": [
    "Finalmente, vamos imaginar que você tenha se esquecido se o Aliomar Baleeiro é seu cliente ou não. Sabemos que é implausível, dado que imprimimos essa lista várias vezes na presente apostila, mas essa poderia ser uma situação na vida real, especialmente conforme o número de clientes cresce. Há uma forma de fazer isso programaticamente? Sim! E é uma maneira muito semelhante ao uso que faríamos da linguagem ordinária."
   ]
  },
  {
   "cell_type": "code",
   "execution_count": 20,
   "metadata": {},
   "outputs": [
    {
     "data": {
      "text/plain": [
       "True"
      ]
     },
     "execution_count": 20,
     "metadata": {},
     "output_type": "execute_result"
    }
   ],
   "source": [
    "\"Aliomar Baleeiro\" in lista_clientes"
   ]
  },
  {
   "cell_type": "markdown",
   "metadata": {},
   "source": [
    "O código acima retorna um valor booleano: caso \"Aliomar Baleeiro\" seja um dos itens da `lista_clientes`, ele retorna o valor `True`. Caso contrário, `False`."
   ]
  },
  {
   "cell_type": "markdown",
   "metadata": {},
   "source": [
    "Listas são objetos interessantes pelo que você pode fazer com elas em um ambiente programático. Se nosso único objetivo com as listas fosse manter uma memória de quais são os clientes de nosso escritório, elas não apresentariam nenhuma vantagem decisiva quando comparadas a documentos de texto, por exemplo. O que nos interessa no Python e nas suas estruturas de dados é o poder que ele nos dá para realizar uma série de operações.\n",
    "\n",
    "Portanto, faz sentido dar uma pausa na nossa conversa sobre listas para introduzir o tópico dos condicionais com algum cuidado."
   ]
  },
  {
   "cell_type": "markdown",
   "metadata": {},
   "source": [
    "<a id=tuplas></a>\n",
    "\n",
    "# Tuplas\n",
    "\n",
    "A **tupla** é uma sequência **imutável** de objetos, separados por **vírgula** e delimitados por **parênteses**. Essa é a principal diferença entre a lista e a tupla: uma vez criada, seus membros não podem mais ser alterados. Veja o código abaixo:"
   ]
  },
  {
   "cell_type": "code",
   "execution_count": 2,
   "metadata": {},
   "outputs": [
    {
     "ename": "NameError",
     "evalue": "name 'lista_mista' is not defined",
     "output_type": "error",
     "traceback": [
      "\u001b[0;31m---------------------------------------------------------------------------\u001b[0m",
      "\u001b[0;31mNameError\u001b[0m                                 Traceback (most recent call last)",
      "Cell \u001b[0;32mIn[2], line 1\u001b[0m\n\u001b[0;32m----> 1\u001b[0m tupla1 \u001b[38;5;241m=\u001b[39m (\u001b[38;5;124m\"\u001b[39m\u001b[38;5;124mlista_clientes\u001b[39m\u001b[38;5;124m\"\u001b[39m, lista_clientes, \u001b[38;5;124m\"\u001b[39m\u001b[38;5;124mlista_mista\u001b[39m\u001b[38;5;124m\"\u001b[39m, \u001b[43mlista_mista\u001b[49m)\n\u001b[1;32m      2\u001b[0m \u001b[38;5;28mprint\u001b[39m(tupla1)\n",
      "\u001b[0;31mNameError\u001b[0m: name 'lista_mista' is not defined"
     ]
    }
   ],
   "source": [
    "tupla1 = (\"lista_clientes\", lista_clientes, \"lista_mista\", lista_mista)\n",
    "print(tupla1)"
   ]
  },
  {
   "cell_type": "code",
   "execution_count": null,
   "metadata": {},
   "outputs": [],
   "source": [
    "tupla1[0] = \"blah!\"  # vai dar erro!"
   ]
  },
  {
   "cell_type": "markdown",
   "metadata": {},
   "source": [
    "A execução da célula acima resulta em um erro devido a operação que tentamos ralizar com uma tupla. Descrição  do erro:\n",
    "    \n",
    "        TypeError: 'tuple' object does not support item assignment\n",
    "    \n",
    "\n",
    "Tuplas podem ser mais leves do que listas para realizar algumas tarefas e elas são um pouco mais leves e confiáveis por serem imutáveis. Na maioria das vezes, porém, vamos trabalhar com estruturas de nível mais alto de abstração, como **listas** e **dicionários**.\n",
    "\n",
    "Vale destacar que ainda que não possamos alterá-las, podemos acessar os elementos de uma tupla da mesma forma que acessamos os elementos de uma lista:"
   ]
  },
  {
   "cell_type": "code",
   "execution_count": null,
   "metadata": {},
   "outputs": [],
   "source": [
    "tupla1[2]"
   ]
  },
  {
   "cell_type": "markdown",
   "metadata": {},
   "source": [
    "<a id=condicionais></a>\n",
    "\n",
    "# Condicionais\n",
    "\n",
    "Os **condicionais** são uma das ferramentas mais fundamentais tanto do programador quanto do advogado. Tivemos um breve contato com essa ferramenta na aula passada, na parte que implementava, de fato, o nosso contrato de compra e venda.\n",
    "\n",
    "Um exemplo diferente e tradicional nas aulas de teoria do direito pode ser útil para compreendermos a relação não só da estrutura dos condicionais no direito, mas também como ela pode ser implementada em Python.\n",
    "\n",
    "Imagine uma regra jurídica do seguinte tipo:\n",
    "\n",
    "<blockquote>\n",
    "\n",
    "**Homicídio simples**\n",
    "\n",
    "Art. 121. Matar alguém:\n",
    "\n",
    "Pena - reclusão, de seis a vinte anos.\n",
    "\n",
    "</blockquote>\n",
    "\n",
    "Podemos representar essa regra através de uma relação do tipo \"se... então...\": se Caio matou alguém, então ele está sujeito à pena de reclusão de seis a vinte anos.\n",
    "\n",
    "Nesse nível de abstração, é fácil ver como traduzir essa relação para código:"
   ]
  },
  {
   "cell_type": "code",
   "execution_count": 21,
   "metadata": {},
   "outputs": [
    {
     "name": "stdout",
     "output_type": "stream",
     "text": [
      "Caio está sujeito à pena de reclusão de seis a vinte anos\n"
     ]
    }
   ],
   "source": [
    "caio_matou_alguem = True\n",
    "\n",
    "if caio_matou_alguem == True:\n",
    "    print(\"Caio está sujeito à pena de reclusão de seis a vinte anos\")"
   ]
  },
  {
   "cell_type": "markdown",
   "metadata": {},
   "source": [
    "<blockquote>\n",
    "    \n",
    "Uma observação importante: até agora, usamos o operador `=` para denotar a atribuição de certos valores a certas variáveis, como acontece na célula acima quando *definimos* que `caio_matou_alguem = True`. O sinal `=`, porém, também é usado, na matemática, por exemplo, para designar uma relação de *igualdade* entre duas coisas. Em Python, sempre que precisamos verificar a igualdade entre duas coisas, precisamos usar um novo sinal: `==`. A duplicação permite preservar o formato com o qual estamos familiarizados, mas leva a algumas confusões e, certamente, vai demorar um pouco até você se acostumar com essa duplicidade.\n",
    "\n",
    "</blockquote>"
   ]
  },
  {
   "cell_type": "markdown",
   "metadata": {},
   "source": [
    "A sintaxe do \"se... então...\" em Python é muito parecida com aquela que usaríamos na nossa linguagem ordinária:\n",
    "\n",
    "<code>if [[condição a ser avaliada]] :</code> <- note o 'dois pontos'<br>\n",
    "<code>    [[instruções avaliadas...]]</code><br>\n",
    "<code>    [[...se a condição for verdadeira...]]</code><br>\n",
    "<code>    [[...ficam dentro de um novo escopo (com tab)]]</code>"
   ]
  },
  {
   "cell_type": "markdown",
   "metadata": {},
   "source": [
    "O que acontece se `caio_matou_alguem` for `False`? Nosso programa não imprime nada e continua o fluxo do que vier abaixo dele. Mas parece importante estabelecer que se Caio não tiver matado alguém, não importa o que ele tiver feito, ele não estará sujeito à pena cominada ao homicídio. O que podemos fazer nesse caso? Podemos expandir a estrutura, criando uma cláusula que abarca qualquer outro estado: podemos adicionar um `else`:"
   ]
  },
  {
   "cell_type": "code",
   "execution_count": 22,
   "metadata": {},
   "outputs": [
    {
     "name": "stdout",
     "output_type": "stream",
     "text": [
      "Caio não é um assassino!\n"
     ]
    }
   ],
   "source": [
    "caio_matou_alguem = False\n",
    "\n",
    "if caio_matou_alguem == True:\n",
    "    print(\"Caio está sujeito à pena de reclusão de seis a vinte anos\")\n",
    "else:\n",
    "    print(\"Caio não é um assassino!\")"
   ]
  },
  {
   "cell_type": "markdown",
   "metadata": {},
   "source": [
    "Repare que, ao contrário da sintaxe usada no `if`, no caso do `else` não precisamos seguir a palavra-chave com uma condição. O Python entende que queremos que o que se segue abaixo do `else` seja executado em *qualquer caso* que não envolva a ativação da condição descrita no `if` que lhe antecede."
   ]
  },
  {
   "cell_type": "markdown",
   "metadata": {},
   "source": [
    "Sabemos, porém, que a regra do art. 121 não é tão simples assim:\n",
    "\n",
    "<blockquote>\n",
    "\n",
    "**Homicídio simples**\n",
    "\n",
    "Art. 121. Matar alguém:\n",
    "\n",
    "Pena - reclusão, de seis a vinte anos.\n",
    "\n",
    "**Homicídio qualificado**\n",
    "\n",
    "§ 2° Se o homicídio é cometido:\n",
    "\n",
    "I - mediante paga ou promessa de recompensa, ou por outro motivo torpe;\n",
    "\n",
    "II - por motivo futil;\n",
    "\n",
    "III - com emprego de veneno, fogo, explosivo, asfixia, tortura ou outro meio insidioso ou cruel, ou de que possa resultar perigo comum;\n",
    "\n",
    "IV - à traição, de emboscada, ou mediante dissimulação ou outro recurso que dificulte ou torne impossivel a defesa do ofendido;\n",
    "\n",
    "V - para assegurar a execução, a ocultação, a impunidade ou vantagem de outro crime:\n",
    "\n",
    "Pena - reclusão, de doze a trinta anos.\n",
    "\n",
    "</blockquote>"
   ]
  },
  {
   "cell_type": "markdown",
   "metadata": {},
   "source": [
    "E se o homicídio tiver sido cometido \"mediante paga ou promessa de recompensa\"? Nesse caso, nosso programa estará dando a informação errada! Precisamos corrigir isso e, para fazê-lo, precisamos introduzir mais uma palavra chave: `elif`.\n",
    "\n",
    "`elif` é uma versão encurtada de \"else if\", ou seja, caso a primeira condição `if` não seja verdadeira, tente essa outra condição, e assim por diante, até chegarmos a um comando direto ou a uma condição `else`."
   ]
  },
  {
   "cell_type": "code",
   "execution_count": 23,
   "metadata": {},
   "outputs": [
    {
     "name": "stdout",
     "output_type": "stream",
     "text": [
      "Caio está sujeito à pena de reclusão de doze a trinta anos\n"
     ]
    }
   ],
   "source": [
    "caio_matou_alguem = True\n",
    "mediante_paga = True\n",
    "\n",
    "if caio_matou_alguem == True and mediante_paga == False:\n",
    "    print(\"Caio está sujeito à pena de reclusão de seis a vinte anos\")\n",
    "elif caio_matou_alguem == True and mediante_paga == True:\n",
    "    print(\"Caio está sujeito à pena de reclusão de doze a trinta anos\")\n",
    "else:\n",
    "    print(\"Caio não é um assassino!\")"
   ]
  },
  {
   "cell_type": "markdown",
   "metadata": {},
   "source": [
    "Podemos adicionar quantas cláusulas `elif` forem necessárias para completar nossa tradução em código do art. 121 do Código Penal, mas precisamos tomar cuidado: perceba que precisamos adicionar uma condição a mais no nosso primeiro `if`. Afinal, para que alguém tenha matado outra pessoa `mediante_paga`, é necessário que ela tenha matado alguém. Assim, precisamos verificar, antes de aplicar a regra do *caput* se as circunstâncias que qualificam o homicídio não estão ausentes.\n",
    "\n",
    "Para fazer isso, criamos uma **expressão** lógica, unindo duas afirmações (`caio_matou_alguem == True`, `mediante_paga == False`) através de um **conectivo**. No caso, o conectivo usado foi o **and**, que retorna verdadeiro caso as duas afirmações sejam verdadeiras e falso em qualquer outra situação. A tabela abaixo resume o funcionamento do conectivo com quaisquer duas proposições ou expressões:"
   ]
  },
  {
   "cell_type": "markdown",
   "metadata": {},
   "source": [
    "![image.png](https://i.imgur.com/9RJMByp.png)\n",
    "\n",
    "<i> A imagem acima apresenta a tabela verdade para duas variáveis ligadas pelo conectivo and (e).\n",
    "    \n",
    "A principal conclusão da tabela é que se temos uam expressão lógica 'P and Q' só é verdade caso tanto P quanto P sejam verdade (True).\n",
    "\n",
    "</i>"
   ]
  },
  {
   "cell_type": "markdown",
   "metadata": {},
   "source": [
    "Existe outro conectivo lógico importante, que também usamos em nossa linguagem ordinária: o conectivo `or`. Também temos uma tabela parecida para demonstrar o seu funcionamento:"
   ]
  },
  {
   "cell_type": "markdown",
   "metadata": {},
   "source": [
    "![image.png](https://i.imgur.com/oIvaCJS.png)\n",
    "\n",
    "<i> A imagem acima apresenta a tabela verdade para duas variáveis ligadas pelo conectivo or (or).\n",
    "    \n",
    "A principal conclusão da tabela é que se temos uma expressão lógica 'P or Q' ela assuma valor verdadeiro caso qualquer uma das duas seja verdade. Ou seja, 'P or Q' é falso se, e apenas se, tanto P quanto Q forem falsas.\n",
    "\n",
    "</i>"
   ]
  },
  {
   "cell_type": "markdown",
   "metadata": {},
   "source": [
    "O conectivo `or` também é bastante importante para o direito:\n",
    "\n",
    "<blockquote>\n",
    "\n",
    "**Tráfico de influência**\n",
    "\n",
    "Art. 332. Solicitar, exigir, cobrar ou obter, para si ou para outrem, vantagem ou promessa de vantagem, a pretexto de influir em ato praticado por funcionário público no exercício da função: pena - reclusão de 2 (dois) a 5 (cinco) anos, e multa.\n",
    "\n",
    "</blockquote>\n",
    "\n",
    "O agente estará sujeito à pena de reclusão de 2 a 5 anos se tiver solicitado, exigido, cobrado ou obtido qualquer vantagem. Basta a realização de uma das condutas para que a cláusula antecedente tenha se cumprido."
   ]
  },
  {
   "cell_type": "code",
   "execution_count": 24,
   "metadata": {},
   "outputs": [
    {
     "name": "stdout",
     "output_type": "stream",
     "text": [
      "O agente está sujeito à pena de reclusão de 2 a 5 anos e multa\n"
     ]
    }
   ],
   "source": [
    "solicitou_vantagem = False\n",
    "exigiu_vantagem = True\n",
    "cobrou_vantagem = False\n",
    "obteve_vantagem = False\n",
    "\n",
    "if solicitou_vantagem == True or exigiu_vantagem == True or cobrou_vantagem == True or obteve_vantagem == True:\n",
    "    print(\"O agente está sujeito à pena de reclusão de 2 a 5 anos e multa\")\n",
    "else:\n",
    "    print(\"O agente não cometeu o crime de tráfico de influência\")"
   ]
  },
  {
   "cell_type": "markdown",
   "metadata": {},
   "source": [
    "Veremos os conectivos lógicos com mais calma em outro momento do curso, mas é importante termos em mente o funcionamento de pelo menos esses dois conectivos mais básicos."
   ]
  },
  {
   "cell_type": "markdown",
   "metadata": {},
   "source": [
    "#### Conectando os pontos\n",
    "\n",
    "Finalmente, é interessante unir os condicionais e as listas.\n",
    "\n",
    "Imagine que um novo site de pirataria de livros acadêmicos tenha inaugurado recentemente. O jurista Paulo Bonavides faz uma consulta para saber se alguma obra dele está nessa lista ou não. Mesmo que a lista tenha milhares de nomes, podemos responder a ele muito rapidamente:"
   ]
  },
  {
   "cell_type": "code",
   "execution_count": 25,
   "metadata": {},
   "outputs": [
    {
     "name": "stdout",
     "output_type": "stream",
     "text": [
      "O autor foi pirateado!\n"
     ]
    }
   ],
   "source": [
    "autores_pirateados = ['Batista, Nilo',\n",
    "'Beccaria, Cesare',\n",
    "'Becker, Alfredo Augusto',\n",
    "'Bedaque, José Roberto dos Santos',\n",
    "'Beltrão, Silvio Romero',\n",
    "'Bercovici, Gilberto',\n",
    "'Bermudes, Sérgio',\n",
    "'Bettiol, Giuseppe',\n",
    "'Bevilaqua, Clovis',\n",
    "'Bielsa, Rafael',\n",
    "'Binenbojm, Gustavo',\n",
    "'Biscaretti di Ruffia, Paolo',\n",
    "'Bitencourt, Cezar Roberto',\n",
    "'Bittar, Carlos Alberto',\n",
    "'Bittencourt, Carlos Alberto Lucio',\n",
    "'Bobbio, Norberto',\n",
    "'Bonavides, Paulo',\n",
    "'Bondioli, Luis Guilherme Aidar',\n",
    "'Bonnard, Roger',\n",
    "'Bonumá, João',\n",
    "'Borges, José Souto Maior',\n",
    "'Borghi, Fátima Aparecida de Souza']\n",
    "\n",
    "#repare que temos que usar a mesma notação do que a lista\n",
    "consultante = \"Bonavides, Paulo\"\n",
    "\n",
    "if consultante in autores_pirateados:\n",
    "    print(\"O autor foi pirateado!\")\n",
    "else:\n",
    "    print(\"O autor não foi pirateado!\")"
   ]
  },
  {
   "cell_type": "markdown",
   "metadata": {},
   "source": [
    "<a id=resumo></a>\n",
    "\n",
    "# Resumo\n",
    "\n",
    "A presente apostila teve como objetivo revisar e solidificar as seguintes ideias:\n",
    "\n",
    "#### Listas\n",
    "\n",
    "* Podemos guardar nossos dados em *estruturas* específicas dentro do Python. Duas dessas estruturas são as **listas** e as **tuplas**.\n",
    "* As **listas** permitem o acesso a cada um de seus itens separados através do **índice** e de subconjuntos desses itens através dos **recortes** ou **slices**.\n",
    "* Podemos usar essas duas estratégias de acesso para adicionar ou remover itens da lista e fazer algumas operações com elas, como a soma.\n",
    "* Finalmente, podemos checar se um item específico consta de uma lista.\n",
    "\n",
    "#### Condicionais\n",
    "\n",
    "* Assim como no Direito, na programação também podemos usar condicionais do tipo \"se... então...\" para fazer uma série de coisas interessantes.\n",
    "* Os condicionais permitem que certa parte do código rode caso um conjunto de condições seja verdadeira e uma parte diferente rode caso as condições sejam falsas.\n",
    "* Podemos encadear uma série de `if`s e `elif`s para representar ideias bastante complexas, especialmente a partir da conexão de afirmações através de conectivos lógicos como `or` e `and`."
   ]
  },
  {
   "cell_type": "markdown",
   "metadata": {},
   "source": [
    "<a id=exercicio></a>\n",
    "\n",
    "# Exercícios\n",
    "\n",
    "Várias regras têm estruturas semelhantes ao art. 332 do Código Penal, prevendo um conjunto de condutas diferentes que podem servir como pressuposto fático para a ativação de suas consequências jurídicas. Podemos usar as **listas** para facilitar a implementação desse tipo de regra no Direito.\n",
    "\n",
    "Vamos retomar o exemplo do art. 332 para ilustrar nosso ponto:\n",
    "\n",
    "<blockquote>\n",
    "\n",
    "**Tráfico de influência**\n",
    "\n",
    "Art. 332. Solicitar, exigir, cobrar ou obter, para si ou para outrem, vantagem ou promessa de vantagem, a pretexto de influir em ato praticado por funcionário público no exercício da função: pena - reclusão de 2 (dois) a 5 (cinco) anos, e multa.\n",
    "\n",
    "</blockquote>\n",
    "\n",
    "Em vez de criar o pouco elegante conjunto de afirmações conectadas por `or` que fizemos mais acima, podemos usar listas:"
   ]
  },
  {
   "cell_type": "code",
   "execution_count": 26,
   "metadata": {},
   "outputs": [
    {
     "name": "stdout",
     "output_type": "stream",
     "text": [
      "O agente está sujeito à pena de reclusão de 2 a 5 anos\n"
     ]
    }
   ],
   "source": [
    "condutas_trafico_influencia = [\"solicitar\", \"exigir\", \"cobrar\", \"obter\"]\n",
    "conduta_agente = \"exigir\"\n",
    "\n",
    "if conduta_agente in condutas_trafico_influencia:\n",
    "    print(\"O agente está sujeito à pena de reclusão de 2 a 5 anos\")\n",
    "else:\n",
    "    print(\"A conduta descrita não está tipificada no art. 332\")"
   ]
  },
  {
   "cell_type": "markdown",
   "metadata": {},
   "source": [
    "Faça a mesma coisa para o crime abaixo:\n",
    "\n",
    "<blockquote>\n",
    "\n",
    "**Petrechos de falsificação**\n",
    "\n",
    "Art. 294. Fabricar, adquirir, fornecer, possuir ou guardar objeto especialmente destinado à falsificação de qualquer dos papéis referidos no artigo anterior:\n",
    "\n",
    "Pena - reclusão, de um a três anos, e multa.\n",
    "\n",
    "</blockquote>\n",
    "\n",
    "* As condutas típicas definidas pelo artigo são: \"fabricar\", \"adquirir\", \"fornecer\", \"possuir\" e \"guardar\". Guarde essas condutas como `strings` em uma lista chamada `condutas_petrechos`.\n",
    "* Caso o agente tenha cometido qualquer uma das condutas mencionadas acima (a variável que contém a conduta do agente deve se chamar `conduta_agente`), seu programa deve imprimir \"O agente está sujeito à pena de reclusão de um a três anos e multa\".\n",
    "* Caso o agente não tenha cometido nenhuma das condutas, o programa deve imprimir \"A conduta descrita não está tipificada no art. 294\".\n",
    "\n",
    "* **ATENÇÃO:** a correção pressupõe a reprodução EXATA dos textos acima em seu código.\n",
    "\n",
    "Implemente sua resposta na célula abaixo:"
   ]
  },
  {
   "cell_type": "code",
   "execution_count": null,
   "metadata": {},
   "outputs": [],
   "source": [
    "import sys #ignore e não delete\n",
    "org_stdout = sys.stdout #ignore e não delete\n",
    "f = open(\"exercicio.txt\", \"w\") #ignore e não delete\n",
    "sys.stdout = f #ignore e não delete\n",
    "\n",
    "#comece seu código aqui!\n",
    "\n"
   ]
  },
  {
   "cell_type": "markdown",
   "metadata": {},
   "source": [
    "**Executa a célula abaixo após a anterior e antes de corrigir o exercício**"
   ]
  },
  {
   "cell_type": "code",
   "execution_count": null,
   "metadata": {},
   "outputs": [],
   "source": [
    "f.close() #ignore e não delete\n",
    "sys.stdout = org_stdout #ignore e não delete"
   ]
  },
  {
   "cell_type": "code",
   "execution_count": null,
   "metadata": {},
   "outputs": [],
   "source": [
    "#rode esta célula para a correção!\n",
    "from correcoes import aula3_ex2\n",
    "aula3_ex2(vars())"
   ]
  },
  {
   "cell_type": "markdown",
   "metadata": {},
   "source": [
    "#### Exercício extra\n",
    "\n",
    "##### Parte 1\n",
    "\n",
    "Caio e Tício querem fornecer um serviço de confeccção de petições iniciais. Para tal, juntaram o nome de 7 clientes potenciais: Bianca, Igor, Juliana, Ana Luiza, Marcelo, Larissa e Julia. Faça uma lista chamada `clientes_potenciais` com os nomes prospectados."
   ]
  },
  {
   "cell_type": "code",
   "execution_count": null,
   "metadata": {},
   "outputs": [],
   "source": [
    "#seu código aqui\n"
   ]
  },
  {
   "cell_type": "code",
   "execution_count": null,
   "metadata": {},
   "outputs": [],
   "source": [
    "from correcoes import exercicio_extra2_1\n",
    "exercicio_extra2_1(clientes_potenciais)"
   ]
  },
  {
   "cell_type": "markdown",
   "metadata": {},
   "source": [
    "##### Parte 2\n",
    "\n",
    "Ao fazer uma pesquisa de opinião com os clientes potenciais, Caio e Tício descobriram que Marcelo e Bianca não têm interesse no serviço. Retire os nomes das pessoas não interessadas da lista de clientes_potenciais."
   ]
  },
  {
   "cell_type": "code",
   "execution_count": null,
   "metadata": {},
   "outputs": [],
   "source": [
    "#seu código aqui\n"
   ]
  },
  {
   "cell_type": "code",
   "execution_count": null,
   "metadata": {},
   "outputs": [],
   "source": [
    "from correcoes import exercicio_extra2_2\n",
    "exercicio_extra2_2(clientes_potenciais)"
   ]
  }
 ],
 "metadata": {
  "kernelspec": {
   "display_name": "Python 3",
   "language": "python",
   "name": "python3"
  },
  "language_info": {
   "codemirror_mode": {
    "name": "ipython",
    "version": 3
   },
   "file_extension": ".py",
   "mimetype": "text/x-python",
   "name": "python",
   "nbconvert_exporter": "python",
   "pygments_lexer": "ipython3",
   "version": "3.12.3"
  },
  "toc": {
   "base_numbering": 1,
   "nav_menu": {
    "height": "12px",
    "width": "168px"
   },
   "number_sections": false,
   "sideBar": true,
   "skip_h1_title": false,
   "title_cell": "Índice",
   "title_sidebar": "Conteúdo",
   "toc_cell": false,
   "toc_position": {
    "height": "calc(100% - 180px)",
    "left": "10px",
    "top": "150px",
    "width": "378px"
   },
   "toc_section_display": true,
   "toc_window_display": false
  }
 },
 "nbformat": 4,
 "nbformat_minor": 2
}

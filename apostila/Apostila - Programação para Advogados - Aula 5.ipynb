{
 "cells": [
  {
   "cell_type": "markdown",
   "metadata": {},
   "source": [
    "# Programação para advogados\n",
    "\n",
    "Graduação em direito FGV Direito Rio"
   ]
  },
  {
   "cell_type": "markdown",
   "metadata": {},
   "source": [
    "# Índice\n",
    "\n",
    "#### - [Aula 5 - Iteração e range](#aula5)\n",
    "\n",
    "#### - [While loop](#while)\n",
    "\n",
    "#### - [For loop](#for)\n",
    "\n",
    "#### - [Range](#range)\n",
    "\n",
    "#### - [Resumo](#resumo)\n",
    "\n",
    "#### - [Exercícios](#exercicio)"
   ]
  },
  {
   "cell_type": "markdown",
   "metadata": {},
   "source": [
    "<a id=aula5></a>\n",
    "# Aula 5 - Iteração e range\n",
    "\n",
    "Programamos para evitar a repetição. Se tivermos que escrever mil linhas de código para fazermos alguma operação sobre os processos de mil clientes, estamos simplesmente transpondo nosso modo de trabalho analógico para o mundo digital. Iterações nos ajudam a fugir dessa armadilha.\n"
   ]
  },
  {
   "cell_type": "markdown",
   "metadata": {},
   "source": [
    "**Duas formas de iteração**\n",
    "\n",
    "Iteração é um mecanismo da linguagem de Python que permite a repetição de códigos de forma automática. A iteração, também conhecida como *looping*, pode ser feita de duas maneiras. Primeiro, pode-se construir um *indefinite loop* com um **while** statement. A outra opção é um *definite loop* feito com um **for** statement. Esses dois tipos de *loop* são usados para obter resultados diferentes e para maximizar a eficiência do seu código. Ambos serão analisados no curso dessa aula. "
   ]
  },
  {
   "cell_type": "markdown",
   "metadata": {},
   "source": [
    "<a id=while></a>\n",
    "## **While loop**\n",
    "\n",
    "O while loop é utilizado para repetir partes de código até que uma condição qualquer seja obtida. No momento em que o resultado daquela operação é \"False\", o loop para de exectuar. Veja o seguinte exemplo:"
   ]
  },
  {
   "cell_type": "code",
   "execution_count": 1,
   "metadata": {
    "scrolled": true
   },
   "outputs": [
    {
     "name": "stdout",
     "output_type": "stream",
     "text": [
      "O valor devido é R$ 17\n",
      "O valor devido é R$ 11\n",
      "O valor devido é R$ 7\n",
      "O valor devido é R$ 11\n",
      "O valor devido é R$ 4\n",
      "O valor devido é R$ 18\n",
      "O valor devido é R$ 6\n",
      "O valor devido é R$ 0\n",
      "O valor devido é R$ 15\n",
      "O valor devido é R$ 17\n",
      "O valor devido é R$ 8\n",
      "O valor devido é R$ 15\n",
      "O valor devido é R$ 2\n",
      "O valor devido é R$ 18\n",
      "O valor devido é R$ 4\n",
      "O valor devido é R$ 15\n",
      "Chegamos ao fim do loop\n"
     ]
    }
   ],
   "source": [
    "from numpy.random import randint #ignore essa linha!\n",
    "\n",
    "#gera um número aleatório entre 0 e 20 para funcionar como preço de um contrato hipotético\n",
    "preco = randint(0, 21)\n",
    "\n",
    "while preco != 20:\n",
    "    print (\"O valor devido é R$\", preco)\n",
    "    preco = randint(0, 21)\n",
    "    if preco == 20:\n",
    "        print(\"Chegamos ao fim do loop\")"
   ]
  },
  {
   "cell_type": "markdown",
   "metadata": {},
   "source": [
    "Acima, não sabemos, necessariamente, *quantas vezes* o código dentro do while loop vai rodar. Afinal, cada vez que o código roda, é gerado um novo número aleatório entre 0 e 20. Enquanto esse número não for igual a 20, o código continuará rodando. No momento em que o preço for exatamente 20, chegamos ao fim do loop. Isso pode acontecer depois de algumas iterações ou depois de um número potencialmente imenso de iterações. Não temos como saber de antemão. Por isso, o loop é *indefinido*."
   ]
  },
  {
   "cell_type": "markdown",
   "metadata": {},
   "source": [
    "O *while loop* tem três etapas: \n",
    "\n",
    "    1. Avaliar o resultado da condição (True ou False).\n",
    "\n",
    "    2. Se o resultado é False, a execução do loop termina e prossegue para a próxima linha de código.\n",
    "\n",
    "    3. Se o resultado é True, o loop é executado e depois volta para a etapa 1."
   ]
  },
  {
   "cell_type": "markdown",
   "metadata": {},
   "source": [
    "Essa estrutura pode gerar problemas. Imagine, por exemplo, que a condição especificada na primeira etapa nunca se realize: nesse caso, teremos o que chamamos de um **loop infinito**, uma das maiores causas de bugs em programas de computador. Pense no caso abaixo:"
   ]
  },
  {
   "cell_type": "code",
   "execution_count": null,
   "metadata": {},
   "outputs": [],
   "source": [
    "#NÃO RODE ESSA CÉLULA! Ela é um loop infinito\n",
    "preco = 5\n",
    "while preco > 0: #repare que essa condição é sempre verdadeira! O código não para de rodar nunca.\n",
    "    preco += 1 #soma 1 real ao preco do livro\n",
    "    print (\"O valor devido é R$\", preco)"
   ]
  },
  {
   "cell_type": "markdown",
   "metadata": {},
   "source": [
    "Nesses casos, o computador segue processando a instrução infinitas vezes. Precisamos tomar cuidado com while loops!"
   ]
  },
  {
   "cell_type": "markdown",
   "metadata": {},
   "source": [
    "#### Usando um while loop no contexto legal\n",
    "\n",
    "Imagine que você esteja automatizando um sistema de progressão de regimes para uma vara de execução penal.\n",
    "\n",
    "A regra básica está inscrita no art. 112 da Lei de Execução Penal (Lei 7.210/84):\n",
    "\n",
    "<blockquote>\n",
    "    \n",
    "Art. 112. A pena privativa de liberdade será executada em forma progressiva com a transferência para regime menos rigoroso, a ser determinada pelo juiz, quando o preso tiver cumprido ao menos um sexto da pena no regime anterior e ostentar bom comportamento carcerário, comprovado pelo diretor do estabelecimento, respeitadas as normas que vedam a progressão. \n",
    "\n",
    "</blockquote>\n",
    "\n",
    "Precisamos saber três informações a respeito do processo para dizer se o preso é elegível ou não à progressão de regime:\n",
    "\n",
    "1. a pena a qual a pessoa foi condenada.\n",
    "\n",
    "2. a quantidade de tempo total que a pessoa ficou presa.\n",
    "\n",
    "3. a quantidade de tempo de pena cumprida no regime atual.\n",
    "\n",
    "Usando essas duas variáveis, podemos descobrir iterativamente se a pessoa é elegível ou não para a progressão de pena (para simplificar, vamos fazer todas as contas em anos):"
   ]
  },
  {
   "cell_type": "code",
   "execution_count": 4,
   "metadata": {
    "scrolled": true
   },
   "outputs": [
    {
     "name": "stdout",
     "output_type": "stream",
     "text": [
      "Um ano de cárcere no regime atual\n",
      "Quantidade de anos de pena no regime atual =  1\n",
      "Um ano de cárcere no regime atual\n",
      "Quantidade de anos de pena no regime atual =  2\n",
      "Um ano de cárcere no regime atual\n",
      "Quantidade de anos de pena no regime atual =  3\n",
      "Ano elegível para progressão de regime\n",
      "Quantidade de anos de pena cumpridos até aqui em qualquer regime =  3\n",
      "Um ano de cárcere no regime atual\n",
      "Quantidade de anos de pena no regime atual =  1\n",
      "Um ano de cárcere no regime atual\n",
      "Quantidade de anos de pena no regime atual =  2\n",
      "Um ano de cárcere no regime atual\n",
      "Quantidade de anos de pena no regime atual =  3\n",
      "Ano elegível para progressão de regime\n",
      "Quantidade de anos de pena cumpridos até aqui em qualquer regime =  6\n",
      "Um ano de cárcere no regime atual\n",
      "Quantidade de anos de pena no regime atual =  1\n",
      "Um ano de cárcere no regime atual\n",
      "Quantidade de anos de pena no regime atual =  2\n",
      "Um ano de cárcere no regime atual\n",
      "Quantidade de anos de pena no regime atual =  3\n",
      "Ano elegível para progressão de regime\n",
      "Quantidade de anos de pena cumpridos até aqui em qualquer regime =  9\n",
      "Um ano de cárcere no regime atual\n",
      "Quantidade de anos de pena no regime atual =  1\n",
      "Um ano de cárcere no regime atual\n",
      "Quantidade de anos de pena no regime atual =  2\n",
      "Um ano de cárcere no regime atual\n",
      "Quantidade de anos de pena no regime atual =  3\n",
      "Ano elegível para progressão de regime\n",
      "Quantidade de anos de pena cumpridos até aqui em qualquer regime =  12\n",
      "Um ano de cárcere no regime atual\n",
      "Quantidade de anos de pena no regime atual =  1\n",
      "Um ano de cárcere no regime atual\n",
      "Quantidade de anos de pena no regime atual =  2\n",
      "Um ano de cárcere no regime atual\n",
      "Quantidade de anos de pena no regime atual =  3\n",
      "Ano elegível para progressão de regime\n",
      "Quantidade de anos de pena cumpridos até aqui em qualquer regime =  15\n",
      "Pena cumprida integralmente\n"
     ]
    }
   ],
   "source": [
    "pena_total = 15\n",
    "pena_regime_atual = 0\n",
    "pena_cumprida_geral = 0\n",
    "\n",
    "while pena_cumprida_geral < pena_total:\n",
    "    while pena_regime_atual / pena_total <= 1 / 6:\n",
    "        print(\"Um ano de cárcere no regime atual\")\n",
    "        pena_regime_atual += 1\n",
    "        print(\"Quantidade de anos de pena no regime atual = \", pena_regime_atual)\n",
    "    print(\"Ano elegível para progressão de regime\")\n",
    "    pena_cumprida_geral += pena_regime_atual\n",
    "    pena_regime_atual = 0\n",
    "    print(\"Quantidade de anos de pena cumpridos até aqui em qualquer regime = \", pena_cumprida_geral)\n",
    "\n",
    "print(\"Pena cumprida integralmente\")"
   ]
  },
  {
   "cell_type": "markdown",
   "metadata": {},
   "source": [
    "<a id=for></a>\n",
    "# **For loop**\n",
    "\n",
    "Diferentemente do *while loop*, o *for loop* é executado em um conjunto de itens definidos. Por isso, ele é conhecido como um *definite loop*. Esse conjunto de itens pode ser de itens em uma lista, chaves e valores em um dicionário, linhas de um arquivo, lista de valores ou outros iteráveis. Os *for loops* são utilizados para repetir a mesma seção de código com diferentes valores."
   ]
  },
  {
   "cell_type": "markdown",
   "metadata": {},
   "source": [
    "<blockquote>\n",
    "    \n",
    "OBS.: *iteráveis* é um termo que designa uma série de objetos diferentes dentro do Python. Em geral, iteráveis se comportam como listas e podemos pensar neles dessa forma. Na verdade, listas são uma instância específica de iteráveis. Para saber mais, um bom começo está [nessa resposta do StackOverflow](https://stackoverflow.com/questions/9884132/what-exactly-are-iterator-iterable-and-iteration).\n",
    "    \n",
    "</blockquote>"
   ]
  },
  {
   "cell_type": "markdown",
   "metadata": {},
   "source": [
    "Para ilustrar, vamos relembrar a nossa lista de clientes da aula 3:"
   ]
  },
  {
   "cell_type": "code",
   "execution_count": 5,
   "metadata": {},
   "outputs": [],
   "source": [
    "lista_clientes = ['Maria Berenice Dias', 'Jorge Miranda', 'Pontes de Miranda',\n",
    "                  'Ada Pellegrini', 'José Afonso da Silva', 'Aliomar Baleeiro',\n",
    "                  'Guilherme Nucci', 'Nelson Hungria', 'Sobral Pinto', 'Evandro Lins e Silva']"
   ]
  },
  {
   "cell_type": "markdown",
   "metadata": {},
   "source": [
    "Com um *for loop*, podemos fazer um cartão de agradecimento personalizado para cada um dos nossos clientes:"
   ]
  },
  {
   "cell_type": "code",
   "execution_count": 6,
   "metadata": {},
   "outputs": [
    {
     "name": "stdout",
     "output_type": "stream",
     "text": [
      "Prezado Maria Berenice Dias, muito obrigado por confiar em nossos serviços!\n",
      "Prezado Jorge Miranda, muito obrigado por confiar em nossos serviços!\n",
      "Prezado Pontes de Miranda, muito obrigado por confiar em nossos serviços!\n",
      "Prezado Ada Pellegrini, muito obrigado por confiar em nossos serviços!\n",
      "Prezado José Afonso da Silva, muito obrigado por confiar em nossos serviços!\n",
      "Prezado Aliomar Baleeiro, muito obrigado por confiar em nossos serviços!\n",
      "Prezado Guilherme Nucci, muito obrigado por confiar em nossos serviços!\n",
      "Prezado Nelson Hungria, muito obrigado por confiar em nossos serviços!\n",
      "Prezado Sobral Pinto, muito obrigado por confiar em nossos serviços!\n",
      "Prezado Evandro Lins e Silva, muito obrigado por confiar em nossos serviços!\n"
     ]
    }
   ],
   "source": [
    "for cliente in lista_clientes:\n",
    "    print(\"Prezado \" + cliente + \", muito obrigado por confiar em nossos serviços!\")"
   ]
  },
  {
   "cell_type": "markdown",
   "metadata": {},
   "source": [
    "O *for loop* acima foi executado dez vezes, haja vista que `lista_clientes` contém dez nomes. Por isso, trata-se de uma iteração definida: sabemos exatamente quantas vezes o código será executado de antemão. A sintaxe do *for loop* é a seguinte: \n",
    "\n",
    "<code> for item in lista: </code><br>\n",
    "<code>    [[coisas que devem ser feitas com cada item]]</code>\n",
    "\n",
    "O item representa cada um dos elementos da lista, ou seja, o loop vai ser executado para cada item no iterável declarado após o `in`. Note que podemos dar qualquer nome ao `item`. Assim, se quisermos rodar `lista_clientes` com `pessoas` no lugar de `clientes`, não enfrentamos problema algum:\n"
   ]
  },
  {
   "cell_type": "code",
   "execution_count": 7,
   "metadata": {},
   "outputs": [
    {
     "name": "stdout",
     "output_type": "stream",
     "text": [
      "Prezado Maria Berenice Dias, muito obrigado por confiar em nossos serviços!\n",
      "Prezado Jorge Miranda, muito obrigado por confiar em nossos serviços!\n",
      "Prezado Pontes de Miranda, muito obrigado por confiar em nossos serviços!\n",
      "Prezado Ada Pellegrini, muito obrigado por confiar em nossos serviços!\n",
      "Prezado José Afonso da Silva, muito obrigado por confiar em nossos serviços!\n",
      "Prezado Aliomar Baleeiro, muito obrigado por confiar em nossos serviços!\n",
      "Prezado Guilherme Nucci, muito obrigado por confiar em nossos serviços!\n",
      "Prezado Nelson Hungria, muito obrigado por confiar em nossos serviços!\n",
      "Prezado Sobral Pinto, muito obrigado por confiar em nossos serviços!\n",
      "Prezado Evandro Lins e Silva, muito obrigado por confiar em nossos serviços!\n"
     ]
    }
   ],
   "source": [
    "for pessoa in lista_clientes:\n",
    "    print(\"Prezado \" + pessoa + \", muito obrigado por confiar em nossos serviços!\")"
   ]
  },
  {
   "cell_type": "markdown",
   "metadata": {},
   "source": [
    "Quando iteramos sobre um dicionário, precisamos ter algumas precauções. Vamos usar `dict_processo`, um dicionário que criamos a título de exemplo na última aula:"
   ]
  },
  {
   "cell_type": "code",
   "execution_count": 8,
   "metadata": {},
   "outputs": [],
   "source": [
    "dict_processo = dict(num_processo = '2003.714034', orgao_julgador = \"80ª Vara Cível\",\n",
    "                     data_protocolo = \"2003-08-19\", fase_atual = \"aguardando sentença\")"
   ]
  },
  {
   "cell_type": "markdown",
   "metadata": {},
   "source": [
    "Se percorrermos `dict_processo` em um for loop padrão, estaremos percorrendo **as chaves** do dicionário:"
   ]
  },
  {
   "cell_type": "code",
   "execution_count": 9,
   "metadata": {},
   "outputs": [
    {
     "name": "stdout",
     "output_type": "stream",
     "text": [
      "num_processo\n",
      "orgao_julgador\n",
      "data_protocolo\n",
      "fase_atual\n"
     ]
    }
   ],
   "source": [
    "for item in dict_processo:\n",
    "    print(item)"
   ]
  },
  {
   "cell_type": "markdown",
   "metadata": {},
   "source": [
    "Muitas vezes, não é isso que queremos. Ás vezes, precisamos trabalhar iterativamente tanto com a chave quanto com o valor guardado em um dicionário. Para isso, precisamos declarar dois tipos de itens depois do for (geralmente designados por `key` e `value`, para denotar o fato de que estamos percorrendo primeiro as chaves e depois os valores de um `dict`) e adicionar o método `.items()` à nossa chamada do dicionário:"
   ]
  },
  {
   "cell_type": "code",
   "execution_count": 10,
   "metadata": {},
   "outputs": [
    {
     "name": "stdout",
     "output_type": "stream",
     "text": [
      "num_processo  2003.714034\n",
      "orgao_julgador  80ª Vara Cível\n",
      "data_protocolo  2003-08-19\n",
      "fase_atual  aguardando sentença\n"
     ]
    }
   ],
   "source": [
    "for key, value in dict_processo.items():\n",
    "    print(key + \"  \" + value)"
   ]
  },
  {
   "cell_type": "markdown",
   "metadata": {},
   "source": [
    "Esse ponto pode parecer confuso e arbitrário agora, mas precisamos ter essa sintaxe dominada para trabalhar de maneira efetiva com dicionários em Python."
   ]
  },
  {
   "cell_type": "markdown",
   "metadata": {},
   "source": [
    "**Range**\n",
    "\n",
    "A **range** é uma função *built-in* muito utilizada em loops. Ela retorna uma sequência de números. Para colocá-los em uma lista é necessário utilizar a função list():"
   ]
  },
  {
   "cell_type": "code",
   "execution_count": 11,
   "metadata": {},
   "outputs": [
    {
     "data": {
      "text/plain": [
       "[0, 1, 2, 3, 4]"
      ]
     },
     "execution_count": 11,
     "metadata": {},
     "output_type": "execute_result"
    }
   ],
   "source": [
    "list(range(5)) #a lista vai do 0 até o 5, mas não inclui o último número"
   ]
  },
  {
   "cell_type": "markdown",
   "metadata": {},
   "source": [
    "A função range() pode ser usada indicando apenas onde acaba a sequência - range(*stop*). Mas é possível também indicar quando ela começa - range(*start, stop*). O *stop* é obrigatório para usar a função range(), já o *start* é facultativo e, se não for indicado, o Python entende que a lista irá começar do 0."
   ]
  },
  {
   "cell_type": "code",
   "execution_count": 12,
   "metadata": {},
   "outputs": [
    {
     "data": {
      "text/plain": [
       "[4, 5, 6, 7, 8, 9, 10, 11]"
      ]
     },
     "execution_count": 12,
     "metadata": {},
     "output_type": "execute_result"
    }
   ],
   "source": [
    "list(range(4,12)) # a lista vai do 4 até o 12. É possível indicar em qual número a sequência começa e até qual número que ela vai\n"
   ]
  },
  {
   "cell_type": "markdown",
   "metadata": {},
   "source": [
    "A função range() também permite que você faça uma lista com intervalos usando a sintaxe `range(start, stop, step)`. Veja o exemplo abaixo. Suponha que você queira uma lista de números começando do 5 até o número 50 com apenas múltiplos de 5."
   ]
  },
  {
   "cell_type": "code",
   "execution_count": 13,
   "metadata": {},
   "outputs": [
    {
     "data": {
      "text/plain": [
       "[5, 10, 15, 20, 25, 30, 35, 40, 45, 50]"
      ]
     },
     "execution_count": 13,
     "metadata": {},
     "output_type": "execute_result"
    }
   ],
   "source": [
    "list(range(5,51,5)) # para que fosse incluído o número 50, foi necessário colocar 51 como stop"
   ]
  },
  {
   "cell_type": "markdown",
   "metadata": {},
   "source": [
    "Nos loops, a função range() é frequentemente utilizada em conjunto com a função len(). Veja o exemplo abaixo:"
   ]
  },
  {
   "cell_type": "code",
   "execution_count": 14,
   "metadata": {},
   "outputs": [
    {
     "name": "stdout",
     "output_type": "stream",
     "text": [
      "Prezado Maria Berenice Dias, muito obrigado por confiar em nossos serviços!\n",
      "Prezado Jorge Miranda, muito obrigado por confiar em nossos serviços!\n",
      "Prezado Pontes de Miranda, muito obrigado por confiar em nossos serviços!\n",
      "Prezado Ada Pellegrini, muito obrigado por confiar em nossos serviços!\n",
      "Prezado José Afonso da Silva, muito obrigado por confiar em nossos serviços!\n",
      "Prezado Aliomar Baleeiro, muito obrigado por confiar em nossos serviços!\n",
      "Prezado Guilherme Nucci, muito obrigado por confiar em nossos serviços!\n",
      "Prezado Nelson Hungria, muito obrigado por confiar em nossos serviços!\n",
      "Prezado Sobral Pinto, muito obrigado por confiar em nossos serviços!\n",
      "Prezado Evandro Lins e Silva, muito obrigado por confiar em nossos serviços!\n"
     ]
    }
   ],
   "source": [
    "for i in range(len(lista_clientes)):\n",
    "    print(\"Prezado \" + lista_clientes[i] + \", muito obrigado por confiar em nossos serviços!\")"
   ]
  },
  {
   "cell_type": "markdown",
   "metadata": {},
   "source": [
    "Por que usar essa sintaxe mais complexa do que simplesmente percorrer cada item de `lista_clientes`? Imagine que queremos retirar itens de `lista_clientes` dentro do nosso *loop*. Nesse caso, a cada iteração, o número de itens na lista mudaria. O exemplo abaixo mostra como funcionaria isso com uma lista chamada `clientes_a_agradecer`."
   ]
  },
  {
   "cell_type": "code",
   "execution_count": 15,
   "metadata": {},
   "outputs": [
    {
     "name": "stdout",
     "output_type": "stream",
     "text": [
      "Prezado Maria Berenice Dias, muito obrigado por confiar em nossos serviços!\n",
      "['Jorge Miranda', 'Pontes de Miranda', 'Ada Pellegrini', 'José Afonso da Silva', 'Aliomar Baleeiro', 'Guilherme Nucci', 'Nelson Hungria', 'Sobral Pinto', 'Evandro Lins e Silva']\n",
      "Prezado Pontes de Miranda, muito obrigado por confiar em nossos serviços!\n",
      "['Jorge Miranda', 'Ada Pellegrini', 'José Afonso da Silva', 'Aliomar Baleeiro', 'Guilherme Nucci', 'Nelson Hungria', 'Sobral Pinto', 'Evandro Lins e Silva']\n",
      "Prezado José Afonso da Silva, muito obrigado por confiar em nossos serviços!\n",
      "['Jorge Miranda', 'Ada Pellegrini', 'Aliomar Baleeiro', 'Guilherme Nucci', 'Nelson Hungria', 'Sobral Pinto', 'Evandro Lins e Silva']\n",
      "Prezado Guilherme Nucci, muito obrigado por confiar em nossos serviços!\n",
      "['Jorge Miranda', 'Ada Pellegrini', 'Aliomar Baleeiro', 'Nelson Hungria', 'Sobral Pinto', 'Evandro Lins e Silva']\n",
      "Prezado Sobral Pinto, muito obrigado por confiar em nossos serviços!\n",
      "['Jorge Miranda', 'Ada Pellegrini', 'Aliomar Baleeiro', 'Nelson Hungria', 'Evandro Lins e Silva']\n"
     ]
    }
   ],
   "source": [
    "clientes_a_agradecer = ['Maria Berenice Dias', 'Jorge Miranda', 'Pontes de Miranda',\n",
    "                  'Ada Pellegrini', 'José Afonso da Silva', 'Aliomar Baleeiro',\n",
    "                  'Guilherme Nucci', 'Nelson Hungria', 'Sobral Pinto', 'Evandro Lins e Silva']\n",
    "\n",
    "for cliente in clientes_a_agradecer:\n",
    "    print(\"Prezado \" + cliente + \", muito obrigado por confiar em nossos serviços!\")\n",
    "    clientes_a_agradecer.remove(cliente)\n",
    "    print(clientes_a_agradecer)"
   ]
  },
  {
   "cell_type": "markdown",
   "metadata": {},
   "source": [
    "Perceba que os agradecimentos foram feitos ora sim, ora não. Esse não é o comportamento desejado! Como sabemos quantos itens estão contidos em `clientes_a_agradecer`, podemos usar esse conhecimento para garantir que o código rode uma vez para cada item da lista. Só temos que ter cuidado: o índice é atualizado a cada vez que fazemos alguma alteração. Assim, podemos sempre utilizar o primeiro item, por exemplo."
   ]
  },
  {
   "cell_type": "code",
   "execution_count": 16,
   "metadata": {},
   "outputs": [
    {
     "name": "stdout",
     "output_type": "stream",
     "text": [
      "Prezado Maria Berenice Dias, muito obrigado por confiar em nossos serviços!\n",
      "['Jorge Miranda', 'Pontes de Miranda', 'Ada Pellegrini', 'José Afonso da Silva', 'Aliomar Baleeiro', 'Guilherme Nucci', 'Nelson Hungria', 'Sobral Pinto', 'Evandro Lins e Silva']\n",
      "Prezado Jorge Miranda, muito obrigado por confiar em nossos serviços!\n",
      "['Pontes de Miranda', 'Ada Pellegrini', 'José Afonso da Silva', 'Aliomar Baleeiro', 'Guilherme Nucci', 'Nelson Hungria', 'Sobral Pinto', 'Evandro Lins e Silva']\n",
      "Prezado Pontes de Miranda, muito obrigado por confiar em nossos serviços!\n",
      "['Ada Pellegrini', 'José Afonso da Silva', 'Aliomar Baleeiro', 'Guilherme Nucci', 'Nelson Hungria', 'Sobral Pinto', 'Evandro Lins e Silva']\n",
      "Prezado Ada Pellegrini, muito obrigado por confiar em nossos serviços!\n",
      "['José Afonso da Silva', 'Aliomar Baleeiro', 'Guilherme Nucci', 'Nelson Hungria', 'Sobral Pinto', 'Evandro Lins e Silva']\n",
      "Prezado José Afonso da Silva, muito obrigado por confiar em nossos serviços!\n",
      "['Aliomar Baleeiro', 'Guilherme Nucci', 'Nelson Hungria', 'Sobral Pinto', 'Evandro Lins e Silva']\n",
      "Prezado Aliomar Baleeiro, muito obrigado por confiar em nossos serviços!\n",
      "['Guilherme Nucci', 'Nelson Hungria', 'Sobral Pinto', 'Evandro Lins e Silva']\n",
      "Prezado Guilherme Nucci, muito obrigado por confiar em nossos serviços!\n",
      "['Nelson Hungria', 'Sobral Pinto', 'Evandro Lins e Silva']\n",
      "Prezado Nelson Hungria, muito obrigado por confiar em nossos serviços!\n",
      "['Sobral Pinto', 'Evandro Lins e Silva']\n",
      "Prezado Sobral Pinto, muito obrigado por confiar em nossos serviços!\n",
      "['Evandro Lins e Silva']\n",
      "Prezado Evandro Lins e Silva, muito obrigado por confiar em nossos serviços!\n",
      "[]\n"
     ]
    }
   ],
   "source": [
    "clientes_a_agradecer = [\n",
    "    \"Maria Berenice Dias\",\n",
    "    \"Jorge Miranda\",\n",
    "    \"Pontes de Miranda\",\n",
    "    \"Ada Pellegrini\",\n",
    "    \"José Afonso da Silva\",\n",
    "    \"Aliomar Baleeiro\",\n",
    "    \"Guilherme Nucci\",\n",
    "    \"Nelson Hungria\",\n",
    "    \"Sobral Pinto\",\n",
    "    \"Evandro Lins e Silva\",\n",
    "]\n",
    "\n",
    "for item in range(len(clientes_a_agradecer)):\n",
    "    print(\n",
    "        \"Prezado \" + clientes_a_agradecer[0] + \", muito obrigado por confiar em nossos serviços!\"\n",
    "    )\n",
    "\n",
    "    clientes_a_agradecer.pop(0)\n",
    "    print(clientes_a_agradecer)"
   ]
  },
  {
   "cell_type": "markdown",
   "metadata": {},
   "source": [
    "Também podemos usar `range()` para fazer algo um número arbitrário de vezes:"
   ]
  },
  {
   "cell_type": "code",
   "execution_count": 17,
   "metadata": {},
   "outputs": [
    {
     "name": "stdout",
     "output_type": "stream",
     "text": [
      "Estou fazendo algo pela 1ª vez\n",
      "Estou fazendo algo pela 2ª vez\n",
      "Estou fazendo algo pela 3ª vez\n",
      "Estou fazendo algo pela 4ª vez\n",
      "Estou fazendo algo pela 5ª vez\n",
      "Estou fazendo algo pela 6ª vez\n",
      "Estou fazendo algo pela 7ª vez\n",
      "Estou fazendo algo pela 8ª vez\n",
      "Estou fazendo algo pela 9ª vez\n",
      "Estou fazendo algo pela 10ª vez\n"
     ]
    }
   ],
   "source": [
    "for vez in range(10):\n",
    "    print(\"Estou fazendo algo pela \" + str(vez + 1) + \"ª vez\")"
   ]
  },
  {
   "cell_type": "markdown",
   "metadata": {},
   "source": [
    "<a id=resumo></a>\n",
    "# **Resumo**\n",
    "\n",
    "Vimos como podemos prevenir a repetição de código usando loops.\n",
    "\n",
    "* *While loops* são loops indefinidos no sentido de que não sabemos de antemão quantas vezes o código será executado.\n",
    "\n",
    "* Essa característica, embora útil em diversos contextos, faz com que esse tipo de iteração seja perigoso: se não tomarmos cuidado, terminamos em um **loop infinito**.\n",
    "\n",
    "* *For loops*, por outro lado, são definidos: percorremos uma lista ou algum outro iterável que possui um número finito e conhecido de elementos e executamos algum código para cada elemento.\n",
    "\n",
    "* Dicionários requerem uma sintaxe ligeiramente diferente para for loops: `for key, value in dict.items()`.\n",
    "\n",
    "* Se queremos alterar nossos iteráveis a cada iteração, precisamos usar a função `range()` como auxílio."
   ]
  },
  {
   "cell_type": "markdown",
   "metadata": {},
   "source": [
    "<a id=exercicio></a>\n",
    "# Exercício\n",
    "\n",
    "Abaixo, você vai encontrar um dicionário (`dict_contratos`) contendo 3 dos clientes mais lucrativos do escritório (Maria Berenice Dias, Jorge Miranda e Pontes de Miranda) e os valores totais devidos por eles. Ocorre que o contrato celebrado com os detentores dos direitos de cada uma dessas obras previa a correção dos valores contratuais pela inflação medida pelo IPCA a cada ano de contrato. Sabendo que o IPCA de 2018 foi de 3,75%, faça a atualização dos valores devidos em `dict_contratos` usando um for loop."
   ]
  },
  {
   "cell_type": "code",
   "execution_count": 18,
   "metadata": {},
   "outputs": [],
   "source": [
    "dict_contratos = {'Maria Berenice Dias' : 20000,\n",
    "                 'Jorge Miranda' : 2000,\n",
    "                 'Pontes de Miranda' : 40000}"
   ]
  },
  {
   "cell_type": "code",
   "execution_count": null,
   "metadata": {},
   "outputs": [],
   "source": [
    "#seu código aqui\n",
    "\n"
   ]
  },
  {
   "cell_type": "code",
   "execution_count": null,
   "metadata": {},
   "outputs": [],
   "source": [
    "from correcoes import aula5_ex1\n",
    "aula5_ex1(dict_contratos)"
   ]
  },
  {
   "cell_type": "markdown",
   "metadata": {},
   "source": [
    "## Exercício extra\n",
    "\n",
    "Nem só de tarefas estritamente jurídicas vive um escritório de advocacia. É necessário controlar o fluxo de pagamento dos seus clientes. Imagine um escritório que costuma parcelar os honorários advocatícios. Precisamos saber se vamos emitir boletos/cobrar clientes a cada um dos meses e qual o valor que ainda resta no contrato.\n",
    "\n",
    "Use for e while loops para percorrer `dict_financeiro`, definido abaixo, populando uma lista chamada `cobrancas`, contendo uma string para cada cobrança. As strings devem respeitar a seguinte formatação:\n",
    "\n",
    "\"<'nome do cliente'> deve pagar <'valor da parcela'> ao escritório. Depois dessa parcela, ficarão faltando mais <'número de parcelas'> parcelas a pagar, totalizando <'valor total após atualização'> reais\".\n",
    "\n",
    "Use o operador `+` para realizar a concatenação das strings. Lembre-se de usar `str()` na frente de qualquer número que você pretende concatenar dessa forma! Caso contrário, o Python retornará um erro.\n",
    "\n",
    "Após, rode a célula de correção.\n",
    "\n",
    "<blockquote>\n",
    "\n",
    "DICA: Você pode usar for loops dentro de for loops. Assim, você pode percorrer um dicionário como `dict_financeiro`, que contém um dicionário atrelado a cada chave e depois percorrer cada um desses valores novamente.\n",
    "\n",
    "</blockquote>"
   ]
  },
  {
   "cell_type": "code",
   "execution_count": 19,
   "metadata": {},
   "outputs": [],
   "source": [
    "dict_financeiro = {\n",
    "    \"Maria Berenice Dias\": { \"valor_total\": 20000, \"valor_pago\": 10000, \"parcelas_faltantes\": 20},\n",
    "    \"Jorge Miranda\": {\"valor_total\": 2280, \"valor_pago\": 0, \"parcelas_faltantes\": 12},\n",
    "    \"Pontes de Miranda\": { \"valor_total\": 40000, \"valor_pago\": 19750, \"parcelas_faltantes\": 6},\n",
    "}"
   ]
  },
  {
   "cell_type": "code",
   "execution_count": 10,
   "metadata": {},
   "outputs": [],
   "source": [
    "#seu código aqui\n"
   ]
  },
  {
   "cell_type": "code",
   "execution_count": 11,
   "metadata": {},
   "outputs": [
    {
     "name": "stdout",
     "output_type": "stream",
     "text": [
      "Parabéns! Você compreendeu bem os loops for e while!\n"
     ]
    }
   ],
   "source": [
    "from correcoes import exercicio_extra4\n",
    "exercicio_extra4(dict_financeiro, cobrancas)"
   ]
  }
 ],
 "metadata": {
  "kernelspec": {
   "display_name": "Python 3",
   "language": "python",
   "name": "python3"
  },
  "language_info": {
   "codemirror_mode": {
    "name": "ipython",
    "version": 3
   },
   "file_extension": ".py",
   "mimetype": "text/x-python",
   "name": "python",
   "nbconvert_exporter": "python",
   "pygments_lexer": "ipython3",
   "version": "3.10.8"
  },
  "toc": {
   "base_numbering": 1,
   "nav_menu": {
    "height": "12px",
    "width": "168px"
   },
   "number_sections": false,
   "sideBar": true,
   "skip_h1_title": false,
   "title_cell": "Índice",
   "title_sidebar": "Conteúdo",
   "toc_cell": false,
   "toc_position": {
    "height": "calc(100% - 180px)",
    "left": "10px",
    "top": "150px",
    "width": "378px"
   },
   "toc_section_display": true,
   "toc_window_display": false
  }
 },
 "nbformat": 4,
 "nbformat_minor": 2
}

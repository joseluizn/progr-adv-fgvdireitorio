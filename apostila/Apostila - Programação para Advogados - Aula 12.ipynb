{
 "cells": [
  {
   "cell_type": "markdown",
   "metadata": {},
   "source": [
    "<a id=aula12></a>\n",
    "# Aula 12 - Criando documentos de texto estruturados (.docx)\n",
    "\n",
    "#### - [Exercícios](#exercicio)"
   ]
  },
  {
   "cell_type": "markdown",
   "metadata": {},
   "source": [
    "Até agora, trabalhamos com arquivos .txt. Muito embora esse formato tenha muitas vantagens, ele tem uma desvantagem notável que faz com que poucos advogados usem ele: não é possível formatar o seu texto de forma rica usando esse formato. Ele não suporta, por exemplo, texto justificado, trechos em negrito ou sublinhados. Quase todos os escritórios, setores jurídicos de empresas e órgãos públicos que lidam com o direito usam o formato usado pelo programa Microsoft Word: .docx. Será que é possível interagir com esse tipo de arquivo a partir do Python?\n",
    "\n",
    "Sim! O pacote `docx` nos oferece essa oportunidade. Na aula de hoje, veremos como podemos criar automaticamente petições iniciais formatadas usando as técnicas que aprendemos ao longo do semestre."
   ]
  },
  {
   "cell_type": "markdown",
   "metadata": {},
   "source": [
    "A primeira coisa que precisamos fazer é importar o pacote `docx`."
   ]
  },
  {
   "cell_type": "code",
   "execution_count": 1,
   "metadata": {},
   "outputs": [],
   "source": [
    "import docx"
   ]
  },
  {
   "cell_type": "markdown",
   "metadata": {},
   "source": [
    "OBS: Ao contrário de todos os outros pacotes que vimos ao longo do curso, o pacote docx não vem instalado junto com o Anaconda. Para instala-lo em seu próprio computador (já instalamos na máquina que você acessa através do Jupyter Hub), você vai precisar usar o terminal ou prompt de comando. A [documentação do pacote](https://python-docx.readthedocs.io/en/latest/user/install.html) mostra como você pode fazer isso."
   ]
  },
  {
   "cell_type": "markdown",
   "metadata": {},
   "source": [
    "Para criar um novo documento, usamos a classe de objetos `Document()`, do pacote `docx`. Vamos guardar o documento em branco em uma variável chamada `peticao`."
   ]
  },
  {
   "cell_type": "code",
   "execution_count": 62,
   "metadata": {},
   "outputs": [],
   "source": [
    "peticao = docx.Document()"
   ]
  },
  {
   "cell_type": "markdown",
   "metadata": {},
   "source": [
    "Pronto! Criamos um novo documento. Por enquanto, este documento está totalmente em branco, da mesma forma como ele estaria se você estivesse usando um editor gráfico de texto. Podemos confirmar que esse é o caso salvando o documento em um arquivo e vendo o que está contido nele."
   ]
  },
  {
   "cell_type": "code",
   "execution_count": 63,
   "metadata": {},
   "outputs": [],
   "source": [
    "peticao.save(\"peticao.docx\")"
   ]
  },
  {
   "cell_type": "markdown",
   "metadata": {},
   "source": [
    "Se abrimos o arquivo, vemos que ele está inteiramente em branco. Geralmente, petições iniciais começam com o endereçamento, então faz sentido começar adicionando ele. A forma como um .docx é estruturado envolve vários parágrafos. Assim, pra incluir um parágrafo com o enderecamento, precisamos usar o método `.add_paragraph`."
   ]
  },
  {
   "cell_type": "code",
   "execution_count": 64,
   "metadata": {},
   "outputs": [],
   "source": [
    "enderecamento = peticao.add_paragraph(\"EXCELENTÍSSIMO SENHOR DOUTOR JUIZ DE DIREITO DA __ VARA CÍVEL DA COMARCA DA CAPITAL\")"
   ]
  },
  {
   "cell_type": "code",
   "execution_count": 95,
   "metadata": {},
   "outputs": [
    {
     "data": {
      "text/plain": [
       "docx.text.paragraph.Paragraph"
      ]
     },
     "execution_count": 95,
     "metadata": {},
     "output_type": "execute_result"
    }
   ],
   "source": [
    "type(enderecamento)"
   ]
  },
  {
   "cell_type": "markdown",
   "metadata": {},
   "source": [
    "Se investigarmos o arquivo agora, veremos que ele contém um parágrafo de endereçamento."
   ]
  },
  {
   "cell_type": "code",
   "execution_count": 96,
   "metadata": {},
   "outputs": [],
   "source": [
    "peticao.save(\"peticao.docx\")"
   ]
  },
  {
   "cell_type": "markdown",
   "metadata": {},
   "source": [
    "Alternativamente, podemos fazer isso olhando o atributo `.text` do primeiro parágrafo do documento `peticao`."
   ]
  },
  {
   "cell_type": "code",
   "execution_count": 97,
   "metadata": {},
   "outputs": [
    {
     "name": "stdout",
     "output_type": "stream",
     "text": [
      "EXCELENTÍSSIMO SENHOR DOUTOR JUIZ DE DIREITO DA __ VARA CÍVEL DA COMARCA DA CAPITAL\n"
     ]
    }
   ],
   "source": [
    "print(peticao.paragraphs[0].text)"
   ]
  },
  {
   "cell_type": "markdown",
   "metadata": {},
   "source": [
    "Até agora, porém, não avançamos muito com relação ao que poderíamos fazer com um arquivo .txt. Nosso objetivo é justamente poder trabalhar com as variáveis de estilo que encantam os advogados: *itálico* e **negrito**.\n",
    "\n",
    "Em geral, o endereçamento de fato fica em negrito. Por essa razão, faz sentido começarmos o documento do zero e adicionarmos o texto do parágrafo de uma maneira diferente: ao invés de incluirmos direto um parágrafo inteiro, vamos abrir um parágrafo vazio chamado `enderecamento` usando o método `peticao.add_paragraph()` e depois vamos usar o método de parágrafos `.add_run()` para adicionar um trecho que terá uma formatação especial.\n",
    "\n",
    "A ideia de \"runs\" é que cada trecho com uma formatação única é representado de maneira diferente dentro de um parágrafo. Imagine o seguinte parágrafo:\n",
    "\n",
    "**No dia 5 de outubro de 1988** foi promulgada a *Constituição Federal*, conhecida como a Constituição **cidadã**.\n",
    "\n",
    "Ele contém 5 runs diferentes. A primeira run é \"**No dia 5 de outubro de 1988**, a segunda é \" foi promulgada a \", a terceira \"*Constituição Federal*\", a quarta \" conhecida como a Constituição \" e a quinta e última \"**cidadã**\".\n",
    "\n",
    "Felizmente, nosso enderecamento é menos complexo. Ele compõe uma única run que é inteira em negrito."
   ]
  },
  {
   "cell_type": "code",
   "execution_count": 109,
   "metadata": {},
   "outputs": [],
   "source": [
    "peticao = docx.Document()\n",
    "enderecamento = peticao.add_paragraph()\n",
    "enderecamento_txt = enderecamento.add_run(\"EXCELENTÍSSIMO SENHOR DOUTOR JUIZ DE DIREITO DA __ VARA CÍVEL DA COMARCA DA CAPITAL\")"
   ]
  },
  {
   "cell_type": "markdown",
   "metadata": {},
   "source": [
    "Por enquanto, simplesmente replicamos o que já havíamos feito com uma sintaxe diferente. Objetos que representam runs, porém, possuem um atributo `.bold`. Podemos transformar o texto em negrito estipulando que o valor atrelado a este atributo é `True`."
   ]
  },
  {
   "cell_type": "code",
   "execution_count": 110,
   "metadata": {},
   "outputs": [],
   "source": [
    "enderecamento_txt.bold = True"
   ]
  },
  {
   "cell_type": "code",
   "execution_count": 111,
   "metadata": {},
   "outputs": [],
   "source": [
    "peticao.save(\"peticao.docx\")"
   ]
  },
  {
   "cell_type": "markdown",
   "metadata": {},
   "source": [
    "Agora já temos o nosso endereçamento! O próximo elemento de uma petição costuma ser a referencia, que indica qual é o processo ao qual a petição está atrelada. Já sabemos como adicionar um novo parágrafo e como adicionar uma run dentro do parágrafo:"
   ]
  },
  {
   "cell_type": "code",
   "execution_count": 112,
   "metadata": {},
   "outputs": [],
   "source": [
    "referencia = peticao.add_paragraph()\n",
    "referencia_text = referencia.add_run(\"Processo número: 0000000\")"
   ]
  },
  {
   "cell_type": "code",
   "execution_count": 113,
   "metadata": {},
   "outputs": [],
   "source": [
    "peticao.save(\"peticao.docx\")"
   ]
  },
  {
   "cell_type": "markdown",
   "metadata": {},
   "source": [
    "Com isso, já temos dois dos elementos mais importantes de uma petição judicial! Mas ainda assim, o formato não parece adequado. É comum que os advogados, para deixar o texto um pouco mais claro, alinhem a referência à direita. Podemos fazer isso através de uma importação um pouco menos clara do elemento `WD_ALIGN_PARAGRAPH`. Apesar de pouco elegante, essa importação é muito importante. Afinal, queremos ter controle relativamente fácil sobre qual é a formatação de alinhamento de cada um dos nossos parágrafos.\n",
    "\n",
    "Assim como temos o parâmetro `.bold` controlando se um texto é ou não em negrito, temos parágrafos controlando a formatação do parágrafo. Estes podem ser encontrados no atributo `.paragraph_format` de um objeto do tipo parágrafo. Em particular, queremos alterar um atributo desta família chamado `.alignment`. Se queremos alinhar à direita, fazemos isso através de `WD_ALING_PARAGRAPH.RIGHT`, conforme pode ser percebido na célula abaixo."
   ]
  },
  {
   "cell_type": "code",
   "execution_count": 114,
   "metadata": {},
   "outputs": [],
   "source": [
    "from docx.enum.text import WD_ALIGN_PARAGRAPH\n",
    "referencia.paragraph_format.alignment = WD_ALIGN_PARAGRAPH.RIGHT"
   ]
  },
  {
   "cell_type": "code",
   "execution_count": 115,
   "metadata": {},
   "outputs": [],
   "source": [
    "peticao.save(\"peticao.docx\")"
   ]
  },
  {
   "cell_type": "markdown",
   "metadata": {},
   "source": [
    "Outros valores possíveis são WD_ALING_PARAGRAPH.LEFT, .CENTER e .JUSTIFY."
   ]
  },
  {
   "cell_type": "markdown",
   "metadata": {},
   "source": [
    "Após esses dois parágrafos, as petições protocoladas por advogados costumam possuir um espaço em branco. Historicamente, a ideia era deixar algum espaço para que o juiz pudesse despachar à caneta na própria petição. Com o passar dos anos, essa prática deixou de ser utilizada, mas a tradição de deixar o espaço em branco continua. Podemos fazer isso criando um parágrafo que contém apenas linhas em branco."
   ]
  },
  {
   "cell_type": "code",
   "execution_count": 116,
   "metadata": {},
   "outputs": [
    {
     "data": {
      "text/plain": [
       "<docx.text.paragraph.Paragraph at 0x7f4a242584d0>"
      ]
     },
     "execution_count": 116,
     "metadata": {},
     "output_type": "execute_result"
    }
   ],
   "source": [
    "peticao.add_paragraph(\"\\n\\n\\n\\n\\n\\n\\n\\n\")"
   ]
  },
  {
   "cell_type": "code",
   "execution_count": 117,
   "metadata": {},
   "outputs": [],
   "source": [
    "peticao.save(\"peticao.docx\")"
   ]
  },
  {
   "cell_type": "markdown",
   "metadata": {},
   "source": [
    "Finalmente, chegamos ao corpo da petição. Neste espaço, o advogado deve tecer seus argumentos. Poderíamos pensar em várias outras divisões dentro de uma petição judicial. Poderíamos, por exemplo, separar um parágrafo para a qualificação da parte, com uma run específica para o título da petição, seguido por um resumo dos argumentos e um conjunto de seções arguindo teses específicas, finalizando a peça com uma seção de pedidos. Provavelmente é uma boa ideia pensar na estrutura que melhor se adequa a cada situação específica. Um escritório cível vai ter uma estrutura um pouco diferente de petições do que um escritório penal, por exemplo. Nosso objetivo é mostrar da maneira mais sucinta possível como podemos estruturar uma petição em um documento de word. Portanto, basta um único parágrafo para o corpo e mais um parágrafo para local, data e assinatura do advogado.\n",
    "\n",
    "Novamente, a formatação é importante: tradicionalmente o corpo da petição é justificado, enquanto local, data e assinatura são centralizados."
   ]
  },
  {
   "cell_type": "code",
   "execution_count": null,
   "metadata": {},
   "outputs": [],
   "source": [
    "cliente = \"Fernanda Saraiva\"\n",
    "orgao_julgador = \"26ª VARA CÍVEL\"\n",
    "\n",
    "peticao = docx.Document()\n",
    "\n",
    "enderecamento = peticao.add_paragraph()\n",
    "enderecamento_txt = enderecamento.add_run(f\"EXCELENTÍSSIMO SENHOR DOUTOR JUIZ DE DIREITO DA {orgao_julgador} DA COMARCA DA CAPITAL\")\n",
    "enderecamento_txt.bold = True\n",
    "\n",
    "referencia = peticao.add_paragraph()\n",
    "referencia_text = referencia.add_run(\"Processo número: 0000000\")\n",
    "referencia.paragraph_format.alignment = WD_ALIGN_PARAGRAPH.RIGHT\n",
    "\n",
    "#separador\n",
    "peticao.add_paragraph(\"\\n\\n\\n\\n\\n\\n\\n\\n\")\n",
    "\n",
    "corpo_peticao = peticao.add_paragraph(f\"A autora {cliente} vem, por intermédio de seu advogado infra-assinado, requerer e aduzir o que adiante segue\")\n",
    "corpo_peticao.paragraph_format.alignment = WD_ALIGN_PARAGRAPH.JUSTIFY\n",
    "\n",
    "#o texto com argumentos de nossa petição seria incluído aqui\n",
    "\n",
    "assinatura = peticao.add_paragraph(\"\\nNesses termos, pede deferimento\\n\\nRio de Janeiro, XX de _______ de _____\\n\\nAdvogado Fulano\\nOAB/RJ 000.000\")\n",
    "assinatura.paragraph_format.alignment = WD_ALIGN_PARAGRAPH.CENTER\n",
    "\n",
    "peticao.save(\"peticao.docx\")"
   ]
  },
  {
   "cell_type": "markdown",
   "metadata": {},
   "source": [
    "Um último toque final que é importante para muitos escritórios é o controle sobre a fonte utilizada e o tamanho dela. A célula abaixo coloca a fonte do documento inteiro em formato Times New Roman, 12 pontos. Caso você prefira usar Arial ou algum outro formato parecido, basta alterar os parâmetros relevantes na lógica abaixo. Também é possível alterar essas configurações para cada parágrafo individual. O ideal é acetar o estilo antes de adicionar os parágrafos, de forma que a fonte correta seja aplicada desde a criação de cada parágrafo."
   ]
  },
  {
   "cell_type": "code",
   "execution_count": 148,
   "metadata": {},
   "outputs": [],
   "source": [
    "style = peticao.styles['Normal']\n",
    "font = style.font\n",
    "font.name = 'Arial'\n",
    "font.size = docx.shared.Pt(12)"
   ]
  },
  {
   "cell_type": "markdown",
   "metadata": {},
   "source": [
    "Vamos aplicar o estilo que criamos a todos os parágrafos de nossa petição"
   ]
  },
  {
   "cell_type": "code",
   "execution_count": 149,
   "metadata": {
    "scrolled": true
   },
   "outputs": [],
   "source": [
    "enderecamento.styles = peticao.styles['Normal']\n",
    "referencia.styles = peticao.styles['Normal']\n",
    "corpo_peticao.styles = peticao.styles['Normal']\n",
    "assinatura.styles = peticao.styles['Normal']"
   ]
  },
  {
   "cell_type": "code",
   "execution_count": 150,
   "metadata": {},
   "outputs": [],
   "source": [
    "peticao.save(\"peticao.docx\")"
   ]
  },
  {
   "cell_type": "markdown",
   "metadata": {},
   "source": [
    "#### Aplicando os conceitos\n",
    "\n",
    "A partir do que aprendemos acima, além do restante do curso, podemos desenvolver funções que tomam como argumentos elementos como o juízo competente, o processo em referência e os nomes das partes e geram petições de forma automática, mesmo que seja necessário criar milhares de documentos. O formato acima cria cada parágrafo programaticamente. Em algumas circunstâncias, essa vai ser uma boa ideia, mas em outras, nem tanto.\n",
    "\n",
    "Uma forma mais fácil de aplicar nossos conhecimentos é seguir o caminho inverso: criar um template usando algum editor de texto com uma interface gráfica como o Microsoft Word e acessar esse template em Python para criar cada uma das modificações necessárias.\n",
    "\n",
    "O arquivo template.docx, que foi disponibilizado, tenta mostrar como poderíamos fazer algo do tipo."
   ]
  },
  {
   "cell_type": "code",
   "execution_count": 2,
   "metadata": {},
   "outputs": [],
   "source": [
    "peticao = docx.Document(\"template.docx\")"
   ]
  },
  {
   "cell_type": "markdown",
   "metadata": {},
   "source": [
    "Para ler o arquivo, podemos usar as mesmas técnicas que já aprendemos. Assim, sabendo que o primeiro parágrafo será o endereçamento, podemos acessá-lo com a célula abaixo."
   ]
  },
  {
   "cell_type": "code",
   "execution_count": 3,
   "metadata": {},
   "outputs": [],
   "source": [
    "peticao.paragraphs[0].text = peticao.paragraphs[0].text.replace(\"{N_VARA}\", \"3ª\")"
   ]
  },
  {
   "cell_type": "markdown",
   "metadata": {},
   "source": [
    "O mesmo vale para cada um dos outros elementos. Abaixo, imprimimos o corpo do texto e a data."
   ]
  },
  {
   "cell_type": "code",
   "execution_count": 4,
   "metadata": {},
   "outputs": [
    {
     "data": {
      "text/plain": [
       "'Texto da sua petição. Aqui, você vai aduzir todos os seus argumentos. Convença o juiz! {NOME_CLIENTE} precisa de você! Se você quiser, esse parágrafo pode conter muitas linhas. Alternativamente, você pode criar cada parágrafo de forma separada.'"
      ]
     },
     "execution_count": 4,
     "metadata": {},
     "output_type": "execute_result"
    }
   ],
   "source": [
    "peticao.paragraphs[3].text"
   ]
  },
  {
   "cell_type": "code",
   "execution_count": 5,
   "metadata": {},
   "outputs": [
    {
     "data": {
      "text/plain": [
       "'\\n\\nRio de Janeiro, {DIA_DE_HOJE} de {MES_ATUAL} de {ANO_ATUAL}'"
      ]
     },
     "execution_count": 5,
     "metadata": {},
     "output_type": "execute_result"
    }
   ],
   "source": [
    "peticao.paragraphs[4].text"
   ]
  },
  {
   "cell_type": "code",
   "execution_count": 6,
   "metadata": {},
   "outputs": [],
   "source": [
    "peticao.save(\"teste_joao.docx\")"
   ]
  },
  {
   "cell_type": "markdown",
   "metadata": {},
   "source": [
    "<a id=exercicio></a>\n",
    "# Exercício\n",
    "\n",
    "Nós já sabemos que cada uma das tags que foram incluídas no template podem ser substituídas programaticamente. Altere as tags do documento programaticamente pelas seguintes informações:\n",
    "\n",
    "{N_VARA} = 99 <br>\n",
    "{N_PROCESSO} = 2019.30989203-04<br>\n",
    "{NOME_CLIENTE} = Tício Romano<br>\n",
    "{DIA_DE_HOJE} = 28<br>\n",
    "{MES_ATUAL} = junho<br>\n",
    "{ANO_ATUAL} = 2020<br>\n",
    "{NOME_ADVOGADO} = Caio Mário<br>\n",
    "{N_OAB} = 00001\n",
    "\n",
    "E salve o resultado em um arquivo chamado \"peticao01.docx\"."
   ]
  },
  {
   "cell_type": "code",
   "execution_count": 7,
   "metadata": {},
   "outputs": [],
   "source": [
    "import docx\n",
    "\n",
    "#seu código aqui\n",
    "def cria_peticao():\n",
    "    #vc pode remover o pass quando criar seu código\n",
    "    pass"
   ]
  },
  {
   "cell_type": "code",
   "execution_count": 18,
   "metadata": {},
   "outputs": [],
   "source": [
    "dicionario_teste = {\n",
    "\"{N_VARA}\" : \"99\",\n",
    "\"{N_PROCESSO}\" : \"2019.30989203-04\",\n",
    "\"{NOME_CLIENTE}\" : \"Tício Romano\",\n",
    "\"{DIA_DE_HOJE}\" : \"28\",\n",
    "\"{MES_ATUAL}\" : \"junho\",\n",
    "\"{ANO_ATUAL}\" : \"2020\",\n",
    "\"{NOME_ADVOGADO}\" : \"Caio Mário\",\n",
    "\"{N_OAB}\" : \"00001\"\n",
    "}"
   ]
  },
  {
   "cell_type": "code",
   "execution_count": 19,
   "metadata": {},
   "outputs": [],
   "source": [
    "cria_peticao(dicionario_teste)"
   ]
  },
  {
   "cell_type": "code",
   "execution_count": null,
   "metadata": {},
   "outputs": [],
   "source": [
    "from correcoes import aula13_ex1\n",
    "aula13_ex1(\"peticao01.docx\")"
   ]
  },
  {
   "cell_type": "markdown",
   "metadata": {},
   "source": [
    "## Exercício extra\n",
    "\n",
    "Nós aprendemos a criar documentos de word programaticamente para fazer isso várias vezes em poucos segundos. Não faz sentido usar Python se for pra criar uma petição por vez. Abaixo, você vai encontrar uma lista de dicionários contendo os dados a respeito de 6 processos hipotéticos. Crie um loop para gerar as 6 petições de uma única vez. O nome da primeira petição deve ser \"peticao01.docx\" (se você fez o exercício anterior, ela já está criada!), o da segunda deve ser \"peticao02.docx\", e assim por diante. Atenção! A ordem importa."
   ]
  },
  {
   "cell_type": "code",
   "execution_count": 1,
   "metadata": {},
   "outputs": [],
   "source": [
    "petitions_list = [\n",
    "    {\"{N_VARA}\" : \"99\",\n",
    "     \"{N_PROCESSO}\" : \"2019.30989203-04\",\n",
    "     \"{NOME_CLIENTE}\" : \"Tício Romano\",\n",
    "     \"{DIA_DE_HOJE}\" : \"28\",\n",
    "     \"{MES_ATUAL}\" : \"junho\",\n",
    "     \"{ANO_ATUAL}\" : \"2020\",\n",
    "     \"{NOME_ADVOGADO}\" : \"Caio Mário\",\n",
    "     \"{N_OAB}\" : \"00001\"},\n",
    "    {\"{N_VARA}\" : \"33\",\n",
    "     \"{N_PROCESSO}\" : \"2019.546897-04\",\n",
    "     \"{NOME_CLIENTE}\" : \"Semprônio Siciliano\",\n",
    "     \"{DIA_DE_HOJE}\" : \"29\",\n",
    "     \"{MES_ATUAL}\" : \"junho\",\n",
    "     \"{ANO_ATUAL}\" : \"2020\",\n",
    "     \"{NOME_ADVOGADO}\" : \"Caio Mário Filho\",\n",
    "     \"{N_OAB}\" : \"444444\"},\n",
    "    {\"{N_VARA}\" : \"28\",\n",
    "     \"{N_PROCESSO}\" : \"2019.8847214-01\",\n",
    "     \"{NOME_CLIENTE}\" : \"Mévio Scipriano\",\n",
    "     \"{DIA_DE_HOJE}\" : \"15\",\n",
    "     \"{MES_ATUAL}\" : \"junho\",\n",
    "     \"{ANO_ATUAL}\" : \"2020\",\n",
    "     \"{NOME_ADVOGADO}\" : \"Caio Mário\",\n",
    "     \"{N_OAB}\" : \"00001\"},\n",
    "    {\"{N_VARA}\" : \"18\",\n",
    "     \"{N_PROCESSO}\" : \"2019.111477-00\",\n",
    "     \"{NOME_CLIENTE}\" : \"Semprônio Siciliano\",\n",
    "     \"{DIA_DE_HOJE}\" : \"01\",\n",
    "     \"{MES_ATUAL}\" : \"julho\",\n",
    "     \"{ANO_ATUAL}\" : \"2020\",\n",
    "     \"{NOME_ADVOGADO}\" : \"Caio Mário Filho\",\n",
    "     \"{N_OAB}\" : \"444444\"},\n",
    "    {\"{N_VARA}\" : \"99\",\n",
    "     \"{N_PROCESSO}\" : \"2019.30989208-04\",\n",
    "     \"{NOME_CLIENTE}\" : \"Justiniano Augusto\",\n",
    "     \"{DIA_DE_HOJE}\" : \"28\",\n",
    "     \"{MES_ATUAL}\" : \"junho\",\n",
    "     \"{ANO_ATUAL}\" : \"2020\",\n",
    "     \"{NOME_ADVOGADO}\" : \"Caio Mário\",\n",
    "     \"{N_OAB}\" : \"00001\"},\n",
    "    {\"{N_VARA}\" : \"43\",\n",
    "     \"{N_PROCESSO}\" : \"2001.1007546-03\",\n",
    "     \"{NOME_CLIENTE}\" : \"Tício Romano\",\n",
    "     \"{DIA_DE_HOJE}\" : \"28\",\n",
    "     \"{MES_ATUAL}\" : \"junho\",\n",
    "     \"{ANO_ATUAL}\" : \"2020\",\n",
    "     \"{NOME_ADVOGADO}\" : \"Caio Mário\",\n",
    "     \"{N_OAB}\" : \"00001\"}\n",
    "]"
   ]
  },
  {
   "cell_type": "code",
   "execution_count": null,
   "metadata": {},
   "outputs": [],
   "source": [
    "#seu código aqui\n"
   ]
  },
  {
   "cell_type": "code",
   "execution_count": null,
   "metadata": {},
   "outputs": [],
   "source": [
    "from correcoes import exercicio_extra10\n",
    "exercicio_extra10()"
   ]
  }
 ],
 "metadata": {
  "kernelspec": {
   "display_name": "base",
   "language": "python",
   "name": "python3"
  },
  "language_info": {
   "codemirror_mode": {
    "name": "ipython",
    "version": 3
   },
   "file_extension": ".py",
   "mimetype": "text/x-python",
   "name": "python",
   "nbconvert_exporter": "python",
   "pygments_lexer": "ipython3",
   "version": "3.9.1 (default, Dec 11 2020, 09:29:25) [MSC v.1916 64 bit (AMD64)]"
  },
  "toc": {
   "base_numbering": 1,
   "nav_menu": {
    "height": "12px",
    "width": "168px"
   },
   "number_sections": false,
   "sideBar": true,
   "skip_h1_title": false,
   "title_cell": "Índice",
   "title_sidebar": "Conteúdo",
   "toc_cell": false,
   "toc_position": {
    "height": "calc(100% - 180px)",
    "left": "10px",
    "top": "150px",
    "width": "378px"
   },
   "toc_section_display": true,
   "toc_window_display": false
  },
  "vscode": {
   "interpreter": {
    "hash": "19d1d53a962d236aa061289c2ac16dc8e6d9648c89fe79f459ae9a3493bc67b4"
   }
  }
 },
 "nbformat": 4,
 "nbformat_minor": 4
}

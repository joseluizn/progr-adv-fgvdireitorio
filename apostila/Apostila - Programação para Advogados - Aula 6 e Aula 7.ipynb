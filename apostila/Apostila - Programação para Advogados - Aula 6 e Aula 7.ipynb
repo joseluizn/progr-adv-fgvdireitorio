{
 "cells": [
  {
   "cell_type": "markdown",
   "metadata": {},
   "source": [
    "# Programação para advogados\n",
    "\n",
    "Graduação em direito FGV Direito Rio"
   ]
  },
  {
   "cell_type": "markdown",
   "metadata": {},
   "source": [
    "# Índice\n",
    "\n",
    "#### - [Introdução](#intro)\n",
    "\n",
    "#### - [Aula 6 e 7 - Funções](#aula6)\n",
    "\n",
    "#### - [Resumo](#resumo)\n",
    "\n",
    "#### - [Exercícios](#exercicio)"
   ]
  },
  {
   "cell_type": "markdown",
   "metadata": {},
   "source": [
    "<a id=aula6></a>\n",
    "# Aulas 6 e 7 - Funções\n",
    "\n",
    "Uma maneira de organizar nosso código é colocar tudo dentro de funções que recebem parâmetros que permitem customizar seu funcionamento. Finalmente, com o auxílio das funções, podemos implementar nosso primeiro programa de document assembly!"
   ]
  },
  {
   "cell_type": "markdown",
   "metadata": {},
   "source": [
    "Desde o início do curso estamos usando funções: `list()` é uma função, `zip()` é outra e `print()` também. Funções fazem determinadas coisas com os **argumentos** que são dados para elas. Se queremos imprimir algo para o terminal, por exemplo, precisamos fornecer um parâmetro que possa ser convertido para texto entre os parênteses da função `print()`:"
   ]
  },
  {
   "cell_type": "code",
   "execution_count": 37,
   "metadata": {},
   "outputs": [
    {
     "name": "stdout",
     "output_type": "stream",
     "text": [
      "Algum texto\n"
     ]
    }
   ],
   "source": [
    "print(\"Algum texto\")"
   ]
  },
  {
   "cell_type": "markdown",
   "metadata": {},
   "source": [
    "Nesse exemplo, a função `print()` está fazendo algo com a `str` \"Algum texto\": imprimindo essa `str` para o terminal, logo abaixo do nosso código. Embora simples, o exemplo é útil para mostrar o funcionamento geral das funções: **em geral, funções recebem algum input, fazem certas operações sobre ele e retornam um resultado**:\n",
    "\n",
    "<br>\n",
    "<br>\n",
    "    <img src=https://i.imgur.com/fzxHpuD.png style = \"width:40%\">\n",
    "    <center><i>A imagem acima representa o funcionamenta da função em um esquema. A função recebe um input, realiza as operações determinadas quando a função foi criada, e retorna um output relacionado.</i></center>\n",
    "<br>\n",
    "<br>\n",
    "\n",
    "Em Python, representamos a função e seu argumento da seguinte forma: `funcao(A)`. Quando chamamos a `funcao(A)` representada no diagrama acima, esperamos que o resultado retornado seja B."
   ]
  },
  {
   "cell_type": "markdown",
   "metadata": {},
   "source": [
    "## Argumentos\n",
    "\n",
    "Em geral, passamos apenas um argumento para a função `print()`, como fizemos com \"Algum texto\" acima. Mas podemos passar vários argumentos diferentes, separados por vírgula.\n",
    "\n",
    "O resultado é o texto das strings unido por um espaço:"
   ]
  },
  {
   "cell_type": "code",
   "execution_count": 19,
   "metadata": {},
   "outputs": [
    {
     "name": "stdout",
     "output_type": "stream",
     "text": [
      "Algum texto mais um pouquinho de texto\n"
     ]
    }
   ],
   "source": [
    "print(\"Algum texto\", \"mais um pouquinho de texto\")"
   ]
  },
  {
   "cell_type": "markdown",
   "metadata": {},
   "source": [
    "De maneira similar, `list()` transforma (se possível) o que passamos dentro dos parênteses em uma lista. Se passarmos a `string` \"algum texto\" para `list()`, por exemplo, receberemos uma lista de caracteres:"
   ]
  },
  {
   "cell_type": "code",
   "execution_count": 3,
   "metadata": {},
   "outputs": [
    {
     "data": {
      "text/plain": [
       "['A', 'l', 'g', 'u', 'm', ' ', 't', 'e', 'x', 't', 'o']"
      ]
     },
     "execution_count": 3,
     "metadata": {},
     "output_type": "execute_result"
    }
   ],
   "source": [
    "test = \"Algum texto\"\n",
    "list(test)"
   ]
  },
  {
   "cell_type": "markdown",
   "metadata": {},
   "source": [
    "<blockquote>\n",
    "\n",
    "OBS.: Existem, ainda, funções que não recebem nenhum argumento. A primeira lição de quase todos os cursos de programação (\"Hello world\") envolve a criação de uma função que não toma nenhum argumento como parâmetro.\n",
    "\n",
    "</blockquote>"
   ]
  },
  {
   "cell_type": "markdown",
   "metadata": {},
   "source": [
    "## Criando novas funções\n",
    "\n",
    "Todas essas funções já vêm instaladas com o Python (no jargão, são chamadas funções built-in, uma lista delas pode ser encontrada [aqui](https://docs.python.org/3/library/functions.html)), mas podemos definir as nossas próprias funções que fazem determinadas coisas sobre determinados argumentos. Fazemos isso definindo (`def`) nossos programas com a seguinte sintaxe:\n",
    "\n",
    "<code>def nome_funcao(argumentos_separados_por_virgula): </code><br>\n",
    "<code>    [aquilo que a sua função tem que fazer]</code><br>\n",
    "<code>    return [o resultado da sua função]</code><br>\n",
    "\n",
    "Nos termos do diagrama acima:\n",
    "\n",
    "<code>def funcao(a): </code><br>\n",
    "<code>    [aquilo que a sua função tem que fazer]</code><br>\n",
    "<code>    b = a * 2 #exemplo</code><br>\n",
    "<code>    return b</code><br>\n",
    "\n",
    "A principal diferença em termos de sintaxe está na parte final: na hora de retornar o resultado da função, devemos usar `return`, seguido por um espaço, seguido pela expressão que desejamos retornar, de maneira similar como funciona com as cláusulas `if` e `in`. Isso acontece porque `return` não é uma função (nem um método) e, portanto, utiliza uma sintaxe diferente."
   ]
  },
  {
   "cell_type": "markdown",
   "metadata": {},
   "source": [
    "Usando essa lógica, podemos definir uma função que procura por um determinado padrão e o substituir por uma variável:"
   ]
  },
  {
   "cell_type": "code",
   "execution_count": 2,
   "metadata": {},
   "outputs": [],
   "source": [
    "#nossa primeira função!\n",
    "def substituir_contratante(texto_contrato, nome):\n",
    "    texto_modificado = texto_contrato.replace(\"<'nome'>\", nome) \n",
    "    return texto_modificado #repare como depois de return há um espaço e não parênteses"
   ]
  },
  {
   "cell_type": "markdown",
   "metadata": {},
   "source": [
    "`substituir_contratante` é uma função que faz exatamente o tipo de coisa que introduzimos acima: ela toma argumentos como input (`texto_contrato` e `nome`), faz certas operações usando esses argumentos e retorna um output próprio (`texto_modificado`).\n",
    "\n",
    "A operação realizada depende de um método próprio das `strings`: o método `.replace()`, que procura um padrão qualquer e o substitui por outro dentro de uma string."
   ]
  },
  {
   "cell_type": "markdown",
   "metadata": {},
   "source": [
    "<blockquote>\n",
    "\n",
    "OBS.: Muito embora métodos tenham a mesma estrutura geral que funções (recebe um conjunto de argumentos como input, faz algo em cima dos argumentos e retorna um output), existem pequenas diferenças técnicas. Métodos têm a ver com a programação orientada a objetos e costumam receber o objeto ao qual pertencem como primeiro argumento. Não veremos essa distinção com vagar no presente curso, embora ela possa ser bastante útil para certos casos. É relativamente fácil encontrar explicações didáticas na internet a respeito dessa diferença.\n",
    "\n",
    "</blockquote>"
   ]
  },
  {
   "cell_type": "markdown",
   "metadata": {},
   "source": [
    "O que isso quer dizer? Vamos criar uma variável contendo o texto da nossa cláusula 1ª e alimentá-la à nossa função, junto com o nome do nosso cliente hipotético \"Caio Mário\":"
   ]
  },
  {
   "cell_type": "code",
   "execution_count": 3,
   "metadata": {},
   "outputs": [],
   "source": [
    "clausula1 = \"<'nome'>, <'nacionalidade'>, <'estado_civil'>, <'cpf'>, residente e domiciliado à <'endereco'>, nesta cidade do Rio de Janeiro, doravante denominado CONTRATANTE, acorda em pagar à Lawtech Incrível LTDA., CNPJ nº YYYY, com sede à Rua Praia de Botafogo, 190, doravante denominada CONTRATADA, a quantia mensal de R$ <'valor_contrato'>.\"\n",
    "cliente_atual = \"Caio Mário\""
   ]
  },
  {
   "cell_type": "markdown",
   "metadata": {},
   "source": [
    "Se chamarmos `substituir_contratante()` com `clausula1` e `cliente_atual` como variáveis, o código que está dentro da função é executado com essas variáveis *no lugar* dos nomes de argumento que estabelecemos na definição. Ou seja, em todos os lugares onde estava escrito `texto_contrato`, é como se tivesse escrito `clausula1` e em todos os lugares onde aparecia `nome` aparece `cliente_atual`. Podemos comparar essas duas opções da seguinte maneira:"
   ]
  },
  {
   "cell_type": "code",
   "execution_count": 25,
   "metadata": {},
   "outputs": [
    {
     "data": {
      "text/plain": [
       "True"
      ]
     },
     "execution_count": 25,
     "metadata": {},
     "output_type": "execute_result"
    }
   ],
   "source": [
    "output_funcao = substituir_contratante(clausula1, cliente_atual)\n",
    "output_comando = clausula1.replace(\"<'nome'>\", cliente_atual) # essas duas coisas são basicamente iguais\n",
    "output_funcao == output_comando"
   ]
  },
  {
   "cell_type": "markdown",
   "metadata": {},
   "source": [
    "Poderíamos usar `substituir_contratante()` como parte de um programa de document assembly: ela procura por uma *tag* (<'nome'>) em um documento (representado pela variável `texto_contrato`) e a substitui pelo nome do contratante (representado na variável `nome`).\n",
    "\n",
    "\n",
    "Imagine uma empresa de prestação de serviços: ela precisa gerar um contrato para cada um de seus clientes. Conforme a empresa cresce (fechando milhares de contratos por dia), se torna extremamente custoso manter funcionários que adaptam, manualmente, cada um dos contratos.\n",
    "\n",
    "Talvez a única cláusula que mude do contrato inteiro seja a primeira, responsável por qualificar as partes do contrato. Um exemplo em linguagem natural poderia ter a seguinte cara:\n",
    "\n",
    "<blockquote>\n",
    "\n",
    "**Cláusula 1ª**\n",
    "\n",
    "Caio da Silva Pereira, brasileiro, solteiro, portador do CPF nº XXXX, residente e domiciliado à Av. Rio Branco, nº 1, Centro, nesta cidade do Rio de Janeiro, doravante denominado CONTRATANTE, acorda em pagar à Lawtech Incrível LTDA., CNPJ nº YYYY, com sede à Rua Praia de Botafogo, 190, doravante denominada CONTRATADA, a quantia mensal de R$ 200,00 (duzentos reais).\n",
    "\n",
    "</blockquote>\n",
    "\n",
    "Para cada cliente, algumas coisas mudariam: Nome completo, nacionalidade, estado civil, CPF, residência e, talvez, o valor, mas todo o resto se manteria igual.\n",
    "\n",
    "Assim, o contrato de Tício Romano seria muito parecido:\n",
    "\n",
    "<blockquote>\n",
    "\n",
    "**Cláusula 1ª**\n",
    "\n",
    "Tício Romano, italiano, casado, portador do CPF nº ZZZZZ, residente e domiciliado à Av. Atlântica, 1702, Copacabana, nesta cidade do Rio de Janeiro, doravante denominado CONTRATANTE, acorda em pagar à Lawtech Incrível LTDA., CNPJ nº YYYY, com sede à Rua Praia de Botafogo, 190, doravante denominada CONTRATADA, a quantia mensal de R$ 200,00 (duzentos reais).\n",
    "\n",
    "</blockquote>\n",
    "\n",
    "Antes de programar qualquer coisa, podemos ver que certas características se repetem e poderiam ser substituídas por variáveis. Por convenção, vamos marcar as variáveis entre \"<''>\":\n",
    "\n",
    "<blockquote>\n",
    "\n",
    "**Cláusula 1ª**\n",
    "\n",
    "<'nome'>, <'nacionalidade'>, <'estado_civil'>, <'cpf'>, residente e domiciliado à <'endereco'>, nesta cidade do Rio de Janeiro, doravante denominado CONTRATANTE, acorda em pagar à Lawtech Incrível LTDA., CNPJ nº YYYY, com sede à Rua Praia de Botafogo, 190, doravante denominada CONTRATADA, a quantia mensal de R$ <'valor_contrato'>.\n",
    "\n",
    "</blockquote>"
   ]
  },
  {
   "cell_type": "markdown",
   "metadata": {},
   "source": [
    "#### Por que usar funções?\n",
    "\n",
    "Podemos fazer todas essas trocas programaticamente sem nunca usar funções. Afinal, tudo que `substituir_contratante` faz é aplicar o método `.replace()`. Podemos simplesmente escrever: `clausula1.replace(\"<'nome'>\", \"Fulano\"` para cada fulano.\n",
    "\n",
    "Por que isso é problemático?\n",
    "\n",
    "Imagine fazer isso para mil clientes. Bastante entendiante, não? Agora imagine que a tag mudou, por algum motivo. Você tem que corrigir mil linhas, em vez de apenas uma. Funções economizam *muita* repetição e fazem com que o código seja *muito* mais fácil de se adaptar."
   ]
  },
  {
   "cell_type": "code",
   "execution_count": 2,
   "metadata": {},
   "outputs": [],
   "source": [
    "clausula1_personalizada = substituir_contratante(clausula1, cliente_atual)"
   ]
  },
  {
   "cell_type": "code",
   "execution_count": 3,
   "metadata": {},
   "outputs": [
    {
     "name": "stdout",
     "output_type": "stream",
     "text": [
      "Caio Mário, <'nacionalidade'>, <'estado_civil'>, <'cpf'>, residente e domiciliado à <'endereco'>, nesta cidade do Rio de Janeiro, doravante denominado CONTRATANTE, acorda em pagar à Lawtech Incrível LTDA., CNPJ nº YYYY, com sede à Rua Praia de Botafogo, 190, doravante denominada CONTRATADA, a quantia mensal de R$ <'valor_contrato'>.\n"
     ]
    }
   ],
   "source": [
    "print(clausula1_personalizada)"
   ]
  },
  {
   "cell_type": "markdown",
   "metadata": {},
   "source": [
    "Pronto! Nossa função substitui a tag <'nome'> pelo nome do nosso cliente. Perceba como podemos **chamar** as funções que criamos da mesma forma como chamaríamos `print()` ou `zip()`: basta declarar o nome que demos a ela, seguido por parênteses preenchidos com os argumentos que a função deve avaliar. Finalmente, é necessário *guardar o resultado* da função em alguma variável. Caso contrário, a célula simplesmente imprimiria o resultado:"
   ]
  },
  {
   "cell_type": "code",
   "execution_count": 4,
   "metadata": {},
   "outputs": [
    {
     "data": {
      "text/plain": [
       "\"Caio Mário, <'nacionalidade'>, <'estado_civil'>, <'cpf'>, residente e domiciliado à <'endereco'>, nesta cidade do Rio de Janeiro, doravante denominado CONTRATANTE, acorda em pagar à Lawtech Incrível LTDA., CNPJ nº YYYY, com sede à Rua Praia de Botafogo, 190, doravante denominada CONTRATADA, a quantia mensal de R$ <'valor_contrato'>.\""
      ]
     },
     "execution_count": 4,
     "metadata": {},
     "output_type": "execute_result"
    }
   ],
   "source": [
    "substituir_contratante(clausula1, cliente_atual)"
   ]
  },
  {
   "cell_type": "markdown",
   "metadata": {},
   "source": [
    "Quando chamamos uma função, o programa para de interpretar as linhas de código que estão imediatamente na nossa frente e passa a executar aquelas que estão dentro da função. Quando o programa encontra a palavra reservada `return`, ele volta a executar aquilo que está em nossa linha \"externa\" de código. O nome dado a esses \"espaços\" de execução é **escopo**. Quando chamamos uma função, entramos em seu escopo e só saimos dele e retornamos ao escopo principal quando uma de duas coisas acontecem: 1. a função tiver rodado todas as linhas de código contidas nela; 2. a função encontrar a palavra reservada `return`."
   ]
  },
  {
   "cell_type": "markdown",
   "metadata": {},
   "source": [
    "Claramente, `substituir_contratante()` não é suficiente para automatizar a criação do nosso contrato de prestação de serviços: afinal, a nacionalidade, o estado civil, o CPF, o endereço e o valor do contrato são informações necessárias ao nosso documento.\n",
    "\n",
    "Crie, abaixo, uma função chamada `criar_clausula1`, que tome como argumentos, nessa ordem, as seguintes variáveis: `texto_contrato`, `nome`, `nacionalidade`, `estado_civil`, `cpf`, `endereco` e `valor_contrato` e retorne o texto do contrato com as informações de cada cliente preenchidas. Implemente seu código na célula abaixo. Após executá-lo, execute a célula de correção.\n",
    "\n",
    "Lembre-se que usaremos o texto da variável `clausula1` para a correção.\n",
    "\n",
    "<blockquote>\n",
    "    DICA: Você pode usar a mesma estrutura da função `substituir_contratante` e aplicar a mesma lógica quantas vezes for necessário.\n",
    "</blockquote>"
   ]
  },
  {
   "cell_type": "code",
   "execution_count": 5,
   "metadata": {},
   "outputs": [],
   "source": [
    "#implemente seu código aqui\n",
    "\n"
   ]
  },
  {
   "cell_type": "code",
   "execution_count": null,
   "metadata": {},
   "outputs": [],
   "source": [
    "from correcoes import aula6_ex1\n",
    "aula6_ex1(criar_clausula1, clausula1)"
   ]
  },
  {
   "cell_type": "markdown",
   "metadata": {},
   "source": [
    "Podemos usar vários métodos para preencher as variáveis que alimentam a função `criar_clausula1`. Em uma aplicação real, provavelmente essas informações seriam adquiridas do usuário a partir de uma ferramenta web e armazenadas em um banco de dados. No nosso exemplo hipotético, porém, podemos usar o próprio Python para fazer um protótipo da ferramenta e guardar as informações em dicionários.\n",
    "\n",
    "Faremos isso com a função `input()`:"
   ]
  },
  {
   "cell_type": "code",
   "execution_count": 6,
   "metadata": {},
   "outputs": [
    {
     "name": "stdout",
     "output_type": "stream",
     "text": [
      "Qual é o seu nome? Guilherme\n",
      "Qual sua nacionalidade? brasileiro\n",
      "Qual seu estado civil? solteiro\n",
      "Qual é o seu CPF? 123049\n",
      "Qual o seu endereço? Avenida Tal\n",
      "Qual o valor que você pretende contratar? 1000\n"
     ]
    }
   ],
   "source": [
    "#abre um dicionário de usuários\n",
    "usuarios = {}\n",
    "\n",
    "def incluir_novo_usuario(usuarios_dict):\n",
    "    seu_nome = input(\"Qual é o seu nome? \")\n",
    "    usuarios_dict[seu_nome] = {\n",
    "        \"nacionalidade\" : input(\"Qual sua nacionalidade? \"),\n",
    "        \"estado_civil\" : input(\"Qual seu estado civil? \"),\n",
    "        \"cpf\" : input(\"Qual é o seu CPF? \"),\n",
    "        \"endereco\" : input(\"Qual o seu endereço? \"),\n",
    "        \"valor_contratado\" : float(input(\"Qual o valor que você pretende contratar? \"))\n",
    "    }\n",
    "    return usuarios_dict\n",
    "\n",
    "usuarios = incluir_novo_usuario(usuarios)"
   ]
  },
  {
   "cell_type": "markdown",
   "metadata": {},
   "source": [
    "<blockquote>\n",
    "    \n",
    "OBS.: O ideal é sempre validar os dados no momento de pegar os dados do usuário. Assim, deveríamos ter testes que garantissem que o valor contratado é um número (em vez de simplesmente retornarmos um erro caso o usuário escreva por extenso, por exemplo), que o CPF é composto pela quantidade correta de números e assim por diante. Da mesma forma, devemos usar métodos como .lower() para armazenar os dados sem capitalização. O exemplo omite essas complicações por motivos didáticos.\n",
    "\n",
    "</blockquote>"
   ]
  },
  {
   "cell_type": "markdown",
   "metadata": {},
   "source": [
    "Se pedirmos para que o Python imprima `usuarios` agora, teremos adquirido os *seus* dados:"
   ]
  },
  {
   "cell_type": "code",
   "execution_count": 5,
   "metadata": {},
   "outputs": [
    {
     "data": {
      "text/plain": [
       "{'Guilherme': {'nacionalidade': 'brasileiro',\n",
       "  'estado_civil': 'solteiro',\n",
       "  'cpf': '1239488',\n",
       "  'endereco': 'Av. Atlântica, 1041',\n",
       "  'valor_contratado': 1000.0}}"
      ]
     },
     "execution_count": 5,
     "metadata": {},
     "output_type": "execute_result"
    }
   ],
   "source": [
    "usuarios"
   ]
  },
  {
   "cell_type": "markdown",
   "metadata": {},
   "source": [
    "Podemos adotar essa estratégia para todas as outras informações requeridas, de maneira similar com o que faríamos em um formulário online para cadastro em um site qualquer.\n",
    "\n",
    "Vamos imaginar que tenhamos feito isso e conseguido mais sete clientes diferentes. Podemos incluir os dados desses clientes aos seus usando o método `.update()`:"
   ]
  },
  {
   "cell_type": "code",
   "execution_count": 9,
   "metadata": {},
   "outputs": [],
   "source": [
    "novos_usuarios = {\n",
    "    'Caio': {\n",
    "        'nacionalidade': 'brasileiro',\n",
    "        'estado_civil': 'solteiro',\n",
    "        'cpf': '84984465461',\n",
    "        'endereco': 'Rua do stf, 123',\n",
    "        'valor_contratado': 50},\n",
    "        'Tício': {'nacionalidade': 'português',\n",
    "        'estado_civil': 'casado',\n",
    "        'cpf': '44785698544',\n",
    "        'endereco': 'Avenida do Porto, 171',\n",
    "        'valor_contratado': 200\n",
    "    },\n",
    "    'Semprônio': {\n",
    "        'nacionalidade': 'romeno',\n",
    "        'estado_civil': 'divorciado',\n",
    "        'cpf': '1114547564',\n",
    "        'endereco': 'Rua principal, 3',\n",
    "        'valor_contratado': 20\n",
    "    },\n",
    "    'Mário': {\n",
    "        'nacionalidade': 'brasileiro',\n",
    "        'estado_civil': 'solteiro',\n",
    "        'cpf': '78568462164',\n",
    "        'endereco': 'Rua do armário, 4',\n",
    "        'valor_contratado': 100},\n",
    "        'João': {'nacionalidade': 'brasileiro',\n",
    "        'estado_civil': 'viúvo',\n",
    "        'cpf': '12325434564765',\n",
    "        'endereco': 'Rua do lalala, 129',\n",
    "        'valor_contratado': 100\n",
    "    },\n",
    "    'Pedro': {\n",
    "        'nacionalidade': 'brasileiro',\n",
    "        'estado_civil': 'solteiro',\n",
    "        'cpf': '123235345211165',\n",
    "        'endereco': 'Esplanada dos ministérios, 10',\n",
    "        'valor_contratado': 200\n",
    "    },\n",
    "    'Marcos': {'nacionalidade': 'espanhol',\n",
    "        'estado_civil': 'solteiro',\n",
    "        'cpf': '48789136584',\n",
    "        'endereco': 'Rua do lavradio, 123',\n",
    "        'valor_contratado': 20\n",
    "    }\n",
    "}\n",
    "\n",
    "#usa update para colocar as novas chaves (assume que não temos chaves repetidas!!)\n",
    "usuarios.update(novos_usuarios)"
   ]
  },
  {
   "cell_type": "markdown",
   "metadata": {},
   "source": [
    "Podemos agora iterar sobre esse dicionário, gerando uma cláusula contratual para cada cliente:"
   ]
  },
  {
   "cell_type": "code",
   "execution_count": 10,
   "metadata": {},
   "outputs": [],
   "source": [
    "#abre um dicionário que vai receber as cláusulas individuais\n",
    "clausulas_finais = {}\n",
    "\n",
    "for key, value in usuarios.items():\n",
    "    clausulas_finais[key] = criar_clausula1(\n",
    "        clausula1, key, value[\"nacionalidade\"], value[\"estado_civil\"], value[\"cpf\"],\n",
    "        value[\"endereco\"], str(value[\"valor_contratado\"]))"
   ]
  },
  {
   "cell_type": "code",
   "execution_count": 11,
   "metadata": {
    "scrolled": true
   },
   "outputs": [
    {
     "data": {
      "text/plain": [
       "{'Guilherme': 'Guilherme, brasileiro, solteiro, 1230400, residente e domiciliado à Av. Atlântica, 1041, nesta cidade do Rio de Janeiro, doravante denominado CONTRATANTE, acorda em pagar à Lawtech Incrível LTDA., CNPJ nº YYYY, com sede à Rua Praia de Botafogo, 190, doravante denominada CONTRATADA, a quantia mensal de R$ 100000.0.',\n",
       " 'Caio': 'Caio, brasileiro, solteiro, 84984465461, residente e domiciliado à Rua do stf, 123, nesta cidade do Rio de Janeiro, doravante denominado CONTRATANTE, acorda em pagar à Lawtech Incrível LTDA., CNPJ nº YYYY, com sede à Rua Praia de Botafogo, 190, doravante denominada CONTRATADA, a quantia mensal de R$ 50.',\n",
       " 'Tício': 'Tício, português, casado, 44785698544, residente e domiciliado à Avenida do Porto, 171, nesta cidade do Rio de Janeiro, doravante denominado CONTRATANTE, acorda em pagar à Lawtech Incrível LTDA., CNPJ nº YYYY, com sede à Rua Praia de Botafogo, 190, doravante denominada CONTRATADA, a quantia mensal de R$ 200.',\n",
       " 'Semprônio': 'Semprônio, romeno, divorciado, 1114547564, residente e domiciliado à Rua principal, 3, nesta cidade do Rio de Janeiro, doravante denominado CONTRATANTE, acorda em pagar à Lawtech Incrível LTDA., CNPJ nº YYYY, com sede à Rua Praia de Botafogo, 190, doravante denominada CONTRATADA, a quantia mensal de R$ 20.',\n",
       " 'Mário': 'Mário, brasileiro, solteiro, 78568462164, residente e domiciliado à Rua do armário, 4, nesta cidade do Rio de Janeiro, doravante denominado CONTRATANTE, acorda em pagar à Lawtech Incrível LTDA., CNPJ nº YYYY, com sede à Rua Praia de Botafogo, 190, doravante denominada CONTRATADA, a quantia mensal de R$ 100.',\n",
       " 'João': 'João, brasileiro, viúvo, 12325434564765, residente e domiciliado à Rua do lalala, 129, nesta cidade do Rio de Janeiro, doravante denominado CONTRATANTE, acorda em pagar à Lawtech Incrível LTDA., CNPJ nº YYYY, com sede à Rua Praia de Botafogo, 190, doravante denominada CONTRATADA, a quantia mensal de R$ 100.',\n",
       " 'Pedro': 'Pedro, brasileiro, solteiro, 123235345211165, residente e domiciliado à Esplanada dos ministérios, 10, nesta cidade do Rio de Janeiro, doravante denominado CONTRATANTE, acorda em pagar à Lawtech Incrível LTDA., CNPJ nº YYYY, com sede à Rua Praia de Botafogo, 190, doravante denominada CONTRATADA, a quantia mensal de R$ 200.',\n",
       " 'Marcos': 'Marcos, espanhol, solteiro, 48789136584, residente e domiciliado à Rua do lavradio, 123, nesta cidade do Rio de Janeiro, doravante denominado CONTRATANTE, acorda em pagar à Lawtech Incrível LTDA., CNPJ nº YYYY, com sede à Rua Praia de Botafogo, 190, doravante denominada CONTRATADA, a quantia mensal de R$ 20.'}"
      ]
     },
     "execution_count": 11,
     "metadata": {},
     "output_type": "execute_result"
    }
   ],
   "source": [
    "clausulas_finais"
   ]
  },
  {
   "cell_type": "markdown",
   "metadata": {},
   "source": [
    "Finalmente, podemos escrever cada um desses parágrafos para um arquivo de texto em disco. Para tal, vamos usar um recurso chamado `context management`, que lida com a abertura de arquivos automaticamente. A sintaxe usada para escrever novos arquivos é a seguinte:\n",
    "\n",
    "<code> with open([nome do arquivo], [modo de abertura]) as f:\n",
    "        f.write([texto]) </code>\n",
    "    \n",
    "Modos de abertura podem ser de diferentes tipos e se encontram sumarizados na tabela abaixo:\n",
    "<br/><br/>\n",
    "<center>\n",
    "<table>\n",
    "<tr>\n",
    "<td>Modes</td><td>Description</td>\n",
    "</tr>\n",
    "<tr>\n",
    "<td>r</td><td>Opens a file for reading only. The file pointer is placed at the beginning of the file. This is the default mode.</td>\n",
    "</tr>\n",
    "<tr>\n",
    "<td>rb</td><td>Opens a file for reading only in binary format. The file pointer is placed at the beginning of the file. This is the default mode.</td>\n",
    "</tr>\n",
    "<tr>\n",
    "<td>r+</td><td>Opens a file for both reading and writing. The file pointer will be at the beginning of the file.</td>\n",
    "</tr>\n",
    "<tr>\n",
    "<td>rb+</td><td>Opens a file for both reading and writing in binary format. The file pointer will be at the beginning of the file.</td>\n",
    "</tr>\n",
    "<tr>\n",
    "<td>w</td><td>Opens a file for writing only. Overwrites the file if the file exists. If the file does not exist, creates a new file for writing.</td>\n",
    "</tr>\n",
    "<tr>\n",
    "<td>wb</td><td>Opens a file for writing only in binary format. Overwrites the file if the file exists. If the file does not exist, creates a new file for writing.</td>\n",
    "</tr>\n",
    "<tr>\n",
    "<td>w+</td><td>Opens a file for both writing and reading. Overwrites the existing file if the file exists. If the file does not exist, creates a new file for reading and writing.</td>\n",
    "</tr>\n",
    "<tr>\n",
    "<td>wb+</td><td>Opens a file for both writing and reading in binary format. Overwrites the existing file if the file exists. If the file does not exist, creates a new file for reading and writing.</td>\n",
    "</tr>\n",
    "<tr>\n",
    "<td>a</td><td>Opens a file for appending. The file pointer is at the end of the file if the file exists. That is, the file is in the append mode. If the file does not exist, it creates a new file for writing.</td>\n",
    "</tr>\n",
    "<tr>\n",
    "<td>ab</td><td>\tOpens a file for appending in binary format. The file pointer is at the end of the file if the file exists. That is, the file is in the append mode. If the file does not exist, it creates a new file for writing.</td>\n",
    "</tr>\n",
    "<tr>\n",
    "<td>a+</td><td>\tOpens a file for both appending and reading. The file pointer is at the end of the file if the file exists. The file opens in the append mode. If the file does not exist, it creates a new file for reading and writing.</td>\n",
    "</tr>\n",
    "<tr>\n",
    "<td>ab+</td><td>Opens a file for both appending and reading in binary format. The file pointer is at the end of the file if the file exists. The file opens in the append mode. If the file does not exist, it creates a new file for reading and writing.</td>\n",
    "</tr>\n",
    "<tr>\n",
    "<td></td><td>fonte: http://www.tutorialspoint.com/python/python_files_io.htm</td>\n",
    "</tr>\n",
    "</table>\n",
    "</center>"
   ]
  },
  {
   "cell_type": "code",
   "execution_count": 12,
   "metadata": {},
   "outputs": [
    {
     "name": "stdout",
     "output_type": "stream",
     "text": [
      "Guilherme\n",
      "Caio\n",
      "Tício\n",
      "Semprônio\n",
      "Mário\n",
      "João\n",
      "Pedro\n",
      "Marcos\n"
     ]
    }
   ],
   "source": [
    "#escreve cada um dos valores do dicionario clausulas_finais para um arquivo com o nome do cliente\n",
    "for key, value in clausulas_finais.items():\n",
    "    print(key)\n",
    "    with open(key + \".txt\", \"w+\") as f:\n",
    "        f.write(value)"
   ]
  },
  {
   "cell_type": "markdown",
   "metadata": {},
   "source": [
    "O resultado é um número de arquivos novos. No meu computador, eles ficaram assim:\n",
    "\n",
    "<br>\n",
    "<br>\n",
    "    <img src=https://i.imgur.com/qg24VE8.png style = \"width:70%\">\n",
    "    <center> <i> \n",
    "    Imagem acima exibe pasta com arquivos criados a partir da execução da função. Todos os arquivos apresentam a mesma hora e minuto de criação, e possuem como nome o nome do cliente e a extensão '.txt'. </i> </center>\n",
    "    \n",
    "<i> <center>\n",
    "Todos os arquivos foram criados quase ao mesmo tempo.\n",
    "</i> </center>\n",
    "\n",
    "\n",
    "Se abrirmos cada um deles, teremos nossa cláusula contratual personalizada.\n",
    "\n",
    "<blockquote>\n",
    "    Para ver os resultados, volte para a aba com a página inicial do Jupyter Hub e atualize!\n",
    "</blockquote>"
   ]
  },
  {
   "cell_type": "markdown",
   "metadata": {},
   "source": [
    "<a id=exercicio></a>\n",
    "# Resumo\n",
    "\n",
    "* Funções definidas pelo usuário nos permitem realizar determinadas operações em um determinado conjunto de variáveis. Isso nos permite economizar (muito) código e pode nos ajudar a compartilhar nosso código com outras pessoas.\n",
    "* Quando usadas em loops iterativos, funções são um instrumento poderoso, mesmo quando são relativamente simples, como foi o caso do nosso exemplo de programa de document assembly.\n",
    "* Podemos usar o Python para conseguir input dos usuários e para armazenar dados em dicionários.\n",
    "* Para criar um registro permanente do que fizemos, podemos salvar o resultado do nosso programa para arquivos no disco do nosso computador."
   ]
  },
  {
   "cell_type": "markdown",
   "metadata": {},
   "source": [
    "<a id=exercicio></a>\n",
    "# Exercício\n",
    "\n",
    "Imagine que o contrato de prestação de serviços que automatizamos tem como objeto a geração automática de documentos. Nesse caso, não basta automatizarmos o contrato do cliente conosco. Precisamos também gerar documentos para esses clientes de forma automática.\n",
    "\n",
    "Vamos supor que seus clientes querem gerar declarações automáticas no seguinte formato:\n",
    "\n",
    "<blockquote>\n",
    "\n",
    "Eu, Guilherme, brasileiro, solteiro, com residência à rua tal e inscrito no CPF sob o número tal, declaro, para os devidos fins, que não tenho rendimentos a declarar com relação ao ano calendário de 2018.\n",
    "\n",
    "</blockquote>\n",
    "\n",
    "Implemente uma função (ou adapte a existente) para criar essas declarações para todos as chaves de `usuarios`. Rode essa função em um `for` loop para gerar um arquivo .txt seguindo a seguinte convenção de nomes:\n",
    "\n",
    "<blockquote>\n",
    "    [nome do cliente] + \"_declaracao.txt\"\n",
    "</blockquote>\n",
    "\n",
    "Após criar esses arquivos na pasta de trabalho atual, rode o script de correção na célula imediatamente posterior."
   ]
  },
  {
   "cell_type": "code",
   "execution_count": 17,
   "metadata": {},
   "outputs": [],
   "source": [
    "#implemente o seu código aqui\n",
    "\n"
   ]
  },
  {
   "cell_type": "code",
   "execution_count": null,
   "metadata": {
    "scrolled": true
   },
   "outputs": [],
   "source": [
    "from correcoes import aula6_ex2\n",
    "aula6_ex2(usuarios)"
   ]
  },
  {
   "cell_type": "markdown",
   "metadata": {},
   "source": [
    "## Exercício extra\n",
    "\n",
    "Na aula 5, vimos como fazer o cálculo de progressão de regime usando while loops. O código, que está reproduzido abaixo, implementa uma lógica simples adaptada do art. 112 da Lei de Execuções Penais."
   ]
  },
  {
   "cell_type": "code",
   "execution_count": 7,
   "metadata": {
    "scrolled": true
   },
   "outputs": [
    {
     "name": "stdout",
     "output_type": "stream",
     "text": [
      "Um ano de cárcere no regime atual\n",
      "Quantidade de anos de pena no regime atual =  1\n",
      "Um ano de cárcere no regime atual\n",
      "Quantidade de anos de pena no regime atual =  2\n",
      "Um ano de cárcere no regime atual\n",
      "Quantidade de anos de pena no regime atual =  3\n",
      "Ano elegível para progressão de regime\n",
      "Quantidade de anos de pena cumpridos até aqui em qualquer regime =  3\n",
      "Um ano de cárcere no regime atual\n",
      "Quantidade de anos de pena no regime atual =  1\n",
      "Um ano de cárcere no regime atual\n",
      "Quantidade de anos de pena no regime atual =  2\n",
      "Um ano de cárcere no regime atual\n",
      "Quantidade de anos de pena no regime atual =  3\n",
      "Ano elegível para progressão de regime\n",
      "Quantidade de anos de pena cumpridos até aqui em qualquer regime =  6\n",
      "Um ano de cárcere no regime atual\n",
      "Quantidade de anos de pena no regime atual =  1\n",
      "Um ano de cárcere no regime atual\n",
      "Quantidade de anos de pena no regime atual =  2\n",
      "Um ano de cárcere no regime atual\n",
      "Quantidade de anos de pena no regime atual =  3\n",
      "Ano elegível para progressão de regime\n",
      "Quantidade de anos de pena cumpridos até aqui em qualquer regime =  9\n",
      "Um ano de cárcere no regime atual\n",
      "Quantidade de anos de pena no regime atual =  1\n",
      "Um ano de cárcere no regime atual\n",
      "Quantidade de anos de pena no regime atual =  2\n",
      "Um ano de cárcere no regime atual\n",
      "Quantidade de anos de pena no regime atual =  3\n",
      "Ano elegível para progressão de regime\n",
      "Quantidade de anos de pena cumpridos até aqui em qualquer regime =  12\n",
      "Um ano de cárcere no regime atual\n",
      "Quantidade de anos de pena no regime atual =  1\n",
      "Um ano de cárcere no regime atual\n",
      "Quantidade de anos de pena no regime atual =  2\n",
      "Um ano de cárcere no regime atual\n",
      "Quantidade de anos de pena no regime atual =  3\n",
      "Ano elegível para progressão de regime\n",
      "Quantidade de anos de pena cumpridos até aqui em qualquer regime =  15\n",
      "Pena cumprida integralmente\n"
     ]
    }
   ],
   "source": [
    "pena_total = 15\n",
    "pena_regime_atual = 0\n",
    "pena_cumprida_geral = 0\n",
    "\n",
    "while pena_cumprida_geral < pena_total:\n",
    "    while pena_regime_atual / pena_total <= 1 / 6:\n",
    "        print(\"Um ano de cárcere no regime atual\")\n",
    "        pena_regime_atual += 1\n",
    "        print(\"Quantidade de anos de pena no regime atual = \", pena_regime_atual)\n",
    "    print(\"Ano elegível para progressão de regime\")\n",
    "    pena_cumprida_geral += pena_regime_atual\n",
    "    pena_regime_atual = 0\n",
    "    print(\"Quantidade de anos de pena cumpridos até aqui em qualquer regime = \", pena_cumprida_geral)\n",
    "\n",
    "print(\"Pena cumprida integralmente\")"
   ]
  },
  {
   "cell_type": "markdown",
   "metadata": {},
   "source": [
    "Embora o código acima tenha funcionado para mostrar a utilidade de loops while, ele é uma solução difícil de defender para os usuários práticos. Um juiz da Vara de Execuções Penais, por exemplo, provavelmente precisa fazer este cálculo para milhares de presos a cada mês. Para simplificar, imagine que você é responsável por verificar a progressão de regime dos presos descritos no dicionário `presos_dict` e precisa fazer isso **a cada ano** para saber se eles têm ou não direito à progressão de regime. Lembre-se que os regimes possíveis são, nessa ordem, \"fechado\", \"semi-aberto\" e \"aberto\". Se um preso já cumpriu sua pena integralmente, o atributo regime deve ser alterado para \"pena cumprida\". Crie uma **função** chamada `progressao_anual` que implemente a lógica acima, atualizando os valores relevantes a cada novo ano. A função deve retornar um dicionário."
   ]
  },
  {
   "cell_type": "code",
   "execution_count": null,
   "metadata": {},
   "outputs": [],
   "source": [
    "presos_dict = {\"Preso 1\" : {\"pena_total\" : 15,\n",
    "                           \"pena_regime_atual\" : 1,\n",
    "                           \"pena_cumprida_geral\" : 1,\n",
    "                           \"regime\" : \"fechado\"},\n",
    "              \"Preso 2\" : {\"pena_total\" : 21,\n",
    "                           \"pena_regime_atual\" : 3,\n",
    "                           \"pena_cumprida_geral\" : 3,\n",
    "                          \"regime\" : \"fechado\"},\n",
    "              \"Preso 3\" : {\"pena_total\" : 7,\n",
    "                           \"pena_regime_atual\" : 0,\n",
    "                           \"pena_cumprida_geral\" : 0,\n",
    "                          \"regime\" : \"semi-aberto\"},\n",
    "              \"Preso 4\" : {\"pena_total\" : 2,\n",
    "                          \"pena_regime_atual\" : 0,\n",
    "                          \"pena_cumprida_geral\" : 0,\n",
    "                          \"regime\" : \"aberto\"}}"
   ]
  },
  {
   "cell_type": "code",
   "execution_count": null,
   "metadata": {},
   "outputs": [],
   "source": [
    "#seu código aqui\n"
   ]
  },
  {
   "cell_type": "code",
   "execution_count": null,
   "metadata": {
    "scrolled": false
   },
   "outputs": [],
   "source": [
    "from correcoes import exercicio_extra5\n",
    "exercicio_extra5(progressao_anual)"
   ]
  }
 ],
 "metadata": {
  "kernelspec": {
   "display_name": "Python 3",
   "language": "python",
   "name": "python3"
  },
  "language_info": {
   "codemirror_mode": {
    "name": "ipython",
    "version": 3
   },
   "file_extension": ".py",
   "mimetype": "text/x-python",
   "name": "python",
   "nbconvert_exporter": "python",
   "pygments_lexer": "ipython3",
   "version": "3.9.1"
  },
  "toc": {
   "base_numbering": 1,
   "nav_menu": {
    "height": "12px",
    "width": "168px"
   },
   "number_sections": false,
   "sideBar": true,
   "skip_h1_title": false,
   "title_cell": "Índice",
   "title_sidebar": "Conteúdo",
   "toc_cell": false,
   "toc_position": {
    "height": "calc(100% - 180px)",
    "left": "10px",
    "top": "150px",
    "width": "378px"
   },
   "toc_section_display": true,
   "toc_window_display": false
  }
 },
 "nbformat": 4,
 "nbformat_minor": 2
}

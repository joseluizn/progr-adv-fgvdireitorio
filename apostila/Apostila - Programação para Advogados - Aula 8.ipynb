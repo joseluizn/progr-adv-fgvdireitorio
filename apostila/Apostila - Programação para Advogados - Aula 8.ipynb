{
 "cells": [
  {
   "cell_type": "markdown",
   "metadata": {},
   "source": [
    "# Índice\n",
    "\n",
    "\n",
    "#### - [Aula 8 - Importando pacotes e Funções Lambda](#aula8)\n",
    "\n",
    "#### - [Importando pacotes](#pacotes)\n",
    "\n",
    "#### - [Funções Lambda](#lambda)\n",
    "\n",
    "#### - [Resumo](#resumo)\n",
    "\n",
    "#### - [Exercício Extra](#exercicio)"
   ]
  },
  {
   "cell_type": "markdown",
   "metadata": {},
   "source": [
    "# Parte 2 - Expandindo as capacidades do Python"
   ]
  },
  {
   "cell_type": "markdown",
   "metadata": {},
   "source": [
    "Na segunda parte do curso, já contamos com os fundamentos básicos de programação. Você já sabe o que são iterações, loops, statements condicionais e tipos de variáveis. Também já sabe definir suas próprias funções. Ao longo das nossas últimas 4 aulas, veremos algumas formas de explorar as vantagens do Python: uma linguagem com muitos desenvolvedores e com características idiomáticas que permitem que façamos tarefas complexas com pouco código. Finalmente, veremos como podemos usar todos os elementos trabalhados ao longo do curso para criar documentos de texto estruturados que podem ser usados na prática cotidiana de um advogado."
   ]
  },
  {
   "cell_type": "markdown",
   "metadata": {},
   "source": [
    "<a id=aula8></a>\n",
    "# Aula 8\n",
    "\n",
    "Após sete aulas programando, estamos preparados para lidar com conceitos mais complexos. O objetivo dessa aula é introduzir algumas das técnicas que vamos usar na segunda parte do curso. Em particular, vamos falar de **pacotes** e **funções lambda**.\n",
    "\n",
    "Para realizar grandes coisas, precisamos subir sobre os ombros de gigantes. A comunidade Python é incrível e já desenvolveu muitas ferramentas que foram disponibilizadas gratuitamente para os usuários da plataforma. Não há necessidade de reinventar a roda. Por esse motivo, é útil aprender a **importar pacotes**.\n",
    "\n",
    "Algumas vezes, precisamos fazer alguma operação simples sobre um determinado input, não dispomos de nenhuma função built-in e não vale a pena definir uma função nova. Para esses casos existem as **funções lambda**."
   ]
  },
  {
   "cell_type": "markdown",
   "metadata": {},
   "source": [
    "<a id=pacotes></a>\n",
    "# Importando pacotes\n",
    "\n",
    "Há várias maneiras diferentes de incorporar código criado anteriormente em nossos programas. Uma delas é simplesmente copiar e colar trechos de resposta do Stack Overflow, por exemplo! Mas essa maneira claramente não é a mais elegante, nem a mais eficiente.\n",
    "\n",
    "De maneira geral, queremos importar funções e métodos que foram distribuídos em **pacotes**, **bibliotecas** ou **módulos** (usamos os 3 termos como sinônimos) disponibilizados pelos desenvolvedores em algum lugar. Alternativamente, como veremos, podemos importar código a partir de arquivos .py salvos na pasta de trabalho que você está utilizando.\n",
    "\n",
    "Existe mais de uma maneira de importar pacotes. A mais simples é a seguinte:"
   ]
  },
  {
   "cell_type": "code",
   "execution_count": 26,
   "metadata": {},
   "outputs": [],
   "source": [
    "import os"
   ]
  },
  {
   "cell_type": "markdown",
   "metadata": {},
   "source": [
    "Essa linha importa um pacote chamado `os` e todas as funções e métodos que estão contidos nele. Para acessar esses métodos, precisamos iniciar nossa linha com `os.` e declarar, na sequência, qual função pretendemos utilizar. A sintaxe geral, portanto, é: `[nome do pacote].[nome_ da função]`. Podemos exemplificar esse uso com a função `getcwd()` que é usada para pegar sua pasta de trabalho atual (current working directory, abreviado como cwd):"
   ]
  },
  {
   "cell_type": "code",
   "execution_count": 27,
   "metadata": {},
   "outputs": [
    {
     "data": {
      "text/plain": [
       "'/home/almeida2808/OneDrive/SeN/ds_extensao/Material do curso'"
      ]
     },
     "execution_count": 27,
     "metadata": {},
     "output_type": "execute_result"
    }
   ],
   "source": [
    "os.getcwd()"
   ]
  },
  {
   "cell_type": "markdown",
   "metadata": {},
   "source": [
    "Em pacotes como `os`, não parece problemático usar essa notação. Mas lembre-se que existem pacotes com nomes como `seaborn`:"
   ]
  },
  {
   "cell_type": "code",
   "execution_count": 33,
   "metadata": {},
   "outputs": [],
   "source": [
    "import seaborn"
   ]
  },
  {
   "cell_type": "markdown",
   "metadata": {},
   "source": [
    "O pacote `seaborn` é usado para gerar gráficos. Agora, imagine que vamos fazer um gráfico de barras com esse pacote. Teríamos que usar a seguinte sintaxe:"
   ]
  },
  {
   "cell_type": "code",
   "execution_count": 34,
   "metadata": {
    "scrolled": true
   },
   "outputs": [
    {
     "data": {
      "text/plain": [
       "<matplotlib.axes._subplots.AxesSubplot at 0x7f832472efd0>"
      ]
     },
     "execution_count": 34,
     "metadata": {},
     "output_type": "execute_result"
    },
    {
     "data": {
      "image/png": "[encoded data removed]",
      "text/plain": [
       "<Figure size 432x288 with 1 Axes>"
      ]
     },
     "metadata": {
      "needs_background": "light"
     },
     "output_type": "display_data"
    }
   ],
   "source": [
    "%matplotlib inline\n",
    "seaborn.barplot(x = [\"Nomes completos\", \"Nomes abreviados\"], y = [500, 200])"
   ]
  },
  {
   "cell_type": "markdown",
   "metadata": {},
   "source": [
    "<i> A célula acima contém um gráfico de barras com os dois valores inseridos na célula. \"Nomes completos\" com valor 500 e \"nomes abreviados\" com valor 200.</i>\n",
    "\n",
    "Imagine que o eixo Y do gráfico acima representa o número de caracteres digitados por quem importa nomes inteiros e por aqueles que importam nomes abreviados.\n",
    "\n",
    "Mas o que são nomes abreviados? Podemos usar um \"apelido\" para o pacote `seaborn` e economizar um pouco na digitação:"
   ]
  },
  {
   "cell_type": "code",
   "execution_count": 39,
   "metadata": {},
   "outputs": [
    {
     "data": {
      "text/plain": [
       "<matplotlib.axes._subplots.AxesSubplot at 0x7f8324353860>"
      ]
     },
     "execution_count": 39,
     "metadata": {},
     "output_type": "execute_result"
    },
    {
     "data": {
      "image/png": "[encoded data removed]",
      "text/plain": [
       "<Figure size 432x288 with 1 Axes>"
      ]
     },
     "metadata": {
      "needs_background": "light"
     },
     "output_type": "display_data"
    }
   ],
   "source": [
    "import seaborn as sns\n",
    "sns.barplot(x = [\"Nomes completos\", \"Nomes abreviados\"], y = [500, 200])"
   ]
  },
  {
   "cell_type": "markdown",
   "metadata": {},
   "source": [
    "<i>A célula acima resulta no mesmo gráfico gerado anteriormente. </i>\n",
    "\n",
    "<blockquote>\n",
    "    \n",
    "OBS.: Pacotes com nomes longos geralmente têm abreviações \"oficiais\" que são comumente usadas pela comunidade. Assim, `seaborn` costuma ser abreviado como sns, `pandas` como pd, e assim por diante. Sempre vale consultar o Google na hora de abreviar nomes de pacotes.\n",
    "\n",
    "</blockquote>"
   ]
  },
  {
   "cell_type": "markdown",
   "metadata": {},
   "source": [
    "Tudo funciona exatamente da mesma forma, só que economizamos um pouco na hora de digitar.\n",
    "\n",
    "Mas será que existe uma maneira de não escrevermos nada antes das funções? Sim, podemos escolher uma função avulsa, por exemplo, e, em vez de importarmos o pacote inteiro, pegarmos apenas aquela parte do código:"
   ]
  },
  {
   "cell_type": "code",
   "execution_count": 4,
   "metadata": {},
   "outputs": [
    {
     "data": {
      "text/plain": [
       "<AxesSubplot:>"
      ]
     },
     "execution_count": 4,
     "metadata": {},
     "output_type": "execute_result"
    },
    {
     "data": {
      "image/png": "[encoded data removed]",
      "text/plain": [
       "<Figure size 432x288 with 1 Axes>"
      ]
     },
     "metadata": {
      "needs_background": "light"
     },
     "output_type": "display_data"
    }
   ],
   "source": [
    "from seaborn import barplot\n",
    "barplot(x = [\"Nomes completos\", \"Nomes abreviados\"], y = [500, 200])"
   ]
  },
  {
   "cell_type": "markdown",
   "metadata": {},
   "source": [
    "<i>Novamente, temos o mesmo gráfico.</i>\n",
    "\n",
    "Assim, se conhecemos um pacote, podemos importar funções avulsas usando a sintaxe `from nome_do_pacote import nome_da_funcao`."
   ]
  },
  {
   "cell_type": "markdown",
   "metadata": {},
   "source": [
    "Se formos radicais, podemos importar *todas* as funções de um pacote para o nosso contexto atual usando um `*` em vez de um nome de função:"
   ]
  },
  {
   "cell_type": "code",
   "execution_count": 5,
   "metadata": {},
   "outputs": [],
   "source": [
    "from seaborn import *"
   ]
  },
  {
   "cell_type": "markdown",
   "metadata": {},
   "source": [
    "O problema com esse uso é que agora temos controle total sobre os nomes do pacote. Assim, se criarmos uma variável chamada `barplot` e escrevermos alguma coisa para ela, teremos *quebrado* essa função:"
   ]
  },
  {
   "cell_type": "code",
   "execution_count": 7,
   "metadata": {
    "scrolled": true
   },
   "outputs": [
    {
     "name": "stdout",
     "output_type": "stream",
     "text": [
      "Um gráfico de barras\n"
     ]
    },
    {
     "data": {
      "text/plain": [
       "<AxesSubplot:>"
      ]
     },
     "execution_count": 7,
     "metadata": {},
     "output_type": "execute_result"
    },
    {
     "data": {
      "image/png": "[encoded data removed]",
      "text/plain": [
       "<Figure size 432x288 with 1 Axes>"
      ]
     },
     "metadata": {
      "needs_background": "light"
     },
     "output_type": "display_data"
    }
   ],
   "source": [
    "print(\"Um gráfico de barras\")\n",
    "barplot(x = [\"Nomes completos\", \"Nomes abreviados\"], y = [500, 200]) #essa é exatamente a mesma linha que rodamos acima"
   ]
  },
  {
   "cell_type": "markdown",
   "metadata": {},
   "source": [
    "<i>Temos como resultado o mesmo gráfico anterior.</i>\n",
    "\n",
    "Assim, a melhor prática em termos de importação de pacotes é ser parcimonioso: importe apenas o que vai usar e use as abreviações padronizadas sempre."
   ]
  },
  {
   "cell_type": "markdown",
   "metadata": {},
   "source": [
    "Em geral, instalamos os pacotes a partir do repositório oficial do Python. Você pode fazer isso abrindo um terminal e digitando `pip install [nome do pacote]`. O procedimento para chegar ao terminal relevante varia um pouco de acordo com o sistema operacional e a instalação do Python que está ativa. Neste curso, não vamos lidar com esse tópico, mas é fácil descobrir como instalar novos pacotes no seu sistema operacional e na sua instalação específica. O motivo pelo qual escolhemos fazer a instalação do Python através do Anaconda no começo foi justamente o fato desta distribuição conter todos os pacotes que vamos utilizar no curso."
   ]
  },
  {
   "cell_type": "markdown",
   "metadata": {},
   "source": [
    "Outra maneira de importar usando essa sintaxe é a partir de arquivos .py. Se você salva uma função em um arquivo com essa extensão, depois pode usar a importação para usufruir das funções nele contidas."
   ]
  },
  {
   "cell_type": "markdown",
   "metadata": {},
   "source": [
    "#### As vantagens de pacotes\n",
    "\n",
    "O quão mais trabalhoso seria simplesmente ignorar pacotes e implementar tudo sozinho? Para termos uma ideia, faz sentido olhar para o **código fonte** do pacote Seaborn, que está disponível no [GitHub](https://github.com/mwaskom/seaborn).\n",
    "\n",
    "A função `sns.barplot()`, por exemplo, é parte de uma categoria de funções feitas para desenhar gráficos categóricos. O arquivo .py dessa família de funções tem 3.929 linhas! E ele não faz tudo sozinho: o Seaborn depende de outros pacotes, de forma que é fundamental utilizarmos pacotes externos."
   ]
  },
  {
   "cell_type": "markdown",
   "metadata": {},
   "source": [
    "<a id=lambda></a>\n",
    "# Lambda, lambda, lambda"
   ]
  },
  {
   "cell_type": "markdown",
   "metadata": {},
   "source": [
    "Há casos em que podemos aplicar uma expressão a uma coleção de objetos ou usar uma função simples apenas uma vez. Para estes casos existe o operador lambda.\n",
    "\n",
    "Podemos usar o operador lambda para criar funções pequenas **anônimas**. Essas funções são chamadas anônimas, pois não precisam de um `def`, nem de nome de chamada, isto é, não precisam ser declaradas na forma padrão.\n",
    "\n",
    "Expressões lambda podem aceitar qualquer quantidade de argumentos (como funções), mas devem conter apenas uma única expressão. Você não pode criar uma função com várias linhas dentro de uma função lambda.\n",
    "\n",
    "Um exemplo simples envolve a aplicação da circunstância de aumento de pena ao crime de homicídio prevista pelo § 6º do art. 121 do Código Penal, que vimos algumas aulas atrás:\n",
    "\n",
    "<blockquote>\n",
    "    § 6º A pena é aumentada de 1/3 (um terço) até a metade se o crime for praticado por milícia privada, sob o pretexto de prestação de serviço de segurança ou por grupo de extermínio.\n",
    "</blockquote>\n",
    "\n",
    "Naquela ocasião, ainda no começo do curso, optamos por declarar uma série de operações para aplicar o aumento de pena a uma pena base específica:"
   ]
  },
  {
   "cell_type": "code",
   "execution_count": 41,
   "metadata": {},
   "outputs": [
    {
     "name": "stdout",
     "output_type": "stream",
     "text": [
      "12.0\n"
     ]
    }
   ],
   "source": [
    "pena_base = 9\n",
    "circunstancia_de_aumento = 1/3\n",
    "\n",
    "pena_final = pena_base + (pena_base * circunstancia_de_aumento)\n",
    "print(pena_final)"
   ]
  },
  {
   "cell_type": "markdown",
   "metadata": {},
   "source": [
    "Mais maduros e sofisticados, poderíamos ter definido uma função específica chamada `aumento_milicia()`:"
   ]
  },
  {
   "cell_type": "code",
   "execution_count": 42,
   "metadata": {},
   "outputs": [],
   "source": [
    "def aumento_milicia(pena_base):\n",
    "    pena_final = pena_base + (pena_base * 1/3)\n",
    "    return(pena_final)"
   ]
  },
  {
   "cell_type": "code",
   "execution_count": 44,
   "metadata": {},
   "outputs": [
    {
     "data": {
      "text/plain": [
       "13.333333333333334"
      ]
     },
     "execution_count": 44,
     "metadata": {},
     "output_type": "execute_result"
    }
   ],
   "source": [
    "#teste da função\n",
    "aumento_milicia(10)"
   ]
  },
  {
   "cell_type": "markdown",
   "metadata": {},
   "source": [
    "Podemos fazer o mesmo trabalho com uma função `lambda`. A sintaxe é a seguinte: `lambda x: [alguma operação em cima de x]`, onde x pode assumir qualquer nome (assim como acontece com os nomes dos itens que são percorridos em um `for` loop. Assim, poderíamos criar a função e atribuí-la a uma variável através de uma expressão lambda:"
   ]
  },
  {
   "cell_type": "code",
   "execution_count": 45,
   "metadata": {},
   "outputs": [],
   "source": [
    "aumento_milicia_lambda = lambda pena: pena + (pena * 1/3)"
   ]
  },
  {
   "cell_type": "code",
   "execution_count": 46,
   "metadata": {},
   "outputs": [
    {
     "data": {
      "text/plain": [
       "13.333333333333334"
      ]
     },
     "execution_count": 46,
     "metadata": {},
     "output_type": "execute_result"
    }
   ],
   "source": [
    "#teste da função\n",
    "aumento_milicia_lambda(10)"
   ]
  },
  {
   "cell_type": "markdown",
   "metadata": {},
   "source": [
    "Expressões lambda podem tomar vários argumentos. Assim, poderíamos definir uma função geral para calcular aumento de pena usando essa sintaxe:"
   ]
  },
  {
   "cell_type": "code",
   "execution_count": 47,
   "metadata": {},
   "outputs": [],
   "source": [
    "aumento_de_pena = lambda pena, fator_aumento: pena + (pena * fator_aumento)"
   ]
  },
  {
   "cell_type": "code",
   "execution_count": 48,
   "metadata": {},
   "outputs": [
    {
     "data": {
      "text/plain": [
       "13.333"
      ]
     },
     "execution_count": 48,
     "metadata": {},
     "output_type": "execute_result"
    }
   ],
   "source": [
    "#teste\n",
    "aumento_de_pena(10, 0.3333)"
   ]
  },
  {
   "cell_type": "markdown",
   "metadata": {},
   "source": [
    "Com múltiplos argumentos, podemos fazer quase tudo o que fizemos na aula passada com funções usando expressões lambdas.\n",
    "\n",
    "Vamos relembrar a primeira função que escrevemos:"
   ]
  },
  {
   "cell_type": "code",
   "execution_count": 49,
   "metadata": {},
   "outputs": [],
   "source": [
    "#nossa primeira função!\n",
    "def substituir_contratante(texto_contrato, nome):\n",
    "    texto_modificado = texto_contrato.replace(\"<'nome'>\", nome) \n",
    "    return texto_modificado #repare como depois de return há um espaço e não parênteses"
   ]
  },
  {
   "cell_type": "markdown",
   "metadata": {},
   "source": [
    "`substituir_contratante()` poderia ter sido criada com uma expressão lambda. Implemente a mesma funcionalidade na célula abaixo, atribuindo a função lambda criada à variável `contratante_lambda`. Em seguida, rode a célula de correção."
   ]
  },
  {
   "cell_type": "code",
   "execution_count": 1,
   "metadata": {},
   "outputs": [],
   "source": [
    "#implemente seu código aqui!\n"
   ]
  },
  {
   "cell_type": "code",
   "execution_count": null,
   "metadata": {},
   "outputs": [],
   "source": [
    "#rode para a correção!\n",
    "from correcoes import aula8_ex1\n",
    "aula8_ex1(contratante_lambda)"
   ]
  },
  {
   "cell_type": "markdown",
   "metadata": {},
   "source": [
    "Funções lambda podem ser muito úteis quando queremos repetir uma operação relativamente simples um grande número de vezes. \n",
    "\n",
    "Na disciplina Ciência de Dados para Advogados, veremos como essa lógica funciona bem em estruturas de dados mais complexas."
   ]
  },
  {
   "cell_type": "markdown",
   "metadata": {},
   "source": [
    "<a id=resumo></a>\n",
    "# Resumo\n",
    "\n",
    "* Vimos as diferentes sintaxes que podem ser usadas para **importar pacotes** do Python (como `import pacote` e `from pacote import funcao`);\n",
    "\n",
    "* Pacotes são importantes porque eles nos permitem expandir as funcionalidades do Python drasticamente. Seria extremamente difícil (e inútil) fazer coisas ambiciosas sem se valer do trabalho dos desenvolvedores que nos precederam;\n",
    "\n",
    "* Vimos as funções anônimas, ou **funções lambda**, e como elas podem ser usadas para realizar operações simples em um amplo conjunto de dados;"
   ]
  },
  {
   "cell_type": "markdown",
   "metadata": {},
   "source": [
    "<a id=exercicio></a>\n",
    "# Exercício extra\n",
    "\n",
    "Crie uma função chamada \"onde_estou\" (preferencialmente, usando o operador lambda!) que use o pacote `os` para retornar a string \"Atualmente, você está no seguinte diretório: <string_que_representa_o_diretório>\".\n",
    "\n",
    "<blockquote>\n",
    "    Atenção! Queremos que você retorne o resultado, e não que imprima ele.\n",
    "</blockquote>"
   ]
  },
  {
   "cell_type": "code",
   "execution_count": 3,
   "metadata": {},
   "outputs": [],
   "source": [
    "#seu código aqui\n"
   ]
  },
  {
   "cell_type": "code",
   "execution_count": null,
   "metadata": {},
   "outputs": [],
   "source": [
    "from correcoes import exercicio_extra6\n",
    "exercicio_extra6(onde_estou)"
   ]
  }
 ],
 "metadata": {
  "kernelspec": {
   "display_name": "base",
   "language": "python",
   "name": "python3"
  },
  "language_info": {
   "codemirror_mode": {
    "name": "ipython",
    "version": 3
   },
   "file_extension": ".py",
   "mimetype": "text/x-python",
   "name": "python",
   "nbconvert_exporter": "python",
   "pygments_lexer": "ipython3",
   "version": "3.9.1 (default, Dec 11 2020, 09:29:25) [MSC v.1916 64 bit (AMD64)]"
  },
  "toc": {
   "base_numbering": 1,
   "nav_menu": {
    "height": "12px",
    "width": "168px"
   },
   "number_sections": false,
   "sideBar": true,
   "skip_h1_title": false,
   "title_cell": "Índice",
   "title_sidebar": "Conteúdo",
   "toc_cell": false,
   "toc_position": {
    "height": "calc(100% - 180px)",
    "left": "10px",
    "top": "150px",
    "width": "378px"
   },
   "toc_section_display": true,
   "toc_window_display": false
  },
  "vscode": {
   "interpreter": {
    "hash": "19d1d53a962d236aa061289c2ac16dc8e6d9648c89fe79f459ae9a3493bc67b4"
   }
  }
 },
 "nbformat": 4,
 "nbformat_minor": 4
}

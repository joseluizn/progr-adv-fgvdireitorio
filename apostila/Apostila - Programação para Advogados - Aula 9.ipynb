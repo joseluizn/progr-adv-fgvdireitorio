{
 "cells": [
  {
   "cell_type": "markdown",
   "metadata": {},
   "source": [
    "<a id=aula10></a>\n",
    "# Índice\n",
    "\n",
    "#### - [Introdução](#intro)\n",
    "\n",
    "#### - [Encoding](#encoding)\n",
    "\n",
    "#### - [Resumo](#resumo)\n",
    "\n",
    "#### - [Exercícios](#exercicio)\n",
    "\n",
    "\n",
    "# Aula 9 - Elementos avançados de strings\n",
    "\n",
    "\n",
    "<a id=encoding></a>\n",
    "## Encoding\n",
    "\n",
    "Texto precisa ser guardado pelo computador de alguma forma e sabemos que computadores não falam nenhuma das línguas que nós, seres humanos, costumamos usar. Assim, os caracteres que compõem a linguagem natural são representados pela máquina através de **encodings**.\n",
    "\n",
    "Durante muito tempo, o encoding padrão usado por quase todos os programas e linguagens de programação era o American Standard Code for Information Interchange, ou ASCII. Esse encoding, em sua forma mais básica, **não inclui caracteres especiais** como acentos e cedilhas, o que sempre levou a problemas com línguas latinas, como o português.\n",
    "\n",
    "Uma série de encodings foram criados para resolver esse problema. Assim, por exemplo, os encodings Latin-1, Latin-9 e Windows-1252 incluem todos os símbolos usados na língua portuguesa e costumam ser bem-sucedidos ao tentar decodificar documentos produzidos no Brasil.\n",
    "\n",
    "Se o conjunto restrito de caracteres ASCII já representava um problema para o português, imagine o que ele representava para línguas como o chinês, ou o japonês, que incluem caracteres completamente alheios ao alfabeto latino. Pensando em todas essas idiossincrasias, foi criada uma nova família de encodings padrão, chamada Unicode. O principal membro dessa família é o encoding UTF-8, que é o padrão do Python e é capaz de representar praticamente qualquer caractere.\n",
    "\n",
    "Essa pequena história é importante, porque ainda vamos encontrar arquivos que não foram adaptados ao padrão UTF-8. O código abaixo faz download de um exemplo que preparamos de antemão: uma sentença do Tribunal de Justiça do Rio de Janeiro que usa Latin-1 como encoding.\n",
    "\n",
    "<blockquote>\n",
    "   \n",
    "OBS.: Não vamos entrar na sintaxe usada para fazer o download dos arquivos, mas fiz comentários ao código que podem ser úteis para aqueles que tiverem curiosidade.\n",
    "   \n",
    "</blockquote>"
   ]
  },
  {
   "cell_type": "code",
   "execution_count": 2,
   "metadata": {
    "scrolled": true
   },
   "outputs": [],
   "source": [
    "import requests\n",
    "\n",
    "#essa url faz o download do arquivo do google drive daquele id\n",
    "google_url = \"https://drive.google.com/uc?export=download&id=\"\n",
    "file_id = \"1JJ4Qf1gt1o2tTryhUFuCfloqFBJYkqdC\"\n",
    "\n",
    "tjrj_1 = requests.get(google_url + file_id).content #a primeira parte (requests.get()) visita a URL, .content acessa o conteúdo da resposta."
   ]
  },
  {
   "cell_type": "markdown",
   "metadata": {},
   "source": [
    "`tjrj_1` é do tipo `bytes`. Precisamos transformá-lo em uma string para ler a resposta. Vamos tentar fazer isso usando a função `str()`."
   ]
  },
  {
   "cell_type": "code",
   "execution_count": 21,
   "metadata": {},
   "outputs": [
    {
     "name": "stdout",
     "output_type": "stream",
     "text": [
      "b'\\tTrata-se de reclama\\xe7\\xe3o atrav\\xe9s da qual a parte autora pleiteia a condena\\xe7\\xe3o da reclamada a cumprir uma obriga\\xe7\\xe3o de fazer e pagar indeniza\\xe7\\xe3o por danos morais. Resumidamente, alegou que reside no distrito de Porto Velho do Cunha e, j\\xe1 h\\xe1 algum tempo, o servi\\xe7o de fornecimento de energia el\\xe9trica vem sendo prestado de forma deficiente. Disse que freq\\xfcentemente h\\xe1 interrup\\xe7\\xf5es. Solicitou reparos junto a reclamada. Houve at\\xe9 reuni\\xf5es com os representantes da reclamada, mas as falhas permanecem. Ressaltou toda sorte de transtornos e findou requerendo a condena\\xe7\\xe3o da reclamada a normalizar, de uma vez por todas, o fornecimento de energia, bem como pagar indeniza\\xe7\\xe3o por danos morais. \\n\\n\\tA decis\\xe3o de fls. 15 deferiu a antecipa\\xe7\\xe3o da tutela. \\n\\n\\tRealizou-se AIJ, na qual a r\\xe9 apresentou contesta\\xe7\\xe3o escrita, acompanhada de documentos. \\n\\n\\tA quest\\xe3o consiste em determinar se os fatos constituem motivo para a imposi\\xe7\\xe3o de indeniza\\xe7\\xe3o por danos morais. \\n\\n\\tR\\xe1pida pesquisa de jurisprud\\xeancia das Turmas Recursais do Estado do Rio de Janeiro demonstra que a resposta \\xe9 negativa. As decis\\xf5es recentes revelam que, ainda que se trate de servi\\xe7o essencial, a interrup\\xe7\\xe3o breve por falhas operacionais n\\xe3o configura dano moral indeniz\\xe1vel. \\xc9 de todo conveniente transcrever as seguintes decis\\xf5es, recentemente proferidas por diversos Ju\\xedzes integrantes das Turmas Recursais deste Estado, inclusive com fundamento em s\\xfamula da jurisprud\\xeancia dominante no Tribunal de Justi\\xe7a: \\n\\n\"Rela\\xe7\\xe3o de consumo. Servi\\xe7o de fornecimento de energia el\\xe9trica. Pedido de compensa\\xe7\\xe3o por danos morais em decorr\\xeancia de alegada indisponibilidade do servi\\xe7o das 20h00min do dia 17.02.2011 at\\xe9 as 08h00min do dia 18.02.2011. A senten\\xe7a julgou procedente em parte o pedido, condenando a concession\\xe1ria r\\xe9 a pagar R$ 2.000,00 \\xe0 autora, a t\\xedtulo de compensa\\xe7\\xe3o por danos morais. Recurso inominado interposto pela Ampla Energia e Servi\\xe7os S. A. que merece provimento. A narrativa da inicial n\\xe3o encontra amparo em prova m\\xednima. N\\xe3o houve indisponibilidade do servi\\xe7o por tempo juridicamente relevante - tampouco comprova\\xe7\\xe3o de descontinuidade total do servi\\xe7o por pelo menos 24 horas ininterruptas -, o que afasta a possibilidade de acolhimento do pedido de indeniza\\xe7\\xe3o por danos morais. Cabe aplicar ao caso o entendimento expresso no verbete n\\xba 193 da S\\xfamula da jurisprud\\xeancia do TJRJ: \\'Breve interrup\\xe7\\xe3o na presta\\xe7\\xe3o dos servi\\xe7os essenciais de \\xe1gua, energia el\\xe9trica, telefone e g\\xe1s por defici\\xeancia operacional n\\xe3o constitui dano moral\\'. Isto posto, dou provimento ao recurso e julgo improcedente o pedido de compensa\\xe7\\xe3o por danos morais. Sem \\xf4nus sucumbenciais, em raz\\xe3o do provimento do recurso.\"\\n(Proc. n\\xba 0002874-42.2010.8.19.0053, Rel. Juiz TIAGO HOLANDA MASCARENHAS, j. em 16.08.2012)\\n\\n\"Rela\\xe7\\xe3o de Consumo. Fornecimento de energia el\\xe9trica. Oscila\\xe7\\xf5es no fornecimento. Pretens\\xe3o de indeniza\\xe7\\xe3o por danos materiais e morais. Dano material n\\xe3o comprovado. Dano moral n\\xe3o configurado. A senten\\xe7a recorrida julgou improcedente o pedido, revogando a liminar concedida initio litis (fls. 45). Senten\\xe7a que deu correta solu\\xe7\\xe3o \\xe0 lide e n\\xe3o merece reforma. A autora reclama de interrup\\xe7\\xe3o imotivada do servi\\xe7o ocorrida no dia 10/10/2010, em Cabo frio, com restabelecimento no dia 12/10/2010. Fornecedora que comprova de modo suficiente que a suspens\\xe3o do servi\\xe7o decorreu de for\\xe7a maior, a forte ventania que atingiu a regi\\xe3o (fls. 41). Falha que deve ser interpretada como mero inadimplemento contratual insuficiente para acarretar ofensa a direito da personalidade, j\\xe1 que no caso concreto, n\\xe3o houve relato de danos espec\\xedficos efetivamente suportados pelos consumidores, em decorr\\xeancia da interrup\\xe7\\xe3o. Prova do alegado dano que n\\xe3o foi individualizada. Para fixa\\xe7\\xe3o de dano moral, h\\xe1 que ser relatado exatamente o fato danoso e as repercuss\\xf5es dele na vida do ofendido, especialmente quando a quest\\xe3o n\\xe3o reflete dano moral in re ipsa, j\\xe1 que n\\xe3o se trata de corte da energia el\\xe9trica (fato em si constrangedor, por pressupor inadimpl\\xeancia ou fraude), mas sim de \\'suspens\\xe3o tempor\\xe1ria\\', devido a problemas t\\xe9cnicos enfrentados pela concession\\xe1ria de energia el\\xe9trica. Mero aborrecimento cotidiano, n\\xe3o identificadas graves repercuss\\xf5es no bem estar e no psiquismo da consumidora. Inicial que n\\xe3o indica um n\\xfamero de protocolo de reclama\\xe7\\xe3o e que s\\xf3 veio instru\\xedda com uma \\xfanica fatura de consumo, referente a per\\xedodo anterior aos fatos narrados (fls. 10). Dano moral n\\xe3o configurado. No E. TJERJ a quest\\xe3o j\\xe1 est\\xe1 pacificada, nos termos do Enunciado 18 do Aviso TJRJ 29/11, verbis: \\'Breve interrup\\xe7\\xe3o na presta\\xe7\\xe3o dos servi\\xe7os essenciais de \\xe1gua, energia el\\xe9trica, telefone e g\\xe1s por defici\\xeancia operacional n\\xe3o constitui dano moral\\'. Dano material que exige a prova cabal do preju\\xedzo que, na hip\\xf3tese, n\\xe3o foi produzida (at. 333, I, do CPC). Acerto do decisum ao concluir pela improced\\xeancia dos pedidos. Ante o exposto, conhe\\xe7o do recurso interposto pela autora e lhe nego provimento para manter a senten\\xe7a por seus pr\\xf3prios fundamentos, fazendo pequeno reparo somente para dela excluir a confirma\\xe7\\xe3o da tutela, posto que n\\xe3o foi concedida antecipa\\xe7\\xe3o de efeitos da tutela initio litis. Honor\\xe1rios fixados em R$ 300,00, nos termos do art. 20, \\xa7 4\\xba do CPC, observado o art. 12, da Lei 1.060/50.\"\\n(Proc. n\\xba 0017793-31.2011.8.19.0011, Rel. Ju\\xedza M\\xc1RCIA DE ANDRADE PUMAR, j. em 09.08.2012)\\n\\n\"Narra a parte autora que \\xe9 consumidora dos servi\\xe7os prestados pela r\\xe9, e que, no dia 18/9/2011, ocorreu um apag\\xe3o na comunidade onde mora, no munic\\xedpio de S\\xe3o Jo\\xe3o da Barra - RJ. Sustenta que ficou sem o servi\\xe7o de energia el\\xe9trica por quase 17 horas, das 4h30 \\xe0s 21h, e que desde ent\\xe3o v\\xeam ocorrendo picos de energia na regi\\xe3o. Requer indeniza\\xe7\\xe3o a t\\xedtulo de danos morais. Realizado \\'Paut\\xe3o de ACIJ\\', foi prolatada a senten\\xe7a de fls. 17/18 que julgou procedente em parte o pedido para condenar a r\\xe9 ao pagamento de R$ 1.000,00, a t\\xedtulo de indeniza\\xe7\\xe3o por danos morais. Recurso inominado da parte r\\xe9, argumentando, em s\\xedntese, que a parte autora n\\xe3o comprova os danos que alega ter sofrido, pugnando pela improced\\xeancia do pedido ou a redu\\xe7\\xe3o do quantum indenizat\\xf3rio. \\xc9 o breve relat\\xf3rio. Decido. No caso em comento, verifica-se, pela narrativa da inicial, que a interrup\\xe7\\xe3o do fornecimento de energia el\\xe9trica na resid\\xeancia da parte autora durou menos de 24 (vinte e quatro) horas, entendendo este Ju\\xedzo que n\\xe3o est\\xe3o caracterizados os danos morais alegados. Aplica-se ao caso concreto o Enunciado 18, do Aviso 94/2010, in verbis: \\'Breve interrup\\xe7\\xe3o na presta\\xe7\\xe3o dos servi\\xe7os essenciais de \\xe1gua, energia el\\xe9trica, telefone e g\\xe1s por defici\\xeancia operacional n\\xe3o constitui dano moral\\'. Ante o exposto, voto no sentido de conhecer e dar provimento ao recurso da parte r\\xe9, para julgar improcedente o pedido de danos morais acolhido na senten\\xe7a monocr\\xe1tica. Sem custas e sem honor\\xe1rios.\"\\n(Proc. n\\xba 0005467-10.2011.8.19.0053, Rel. Ju\\xedza PALOMA ROCHA DOUAT PESSANHA, j. em 12.07.2012)\\n\\n\"Reclama a parte autora de interrup\\xe7\\xf5es/oscila\\xe7\\xf5es em seu fornecimento de energia el\\xe9trica. Aus\\xeancia parcial de presta\\xe7\\xe3o de servi\\xe7o. Mero transtorno e aborrecimento que n\\xe3o gera repercuss\\xf5es mais gravosas na vida do usu\\xe1rio. Falha na presta\\xe7\\xe3o de servi\\xe7o que, embora reconhecida, n\\xe3o \\xe9 capaz de afetar a paz de esp\\xedrito e o equil\\xedbrio ps\\xedquico do usu\\xe1rio. Dano moral n\\xe3o configurado. Consoante o verbete 75 da S\\xfamula do Egr\\xe9gio TJRJ \\'o simples descumprimento do dever legal ou contratual, por caracterizar mero aborrecimento, em princ\\xedpio, n\\xe3o configura dano moral, salvo se da infra\\xe7\\xe3o adv\\xe9m circunst\\xe2ncia que atenta contra a dignidade da parte\\'. Cite-se ainda o entendimento consolidado no Enunciado 14.4.3 do Encontro dos Ju\\xedzes de Juizados Especiais C\\xedveis e Turmas Recursais do Estado do Rio de Janeiro, segundo o qual \\'o inadimplemento contratual, por si s\\xf3, n\\xe3o enseja dano moral, salvo se da infra\\xe7\\xe3o adv\\xe9m circunstancia que atenta contra a dignidade da parte\\'. Ante o exposto, na forma prevista no art. 46 da Lei 9.099/95, voto pelo provimento do recurso para julgar improcedente o pedido formulado na inicial. Sem \\xf4nus sucumbenciais.\"\\n(Proc. n\\xba 0003653-79.2011.8.19.0079, Rel. Juiz RICARDO ALBERTO PEREIRA, j. em 09.07.2012) \\n\\n\"Parte Autora alega que no m\\xeas de mar\\xe7o de 2010, ficou sem energia el\\xe9trica durante os dias de 13, 14, 15 e 16 de mar\\xe7o, sem qualquer justo motivo ou aviso pr\\xe9vio; que contatou a r\\xe9 (com protocolos), registrou a ocorr\\xeancia, e a r\\xe9 s\\xf3 conseguiu restabelecer o fornecimento de energia as 20h do dia 16. Pedido: danos morais. A fls. 12/16 juntou noticia de um jornal mostrando \\'PROCON multa ampla por apag\\xf5es em SG e Niter\\xf3i\\', not\\xedcia de jornal mostrando \\'72h de descaso: moradores de 8 bairros de 4 munic\\xedpios tem preju\\xedzos com a falta de luz\\'. Contesta\\xe7\\xe3o da r\\xe9 (fls. 27/44) sustenta necessidade de per\\xedcia t\\xe9cnica; que tratou-se de uma interrup\\xe7\\xe3o no fornecimento de energia em virtude de fortes temporais; inexist\\xeancia de danos morais. A fls. 45/88 juntou not\\xedcias de jornais mostrando a falta de energia, fotos do estrago feito por causa do temporal em postes da rua. Senten\\xe7a (fls. 93/95) da Dra. Renata de Lima Machado Amaral que julgou parcialmente procedentes os pedidos, pois entendeu que a responsabilidade da demandada fica exclu\\xedda diante de caso de for\\xe7a maior, por\\xe9m, a consumidora teve o servi\\xe7o restabelecido 04 dias ap\\xf3s o referido temporal, fato que fere a garantia legal do consumidor de servi\\xe7os com padr\\xf5es adequados de qualidade, seguran\\xe7a e desempenho, condenou a r\\xe9 a pagar danos morais de R$ 2.500,00. Recurso interposto pela parte r\\xe9 (fls. 96/104) postulando a reforma da senten\\xe7a, para improced\\xeancia dos pedidos ou redu\\xe7\\xe3o dos danos morais. Contra-raz\\xf5es da parte autora (fls. 110/118) pela manuten\\xe7\\xe3o da senten\\xe7a. O recurso merece provimento. Provas documentais a ressuscitarem lembran\\xe7a acerca de fato not\\xf3rio - tempestade de mar\\xe7o de 2010 - que derrubou \\xe1rvores e postes, al\\xe9m de paralisarem transportes terrestres e mar\\xedtimos nas cidades do Rio, Niter\\xf3i e S\\xe3o Gon\\xe7alo. For\\xe7a maior. A despeito de previs\\xedvel a tempestade, imprevis\\xedveis as conseq\\xfc\\xeancias de tal monta. Ainda que assim n\\xe3o fosse, inevit\\xe1veis os desdobramentos a interferir, de forma inconteste, nos servi\\xe7os de restabelecimento, eis que dependentes de outros, estranhos ao empreendimento. Nexo de causalidade rompido, desde a interrup\\xe7\\xe3o at\\xe9 a demora. Prazo de 48 horas para restabelecer o abastecimento que s\\xf3 pode ser exigido em circunst\\xe2ncias normais e regulares. Aus\\xeancia, pois, de falha da presta\\xe7\\xe3o de servi\\xe7o a impor a condena\\xe7\\xe3o da r\\xe9 na compensa\\xe7\\xe3o a que foi condenada, mormente por ultrapassar a m\\xe9dia dos arbitramentos fixados em paradigmas. Ante o exposto voto no sentido de conhecer do recurso para dar-lhe provimento e julgar improcedentes os pedidos. Custas ex lege. Sem honor\\xe1rios.\"\\n(Proc. n\\xba 0014637-35.2010.8.19.0087, Rel. Juiz ANTONIO CARLOS MAISONNETTE PEREIRA, j. em 04.07.2012) \\n\\n\"Rela\\xe7\\xe3o de consumo. Servi\\xe7o de fornecimento de energia el\\xe9trica. Pedido de compensa\\xe7\\xe3o por danos morais em decorr\\xeancia de alegada indisponibilidade do servi\\xe7o em diversas ocasi\\xf5es. A senten\\xe7a julgou procedente em parte o pedido, condenando a concession\\xe1ria r\\xe9 a pagar R$ 2.500,00 ao autor, a t\\xedtulo de compensa\\xe7\\xe3o por danos morais. Recurso inominado interposto pela Ampla Energia e Servi\\xe7os S. A. que merece provimento. A narrativa da inicial n\\xe3o encontra amparo em prova m\\xednima. N\\xe3o houve indisponibilidade do servi\\xe7o por tempo juridicamente relevante - tampouco comprova\\xe7\\xe3o de descontinuidade total do servi\\xe7o por pelo menos 24 horas ininterruptas -,  o  que afasta a possibilidade de acolhimento do pedido de indeniza\\xe7\\xe3o por danos morais. Cabe aplicar ao caso o entendimento expresso no verbete n\\xba 193 da S\\xfamula da jurisprud\\xeancia do TJRJ: \\'Breve interrup\\xe7\\xe3o na presta\\xe7\\xe3o dos servi\\xe7os essenciais de \\xe1gua, energia el\\xe9trica, telefone e g\\xe1s por defici\\xeancia operacional n\\xe3o constitui dano moral\\'. Isto posto, dou provimento ao recurso e julgo improcedente o pedido de compensa\\xe7\\xe3o por danos morais. Sem \\xf4nus sucumbenciais, em raz\\xe3o do provimento do recurso.\"\\n(Proc. n\\xba 0001556-43.2010.8.19.0079, Rel. Juiz ANTONIO AURELIO ABI-RAMIA DUARTE, j. em 27.06.2012)  \\n\\n\"Energia el\\xe9trica. Oscila\\xe7\\xf5es recorrentes no fornecimento. \\'Apag\\xe3o\\'. Fato generalizado. Pretens\\xe3o indenizat\\xf3ria. Dano moral n\\xe3o caracterizado. Senten\\xe7a reformada. A autora, residente no Munic\\xedpio de S\\xe3o Jo\\xe3o da Barra, narra oscila\\xe7\\xf5es no servi\\xe7o prestado pela r\\xe9 que culminou com a interrup\\xe7\\xe3o no fornecimento de energia el\\xe9trica no dia 28/09/2010. Demora no restabelecimento do servi\\xe7o superior a 12 horas. Em defesa, a r\\xe9 nega a ocorr\\xeancia de falha do servi\\xe7o, bem como a exist\\xeancia de altera\\xe7\\xe3o no consumo para a unidade da parte autora no per\\xedodo. Alega que a interrup\\xe7\\xe3o ocorreu por motivo de for\\xe7a maior, causa exclusiva da eclos\\xe3o do evento narrado, apta a romper o nexo de causalidade e a isentar a concession\\xe1ria de qualquer responsabilidade dele decorrente. Senten\\xe7a de proced\\xeancia parcial do pedido para condenar a r\\xe9 ao pagamento de R$ 2.000,00 (dois mil reais), a titulo de danos morais (fls.13/17). Recurso da r\\xe9. Senten\\xe7a que merece ser reformada. Interrup\\xe7\\xf5es ocorridas e/ou demora no restabelecimento do servi\\xe7o, sem relato de danos efetivamente suportados pelo consumidor, n\\xe3o justificam a compensa\\xe7\\xe3o pretendida. O fato de residir no local, por si s\\xf3, n\\xe3o traz a reboque a presun\\xe7\\xe3o de les\\xe3o a direito da parte autora. Danos morais n\\xe3o caracterizados. Consoante li\\xe7\\xe3o do professor e Desembargador Sergio Cavalieri Filho, dano moral \\'\\xe9 a les\\xe3o de bem integrante da personalidade, tal como a honra, a liberdade, a sa\\xfade, a integridade psicol\\xf3gica, causando dor, sofrimento, tristeza, vexame e humilha\\xe7\\xe3o \\xe0 v\\xedtima\\' (in Programa de Responsabilidade Civil, 1998, p. 74). Aborrecimento t\\xedpico do dia-a-dia e comum ao homem m\\xe9dio. Tentativa de banaliza\\xe7\\xe3o da indeniza\\xe7\\xe3o por danos morais que merece ser repelida. O que a lei manda indenizar \\xe9 o dano efetivo e n\\xe3o transtornos corriqueiros que n\\xe3o configuram danos morais. Isto posto, voto no sentido de dar provimento ao recurso para julgar improcedente o pedido. Custas antecipadas. Sem honor\\xe1rios advocat\\xedcios.\"\\n(Proc. n\\xba 0002416-88.2011.8.19.0053, Rel. Juiz ALEXANDRE CHINI NETO, j. em 26.04.2012) \\n\\n\\tOra, a hip\\xf3tese dos autos \\xe9 exatamente id\\xeantica. O fornecimento de energia el\\xe9trica para a unidade consumidora da autora realmente foi interrompido em algumas ocasi\\xf5es. A luz foi e voltou. Tal fato, conforme entendimento amplamente (sem trocadilho) adotado pelo Conselho Recursal, n\\xe3o constitui dano moral. \\n\\n\\tPelos motivos expostos, JULGO IMPROCEDENTE O PEDIDO DE INDENIZA\\xc7\\xc3O POR DANOS MORAIS. Revogo a decis\\xe3o de fls. 15. Sem custas nem honor\\xe1rios, salvo se houver recurso. Transitada em julgado, baixa e arquivo. P. R. I.\\n'\n"
     ]
    }
   ],
   "source": [
    "print(str(tjrj_1))"
   ]
  },
  {
   "cell_type": "markdown",
   "metadata": {},
   "source": [
    "De certa forma, fomos bem-sucedidos. Mas por que temos sequências estranhas de caracteres como 'reclama\\\\xe7\\\\xe3o'? Por causa da história que contamos acima: o encoding utilizado pelo TJRJ na hora de criar o arquivo, provavelmente, não era UTF-8.\n",
    "\n",
    "Vamos tentar confirmar essa hipótese **decodificando** o conteúdo do arquivo. Assim como podemos **codificar** caracteres em determinados formatos que o computador pode ler, podemos também **decodificar** esses formatos, transformando-os novamente em caracteres. O fato de que `str(tjrj_1)` não imprimiu nenhum caractere especial é sinal de que houve alguma falha na decodificação.\n",
    "\n",
    "Para decodificar objetos do tipo `bytes`, precisamos usar o método `.decode()`. Por padrão, a chamada do método sem nenhum argumento utiliza o encoding UTF-8, que não consegue dar conta do nosso arquivo:"
   ]
  },
  {
   "cell_type": "code",
   "execution_count": 2,
   "metadata": {},
   "outputs": [
    {
     "ename": "UnicodeDecodeError",
     "evalue": "'utf-8' codec can't decode byte 0xe7 in position 20: invalid continuation byte",
     "output_type": "error",
     "traceback": [
      "\u001b[0;31m---------------------------------------------------------------------------\u001b[0m",
      "\u001b[0;31mUnicodeDecodeError\u001b[0m                        Traceback (most recent call last)",
      "\u001b[0;32m<ipython-input-2-7be2820e23c8>\u001b[0m in \u001b[0;36m<module>\u001b[0;34m()\u001b[0m\n\u001b[0;32m----> 1\u001b[0;31m \u001b[0mtjrj_1_text\u001b[0m \u001b[0;34m=\u001b[0m \u001b[0mtjrj_1\u001b[0m\u001b[0;34m.\u001b[0m\u001b[0mdecode\u001b[0m\u001b[0;34m(\u001b[0m\u001b[0;34m)\u001b[0m\u001b[0;34m\u001b[0m\u001b[0m\n\u001b[0m",
      "\u001b[0;31mUnicodeDecodeError\u001b[0m: 'utf-8' codec can't decode byte 0xe7 in position 20: invalid continuation byte"
     ]
    }
   ],
   "source": [
    "tjrj_1_text = tjrj_1.decode()"
   ]
  },
  {
   "cell_type": "markdown",
   "metadata": {},
   "source": [
    "Note que o erro é bastante informativo: `UnicodeDecodeError: 'utf-8' [...] can't decode byte`. Por conta dessa inconsistência no uso de encodings capazes de representar caracteres que não constavam da lista ASCII, é comum receber esse tipo de erro ao ler arquivos brasileiros. Uma boa alternativa é decodificar usando um dos outros encodings que apontamos acima. Vamos tentar o enconding latin-9:"
   ]
  },
  {
   "cell_type": "code",
   "execution_count": 3,
   "metadata": {},
   "outputs": [],
   "source": [
    "tjrj_1_text = tjrj_1.decode(encoding = \"latin9\")"
   ]
  },
  {
   "cell_type": "code",
   "execution_count": 24,
   "metadata": {},
   "outputs": [
    {
     "name": "stdout",
     "output_type": "stream",
     "text": [
      "\tTrata-se de reclamação através da qual a parte autora pleiteia a condenação da reclamada a cumprir uma obrigação de fazer e pagar indenização por danos morais. Resumidamente, alegou que reside no distrito de Porto Velho do Cunha e, já há algum tempo, o serviço de fornecimento de energia elétrica vem sendo prestado de forma deficiente. Disse que freqüentemente há interrupções. Solicitou reparos junto a reclamada. Houve até reuniões com os representantes da reclamada, mas as falhas permanecem. Ressaltou toda sorte de transtornos e findou requerendo a condenação da reclamada a normalizar, de uma vez por todas, o fornecimento de energia, bem como pagar indenização por danos morais. \n",
      "\n",
      "\tA decisão de fls. 15 deferiu a antecipação da tutela. \n",
      "\n",
      "\tRealizou-se AIJ, na qual a ré apresentou contestação escrita, acompanhada de documentos. \n",
      "\n",
      "\tA questão consiste em determinar se os fatos constituem motivo para a imposição de indenização por danos morais. \n",
      "\n",
      "\tRápida pesquisa de jurisprudência das Turmas Recursais do Estado do Rio de Janeiro demonstra que a resposta é negativa. As decisões recentes revelam que, ainda que se trate de serviço essencial, a interrupção breve por falhas operacionais não configura dano moral indenizável. É de todo conveniente transcrever as seguintes decisões, recentemente proferidas por diversos Juízes integrantes das Turmas Recursais deste Estado, inclusive com fundamento em súmula da jurisprudência dominante no Tribunal de Justiça: \n",
      "\n",
      "\"Relação de consumo. Serviço de fornecimento de energia elétrica. Pedido de compensação por danos morais em decorrência de alegada indisponibilidade do serviço das 20h00min do dia 17.02.2011 até as 08h00min do dia 18.02.2011. A sentença julgou procedente em parte o pedido, condenando a concessionária ré a pagar R$ 2.000,00 à autora, a título de compensação por danos morais. Recurso inominado interposto pela Ampla Energia e Serviços S. A. que merece provimento. A narrativa da inicial não encontra amparo em prova mínima. Não houve indisponibilidade do serviço por tempo juridicamente relevante - tampouco comprovação de descontinuidade total do serviço por pelo menos 24 horas ininterruptas -, o que afasta a possibilidade de acolhimento do pedido de indenização por danos morais. Cabe aplicar ao caso o entendimento expresso no verbete nº 193 da Súmula da jurisprudência do TJRJ: 'Breve interrupção na prestação dos serviços essenciais de água, energia elétrica, telefone e gás por deficiência operacional não constitui dano moral'. Isto posto, dou provimento ao recurso e julgo improcedente o pedido de compensação por danos morais. Sem ônus sucumbenciais, em razão do provimento do recurso.\"\n",
      "(Proc. nº 0002874-42.2010.8.19.0053, Rel. Juiz TIAGO HOLANDA MASCARENHAS, j. em 16.08.2012)\n",
      "\n",
      "\"Relação de Consumo. Fornecimento de energia elétrica. Oscilações no fornecimento. Pretensão de indenização por danos materiais e morais. Dano material não comprovado. Dano moral não configurado. A sentença recorrida julgou improcedente o pedido, revogando a liminar concedida initio litis (fls. 45). Sentença que deu correta solução à lide e não merece reforma. A autora reclama de interrupção imotivada do serviço ocorrida no dia 10/10/2010, em Cabo frio, com restabelecimento no dia 12/10/2010. Fornecedora que comprova de modo suficiente que a suspensão do serviço decorreu de força maior, a forte ventania que atingiu a região (fls. 41). Falha que deve ser interpretada como mero inadimplemento contratual insuficiente para acarretar ofensa a direito da personalidade, já que no caso concreto, não houve relato de danos específicos efetivamente suportados pelos consumidores, em decorrência da interrupção. Prova do alegado dano que não foi individualizada. Para fixação de dano moral, há que ser relatado exatamente o fato danoso e as repercussões dele na vida do ofendido, especialmente quando a questão não reflete dano moral in re ipsa, já que não se trata de corte da energia elétrica (fato em si constrangedor, por pressupor inadimplência ou fraude), mas sim de 'suspensão temporária', devido a problemas técnicos enfrentados pela concessionária de energia elétrica. Mero aborrecimento cotidiano, não identificadas graves repercussões no bem estar e no psiquismo da consumidora. Inicial que não indica um número de protocolo de reclamação e que só veio instruída com uma única fatura de consumo, referente a período anterior aos fatos narrados (fls. 10). Dano moral não configurado. No E. TJERJ a questão já está pacificada, nos termos do Enunciado 18 do Aviso TJRJ 29/11, verbis: 'Breve interrupção na prestação dos serviços essenciais de água, energia elétrica, telefone e gás por deficiência operacional não constitui dano moral'. Dano material que exige a prova cabal do prejuízo que, na hipótese, não foi produzida (at. 333, I, do CPC). Acerto do decisum ao concluir pela improcedência dos pedidos. Ante o exposto, conheço do recurso interposto pela autora e lhe nego provimento para manter a sentença por seus próprios fundamentos, fazendo pequeno reparo somente para dela excluir a confirmação da tutela, posto que não foi concedida antecipação de efeitos da tutela initio litis. Honorários fixados em R$ 300,00, nos termos do art. 20, § 4º do CPC, observado o art. 12, da Lei 1.060/50.\"\n",
      "(Proc. nº 0017793-31.2011.8.19.0011, Rel. Juíza MÁRCIA DE ANDRADE PUMAR, j. em 09.08.2012)\n",
      "\n",
      "\"Narra a parte autora que é consumidora dos serviços prestados pela ré, e que, no dia 18/9/2011, ocorreu um apagão na comunidade onde mora, no município de São João da Barra - RJ. Sustenta que ficou sem o serviço de energia elétrica por quase 17 horas, das 4h30 às 21h, e que desde então vêm ocorrendo picos de energia na região. Requer indenização a título de danos morais. Realizado 'Pautão de ACIJ', foi prolatada a sentença de fls. 17/18 que julgou procedente em parte o pedido para condenar a ré ao pagamento de R$ 1.000,00, a título de indenização por danos morais. Recurso inominado da parte ré, argumentando, em síntese, que a parte autora não comprova os danos que alega ter sofrido, pugnando pela improcedência do pedido ou a redução do quantum indenizatório. É o breve relatório. Decido. No caso em comento, verifica-se, pela narrativa da inicial, que a interrupção do fornecimento de energia elétrica na residência da parte autora durou menos de 24 (vinte e quatro) horas, entendendo este Juízo que não estão caracterizados os danos morais alegados. Aplica-se ao caso concreto o Enunciado 18, do Aviso 94/2010, in verbis: 'Breve interrupção na prestação dos serviços essenciais de água, energia elétrica, telefone e gás por deficiência operacional não constitui dano moral'. Ante o exposto, voto no sentido de conhecer e dar provimento ao recurso da parte ré, para julgar improcedente o pedido de danos morais acolhido na sentença monocrática. Sem custas e sem honorários.\"\n",
      "(Proc. nº 0005467-10.2011.8.19.0053, Rel. Juíza PALOMA ROCHA DOUAT PESSANHA, j. em 12.07.2012)\n",
      "\n",
      "\"Reclama a parte autora de interrupções/oscilações em seu fornecimento de energia elétrica. Ausência parcial de prestação de serviço. Mero transtorno e aborrecimento que não gera repercussões mais gravosas na vida do usuário. Falha na prestação de serviço que, embora reconhecida, não é capaz de afetar a paz de espírito e o equilíbrio psíquico do usuário. Dano moral não configurado. Consoante o verbete 75 da Súmula do Egrégio TJRJ 'o simples descumprimento do dever legal ou contratual, por caracterizar mero aborrecimento, em princípio, não configura dano moral, salvo se da infração advém circunstância que atenta contra a dignidade da parte'. Cite-se ainda o entendimento consolidado no Enunciado 14.4.3 do Encontro dos Juízes de Juizados Especiais Cíveis e Turmas Recursais do Estado do Rio de Janeiro, segundo o qual 'o inadimplemento contratual, por si só, não enseja dano moral, salvo se da infração advém circunstancia que atenta contra a dignidade da parte'. Ante o exposto, na forma prevista no art. 46 da Lei 9.099/95, voto pelo provimento do recurso para julgar improcedente o pedido formulado na inicial. Sem ônus sucumbenciais.\"\n",
      "(Proc. nº 0003653-79.2011.8.19.0079, Rel. Juiz RICARDO ALBERTO PEREIRA, j. em 09.07.2012) \n",
      "\n",
      "\"Parte Autora alega que no mês de março de 2010, ficou sem energia elétrica durante os dias de 13, 14, 15 e 16 de março, sem qualquer justo motivo ou aviso prévio; que contatou a ré (com protocolos), registrou a ocorrência, e a ré só conseguiu restabelecer o fornecimento de energia as 20h do dia 16. Pedido: danos morais. A fls. 12/16 juntou noticia de um jornal mostrando 'PROCON multa ampla por apagões em SG e Niterói', notícia de jornal mostrando '72h de descaso: moradores de 8 bairros de 4 municípios tem prejuízos com a falta de luz'. Contestação da ré (fls. 27/44) sustenta necessidade de perícia técnica; que tratou-se de uma interrupção no fornecimento de energia em virtude de fortes temporais; inexistência de danos morais. A fls. 45/88 juntou notícias de jornais mostrando a falta de energia, fotos do estrago feito por causa do temporal em postes da rua. Sentença (fls. 93/95) da Dra. Renata de Lima Machado Amaral que julgou parcialmente procedentes os pedidos, pois entendeu que a responsabilidade da demandada fica excluída diante de caso de força maior, porém, a consumidora teve o serviço restabelecido 04 dias após o referido temporal, fato que fere a garantia legal do consumidor de serviços com padrões adequados de qualidade, segurança e desempenho, condenou a ré a pagar danos morais de R$ 2.500,00. Recurso interposto pela parte ré (fls. 96/104) postulando a reforma da sentença, para improcedência dos pedidos ou redução dos danos morais. Contra-razões da parte autora (fls. 110/118) pela manutenção da sentença. O recurso merece provimento. Provas documentais a ressuscitarem lembrança acerca de fato notório - tempestade de março de 2010 - que derrubou árvores e postes, além de paralisarem transportes terrestres e marítimos nas cidades do Rio, Niterói e São Gonçalo. Força maior. A despeito de previsível a tempestade, imprevisíveis as conseqüências de tal monta. Ainda que assim não fosse, inevitáveis os desdobramentos a interferir, de forma inconteste, nos serviços de restabelecimento, eis que dependentes de outros, estranhos ao empreendimento. Nexo de causalidade rompido, desde a interrupção até a demora. Prazo de 48 horas para restabelecer o abastecimento que só pode ser exigido em circunstâncias normais e regulares. Ausência, pois, de falha da prestação de serviço a impor a condenação da ré na compensação a que foi condenada, mormente por ultrapassar a média dos arbitramentos fixados em paradigmas. Ante o exposto voto no sentido de conhecer do recurso para dar-lhe provimento e julgar improcedentes os pedidos. Custas ex lege. Sem honorários.\"\n",
      "(Proc. nº 0014637-35.2010.8.19.0087, Rel. Juiz ANTONIO CARLOS MAISONNETTE PEREIRA, j. em 04.07.2012) \n",
      "\n",
      "\"Relação de consumo. Serviço de fornecimento de energia elétrica. Pedido de compensação por danos morais em decorrência de alegada indisponibilidade do serviço em diversas ocasiões. A sentença julgou procedente em parte o pedido, condenando a concessionária ré a pagar R$ 2.500,00 ao autor, a título de compensação por danos morais. Recurso inominado interposto pela Ampla Energia e Serviços S. A. que merece provimento. A narrativa da inicial não encontra amparo em prova mínima. Não houve indisponibilidade do serviço por tempo juridicamente relevante - tampouco comprovação de descontinuidade total do serviço por pelo menos 24 horas ininterruptas -,  o  que afasta a possibilidade de acolhimento do pedido de indenização por danos morais. Cabe aplicar ao caso o entendimento expresso no verbete nº 193 da Súmula da jurisprudência do TJRJ: 'Breve interrupção na prestação dos serviços essenciais de água, energia elétrica, telefone e gás por deficiência operacional não constitui dano moral'. Isto posto, dou provimento ao recurso e julgo improcedente o pedido de compensação por danos morais. Sem ônus sucumbenciais, em razão do provimento do recurso.\"\n",
      "(Proc. nº 0001556-43.2010.8.19.0079, Rel. Juiz ANTONIO AURELIO ABI-RAMIA DUARTE, j. em 27.06.2012)  \n",
      "\n",
      "\"Energia elétrica. Oscilações recorrentes no fornecimento. 'Apagão'. Fato generalizado. Pretensão indenizatória. Dano moral não caracterizado. Sentença reformada. A autora, residente no Município de São João da Barra, narra oscilações no serviço prestado pela ré que culminou com a interrupção no fornecimento de energia elétrica no dia 28/09/2010. Demora no restabelecimento do serviço superior a 12 horas. Em defesa, a ré nega a ocorrência de falha do serviço, bem como a existência de alteração no consumo para a unidade da parte autora no período. Alega que a interrupção ocorreu por motivo de força maior, causa exclusiva da eclosão do evento narrado, apta a romper o nexo de causalidade e a isentar a concessionária de qualquer responsabilidade dele decorrente. Sentença de procedência parcial do pedido para condenar a ré ao pagamento de R$ 2.000,00 (dois mil reais), a titulo de danos morais (fls.13/17). Recurso da ré. Sentença que merece ser reformada. Interrupções ocorridas e/ou demora no restabelecimento do serviço, sem relato de danos efetivamente suportados pelo consumidor, não justificam a compensação pretendida. O fato de residir no local, por si só, não traz a reboque a presunção de lesão a direito da parte autora. Danos morais não caracterizados. Consoante lição do professor e Desembargador Sergio Cavalieri Filho, dano moral 'é a lesão de bem integrante da personalidade, tal como a honra, a liberdade, a saúde, a integridade psicológica, causando dor, sofrimento, tristeza, vexame e humilhação à vítima' (in Programa de Responsabilidade Civil, 1998, p. 74). Aborrecimento típico do dia-a-dia e comum ao homem médio. Tentativa de banalização da indenização por danos morais que merece ser repelida. O que a lei manda indenizar é o dano efetivo e não transtornos corriqueiros que não configuram danos morais. Isto posto, voto no sentido de dar provimento ao recurso para julgar improcedente o pedido. Custas antecipadas. Sem honorários advocatícios.\"\n",
      "(Proc. nº 0002416-88.2011.8.19.0053, Rel. Juiz ALEXANDRE CHINI NETO, j. em 26.04.2012) \n",
      "\n",
      "\tOra, a hipótese dos autos é exatamente idêntica. O fornecimento de energia elétrica para a unidade consumidora da autora realmente foi interrompido em algumas ocasiões. A luz foi e voltou. Tal fato, conforme entendimento amplamente (sem trocadilho) adotado pelo Conselho Recursal, não constitui dano moral. \n",
      "\n",
      "\tPelos motivos expostos, JULGO IMPROCEDENTE O PEDIDO DE INDENIZAÇÃO POR DANOS MORAIS. Revogo a decisão de fls. 15. Sem custas nem honorários, salvo se houver recurso. Transitada em julgado, baixa e arquivo. P. R. I.\n",
      "\n"
     ]
    }
   ],
   "source": [
    "print(tjrj_1_text)"
   ]
  },
  {
   "cell_type": "markdown",
   "metadata": {},
   "source": [
    "Pronto! Agora conseguimos ler a sentença de forma confortável. Podemos usar alguns dos métodos de strings para analisar o texto."
   ]
  },
  {
   "cell_type": "markdown",
   "metadata": {},
   "source": [
    "<a id=metodos></a>\n",
    "# Métodos de strings\n",
    "\n",
    "Assim como listas e dicionários, strings também possuem métodos que podem ser usados para aumentar a funcionalidade desse tipo de objeto. Podemos ver uma lista dos métodos de strings nesse link: https://docs.python.org/3/library/stdtypes.html#string-methods\n",
    "\n",
    "Já usamos alguns métodos de string acima, como replace. Apenas como um teste, vamos excluir todos os espaços do texto acima:"
   ]
  },
  {
   "cell_type": "code",
   "execution_count": 25,
   "metadata": {},
   "outputs": [
    {
     "name": "stdout",
     "output_type": "stream",
     "text": [
      "\tTrata-sedereclamaçãoatravésdaqualaparteautorapleiteiaacondenaçãodareclamadaacumprirumaobrigaçãodefazerepagarindenizaçãopordanosmorais.Resumidamente,alegouqueresidenodistritodePortoVelhodoCunhae,jáháalgumtempo,oserviçodefornecimentodeenergiaelétricavemsendoprestadodeformadeficiente.Dissequefreqüentementeháinterrupções.Solicitoureparosjuntoareclamada.Houveatéreuniõescomosrepresentantesdareclamada,masasfalhaspermanecem.Ressaltoutodasortedetranstornosefindourequerendoacondenaçãodareclamadaanormalizar,deumavezportodas,ofornecimentodeenergia,bemcomopagarindenizaçãopordanosmorais.\n",
      "\n",
      "\tAdecisãodefls.15deferiuaantecipaçãodatutela.\n",
      "\n",
      "\tRealizou-seAIJ,naqualaréapresentoucontestaçãoescrita,acompanhadadedocumentos.\n",
      "\n",
      "\tAquestãoconsisteemdeterminarseosfatosconstituemmotivoparaaimposiçãodeindenizaçãopordanosmorais.\n",
      "\n",
      "\tRápidapesquisadejurisprudênciadasTurmasRecursaisdoEstadodoRiodeJaneirodemonstraquearespostaénegativa.Asdecisõesrecentesrevelamque,aindaquesetratedeserviçoessencial,ainterrupçãobreveporfalhasoperacionaisnãoconfiguradanomoralindenizável.Édetodoconvenientetranscreverasseguintesdecisões,recentementeproferidaspordiversosJuízesintegrantesdasTurmasRecursaisdesteEstado,inclusivecomfundamentoemsúmuladajurisprudênciadominantenoTribunaldeJustiça:\n",
      "\n",
      "\"Relaçãodeconsumo.Serviçodefornecimentodeenergiaelétrica.Pedidodecompensaçãopordanosmoraisemdecorrênciadealegadaindisponibilidadedoserviçodas20h00mindodia17.02.2011atéas08h00mindodia18.02.2011.Asentençajulgouprocedenteemparteopedido,condenandoaconcessionáriaréapagarR$2.000,00àautora,atítulodecompensaçãopordanosmorais.RecursoinominadointerpostopelaAmplaEnergiaeServiçosS.A.quemereceprovimento.Anarrativadainicialnãoencontraamparoemprovamínima.Nãohouveindisponibilidadedoserviçoportempojuridicamenterelevante-tampoucocomprovaçãodedescontinuidadetotaldoserviçoporpelomenos24horasininterruptas-,oqueafastaapossibilidadedeacolhimentodopedidodeindenizaçãopordanosmorais.Cabeaplicaraocasooentendimentoexpressonoverbetenº193daSúmuladajurisprudênciadoTJRJ:'Breveinterrupçãonaprestaçãodosserviçosessenciaisdeágua,energiaelétrica,telefoneegáspordeficiênciaoperacionalnãoconstituidanomoral'.Istoposto,douprovimentoaorecursoejulgoimprocedenteopedidodecompensaçãopordanosmorais.Semônussucumbenciais,emrazãodoprovimentodorecurso.\"\n",
      "(Proc.nº0002874-42.2010.8.19.0053,Rel.JuizTIAGOHOLANDAMASCARENHAS,j.em16.08.2012)\n",
      "\n",
      "\"RelaçãodeConsumo.Fornecimentodeenergiaelétrica.Oscilaçõesnofornecimento.Pretensãodeindenizaçãopordanosmateriaisemorais.Danomaterialnãocomprovado.Danomoralnãoconfigurado.Asentençarecorridajulgouimprocedenteopedido,revogandoaliminarconcedidainitiolitis(fls.45).Sentençaquedeucorretasoluçãoàlideenãomerecereforma.Aautorareclamadeinterrupçãoimotivadadoserviçoocorridanodia10/10/2010,emCabofrio,comrestabelecimentonodia12/10/2010.Fornecedoraquecomprovademodosuficientequeasuspensãodoserviçodecorreudeforçamaior,aforteventaniaqueatingiuaregião(fls.41).Falhaquedeveserinterpretadacomomeroinadimplementocontratualinsuficienteparaacarretarofensaadireitodapersonalidade,jáquenocasoconcreto,nãohouverelatodedanosespecíficosefetivamentesuportadospelosconsumidores,emdecorrênciadainterrupção.Provadoalegadodanoquenãofoiindividualizada.Parafixaçãodedanomoral,háqueserrelatadoexatamenteofatodanosoeasrepercussõesdelenavidadoofendido,especialmentequandoaquestãonãorefletedanomoralinreipsa,jáquenãosetratadecortedaenergiaelétrica(fatoemsiconstrangedor,porpressuporinadimplênciaoufraude),massimde'suspensãotemporária',devidoaproblemastécnicosenfrentadospelaconcessionáriadeenergiaelétrica.Meroaborrecimentocotidiano,nãoidentificadasgravesrepercussõesnobemestarenopsiquismodaconsumidora.Inicialquenãoindicaumnúmerodeprotocolodereclamaçãoequesóveioinstruídacomumaúnicafaturadeconsumo,referenteaperíodoanterioraosfatosnarrados(fls.10).Danomoralnãoconfigurado.NoE.TJERJaquestãojáestápacificada,nostermosdoEnunciado18doAvisoTJRJ29/11,verbis:'Breveinterrupçãonaprestaçãodosserviçosessenciaisdeágua,energiaelétrica,telefoneegáspordeficiênciaoperacionalnãoconstituidanomoral'.Danomaterialqueexigeaprovacabaldoprejuízoque,nahipótese,nãofoiproduzida(at.333,I,doCPC).Acertododecisumaoconcluirpelaimprocedênciadospedidos.Anteoexposto,conheçodorecursointerpostopelaautoraelhenegoprovimentoparamanterasentençaporseusprópriosfundamentos,fazendopequenoreparosomenteparadelaexcluiraconfirmaçãodatutela,postoquenãofoiconcedidaantecipaçãodeefeitosdatutelainitiolitis.HonoráriosfixadosemR$300,00,nostermosdoart.20,§4ºdoCPC,observadooart.12,daLei1.060/50.\"\n",
      "(Proc.nº0017793-31.2011.8.19.0011,Rel.JuízaMÁRCIADEANDRADEPUMAR,j.em09.08.2012)\n",
      "\n",
      "\"Narraaparteautoraqueéconsumidoradosserviçosprestadospelaré,eque,nodia18/9/2011,ocorreuumapagãonacomunidadeondemora,nomunicípiodeSãoJoãodaBarra-RJ.Sustentaqueficousemoserviçodeenergiaelétricaporquase17horas,das4h30às21h,equedesdeentãovêmocorrendopicosdeenergianaregião.Requerindenizaçãoatítulodedanosmorais.Realizado'PautãodeACIJ',foiprolatadaasentençadefls.17/18quejulgouprocedenteemparteopedidoparacondenararéaopagamentodeR$1.000,00,atítulodeindenizaçãopordanosmorais.Recursoinominadodaparteré,argumentando,emsíntese,queaparteautoranãocomprovaosdanosquealegatersofrido,pugnandopelaimprocedênciadopedidoouareduçãodoquantumindenizatório.Éobreverelatório.Decido.Nocasoemcomento,verifica-se,pelanarrativadainicial,queainterrupçãodofornecimentodeenergiaelétricanaresidênciadaparteautoraduroumenosde24(vinteequatro)horas,entendendoesteJuízoquenãoestãocaracterizadososdanosmoraisalegados.Aplica-seaocasoconcretooEnunciado18,doAviso94/2010,inverbis:'Breveinterrupçãonaprestaçãodosserviçosessenciaisdeágua,energiaelétrica,telefoneegáspordeficiênciaoperacionalnãoconstituidanomoral'.Anteoexposto,votonosentidodeconheceredarprovimentoaorecursodaparteré,parajulgarimprocedenteopedidodedanosmoraisacolhidonasentençamonocrática.Semcustasesemhonorários.\"\n",
      "(Proc.nº0005467-10.2011.8.19.0053,Rel.JuízaPALOMAROCHADOUATPESSANHA,j.em12.07.2012)\n",
      "\n",
      "\"Reclamaaparteautoradeinterrupções/oscilaçõesemseufornecimentodeenergiaelétrica.Ausênciaparcialdeprestaçãodeserviço.Merotranstornoeaborrecimentoquenãogerarepercussõesmaisgravosasnavidadousuário.Falhanaprestaçãodeserviçoque,emborareconhecida,nãoécapazdeafetarapazdeespíritoeoequilíbriopsíquicodousuário.Danomoralnãoconfigurado.Consoanteoverbete75daSúmuladoEgrégioTJRJ'osimplesdescumprimentododeverlegaloucontratual,porcaracterizarmeroaborrecimento,emprincípio,nãoconfiguradanomoral,salvosedainfraçãoadvémcircunstânciaqueatentacontraadignidadedaparte'.Cite-seaindaoentendimentoconsolidadonoEnunciado14.4.3doEncontrodosJuízesdeJuizadosEspeciaisCíveiseTurmasRecursaisdoEstadodoRiodeJaneiro,segundooqual'oinadimplementocontratual,porsisó,nãoensejadanomoral,salvosedainfraçãoadvémcircunstanciaqueatentacontraadignidadedaparte'.Anteoexposto,naformaprevistanoart.46daLei9.099/95,votopeloprovimentodorecursoparajulgarimprocedenteopedidoformuladonainicial.Semônussucumbenciais.\"\n",
      "(Proc.nº0003653-79.2011.8.19.0079,Rel.JuizRICARDOALBERTOPEREIRA,j.em09.07.2012)\n",
      "\n",
      "\"ParteAutoraalegaquenomêsdemarçode2010,ficousemenergiaelétricaduranteosdiasde13,14,15e16demarço,semqualquerjustomotivoouavisoprévio;quecontatouaré(comprotocolos),registrouaocorrência,earésóconseguiurestabelecerofornecimentodeenergiaas20hdodia16.Pedido:danosmorais.Afls.12/16juntounoticiadeumjornalmostrando'PROCONmultaamplaporapagõesemSGeNiterói',notíciadejornalmostrando'72hdedescaso:moradoresde8bairrosde4municípiostemprejuízoscomafaltadeluz'.Contestaçãodaré(fls.27/44)sustentanecessidadedeperíciatécnica;quetratou-sedeumainterrupçãonofornecimentodeenergiaemvirtudedefortestemporais;inexistênciadedanosmorais.Afls.45/88juntounotíciasdejornaismostrandoafaltadeenergia,fotosdoestragofeitoporcausadotemporalempostesdarua.Sentença(fls.93/95)daDra.RenatadeLimaMachadoAmaralquejulgouparcialmenteprocedentesospedidos,poisentendeuquearesponsabilidadedademandadaficaexcluídadiantedecasodeforçamaior,porém,aconsumidorateveoserviçorestabelecido04diasapósoreferidotemporal,fatoquefereagarantialegaldoconsumidordeserviçoscompadrõesadequadosdequalidade,segurançaedesempenho,condenouaréapagardanosmoraisdeR$2.500,00.Recursointerpostopelaparteré(fls.96/104)postulandoareformadasentença,paraimprocedênciadospedidosoureduçãodosdanosmorais.Contra-razõesdaparteautora(fls.110/118)pelamanutençãodasentença.Orecursomereceprovimento.Provasdocumentaisaressuscitaremlembrançaacercadefatonotório-tempestadedemarçode2010-quederrubouárvoresepostes,alémdeparalisaremtransportesterrestresemarítimosnascidadesdoRio,NiteróieSãoGonçalo.Forçamaior.Adespeitodeprevisívelatempestade,imprevisíveisasconseqüênciasdetalmonta.Aindaqueassimnãofosse,inevitáveisosdesdobramentosainterferir,deformainconteste,nosserviçosderestabelecimento,eisquedependentesdeoutros,estranhosaoempreendimento.Nexodecausalidaderompido,desdeainterrupçãoatéademora.Prazode48horaspararestabeleceroabastecimentoquesópodeserexigidoemcircunstânciasnormaiseregulares.Ausência,pois,defalhadaprestaçãodeserviçoaimporacondenaçãodarénacompensaçãoaquefoicondenada,mormenteporultrapassaramédiadosarbitramentosfixadosemparadigmas.Anteoexpostovotonosentidodeconhecerdorecursoparadar-lheprovimentoejulgarimprocedentesospedidos.Custasexlege.Semhonorários.\"\n",
      "(Proc.nº0014637-35.2010.8.19.0087,Rel.JuizANTONIOCARLOSMAISONNETTEPEREIRA,j.em04.07.2012)\n",
      "\n",
      "\"Relaçãodeconsumo.Serviçodefornecimentodeenergiaelétrica.Pedidodecompensaçãopordanosmoraisemdecorrênciadealegadaindisponibilidadedoserviçoemdiversasocasiões.Asentençajulgouprocedenteemparteopedido,condenandoaconcessionáriaréapagarR$2.500,00aoautor,atítulodecompensaçãopordanosmorais.RecursoinominadointerpostopelaAmplaEnergiaeServiçosS.A.quemereceprovimento.Anarrativadainicialnãoencontraamparoemprovamínima.Nãohouveindisponibilidadedoserviçoportempojuridicamenterelevante-tampoucocomprovaçãodedescontinuidadetotaldoserviçoporpelomenos24horasininterruptas-,oqueafastaapossibilidadedeacolhimentodopedidodeindenizaçãopordanosmorais.Cabeaplicaraocasooentendimentoexpressonoverbetenº193daSúmuladajurisprudênciadoTJRJ:'Breveinterrupçãonaprestaçãodosserviçosessenciaisdeágua,energiaelétrica,telefoneegáspordeficiênciaoperacionalnãoconstituidanomoral'.Istoposto,douprovimentoaorecursoejulgoimprocedenteopedidodecompensaçãopordanosmorais.Semônussucumbenciais,emrazãodoprovimentodorecurso.\"\n",
      "(Proc.nº0001556-43.2010.8.19.0079,Rel.JuizANTONIOAURELIOABI-RAMIADUARTE,j.em27.06.2012)\n",
      "\n",
      "\"Energiaelétrica.Oscilaçõesrecorrentesnofornecimento.'Apagão'.Fatogeneralizado.Pretensãoindenizatória.Danomoralnãocaracterizado.Sentençareformada.Aautora,residentenoMunicípiodeSãoJoãodaBarra,narraoscilaçõesnoserviçoprestadopelaréqueculminoucomainterrupçãonofornecimentodeenergiaelétricanodia28/09/2010.Demoranorestabelecimentodoserviçosuperiora12horas.Emdefesa,arénegaaocorrênciadefalhadoserviço,bemcomoaexistênciadealteraçãonoconsumoparaaunidadedaparteautoranoperíodo.Alegaqueainterrupçãoocorreupormotivodeforçamaior,causaexclusivadaeclosãodoeventonarrado,aptaaromperonexodecausalidadeeaisentaraconcessionáriadequalquerresponsabilidadedeledecorrente.SentençadeprocedênciaparcialdopedidoparacondenararéaopagamentodeR$2.000,00(doismilreais),atitulodedanosmorais(fls.13/17).Recursodaré.Sentençaquemereceserreformada.Interrupçõesocorridase/oudemoranorestabelecimentodoserviço,semrelatodedanosefetivamentesuportadospeloconsumidor,nãojustificamacompensaçãopretendida.Ofatoderesidirnolocal,porsisó,nãotrazareboqueapresunçãodelesãoadireitodaparteautora.Danosmoraisnãocaracterizados.ConsoanteliçãodoprofessoreDesembargadorSergioCavalieriFilho,danomoral'éalesãodebemintegrantedapersonalidade,talcomoahonra,aliberdade,asaúde,aintegridadepsicológica,causandodor,sofrimento,tristeza,vexameehumilhaçãoàvítima'(inProgramadeResponsabilidadeCivil,1998,p.74).Aborrecimentotípicododia-a-diaecomumaohomemmédio.Tentativadebanalizaçãodaindenizaçãopordanosmoraisquemereceserrepelida.Oquealeimandaindenizaréodanoefetivoenãotranstornoscorriqueirosquenãoconfiguramdanosmorais.Istoposto,votonosentidodedarprovimentoaorecursoparajulgarimprocedenteopedido.Custasantecipadas.Semhonoráriosadvocatícios.\"\n",
      "(Proc.nº0002416-88.2011.8.19.0053,Rel.JuizALEXANDRECHININETO,j.em26.04.2012)\n",
      "\n",
      "\tOra,ahipótesedosautoséexatamenteidêntica.Ofornecimentodeenergiaelétricaparaaunidadeconsumidoradaautorarealmentefoiinterrompidoemalgumasocasiões.Aluzfoievoltou.Talfato,conformeentendimentoamplamente(semtrocadilho)adotadopeloConselhoRecursal,nãoconstituidanomoral.\n",
      "\n",
      "\tPelosmotivosexpostos,JULGOIMPROCEDENTEOPEDIDODEINDENIZAÇÃOPORDANOSMORAIS.Revogoadecisãodefls.15.Semcustasnemhonorários,salvosehouverrecurso.Transitadaemjulgado,baixaearquivo.P.R.I.\n",
      "\n"
     ]
    }
   ],
   "source": [
    "tjrj_sem_string = tjrj_1_text.replace(\" \", \"\")\n",
    "print(tjrj_sem_string)"
   ]
  },
  {
   "cell_type": "markdown",
   "metadata": {},
   "source": [
    "Essa decisão parece tratar de direito do consumidor. Para verificar essa hipótese da maneira mais simples possível, basta usar a sintaxe `in`:"
   ]
  },
  {
   "cell_type": "code",
   "execution_count": 26,
   "metadata": {},
   "outputs": [
    {
     "data": {
      "text/plain": [
       "True"
      ]
     },
     "execution_count": 26,
     "metadata": {},
     "output_type": "execute_result"
    }
   ],
   "source": [
    "\"consumo\" in tjrj_1_text"
   ]
  },
  {
   "cell_type": "markdown",
   "metadata": {},
   "source": [
    "Podemos fazer a mesma coisa através de um método que retorna a localização, ou seja, não só *se* \"consumo\" aparece em `tjrj_1_text`, mas *onde* essa substring aparece.\n",
    "\n",
    "<blockquote>\n",
    "\n",
    "OBS.: substring é um termo utilizado bastante nas discussões a respeito de tratamento de texto. Seu significado é bastante intuitivo, mas faz sentido definir substring: se uma string de caracteres A está contida em uma string maior B, A é uma substring de B. Esse é o sentido no qual usaremos o termo no presente curso.\n",
    "\n",
    "</blockquote>"
   ]
  },
  {
   "cell_type": "code",
   "execution_count": 49,
   "metadata": {},
   "outputs": [
    {
     "data": {
      "text/plain": [
       "1482"
      ]
     },
     "execution_count": 49,
     "metadata": {},
     "output_type": "execute_result"
    }
   ],
   "source": [
    "tjrj_1_text.find(\"consumo\")"
   ]
  },
  {
   "cell_type": "markdown",
   "metadata": {},
   "source": [
    "Como você pode perceber, o resultado do método `.find()` é estranho... Afinal, que diabos é 1482?\n",
    "\n",
    "Trata-se da posição na qual a palavra \"consumo\" começa. Podemos imprimir a palavra inteira usando esse índice como início e `1482 + len(\"consumo\")` como fim:"
   ]
  },
  {
   "cell_type": "code",
   "execution_count": 52,
   "metadata": {},
   "outputs": [
    {
     "data": {
      "text/plain": [
       "'consumo'"
      ]
     },
     "execution_count": 52,
     "metadata": {},
     "output_type": "execute_result"
    }
   ],
   "source": [
    "tjrj_1_text[1482:(1482 + len(\"consumo\"))]"
   ]
  },
  {
   "cell_type": "markdown",
   "metadata": {},
   "source": [
    "Mas essa informação parece fácil de adquirir sem a necessidade de programar. Seria mais interessante saber quantas vezes a string \"consum\" (para incluir termos como consumerista) aparece no texto, o que podemos fazer com o método `.count()`:"
   ]
  },
  {
   "cell_type": "code",
   "execution_count": 53,
   "metadata": {},
   "outputs": [
    {
     "data": {
      "text/plain": [
       "11"
      ]
     },
     "execution_count": 53,
     "metadata": {},
     "output_type": "execute_result"
    }
   ],
   "source": [
    "tjrj_1_text.count(\"consum\")"
   ]
  },
  {
   "cell_type": "markdown",
   "metadata": {},
   "source": [
    "Esse subconjunto de letras aparece 11 vezes nessa decisão! Um excelente indicador de que estamos diante de um texto que trata de direito do consumidor.\n",
    "\n",
    "Mas o que aconteceu com `.find()`? Por que o método nos deu apenas UM único índice e não 11? Porque ele sempre retorna apenas a posição do primeiro resultado encontrado. Se quisermos saber a posição de todos os casos de \"consum\", teremos que fazer isso dentro de um loop. Uma última informação importante para entender o loop é que o método `.find()`, na verdade, toma 3 argumentos: a substring a ser procurada, o índice inicial da procura e o indíce final da procura. O for abaixo explora essa estrutura para recomeçar a busca a partir de cada encontro, gerando uma lista com todas as instâncias em que \"consum\" aparece no texto da sentença."
   ]
  },
  {
   "cell_type": "code",
   "execution_count": 5,
   "metadata": {},
   "outputs": [
    {
     "name": "stdout",
     "output_type": "stream",
     "text": [
      "[1482, 3629, 4239, 4360, 5388, 9262, 9371, 10886, 12634, 13212, 14298]\n"
     ]
    }
   ],
   "source": [
    "indexes_list = []\n",
    "\n",
    "for instance in range(tjrj_1_text.count(\"consum\")):\n",
    "    if not indexes_list:\n",
    "        new_index = tjrj_1_text.find(\"consum\")\n",
    "    else:\n",
    "        new_index = tjrj_1_text.find(\"consum\", max(indexes_list) + len(\"consum\"), len(tjrj_1_text))\n",
    "    indexes_list.append(new_index)\n",
    "    \n",
    "print(indexes_list)"
   ]
  },
  {
   "cell_type": "markdown",
   "metadata": {},
   "source": [
    "Encontrar certos padrões em textos jurídicos tem utilidade prática. O requisito do prequestionamento no caso dos recursos extraordinários, por exemplo, exige que a matéria constitucional tenha sido enfrentada nas instâncias inferiores. Será que isso aconteceu nessa sentença? Podemos ver quantas vezes a palavra \"constituição\" aparece nela (aqui, é perigoso usar 'const', pense nos verbos constituir e constranger, partes importantes do vocabulário civilista):"
   ]
  },
  {
   "cell_type": "code",
   "execution_count": 29,
   "metadata": {},
   "outputs": [
    {
     "data": {
      "text/plain": [
       "0"
      ]
     },
     "execution_count": 29,
     "metadata": {},
     "output_type": "execute_result"
    }
   ],
   "source": [
    "tjrj_1_text.count(\"constituição\")"
   ]
  },
  {
   "cell_type": "markdown",
   "metadata": {},
   "source": [
    "Nenhuma vez! Parece que esse recurso extraordinário não seria admitido...\n",
    "\n",
    "Precisamos tomar cuidado: `.count()` e `.replace()` usam um método de identificação de padrões estrito. Se mudarmos a capitalização (escrevermos em maiúsculas, por exemplo), a estratégia já falha:"
   ]
  },
  {
   "cell_type": "code",
   "execution_count": 30,
   "metadata": {},
   "outputs": [
    {
     "data": {
      "text/plain": [
       "0"
      ]
     },
     "execution_count": 30,
     "metadata": {},
     "output_type": "execute_result"
    }
   ],
   "source": [
    "test_string = \"Constituição\"\n",
    "test_string.count(\"constituição\")"
   ]
  },
  {
   "cell_type": "markdown",
   "metadata": {},
   "source": [
    "Para lidar com esse problema, é comum padronizarmos os textos para que eles fiquem inteiramente em minúsculas. Como sempre, o Python nos ajuda bastante: basta usarmos o método `.lower()`:"
   ]
  },
  {
   "cell_type": "code",
   "execution_count": 31,
   "metadata": {},
   "outputs": [
    {
     "data": {
      "text/plain": [
       "1"
      ]
     },
     "execution_count": 31,
     "metadata": {},
     "output_type": "execute_result"
    }
   ],
   "source": [
    "test_string.lower().count(\"constituição\")"
   ]
  },
  {
   "cell_type": "markdown",
   "metadata": {},
   "source": [
    "<blockquote>\n",
    "    \n",
    "OBS.: Pela primeira vez, estamos chamando dois métodos seguidos, sem guardar o resultado em uma variável intermediária. Isso é perfeitamente válido em Python. Só precisamos lembrar que o programa vai interpretar as coisas da esquerda para a direita: primeiro, ele vai transformar todas as maiúsculas em `test_string` para minúsculas e aí sim fazer a contagem. Caso usássemos a ordem inversa, o programa não funcionaria: afinal, `.count()` retorna um objeto do tipo `int`, que não possui o método `.lower()`. É necessário ter cuidado com o encadeamento de métodos, porque isso pode tornar seu código confuso e difícil de ler.\n",
    "    \n",
    "</blockquote>"
   ]
  },
  {
   "cell_type": "markdown",
   "metadata": {},
   "source": [
    "Vamos contar novamente a quantidade de vezes que \"consum\" aparece, depois de realizar a transformação para minúsculas:"
   ]
  },
  {
   "cell_type": "code",
   "execution_count": 33,
   "metadata": {},
   "outputs": [
    {
     "data": {
      "text/plain": [
       "12"
      ]
     },
     "execution_count": 33,
     "metadata": {},
     "output_type": "execute_result"
    }
   ],
   "source": [
    "tjrj_1_text.lower().count(\"consum\")"
   ]
  },
  {
   "cell_type": "markdown",
   "metadata": {},
   "source": [
    "Encontramos uma menção a mais! Será que nosso prequestionamento funciona melhor dessa forma?"
   ]
  },
  {
   "cell_type": "code",
   "execution_count": 34,
   "metadata": {},
   "outputs": [
    {
     "data": {
      "text/plain": [
       "0"
      ]
     },
     "execution_count": 34,
     "metadata": {},
     "output_type": "execute_result"
    }
   ],
   "source": [
    "tjrj_1_text.lower().count(\"constituição\")"
   ]
  },
  {
   "cell_type": "markdown",
   "metadata": {},
   "source": [
    "Aparentemente não..."
   ]
  },
  {
   "cell_type": "markdown",
   "metadata": {},
   "source": [
    "Outra coisa interessante que podemos fazer com strings é separá-las e extrair informações a partir disso. Um exemplo é a numeração única do CNJ. Segundo a [resolução 65/2008](http://www.cnj.jus.br///images/atos_normativos/resolucao/resolucao_65_16122008_04032013165912.pdf), os números do CNJ respondem ao seguinte padrão:\n",
    "\n",
    "<br>\n",
    "<center> NNNNNNN-DD.AAAA.J.TR.OOOO </center>\n",
    "<br>\n",
    "\n",
    "Onde N = o número do processo, DD = dígito verificador, AAAA = ano de protocolo, J = ramo da justiça, TR = tribunal e OOOO = órgão julgador.\n",
    "\n",
    "Isso significa que, a partir do número do CNJ, podemos obter várias informações importantes a respeito de um tribunal. Perceba também que quase todas as informações são separadas por \".\". Podemos usar isso a nosso favor com o método `.split()`. Ele toma como argumento uma string e retorna uma lista que separa a string principal a cada ocorrência do caractere especial. Vamos pegar um dos processos citados na sentença acima para experimentar com `.split()`:"
   ]
  },
  {
   "cell_type": "code",
   "execution_count": 36,
   "metadata": {},
   "outputs": [],
   "source": [
    "num_cnj = \"0005467-10.2011.8.19.0053\""
   ]
  },
  {
   "cell_type": "code",
   "execution_count": 37,
   "metadata": {},
   "outputs": [],
   "source": [
    "info_cnj = num_cnj.split(\".\")"
   ]
  },
  {
   "cell_type": "code",
   "execution_count": 38,
   "metadata": {},
   "outputs": [
    {
     "name": "stdout",
     "output_type": "stream",
     "text": [
      "['0005467-10', '2011', '8', '19', '0053']\n"
     ]
    }
   ],
   "source": [
    "print(info_cnj)"
   ]
  },
  {
   "cell_type": "markdown",
   "metadata": {},
   "source": [
    "Podemos perceber que `info_cnj` é uma lista que contém 5 elementos: cada uma das partes principais do número único do CNJ é um elemento da lista. O primeiro elemento é um identificador de cada processo (número + dígito verificador), o segundo é o ano de protocolo, e assim por diante. Para extrair o ano do processo, basta, portanto, extrairmos o segundo elemento da lista e transformá-lo em um número inteiro:"
   ]
  },
  {
   "cell_type": "code",
   "execution_count": 39,
   "metadata": {},
   "outputs": [],
   "source": [
    "ano_proc = int(info_cnj[1])"
   ]
  },
  {
   "cell_type": "markdown",
   "metadata": {},
   "source": [
    "<a id=resumo></a>\n",
    "# Resumo\n",
    "\n",
    "Strings são um objeto poderoso em Python, mas podemos encontrar alguns desafios:\n",
    "\n",
    "* muito embora Unicode seja o novo padrão, ainda temos muito arquivos que foram criados usando outros encodings. Precisamos estar atentos para o tipo de erro que identifica esse problema e preparados para encontrar o encoding adequado ao nosso arquivo.\n",
    "* `.replace()` é um método de strings que pode ser usado para realizar substituições rápidas em textos longos.\n",
    "* `.find()` serve para identificarmos em que locais acontecem certas substrings.\n",
    "* `.count()` serve para contarmos o número de ocorrências de uma determinada substring dentro de um texto.\n",
    "* `.lower()` trata o texto, facilitando o uso de métodos como `.replace()` e `.count()'.\n",
    "* `.split()` pode ser usado para extrair informações de textos gerados de maneira padronizada.\n",
    "\n",
    "Naturalmente, esses não são todos os métodos suportados por strings, mas sem dúvidas são alguns dos mais importantes e úteis para as interações entre direito e ciência de dados.\n",
    "\n",
    "Podemos ver mais sobre strings e todos os seus métodos na documentação oficial do Python: [https://docs.python.org/3/library/stdtypes.html#string-methods](https://docs.python.org/3/library/stdtypes.html#string-methods)\n",
    "\n"
   ]
  },
  {
   "cell_type": "markdown",
   "metadata": {},
   "source": [
    "<a id=exercicio></a>\n",
    "# Exercício\n",
    "\n",
    "Vamos encontrar todos os processos citados pela decisão acima? Crie um dicionário chamado `citacoes_tjrj`, onde cada chave é um processo citado pela decisão guardada em `tjrj_1_text`. O valor associado a cada uma dessas chaves deve ser um dicionário contendo as seguintes informações a respeito do processo:\n",
    "\n",
    "1) o ID (definido como NNNNNNN-DD) - nome da chave = \"id\"; <br>\n",
    "2) o ano de protocolo - nome da chave = \"ano\"; <br>\n",
    "3) o código do ramo da justiça - nome da chave = \"cod_just\"; <br>\n",
    "4) o código do tribunal - nome da chave = \"cod_trib\"; <br>\n",
    "5) o código do órgão competente para o julgamento - nome da chave = \"org_julg\". <br>\n",
    "\n",
    "<blockquote>\n",
    "\n",
    "DICA: a substring \".8.19\" acontece em todas as citações, já que todas as citações são a julgados de um mesmo tribunal da justiça estadual (o TJRJ). Adapte o loop que criamos acima com `.find()` para extrair os números CNJ que vão servir como chaves de `citacoes_tjrj` - preste atenção: números do CNJ têm 25 caracteres incluindo pontos e traços e \".8.19\" não são o começo do número. Após, use `.split()` para popular o dicionário.\n",
    "\n",
    "</blockquote>"
   ]
  },
  {
   "cell_type": "code",
   "execution_count": 7,
   "metadata": {},
   "outputs": [],
   "source": [
    "#implemente sua resposta aqui\n"
   ]
  },
  {
   "cell_type": "code",
   "execution_count": null,
   "metadata": {
    "scrolled": true
   },
   "outputs": [],
   "source": [
    "from correcoes import aula10_ex1\n",
    "aula10_ex1(tjrj_1_text, citacoes_tjrj)"
   ]
  },
  {
   "cell_type": "markdown",
   "metadata": {},
   "source": [
    "# Exercício extra\n",
    "\n",
    "Uma outra maneira interessante de dividir a nossa sentença é por parágrafos. A string \"\\n\" representa uma nova linha em Python e pode ser usada para identificar a separação entre diferentes parágrafos.\n",
    "\n",
    "Com base nessa informação, use as técnicas que aprendemos nesta aula para popular um dicionário chamado `paragrafos` contendo, para cada parágrafo, uma tupla com dois elementos: o seu número de caracteres e a quantidade de vezes que a substring \"consum\" aparece dentro dele. As chaves deste dicionário devem ser o índice do parágrafo, **iniciando-se do número 1**.\n",
    "\n",
    "<blockquote>\n",
    "    Atenção! A direção da barra importa. A string que representa nova linha é \"\\n\" e não \"/n\".\n",
    "</blockquote>"
   ]
  },
  {
   "cell_type": "code",
   "execution_count": 10,
   "metadata": {},
   "outputs": [],
   "source": [
    "#seu código aqui\n",
    "\n"
   ]
  },
  {
   "cell_type": "code",
   "execution_count": null,
   "metadata": {},
   "outputs": [],
   "source": [
    "from correcoes import exercicio_extra8\n",
    "exercicio_extra8(paragrafos, tjrj_1_text)"
   ]
  }
 ],
 "metadata": {
  "kernelspec": {
   "display_name": "base",
   "language": "python",
   "name": "python3"
  },
  "language_info": {
   "codemirror_mode": {
    "name": "ipython",
    "version": 3
   },
   "file_extension": ".py",
   "mimetype": "text/x-python",
   "name": "python",
   "nbconvert_exporter": "python",
   "pygments_lexer": "ipython3",
   "version": "3.9.1 (default, Dec 11 2020, 09:29:25) [MSC v.1916 64 bit (AMD64)]"
  },
  "toc": {
   "base_numbering": 1,
   "nav_menu": {
    "height": "12px",
    "width": "168px"
   },
   "number_sections": false,
   "sideBar": true,
   "skip_h1_title": false,
   "title_cell": "Índice",
   "title_sidebar": "Conteúdo",
   "toc_cell": false,
   "toc_position": {
    "height": "calc(100% - 180px)",
    "left": "10px",
    "top": "150px",
    "width": "378px"
   },
   "toc_section_display": true,
   "toc_window_display": false
  },
  "vscode": {
   "interpreter": {
    "hash": "19d1d53a962d236aa061289c2ac16dc8e6d9648c89fe79f459ae9a3493bc67b4"
   }
  }
 },
 "nbformat": 4,
 "nbformat_minor": 4
}

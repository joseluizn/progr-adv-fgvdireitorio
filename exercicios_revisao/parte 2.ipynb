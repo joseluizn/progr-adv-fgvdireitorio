{
 "cells": [
  {
   "cell_type": "raw",
   "metadata": {},
   "source": [
    "---\n",
    "title: \"Exercícios Objetivos - Revisão de Programação\"\n",
    "format:\n",
    "  html:\n",
    "    self-contained: true\n",
    "    toc: true\n",
    "    toc-depth: 2\n",
    "    toc-title: \"Exercícios\"\n",
    "    toc-location: left\n",
    "    number-depth: 0\n",
    "    code-line-numbers: true\n",
    "    code-overflow: scroll\n",
    "    code-annotations: below\n",
    "---"
   ]
  },
  {
   "cell_type": "markdown",
   "metadata": {},
   "source": [
    "### Exercícios Objetivos"
   ]
  },
  {
   "cell_type": "markdown",
   "metadata": {},
   "source": [
    "# Condicionais"
   ]
  },
  {
   "cell_type": "markdown",
   "metadata": {},
   "source": [
    "## 1\n",
    "\n",
    "Há alguma diferença lógica entre os dois codigos?\n",
    "\n",
    "Código A\n",
    "```python\n",
    "leandro_matou_alguem = True\n",
    "leandro_usou_arma = True\n",
    "\n",
    "if leandro_matou_alguem:\n",
    "    if leandro_usou_arma:\n",
    "        print(\"Leandro é um assassino\")\n",
    "    else:\n",
    "        print(\"Leandro é monstro\")\n",
    "else:\n",
    "    print(\"Leandro é um santo\")\n",
    "```\n",
    "\n",
    "Código B\n",
    "```python\n",
    "leandro_matou_alguem = True\n",
    "leandro_usou_arma = True\n",
    "\n",
    "if leandro_matou_alguem:\n",
    "    print(\"Leandro é monstro\")\n",
    "elif leandro_matou_alguem and leandro_usou_arma:\n",
    "    print(\"Leandro é um assassino\")\n",
    "else:\n",
    "    print(\"Leandro é um santo\")\n",
    "```\n",
    "\n",
    "a) Não, ambos os códigos são equivalentes e vão gerar sempre o mesmo resultado.\n",
    "\n",
    "b) Sim, o código A vai gerar um erro de sintaxe pois não é possível usar um `if` dentro de outro `if`.\n",
    "\n",
    "c) Sim, a ordem das condições no Código B está errada para representar a mesma condição. Como a condição `leandro_matou_alguem and leandro_usou_arma` é mais específica, deve vir antes da condição `leandro_matou_alguem`.\n",
    "\n",
    "d) Não, mas o segundo código irá gerar um erro de sintaxe pois a linguagem Python não permite o uso da sintaxe `elif`.\n"
   ]
  },
  {
   "cell_type": "markdown",
   "metadata": {},
   "source": [
    "## 2\n",
    "\n",
    "Quais as condições preencheriam corretamente o espaço em branco, representado por ___, no código abaixo?\n",
    "\n",
    "Considere que o código tem como objetivo identificar o cumprimento de um contrato de compra e venda.\n",
    "\n",
    "```python\n",
    "valor_contrato = 1000\n",
    "valor_pago = 500\n",
    "bem_entregue = False\n",
    "\n",
    "if ___:\n",
    "    print(\"Contrato cumprido\")\n",
    "else:\n",
    "    print(\"Contrato não cumprido\")\n",
    "```\n",
    "\n",
    "a) `valor_pago == valor_contrato and bem_entregue == True`\n",
    "\n",
    "b) `valor_pago == valor_contrato or bem_entregue == True`\n",
    "\n",
    "c) Não é possível representar as duas condições com um único `if` de forma que o código funcione corretamente.\n",
    "\n",
    "d) `bem_entregue == True` e não é necessário verificar o valor pago, pois o bem foi entregue."
   ]
  },
  {
   "cell_type": "markdown",
   "metadata": {},
   "source": [
    "## 3\n",
    "\n",
    "Qual o resultado da execução do código abaixo?\n",
    "\n",
    "```python\n",
    "processo = \"ADI 45\"\n",
    "\n",
    "acompanhamento_processos = [\"ADI 4587\", \"ADPF 254\", \"HC 184562\", \"MS 12516\"]\n",
    "if processo in acompanhamento_processos:\n",
    "    print(\"O processo informado já está sendo buscado!\")\n",
    "else:\n",
    "    acompanhamento_processos.append(processo)\n",
    "    print(\"O processo foi adicionado ao banco de buscas.\")\n",
    "\n",
    "```\n",
    "\n",
    "a) O código irá gerar um erro de sintaxe pois não é possível usar o operador `in` para checar se uma string está contida em uma lista.\n",
    "\n",
    "b) O código irá imprmir a mensagem `O processo informado já está sendo buscado!` pois a string `\"ADI 45\"` está contida na string \"ADI 4587\" que já está na lista.\n",
    "\n",
    "c) O código irá imprimir a mensagem `O processo foi adicionado ao banco de buscas.` pois a string `\"ADI 45\"` não está contida na lista.\n",
    "\n",
    "d) O código irá gerar um erro pois a sintaxe do `if` está incorreta. O correto seria `if processo is in acompanhamento_processos:`."
   ]
  },
  {
   "cell_type": "markdown",
   "metadata": {},
   "source": [
    "# Funções"
   ]
  },
  {
   "cell_type": "markdown",
   "metadata": {},
   "source": [
    "## 1\n",
    "\n",
    "Qual será o texto imprimido como resultado da execução do seguinte código?\n",
    "\n",
    "```python\n",
    "def gera_subestabelecimento(nome_adv, oab, nome_adv2, oab2):\n",
    "    procurador = f\"\"\"\n",
    "    {nome_adv}, advogada inscrita na OAB/RJ n° {oab}, vem subsestabelecer com reservas de iguais poderes\n",
    "    \"\"\"\n",
    "    return procurador\n",
    "    parte2 - f\"\"\"\n",
    "    {nome_adv2}, advogada inscrita na OAB/RJ n° {oab2}, podendo enfim praticar todos os atos e diligências necessário, iguais aos que me foram outorgados.\n",
    "    \"\"\"\n",
    "\n",
    "    texto_subestabelecimento = procurador + parte2\n",
    "    return texto_subestabelecimento\n",
    "\n",
    "print(gera_subestabelecimento(\"Maria\", 1234, \"Joana\", 5678))\n",
    "```\n",
    "\n",
    "a) Maria, advogada inscrita na OAB/RJ n° 1234, vem subsestabelecer com reservas de iguais poderes\n",
    "\n",
    "b) Maria, advogada inscrita na OAB/RJ n° 1234, vem subsestabelecer com reservas de iguais poderes Joana, advogada inscrita na OAB/RJ n° 5678, podendo enfim praticar todos os atos e diligências necessário, iguais aos que me foram outorgados.\n",
    "\n",
    "c) O código irá gerar um erro porque não é possível somar valores textuais com númericos para formar novas *strings*.\n",
    "\n",
    "d) {nome_adv}, advogada inscrita na OAB/RJ n° {oab}, vem subsestabelecer com reservas de iguais poderes Joana, advogada inscrita na OAB/RJ n° 5678, podendo enfim praticar todos os atos e diligências necessário, iguais aos que me foram outorgados."
   ]
  },
  {
   "cell_type": "markdown",
   "metadata": {},
   "source": [
    "## 2\n",
    "\n",
    "Qual será o resultado da execução do seguinte código?\n",
    "\n",
    "```python\n",
    "def gera_subestabelecimento(nome_adv, oab, nome_adv2=\"Clarisse\", oab2=1274):\n",
    "    procurador = f\"\"\"\n",
    "    {nome_adv}, advogada inscrita na OAB/RJ n° {oab}, vem subsestabelecer com reservas de iguais poderes\n",
    "    \"\"\"\n",
    "    parte2 - f\"\"\"\n",
    "    {nome_adv2}, advogada inscrita na OAB/RJ n° {oab2}, podendo enfim praticar todos os atos e diligências necessário, iguais aos que me foram outorgados.\n",
    "    \"\"\"\n",
    "\n",
    "    texto_subestabelecimento = procurador + parte2\n",
    "    return texto_subestabelecimento\n",
    "\n",
    "subestabelecimento = gera_subestabelecimento(\"Maria\", 1234)\n",
    "print(subestabelecimento)\n",
    "```\n",
    "\n",
    "a) O código irá gerar erro pois a função foi chamada com apenas 2 argumentos, mas a função espera 4 argumentos.\n",
    "\n",
    "b) A função irá retornar o texto mas apenas com as informações de Maria, a segunda parte do texto ficará com as informações preenchidas em branco: \", advogada inscrita na OAB/RJ n° , podendo enfim praticar todos os atos e diligências necessário, iguais aos que me foram outorgados.\"\n",
    "\n",
    "c) O código irá gerar um erro porque não é possível somar valores textuais com númericos para formar novas *strings*.\n",
    "\n",
    "d) O código ira imprimir o texto: Maria, advogada inscrita na OAB/RJ n° 1234, vem subsestabelecer com reservas de iguais poderes Clarisse, advogada inscrita na OAB/RJ n° 1274, podendo enfim praticar todos os atos e diligências necessário, iguais aos que me foram outorgados."
   ]
  },
  {
   "cell_type": "markdown",
   "metadata": {},
   "source": [
    "## 3\n",
    "\n",
    "```python\n",
    "def e_string_interrogacao(variavel):\n",
    "    if type(x) == str:\n",
    "        return True\n",
    "    else:\n",
    "        print(\"A variável não é uma string\")\n",
    "        return False\n",
    "\n",
    "x = 10\n",
    "y = \"teste\"\n",
    "e_string_interrogacao(y)\n",
    "```\n",
    "\n",
    "Qual será o resultado da execução do código acima?\n",
    "\n",
    "a) O código irá gerar um erro pois a função `e_string_interrogacao` não foi chamada.\n",
    "\n",
    "b) A função retornará True pois valor da variável `y`, `\"teste\"`, é uma string.|\n",
    "\n",
    "c) A função retornará False pois há um erro lógico na função, já que ela recebe o argumento `variavel` mas dentro da função ela usa a variável `x`.\n",
    "\n",
    "d) O código ira gerar um erro pois a função `e_string_interrogacao` não foi definida corretamente, pois não possui um `return` para o caso em que a variável não é uma string.\n"
   ]
  },
  {
   "cell_type": "markdown",
   "metadata": {},
   "source": [
    "# 4\n",
    "\n",
    "Qual será o resultado da execução do código abaixo?\n",
    "\n",
    "```python\n",
    "def dizer_ola(nome):\n",
    "    print(f\"Olá {nome}!\")\n",
    "```\n",
    "\n",
    "a) O código irá imprimir a expressão `Olá {nome}!` na tela.\n",
    "\n",
    "b)O código irá gerar um erro de sintaxe porque a variável nome não foi definida.\n",
    "\n",
    "c) O código irá gerar um erro de sintaxe porque a função não possui um `return`.\n",
    "\n",
    "d) Não haverá nenhum resultado pois a função foi definida mas não foi chamada."
   ]
  },
  {
   "cell_type": "code",
   "execution_count": null,
   "metadata": {},
   "outputs": [],
   "source": []
  }
 ],
 "metadata": {
  "kernelspec": {
   "display_name": "eda",
   "language": "python",
   "name": "python3"
  },
  "language_info": {
   "codemirror_mode": {
    "name": "ipython",
    "version": 3
   },
   "file_extension": ".py",
   "mimetype": "text/x-python",
   "name": "python",
   "nbconvert_exporter": "python",
   "pygments_lexer": "ipython3",
   "version": "3.11.3"
  },
  "orig_nbformat": 4
 },
 "nbformat": 4,
 "nbformat_minor": 2
}

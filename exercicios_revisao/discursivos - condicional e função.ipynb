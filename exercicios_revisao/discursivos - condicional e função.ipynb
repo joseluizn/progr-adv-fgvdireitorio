{
 "cells": [
  {
   "cell_type": "raw",
   "metadata": {},
   "source": [
    "---\n",
    "title: \"Exercícios Discursivos - Revisão de Programação\"\n",
    "format:\n",
    "  html:\n",
    "    self-contained: true\n",
    "    toc: true\n",
    "    toc-depth: 2\n",
    "    toc-title: \"Exercícios - Condicionais e Funções\"\n",
    "    toc-location: left\n",
    "    number-depth: 0\n",
    "    code-line-numbers: true\n",
    "    code-overflow: scroll\n",
    "    code-annotations: below\n",
    "---"
   ]
  },
  {
   "cell_type": "markdown",
   "metadata": {},
   "source": [
    "### Exercícios discursivos\n",
    "\n",
    "Nos exercícios abaixo você deve explicar o funcionamento do código com suas palavras. Inclua as linhas de códigos relevantes para o que você estiver explicando.\n",
    "\n",
    "É importante tanto comentar aspectos de programação, como o tipo de variável e valores que apareçam no código, quanto o que eles representam no contexto do problema se isso for apresentado pelo exercício.\n",
    "\n",
    "Colocamos caixa de texto que você pode usar para digitar aqui. Contudo, sua resposta não ficará salva. Se você quiser usá-la pode salvar uma versão desse arquivo depois de digitar ou salvar um PDF.\n",
    "\n",
    "**NOTA**: ***Os exemplos de resposta foram feitos com nossas palavras. Não se preocupe em reproduzir o estilo de escrita, elas estão colocadas para exemplificar os elementos necessários de uma boa resposta.***"
   ]
  },
  {
   "cell_type": "code",
   "execution_count": null,
   "metadata": {},
   "outputs": [],
   "source": [
    "agente = \"João\"\n",
    "\n",
    "subtrair_coisa_movel = True\n",
    "violencia = False\n",
    "\n",
    "fraude = True\n",
    "destruicao = False"
   ]
  },
  {
   "cell_type": "markdown",
   "metadata": {},
   "source": [
    "Escreva um pseudo-código de um condicional que seja capaz de diferenciar entre os crimes de (i) furto, (ii) furto qualificado, e (iii) roubo.\n",
    "\n",
    "O pseudo-código deve representar a estrutura lógica da decisão sendo tomada de forma semelhante a um código, mas não precisa seguir nenhuma sintaxe específica. \n",
    "\n",
    "Abaixo um exemplo do que seria um pseudo-código:\n",
    "(vamos usar um traço para indicar identação e escopo)\n",
    "```\n",
    "se agente matou_alguem == Verdadeiro\n",
    "--imprimir(\"O agente é um assassino!\")\n",
    "c.c.\n",
    "--imprimir(\"O agente é inocente\")\n",
    "```\n",
    "\n",
    "Outra opção:\n",
    "\n",
    "```\n",
    "if agente matou_alguem é True:\n",
    "--imprimir(\"O agente é um assassino!\")\n",
    "else:\n",
    "--imprimir(\"O agente é inocente\")\n",
    "```\n",
    "\n",
    "c.c. significa caso contrário\n",
    "\n",
    "::: {.callout-tip collapse=\"true\"}\n",
    "## Exemplo de resposta\n",
    "É importante destacar que há várias formas de expressar a mesma estrutura lógica!\n",
    "\n",
    "if subtrair_coisa_movel == False:\n",
    "\n",
    "-- imprimir(\"O agente não cometeu crime\")\n",
    "\n",
    "elif violencia == True:\n",
    "\n",
    "-- imprimir(\"O agente cometeu um roubo\")\n",
    "\n",
    "else:\n",
    "\n",
    "--if fraude == True ou destruicao == True:\n",
    "\n",
    "---- imprimir(\"Agente cometeu furto qualificado\")\n",
    "\n",
    "-- else:\n",
    "\n",
    "---- imprimir(\"Agente cometeu furto\")\n",
    "\n",
    ":::"
   ]
  },
  {
   "cell_type": "markdown",
   "metadata": {},
   "source": [
    "<label for=\"freeform\">Resposta:</label>\n",
    "<br>\n",
    "\n",
    "<textarea id=\"freeform\" name=\"freeform\" rows=\"15\" cols=\"75\">\n",
    "Você pode digitar sua resposta nessa caixa de texto. Contudo, ela não ficara salva! (Apague esse texto)\n",
    "</textarea>"
   ]
  },
  {
   "cell_type": "markdown",
   "metadata": {},
   "source": [
    "# 2)\n",
    "\n",
    "O artigo abaixo da Lei de Execução Penal estabelece a forma de cumprimento de pena privativa de liberdade,\n",
    "\n",
    "<blockquote>\n",
    "    \n",
    "Art. 112. A pena privativa de liberdade será executada em forma progressiva com a transferência para regime menos rigoroso, a ser determinada pelo juiz, quando o preso tiver cumprido ao menos um sexto da pena no regime anterior e ostentar bom comportamento carcerário, comprovado pelo diretor do estabelecimento, respeitadas as normas que vedam a progressão. \n",
    "\n",
    "</blockquote>\n",
    "\n",
    "\n",
    "O artigo 33 do CP estabelece as formas dec umprimento de pena:\n",
    "\n",
    "<blockquote>\n",
    "    \n",
    "      Art. 33 - A pena de reclusão deve ser cumprida em regime fechado, semi-aberto ou aberto. A de detenção, em regime semi-aberto, ou aberto, salvo necessidade de transferência a regime fechado.\n",
    "\n",
    "        § 1º - Considera-se:\n",
    "    \n",
    "        a) regime fechado a execução da pena em estabelecimento de segurança máxima ou média;\n",
    "        b) regime semi-aberto a execução da pena em colônia agrícola, industrial ou estabelecimento similar;\n",
    "        c) regime aberto a execução da pena em casa de albergado ou estabelecimento adequado.\n",
    "</blockquote>\n",
    "\n",
    "\n",
    "A estrutura abaixo armazena informações sobre penas em cumprimento em um estabelecimento prisional:"
   ]
  },
  {
   "cell_type": "code",
   "execution_count": null,
   "metadata": {},
   "outputs": [],
   "source": [
    "presos = [\n",
    "    {\"nome\": \"Tício\", \"pena_total\": 15, \"pena_regime_atual\": 1, \"pena_cumprida_geral\": 1, \"regime\": \"fechado\"},\n",
    "    {\"nome\": \"Mário\", \"pena_total\": 92, \"pena_regime_atual\": 23, \"pena_cumprida_geral\": 23, \"regime\": \"fechado\"},\n",
    "    {\"nome\": \"Joaquim\", \"pena_total\": 75, \"pena_regime_atual\": 4, \"pena_cumprida_geral\": 22, \"regime\": \"semi-aberto\"},\n",
    "    {\"nome\": \"Tércio\", \"pena_total\": 62, \"pena_regime_atual\": 30, \"pena_cumprida_geral\": 30, \"regime\": \"aberto\"}\n",
    "]"
   ]
  },
  {
   "cell_type": "markdown",
   "metadata": {},
   "source": [
    "Você encontrou o seguinte código incompleto sem documentação que faz parte de um projeto para auxiliar no acompanhamento da execução penal no estabelecimento.\n",
    "\n",
    "Explique com suas palavras o código abaixo e o que deveria ser adicionado em cada chamada função `print` para que ele informe corretamente a situação de acordo com o artigo acima."
   ]
  },
  {
   "cell_type": "code",
   "execution_count": null,
   "metadata": {},
   "outputs": [],
   "source": [
    "pena_a_analisar = 2\n",
    "info_pena = presos[pena_a_analisar]\n",
    "pena_regime_atual = info_pena['pena_regime_atual']\n",
    "pena_cumprida = info_pena[\"pena_cumprida_geral\"]\n",
    "pena_total = info_pena['pena_total']\n",
    "regime = info_pena['regime']\n",
    "\n",
    "if pena_cumprida >= pena_total:\n",
    "    print(\"\")\n",
    "elif regime == \"aberto\" or pena_cumprida < pena_total/6:\n",
    "    print(\"\")\n",
    "elif pena_regime_atual >= pena_total/6:\n",
    "    if regime == \"semi-aberto\":\n",
    "        print(\"\")\n",
    "    else:\n",
    "        print(\"\")\n",
    "else:\n",
    "    print(\"\")"
   ]
  },
  {
   "cell_type": "markdown",
   "metadata": {},
   "source": [
    "# 3)\n",
    "\n",
    "O artigo 940 do CPC, transcrito abaixo, determina o prazo de duração do pedido de vista.\n",
    "\n",
    "<blockquote>\n",
    "    \n",
    "Art. 940. O relator ou outro juiz que não se considerar habilitado a proferir imediatamente seu voto poderá solicitar vista pelo prazo máximo de 10 (dez) dias, após o qual o recurso será reincluído em pauta para julgamento na sessão seguinte à data da devolução.\n",
    "\n",
    "    § 1º Se os autos não forem devolvidos tempestivamente ou se não for solicitada pelo juiz prorrogação de prazo de no máximo mais 10 (dez) dias, o presidente do órgão fracionário os requisitará para julgamento do recurso na sessão ordinária subsequente, com publicação da pauta em que for incluído.\n",
    "\n",
    "    § 2º Quando requisitar os autos na forma do § 1º, se aquele que fez o pedido de vista ainda não se sentir habilitado a votar, o presidente convocará substituto para proferir voto, na forma estabelecida no regimento interno do tribunal. \n",
    "    \n",
    "</blockquote>\n",
    "\n",
    "\n",
    "A estrutura de dados abaixo representa os processos do gabinete de um Desembargador. Um de seus assessores deixou também um código sem documentação.\n",
    "\n",
    "Explique o funcionamento do código abaixo e como ele se relaciona ao contexto do artigo acima. Informe também qual deveria ser o conteúdo de cada um dos prints."
   ]
  },
  {
   "cell_type": "code",
   "execution_count": null,
   "metadata": {},
   "outputs": [
    {
     "name": "stdout",
     "output_type": "stream",
     "text": [
      "Atualizando apelação nº 2019.491429\n",
      "Atualizando habeas corpus nº 2020.714034\n",
      "Atualizando agravo de instrumento nº 2015.695102\n",
      "Atualizando apelação nº 2012.628045\n",
      "Atualizando recurso em sentido estrito nº 2017.462447\n",
      "Atualizando apelação nº 2018.518281\n"
     ]
    }
   ],
   "source": [
    "info_processos = {\n",
    "    \"2019.491429\": {\"classe\": \"apelação\", \"dias\": 11},\n",
    "    \"2020.714034\": {\"classe\": \"habeas corpus\", \"dias\": 8},\n",
    "    \"2015.695102\": {\"classe\": \"agravo de instrumento\", \"dias\": 17},\n",
    "    \"2012.628045\": {\"classe\": \"apelação\", \"dias\": 32},\n",
    "    \"2017.462447\": {\"classe\": \"recurso em sentido estrito\", \"dias\": 9},\n",
    "    \"2018.518281\": {\"classe\": \"apelação\", \"dias\": 4},\n",
    "}\n",
    "\n",
    "\n",
    "def atualiza_processo(dict_processos, dias):\n",
    "    for num_proc, info in dict_processos.items():\n",
    "        info[\"dias\"] += dias\n",
    "\n",
    "\n",
    "for numero, info in info_processos.items():\n",
    "    if info[\"dias\"] < 11:\n",
    "        print(\"\")\n",
    "    elif info[\"dias\"] < 21:\n",
    "        print(\"\")\n",
    "    else:\n",
    "        print(\"\")"
   ]
  },
  {
   "cell_type": "markdown",
   "metadata": {},
   "source": [
    "<label for=\"freeform\">Resposta:</label>\n",
    "<br>\n",
    "\n",
    "<textarea id=\"freeform\" name=\"freeform\" rows=\"10\" cols=\"75\">\n",
    "</textarea>"
   ]
  },
  {
   "cell_type": "markdown",
   "metadata": {},
   "source": [
    "# 4)\n",
    "\n",
    "## Contextualização do Problema\n",
    "\n",
    "A Lei de Acesso à Informação, promulgada em 2011, representou um grande marco em transparência no Brasil. A partir da entrada em vigor da lei, em 2012, todos os órgãos públicos dos três poderes de todos os entes federativos passaram a ser obrigados a divulgar uma série de informações que, até então, permanecia oculto.\n",
    "\n",
    "O MPF criou o [ranking da transparência](http://rankingdatransparencia.mpf.mp.br/) em 2015 a partir de um levantamento sistemático dos pontos da Lei de Acesso à Informação que estavam sendo respeitados por cada um dos municípios brasileiros. A ideia dos procuradores que idealizaram o projeto era fazer valer a Lei de Acesso à Informação, que vinha sendo desrespeitada por muitos municípios. Constadadas falhas no cumprimento dos requisitos legais, o Ministério Público precisava tomar alguma providência. Mas como fazer isso para milhares de municípios sem comprometer os recursos do MPF? \n",
    "\n",
    "Internamente, foi desenvolvido um programa que criava uma minuta de petição para cada município em violação da LAI. Qual era o conteúdo dessa petição? Ele era determinado pela seguinte árvore de decisão:\n",
    "\n",
    "<br>\n",
    "<br>\n",
    "    <center>\n",
    "    <img src=https://i.imgur.com/DGxkI6Z.png style = \"width:30%\"> \n",
    "     <i>Fonte: MPF </i> </center>\n",
    "\n",
    "\n",
    "## Exercício\n",
    "\n",
    "Explique o código abaixo que simula uma solução do problema enfrentado pelo MPF.\n",
    "\n",
    "Além disso, o código contém dois erros de lógica, ou seja não causarão um erro na execução do programa mas o resultado não sera o desejado para o problema acima.\n",
    "\n",
    "Identifique e explique a causa dos erros, e indique uma solução.\n",
    "\n",
    "Nesse exercício você não precisa focar em explicada cada linha de código precisamente, mas pense em seções diferentes do código e explique a utilidade delas a partir do problema colocado acima."
   ]
  },
  {
   "cell_type": "code",
   "execution_count": 2,
   "metadata": {},
   "outputs": [],
   "source": [
    "minuta_acp = \"\"\"\n",
    "EXCELENTÍSSIMO SENHOR DOUTOR JUIZ FEDERAL DA _ª VARA DA SEÇÃO JUDICIÁRIA DO ESTADO __\n",
    "\n",
    "O Ministério Público Federal, no exercício das suas atribuições legais e constitucionais, previstas nos artigos\n",
    "127 e 129, inciso III da Constituição Federal, vem ajuizar a presente\n",
    "\n",
    "AÇÃO CIVIL PÚBLICA\n",
    "e\n",
    "face ao município de <municipio>, pelas razões que adiante aduz.\n",
    "\n",
    "Ante ao exposto, as seguintes medidas precisam ser tomadas pelo juízo ou estão sendo tomadas em outras sedes:\n",
    "\n",
    "\"\"\"\n",
    "\n",
    "cumprimento = \"- O cumprimento dos requisitos estabelecidos na Lei 12.527/2011 (Lei de Acesso à Informação), devidamente identificados no corpo da presente ação.\\n\"\n",
    "\n",
    "improbidade = \"- A condenação do prefeito por ato de improbidade, ante à sua recusa em cumprir com os requisitos legais estabelecidos pela Lei 12.527/2011 (Lei de Acesso à Informação).\\n\"\n",
    "\n",
    "representacao = \"- Informa que foi movida representação em face ao prefeito para a PGR pela prática do crime previsto no artigo 1ª, XIV, do Decreto-Lei 201/67.\\n\"\n",
    "\n",
    "recomendacao = \"- Informa que foi recomendada à União a suspensão das transferências voluntárias ao município.\\n\"\n",
    "\n",
    "def gerador_minuta_acp(cidades): # score: criar uma função\n",
    "    \n",
    "    for cidade, valor in cidades.items():\n",
    "        if valor == 'Sim':\n",
    "            print(f\"A cidade {cidade} cumpriu com os requisitos da LAI\")\n",
    "            continue\n",
    "\n",
    "        elif valor == 'Não' or valor == 'Parcialmente':\n",
    "            peticao = \"\"\n",
    "            minuta_alterada = minuta_acp.replace('<municipio>',cidade)\n",
    "            peticao += minuta_alterada\n",
    "            peticao += cumprimento\n",
    "\n",
    "        elif valor == \"Parcialmente\":\n",
    "            peticao += \"\\n\"\n",
    "            peticao += improbidade\n",
    "            peticao += representacao\n",
    "            peticao += recomendacao\n",
    "\n",
    "        else:\n",
    "            print(\"Valor para cumprimento inválido\")\n",
    "            continue\n",
    "            # vamos salvar o arquivo\n",
    "            with open(f'{cidade}_acp.docx', \"w\") as fl:\n",
    "                fl.write(peticao)\n",
    "\n",
    "        print(f\"Minuta gerada para: {cidade}\")"
   ]
  },
  {
   "cell_type": "code",
   "execution_count": 4,
   "metadata": {},
   "outputs": [
    {
     "name": "stdout",
     "output_type": "stream",
     "text": [
      "A cidade Santo Antônio da Patrulha cumpriu com os requisitos da LAI\n",
      "Minuta gerada para: Cachoeira do Arari\n",
      "Minuta gerada para: São Miguel\n",
      "Minuta gerada para: Bernardino Batista\n",
      "Minuta gerada para: Jussara\n",
      "A cidade Catas Altas cumpriu com os requisitos da LAI\n"
     ]
    }
   ],
   "source": [
    "# agora vamos utilizar o código acima\n",
    "cidades_dict = {'Santo Antônio da Patrulha': 'Sim',\n",
    " 'Cachoeira do Arari': 'Não',\n",
    " 'São Miguel': 'Não',\n",
    " 'Bernardino Batista': 'Parcialmente',\n",
    " 'Jussara': 'Parcialmente',\n",
    " 'Catas Altas': 'Sim',\n",
    "}\n",
    "\n",
    "gerador_minuta_acp(cidades_dict)"
   ]
  },
  {
   "cell_type": "markdown",
   "metadata": {},
   "source": [
    "<label for=\"freeform\">Resposta:</label>\n",
    "<br>\n",
    "\n",
    "<textarea id=\"freeform\" name=\"freeform\" rows=\"20\" cols=\"75\">\n",
    "Você pode digitar sua resposta nessa caixa de texto. Contudo, ela não ficara salva! (Apague esse texto)\n",
    "</textarea>"
   ]
  },
  {
   "cell_type": "markdown",
   "metadata": {},
   "source": [
    "# 5\n",
    "\n",
    "Observe o código de duas funções definidas abaixo.\n",
    "\n",
    "Explique o funcionamento de cada uma delas e se há alguma diferença entre elas.\n",
    "\n",
    "Se houver algum erro de sintaxe ou lógica no código, indique a linha relevante, explique o que está errado e como corrigir.\n",
    "\n",
    "``` {.python code-line-numbers=\"true\" code-block-border-left=\"true\" eval=\"true\"}\n",
    "def checa_competencia(crime):\n",
    "    crimes_contra_vida = [\"homicídio doloso\", \"homicídio\", \"aborto\", \"feminicídio\", \"homicídio qualificado\", \"participação em suicídio\", \"infanticídio\"]\n",
    "    if crime_um in crimes_contra_vida:\n",
    "        print(f\"{crime} deve ser julgado pelo Tribunal do Júri!\")\n",
    "    else:\n",
    "        print(f\"{crime} deve ser julgado por um juiz togado.\")\n",
    "\n",
    "def checa_competencia2(crime):\n",
    "        crimes_contra_vida = [\"homicídio doloso\", \"homicídio\", \"aborto\", \"feminicídio\", \"homicídio qualificado\", \"participação em suicídio\", \"infanticídio\"]\n",
    "        for c in crimes_contra_vida:\n",
    "             if c == crime:\n",
    "                  return \"Tribunal do Júri\"\n",
    "        return \"Juiz togado\"\n",
    "```\n",
    "\n",
    "<label for=\"freeform\">Resposta:</label>\n",
    "<br>\n",
    "\n",
    "<textarea id=\"freeform\" name=\"freeform\" rows=\"15\" cols=\"75\">\n",
    "Você pode digitar sua resposta nessa caixa de texto. Contudo, ela não ficara salva! (Apague esse texto)\n",
    "</textarea>"
   ]
  },
  {
   "cell_type": "markdown",
   "metadata": {},
   "source": [
    "# 6\n",
    "\n"
   ]
  },
  {
   "cell_type": "markdown",
   "metadata": {},
   "source": [
    "## Parte 1\n",
    "\n",
    "Imagine que a função buscar_processo é está definida em outro arquivo mas que ela armazena informações de um processo de forma que seja utilizada no seu escritório.\n",
    "\n",
    "Descreva, com suas palavras o funcionamento, do código abaixo e diga se ele irá produzir algum resultado (seja imprimindo, retornando ou salvando algo no computador)."
   ]
  },
  {
   "cell_type": "code",
   "execution_count": null,
   "metadata": {},
   "outputs": [],
   "source": [
    "acompanhamento_processos = [\n",
    "    (\"ADI\", \"4587\"),\n",
    "    (\"ADPF\", \"254\"),\n",
    "    (\"HC\", \"184562\"),\n",
    "    (\"MS\", \"12516\")\n",
    "]\n",
    "\n",
    "def buscador_processual(processo):\n",
    "    dividido = processo.split(\" \")\n",
    "    classe = dividido[0]\n",
    "    numero = int(dividido[1])\n",
    "    tupla_processo = (classe, numero)\n",
    "\n",
    "    if tupla_processo in acompanhamento_processos:\n",
    "        print(\"Processo já acompanhado!\")\n",
    "    else:\n",
    "        acompanhamento_processos.append(tupla_processo)\n",
    "        buscar_processo(tupla_processo)\n",
    "        print(\"Processo adicionado ao acompanhamento!\")"
   ]
  },
  {
   "cell_type": "markdown",
   "metadata": {},
   "source": [
    "## Parte 2\n",
    "\n",
    "Indique e explique qual será o resultado se executarmos o código abaixo **após** o anterior?"
   ]
  },
  {
   "cell_type": "code",
   "execution_count": null,
   "metadata": {},
   "outputs": [],
   "source": [
    "buscador_processual(\"ADI 4587\")"
   ]
  },
  {
   "cell_type": "markdown",
   "metadata": {},
   "source": [
    "# 7"
   ]
  },
  {
   "cell_type": "markdown",
   "metadata": {},
   "source": []
  }
 ],
 "metadata": {
  "kernelspec": {
   "display_name": "eda",
   "language": "python",
   "name": "python3"
  },
  "language_info": {
   "codemirror_mode": {
    "name": "ipython",
    "version": 3
   },
   "file_extension": ".py",
   "mimetype": "text/x-python",
   "name": "python",
   "nbconvert_exporter": "python",
   "pygments_lexer": "ipython3",
   "version": "3.11.3"
  },
  "orig_nbformat": 4
 },
 "nbformat": 4,
 "nbformat_minor": 2
}

{
 "cells": [
  {
   "cell_type": "raw",
   "metadata": {},
   "source": [
    "---\n",
    "title: \"Exercícios Discursivos - Revisão de Programação\"\n",
    "format:\n",
    "  html:\n",
    "    self-contained: true\n",
    "    toc: true\n",
    "    toc-depth: 2\n",
    "    toc-title: \"Exercícios\"\n",
    "    toc-location: left\n",
    "    number-depth: 0\n",
    "    code-line-numbers: true\n",
    "    code-overflow: scroll\n",
    "    code-annotations: below\n",
    "---"
   ]
  },
  {
   "cell_type": "markdown",
   "metadata": {},
   "source": [
    "### Exercícios discursivos\n",
    "\n",
    "Nos exercícios abaixo você deve explicar o funcionamento do código com suas palavras. Inclua as linhas de códigos relevantes para o que você estiver explicando.\n",
    "\n",
    "É importante tanto comentar aspectos de programação, como o tipo de variável e valores que apareçam no código, quanto o que eles representam no contexto do problema se isso for apresentado pelo exercício.\n",
    "\n",
    "Colocamos caixa de texto que você pode usar para digitar aqui. Contudo, sua resposta não ficará salva. Se você quiser usá-la pode salvar uma versão desse arquivo depois de digitar ou salvar um PDF.\n",
    "\n",
    "**NOTA**: ***Os exemplos de resposta foram feitos com nossas palavras. Não se preocupe em reproduzir o estilo de escrita, elas estão colocadas para exemplificar os elementos necessários de uma boa resposta.***"
   ]
  },
  {
   "cell_type": "markdown",
   "metadata": {},
   "source": [
    "# 1)\n",
    "Explique cada linha do código abaixo. Mencione qual será o output gerado.\n",
    "\n",
    "Você não precisa reproduzir todo o output, apenas explicar o que será gerado."
   ]
  },
  {
   "cell_type": "code",
   "execution_count": null,
   "metadata": {},
   "outputs": [],
   "source": [
    "variavel = {\"Maria Berenice Dias\": 20000, \"José Afonso da Silva\": 2000, \"Pontes de Miranda\": 40000}\n",
    "\n",
    "for key, value in variavel.items():\n",
    "    variavel[key] = value + (value * 0.0375)\n",
    "    msg = f\"O valor atualizado devido por {key} é R$ {variavel[key]}\"\n",
    "    print(msg)\n"
   ]
  },
  {
   "cell_type": "markdown",
   "metadata": {},
   "source": [
    "<label for=\"freeform\">Resposta:</label>\n",
    "<br>\n",
    "\n",
    "<textarea id=\"freeform\" name=\"freeform\" rows=\"10\" cols=\"75\">\n",
    "Você pode digitar sua resposta nessa caixa de texto. Contudo, ela não ficara salva! (Apague esse texto)\n",
    "</textarea>"
   ]
  },
  {
   "cell_type": "markdown",
   "metadata": {},
   "source": [
    "::: {.callout-tip collapse=\"true\"}\n",
    "## Exemplo de resposta\n",
    "\n",
    "A linha 1 cria uma variável do tipo dicionário (dict) relacionando uma str que a um int.\n",
    "\n",
    "A linha 3 inicia uma iteração (ou um loop) sobre o dicionário `variavel` atribuindo a cada chave o nome key e os valores o nome value.\n",
    "\n",
    "A linha 4 altera o valor respectivo, aumentando seu valor em 3,75% (isso equivale a multiplicar o valor por 1,0375).\n",
    "\n",
    "A linha 5 cria uma format string na variável `msg` com um texto a ser preenchido com as informação do nome e do novo valor calculado.\n",
    "\n",
    "Finalmente, a linha 6 imprime a `msg` para o usuário.\n",
    ":::"
   ]
  },
  {
   "cell_type": "markdown",
   "metadata": {},
   "source": [
    "# 2)\n",
    "O código abaixo apresenta um erro de lógica (ele não faz o que seria esperado intuitivamente).\n",
    "\n",
    "Explique o código, qual o erro de lógica e como ele poderia ser consertado."
   ]
  },
  {
   "cell_type": "code",
   "execution_count": null,
   "metadata": {},
   "outputs": [],
   "source": [
    "# podemos dividir lista em múltiplas linhas\n",
    "# o formato convencionado pela comunidade é o usado abaixo\n",
    "ministros = [\n",
    "    \"Victor Nunes Leal\",\n",
    "    \"Aliomar Baleeiro\",\n",
    "    \"Eros Grau\",\n",
    "    \"Celso de Mello\",\n",
    "    \"Joaquim Barbosa\",\n",
    "    \"Ellen Gracie\",\n",
    "    \"Sydney Sanches\",\n",
    "    \"Carlos Velloso\",\n",
    "    \"Ayres Britto\",\n",
    "]\n",
    "\n",
    "presidentes_indicacao = [\n",
    "    \"Juscelino Kubitschek\",\n",
    "    \"Humberto Castelo Branco\",\n",
    "    \"Luiz Inácio Lula da Silva\",\n",
    "    \"Fernando Collor de Mello\",\n",
    "    \"Luiz Inácio Lula da Silva\",\n",
    "    \"Fernando Henrique Cardoso\",\n",
    "    \"João Figueiredo\",\n",
    "    \"Fernando Collor de Mello\",\n",
    "    \"Luiz Inácio Lula da Silva\",\n",
    "]\n",
    "\n",
    "n = len(ministros)\n",
    "\n",
    "for i in range(n):\n",
    "    msg = f\"O ministro {ministros[i]} foi indicado pelo presidente {presidentes_indicacao[i]}\"\n",
    "print(msg)"
   ]
  },
  {
   "cell_type": "markdown",
   "metadata": {},
   "source": [
    "<label for=\"freeform\">Resposta:</label>\n",
    "<br>\n",
    "\n",
    "<textarea id=\"freeform\" name=\"freeform\" rows=\"10\" cols=\"75\">\n",
    "</textarea>"
   ]
  },
  {
   "cell_type": "markdown",
   "metadata": {},
   "source": [
    "::: {.callout-tip collapse=\"true\"}\n",
    "## Exemplo de resposta\n",
    "\n",
    "As linhas 3-10 criam uma variável do tipo lista, com o nome `ministros`. Essa lista contém o nome de diversos ministros e ex-ministros do Supremo Tribunal Federal.\n",
    "\n",
    "As linhas 15 a 25 criam uma nova lista, chamada `presidentes_indicacao`. Essa lista representa o presidente responsável pela indicação dos ministros, na ordem respectiva.\n",
    "\n",
    "A variável `n` terá um valor inteiro, que representa o tamanho da lista `ministros`. *In casu,* 9.\n",
    "\n",
    "A linha 29 itera sobre um range do tamanho de `n`. A variável `i` armazena o valor de cada item do range.\n",
    "\n",
    "Em cada iteração, a liha 30 atribui um novo valor à variável `msg`. Essa variável contém uma string que será preenchida com o nome do ministro, obtido pela indexação da lista `ministros` e do presidente pela indexação de `presidentes_indicacao`.\n",
    "\n",
    "Essa indexação é possível com o uso de `i` que assumirá o valor de cada índice nas listas devido ao range.\n",
    "\n",
    "Por fim, o print presenta na linha 31 imprimirá uma única vez o valor referente apenas aos últimos itens da lista (Min. Ayres Britto e presidente Lula).\n",
    "\n",
    "Nessa última linha está o erro do código. O print está fora do escopo do `for` loop, dessa forma em vez de imprimir o valor para cada item ele será executado apenas ao fim da iteração, como mencionado acima.\n",
    "\n",
    "Para consertar o código bastaria adicionar uma identação a linha 31 para que o print ficasse dentro do escopo da iteração.\n",
    "\n",
    ":::"
   ]
  },
  {
   "cell_type": "markdown",
   "metadata": {},
   "source": [
    "## B\n",
    "\n",
    "Desafio: O que seria necessário adicionar ao código acima para criar um dicionário que armazenasse a relação entre as listas?\n",
    "\n",
    "::: {.callout-tip collapse=\"true\"}\n",
    "## Exemplo de resposta\n",
    "\n",
    "Deveríamos criar um dicionário vazio antes de iniciar loop, por exemplo `dict_indicao = {}` ou `dict_indicacao = dict()`.\n",
    "\n",
    "Além disso, bastaria adicionar uma linha que preenchesse o dicionário com as informações de cada iteração.\n",
    "\n",
    "Por exemplo, se quisermos representar quem indicou cada ministro:\n",
    "\n",
    "```{python}\n",
    "dict_indicacao[ministros[i]] = presidentes_indicacao[i]\n",
    "```\n",
    "\n",
    ":::"
   ]
  },
  {
   "cell_type": "markdown",
   "metadata": {},
   "source": [
    "<label for=\"freeform\">Resposta:</label>\n",
    "<br>\n",
    "\n",
    "<textarea id=\"freeform\" name=\"freeform\" rows=\"10\" cols=\"75\">\n",
    "</textarea>"
   ]
  },
  {
   "cell_type": "markdown",
   "metadata": {},
   "source": [
    "# 3)\n",
    "O código abaixo representa um contrato simples de compra e venda. Contudo, há um erro de sintaxe de programação (a execução do código causará uma exceção e não será executado). Explique o código e identifique a causa do erro."
   ]
  },
  {
   "cell_type": "code",
   "execution_count": null,
   "metadata": {},
   "outputs": [],
   "source": [
    "valor = 50.0\n",
    "comprador = \"Joaquim\"\n",
    "vendedor = \"Nelsom\"\n",
    "produto = \"Manual de Direito Constitucional\"\n",
    "\n",
    "msg = f\"O {comprador} comprou de {vendedor} um\" + produto + \"no valor de R$\" + valor\n",
    "\n",
    "print(msg)"
   ]
  },
  {
   "cell_type": "markdown",
   "metadata": {},
   "source": [
    "<label for=\"freeform\">Resposta:</label>\n",
    "<br>\n",
    "\n",
    "<textarea id=\"freeform\" name=\"freeform\" rows=\"10\" cols=\"75\">\n",
    "</textarea>"
   ]
  },
  {
   "cell_type": "markdown",
   "metadata": {},
   "source": [
    "# 4)\n",
    "Suponha que a função `write_poa` é capaz de criar um arquivo de texto com uma procuração para seu escritório de advocacia.\n",
    "\n",
    "Para isso, devemos passar informações básicas para ela.\n",
    "\n",
    "Explique o funcionamento do código abaixo. Você deve mencionar também quantas procurações serão geradas ao fim da execução, assim como quantas mensagens serão geradas pela função print."
   ]
  },
  {
   "cell_type": "code",
   "execution_count": null,
   "metadata": {},
   "outputs": [],
   "source": [
    "informacoes = [\n",
    "    {\"nome\": \"João\", \"documento\": \"123.456.789-00\", \"num_processos\": [14957, 4433]},\n",
    "    {\"nome\": \"Maria\", \"documento\": \"987.654.321-07\", \"num_processos\": [1234, 5678, 9012]},\n",
    "    {\"nome\": \"José\", \"documento\": \"123.687.456-00\", \"num_processos\": [1124365]},\n",
    "]\n",
    "\n",
    "for info in informacoes:\n",
    "    nome = info[\"nome\"]\n",
    "    documento = info[\"documento\"]\n",
    "    for processo in info[\"num_processos\"]:\n",
    "        write_poa(nome, documento, processo)\n",
    "    print(\"Finalizei o processo de escrita de procurações para o(a) cliente \" + nome)"
   ]
  },
  {
   "cell_type": "markdown",
   "metadata": {},
   "source": [
    "<label for=\"freeform\">Resposta:</label>\n",
    "<br>\n",
    "\n",
    "<textarea id=\"freeform\" name=\"freeform\" rows=\"10\" cols=\"75\">\n",
    "</textarea>"
   ]
  },
  {
   "cell_type": "markdown",
   "metadata": {},
   "source": [
    "# 5)\n",
    "\n",
    "O artigo 940 do CPC, transcrito abaixo, determina o prazo de duração do pedido de vista.\n",
    "\n",
    "<blockquote>\n",
    "    \n",
    "Art. 940. O relator ou outro juiz que não se considerar habilitado a proferir imediatamente seu voto poderá solicitar vista pelo prazo máximo de 10 (dez) dias, após o qual o recurso será reincluído em pauta para julgamento na sessão seguinte à data da devolução.\n",
    "\n",
    "    § 1º Se os autos não forem devolvidos tempestivamente ou se não for solicitada pelo juiz prorrogação de prazo de no máximo mais 10 (dez) dias, o presidente do órgão fracionário os requisitará para julgamento do recurso na sessão ordinária subsequente, com publicação da pauta em que for incluído.\n",
    "\n",
    "    § 2º Quando requisitar os autos na forma do § 1º, se aquele que fez o pedido de vista ainda não se sentir habilitado a votar, o presidente convocará substituto para proferir voto, na forma estabelecida no regimento interno do tribunal. \n",
    "    \n",
    "</blockquote>\n",
    "\n",
    "\n",
    "A estrutura de dados abaixo representa os processos do gabinete de um Desembargador. Um de seus assessores deixou também um código sem documentação.\n",
    "\n",
    "Explique o funcionamento do código abaixo e qual sua funcionalidade considerando o contexto do artigo.."
   ]
  },
  {
   "cell_type": "code",
   "execution_count": 8,
   "metadata": {},
   "outputs": [
    {
     "name": "stdout",
     "output_type": "stream",
     "text": [
      "Atualizando apelação nº 2019.491429\n",
      "Atualizando habeas corpus nº 2020.714034\n",
      "Atualizando agravo de instrumento nº 2015.695102\n",
      "Atualizando apelação nº 2012.628045\n",
      "Atualizando recurso em sentido estrito nº 2017.462447\n",
      "Atualizando apelação nº 2018.518281\n"
     ]
    }
   ],
   "source": [
    "info_processos = {\n",
    "    \"2019.491429\": {\"classe\": \"apelação\", \"dias\": 11},\n",
    "    \"2020.714034\": {\"classe\": \"habeas corpus\", \"dias\": 8},\n",
    "    \"2015.695102\": {\"classe\": \"agravo de instrumento\", \"dias\": 17},\n",
    "    \"2012.628045\": {\"classe\": \"apelação\", \"dias\": 32},\n",
    "    \"2017.462447\": {\"classe\": \"recurso em sentido estrito\", \"dias\": 9},\n",
    "    \"2018.518281\": {\"classe\": \"apelação\", \"dias\": 4},\n",
    "}\n",
    "\n",
    "for processo, info_dict in info_processos.items():\n",
    "    classe = info_dict[\"classe\"]\n",
    "    print(f\"Atualizando {classe} nº {processo}\")\n",
    "    info_dict[\"dias\"] += 2"
   ]
  },
  {
   "cell_type": "markdown",
   "metadata": {},
   "source": [
    "<label for=\"freeform\">Resposta:</label>\n",
    "<br>\n",
    "\n",
    "<textarea id=\"freeform\" name=\"freeform\" rows=\"10\" cols=\"75\">\n",
    "</textarea>"
   ]
  },
  {
   "cell_type": "markdown",
   "metadata": {},
   "source": [
    "## Parte 2\n",
    "\n",
    "A partir de sua explicação do código e interpretação do dispositivo legal acima, menciona se alguma ação deveria ser tomada em relação à algum dos processos mencionados."
   ]
  },
  {
   "cell_type": "markdown",
   "metadata": {},
   "source": [
    "<label for=\"freeform\">Resposta:</label>\n",
    "<br>\n",
    "\n",
    "<textarea id=\"freeform\" name=\"freeform\" rows=\"10\" cols=\"75\">\n",
    "</textarea>"
   ]
  }
 ],
 "metadata": {
  "kernelspec": {
   "display_name": "eda",
   "language": "python",
   "name": "python3"
  },
  "language_info": {
   "codemirror_mode": {
    "name": "ipython",
    "version": 3
   },
   "file_extension": ".py",
   "mimetype": "text/x-python",
   "name": "python",
   "nbconvert_exporter": "python",
   "pygments_lexer": "ipython3",
   "version": "3.10.8"
  },
  "orig_nbformat": 4
 },
 "nbformat": 4,
 "nbformat_minor": 2
}

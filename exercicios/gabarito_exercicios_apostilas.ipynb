{
 "cells": [
  {
   "cell_type": "markdown",
   "id": "14cdd978",
   "metadata": {
    "toc": true
   },
   "source": [
    "<h1>Table of Contents<span class=\"tocSkip\"></span></h1>\n",
    "<div class=\"toc\"><ul class=\"toc-item\"><li><ul class=\"toc-item\"><li><span><a href=\"#Lista\" data-toc-modified-id=\"Lista-0.1\"><span class=\"toc-item-num\">0.1&nbsp;&nbsp;</span>Lista</a></span></li><li><span><a href=\"#Exercício-de-Dicionários\" data-toc-modified-id=\"Exercício-de-Dicionários-0.2\"><span class=\"toc-item-num\">0.2&nbsp;&nbsp;</span>Exercício de Dicionários</a></span><ul class=\"toc-item\"><li><ul class=\"toc-item\"><li><span><a href=\"#Exercício\" data-toc-modified-id=\"Exercício-0.2.0.1\"><span class=\"toc-item-num\">0.2.0.1&nbsp;&nbsp;</span>Exercício</a></span></li></ul></li></ul></li></ul></li><li><span><a href=\"#Iteração\" data-toc-modified-id=\"Iteração-1\"><span class=\"toc-item-num\">1&nbsp;&nbsp;</span>Iteração</a></span><ul class=\"toc-item\"><li><ul class=\"toc-item\"><li><ul class=\"toc-item\"><li><span><a href=\"#Exercício\" data-toc-modified-id=\"Exercício-1.0.0.1\"><span class=\"toc-item-num\">1.0.0.1&nbsp;&nbsp;</span>Exercício</a></span></li><li><span><a href=\"#Exercício-extra\" data-toc-modified-id=\"Exercício-extra-1.0.0.2\"><span class=\"toc-item-num\">1.0.0.2&nbsp;&nbsp;</span>Exercício extra</a></span></li></ul></li></ul></li></ul></li><li><span><a href=\"#Funções\" data-toc-modified-id=\"Funções-2\"><span class=\"toc-item-num\">2&nbsp;&nbsp;</span>Funções</a></span><ul class=\"toc-item\"><li><ul class=\"toc-item\"><li><ul class=\"toc-item\"><li><span><a href=\"#Exercício\" data-toc-modified-id=\"Exercício-2.0.0.1\"><span class=\"toc-item-num\">2.0.0.1&nbsp;&nbsp;</span>Exercício</a></span></li></ul></li></ul></li></ul></li><li><span><a href=\"#Aula-13---docx\" data-toc-modified-id=\"Aula-13---docx-3\"><span class=\"toc-item-num\">3&nbsp;&nbsp;</span>Aula 13 - docx</a></span><ul class=\"toc-item\"><li><ul class=\"toc-item\"><li><ul class=\"toc-item\"><li><span><a href=\"#Exercício\" data-toc-modified-id=\"Exercício-3.0.0.1\"><span class=\"toc-item-num\">3.0.0.1&nbsp;&nbsp;</span>Exercício</a></span></li><li><span><a href=\"#Exercício-extra\" data-toc-modified-id=\"Exercício-extra-3.0.0.2\"><span class=\"toc-item-num\">3.0.0.2&nbsp;&nbsp;</span>Exercício extra</a></span></li></ul></li></ul></li></ul></li></ul></div>"
   ]
  },
  {
   "cell_type": "markdown",
   "id": "078d762c",
   "metadata": {},
   "source": [
    "# Variáveis"
   ]
  },
  {
   "cell_type": "markdown",
   "id": "412a7bac",
   "metadata": {},
   "source": [
    "#### Exercício\n",
    "\n",
    "Acreditamos que programação é o tipo de coisa que se aprende fazendo. Assim, precisamos que você complete o exercício abaixo, baseado em outro contrato hipotético:\n",
    "\n",
    "* Crie uma variável chamada `contratante`, contendo o **nome** da pessoa que está contratando o serviço.\n",
    "* Crie outra variável chamada `contratado`, contendo o **nome** da pessoa que irá prestar o serviço.\n",
    "* Crie uma variável `honorarios_mes` contendo o **valor** cobrado mensalmente pelo `contratado`.\n",
    "* Determine se `servicos_prestados` é **verdadeira** ou não.\n",
    "* Crie uma variável `honorarios_dia` que estabelece o **valor** cobrado por dia a partir de `honorarios_mes`, assumindo que o mês tem 30 dias.\n",
    "\n",
    "As respostas devem ser feitas em qualquer célula abaixo. Após rodar a célula criada por você (lembre-se, após escrever seu código, aperte `cntrl + enter`), rode a célula que contém a função `correcao_exercico1`."
   ]
  },
  {
   "cell_type": "code",
   "execution_count": null,
   "id": "938b4828",
   "metadata": {},
   "outputs": [],
   "source": [
    "contratante = \"Luiz\"\n",
    "contratado = \"José\"\n",
    "honorario_mes = 956\n",
    "servicos_prestados = False\n",
    "honorarios_dia = honorario_mes/30"
   ]
  },
  {
   "cell_type": "markdown",
   "id": "c636454b",
   "metadata": {},
   "source": [
    "O importante aqui são os diferentes tipos de variável. Os valores podem ser livremente alterados.\n",
    "\n",
    "Atente para a importância de definir honorarios_dia como o resultado da divisao de honorario mes (ou o mes a partir da multiplicação dos dias)."
   ]
  },
  {
   "cell_type": "code",
   "execution_count": null,
   "id": "c07029f8",
   "metadata": {},
   "outputs": [],
   "source": [
    "#rode esta célula para a correção!\n",
    "from correcoes import aula2_ex1\n",
    "aula2_ex1(vars())"
   ]
  },
  {
   "cell_type": "markdown",
   "id": "58a9c03a-b636-4f2d-993a-51e21a91c773",
   "metadata": {},
   "source": [
    "# Lista e Condicionais"
   ]
  },
  {
   "cell_type": "markdown",
   "id": "a6334bc8",
   "metadata": {},
   "source": [
    "#### Exercício\n",
    "\n",
    "Várias regras têm estruturas semelhantes ao art. 332 do Código Penal, prevendo um conjunto de condutas diferentes que podem servir como pressuposto fático para a ativação de suas consequências jurídicas. Podemos usar as **listas** para facilitar a implementação desse tipo de regra no Direito.\n",
    "\n",
    "Vamos retomar o exemplo do art. 332 para ilustrar nosso ponto:\n",
    "\n",
    "<blockquote>\n",
    "\n",
    "**Tráfico de influência**\n",
    "\n",
    "Art. 332. Solicitar, exigir, cobrar ou obter, para si ou para outrem, vantagem ou promessa de vantagem, a pretexto de influir em ato praticado por funcionário público no exercício da função: pena - reclusão de 2 (dois) a 5 (cinco) anos, e multa.\n",
    "\n",
    "</blockquote>\n",
    "\n",
    "Em vez de criar o pouco elegante conjunto de afirmações conectadas por `or` que fizemos mais acima, podemos usar listas:"
   ]
  },
  {
   "cell_type": "code",
   "execution_count": null,
   "id": "29af1bd7",
   "metadata": {},
   "outputs": [],
   "source": [
    "condutas_trafico_influencia = [\"solicitar\", \"exigir\", \"cobrar\", \"obter\"]\n",
    "conduta_agente = \"exigir\"\n",
    "\n",
    "if conduta_agente in condutas_trafico_influencia:\n",
    "    print(\"O agente está sujeito à pena de reclusão de 2 a 5 anos\")\n",
    "else:\n",
    "    print(\"A conduta descrita não está tipificada no art. 332\")"
   ]
  },
  {
   "cell_type": "markdown",
   "id": "cd89b516",
   "metadata": {},
   "source": [
    "Faça a mesma coisa para o crime abaixo:\n",
    "\n",
    "<blockquote>\n",
    "\n",
    "**Petrechos de falsificação**\n",
    "\n",
    "Art. 294. Fabricar, adquirir, fornecer, possuir ou guardar objeto especialmente destinado à falsificação de qualquer dos papéis referidos no artigo anterior:\n",
    "\n",
    "Pena - reclusão, de um a três anos, e multa.\n",
    "\n",
    "</blockquote>\n",
    "\n",
    "* As condutas típicas definidas pelo artigo são: \"fabricar\", \"adquirir\", \"fornecer\", \"possuir\" e \"guardar\". Guarde essas condutas em uma lista chamada `condutas_petrechos`.\n",
    "* Caso o agente tenha cometido qualquer uma das condutas mencionadas acima (a variável que contém a conduta do agente deve se chamar `conduta_agente`), seu programa deve imprimir \"O agente está sujeito à pena de reclusão de um a três anos e multa\".\n",
    "* Caso o agente não tenha cometido nenhuma das condutas, o programa deve imprimir \"A conduta descrita não está tipificada no art. 294\".\n",
    "\n",
    "* **ATENÇÃO:** a correção pressupõe a reprodução EXATA dos textos acima em seu código.\n",
    "\n",
    "Implemente sua resposta na célula abaixo:"
   ]
  },
  {
   "cell_type": "markdown",
   "id": "511fb1bb",
   "metadata": {},
   "source": [
    "**A célula de resposta deve ser semelhante a abaixo. Note que o nome dado as variáveis é crucial para a correção**"
   ]
  },
  {
   "cell_type": "code",
   "execution_count": 4,
   "id": "8f3dc492",
   "metadata": {},
   "outputs": [],
   "source": [
    "import sys #ignore e não delete\n",
    "org_stdout = sys.stdout #ignore e não delete\n",
    "f = open(\"exercicio.txt\", \"w\") #ignore e não delete\n",
    "sys.stdout = f #ignore e não delete\n",
    "\n",
    "#comece seu código aqui!\n",
    "\n",
    "condutas_petrechos = [\"fabricar\", \"adquirir\", \"fornecer\", \"possuir\", \"guardar\"]\n",
    "\n",
    "\n",
    "conduta_agente = \"fabricar\"\n",
    "\n",
    "if conduta_agente in condutas_petrechos:\n",
    "    print(\"O agente está sujeito à pena de reclusão de um a três anos e multa\")\n",
    "else:\n",
    "    print(\"A conduta descrita não está tipificada no art. 294\")"
   ]
  },
  {
   "cell_type": "code",
   "execution_count": 5,
   "id": "3c33621c",
   "metadata": {},
   "outputs": [],
   "source": [
    "f.close() #ignore e não delete\n",
    "sys.stdout = org_stdout #ignore e não delete"
   ]
  },
  {
   "cell_type": "code",
   "execution_count": 6,
   "id": "70edd438",
   "metadata": {},
   "outputs": [
    {
     "name": "stdout",
     "output_type": "stream",
     "text": [
      "O agente está sujeito à pena de reclusão de um a três anos e multa\n",
      "\n",
      "Parabéns! Você acertou o exercício!\n"
     ]
    }
   ],
   "source": [
    "#rode esta célula para a correção!\n",
    "from correcoes import aula3_ex2\n",
    "aula3_ex2(vars())"
   ]
  },
  {
   "cell_type": "markdown",
   "id": "fb68ffe3",
   "metadata": {},
   "source": [
    "## Exercício Extra"
   ]
  },
  {
   "cell_type": "markdown",
   "id": "2a608725-2aed-4aff-860f-cd2d4f920ea2",
   "metadata": {},
   "source": [
    "Caio e Tício querem fornecer um serviço de confeccção de petições iniciais. Para tal, juntaram o nome de 7 clientes potenciais: Bianca, Igor, Juliana, Ana Luiza, Marcelo, Larissa e Julia. Faça uma lista chamada `clientes_potenciais` contando os nomes prospectados."
   ]
  },
  {
   "cell_type": "code",
   "execution_count": 15,
   "id": "9d37ab6e-2f1b-4923-90ff-52c6ec07170b",
   "metadata": {},
   "outputs": [
    {
     "name": "stdout",
     "output_type": "stream",
     "text": [
      "Parabéns! Você acertou o exercício\n"
     ]
    }
   ],
   "source": [
    "clientes_potenciais = [\"Bianca\", \"Igor\", \"Juliana\", \"Ana Luiza\", \"Marcelo\", \"Larissa\" , \"Julia\"] \n",
    "\n",
    "from correcoes import exercicio_extra2_1\n",
    "exercicio_extra2_1(clientes_potenciais)"
   ]
  },
  {
   "cell_type": "markdown",
   "id": "4fed3f5e",
   "metadata": {},
   "source": [
    "### Parte 2"
   ]
  },
  {
   "cell_type": "markdown",
   "id": "dabe1f3e-c992-4fc8-b50d-22b66696d344",
   "metadata": {},
   "source": [
    "Ao fazer uma pesquisa de opinião com os clientes potenciais, Caio e Tício descobriram que Marcelo e Bianca não têm interesse no serviço. Retire os nomes das pessoas não interessadas da lista de clientes_potenciais."
   ]
  },
  {
   "cell_type": "code",
   "execution_count": 24,
   "id": "6f98903d-e28d-428c-87c0-c864e9d5f556",
   "metadata": {},
   "outputs": [
    {
     "name": "stdout",
     "output_type": "stream",
     "text": [
      "Bianca\n",
      "['Igor', 'Juliana', 'Ana Luiza', 'Marcelo', 'Larissa', 'Julia']\n",
      "None\n",
      "['Igor', 'Juliana', 'Ana Luiza', 'Larissa', 'Julia']\n"
     ]
    }
   ],
   "source": [
    "clientes_potenciais = [\"Bianca\", \"Igor\", \"Juliana\", \"Ana Luiza\", \"Marcelo\", \"Larissa\" , \"Julia\"] \n",
    "\n",
    "# remove bianca\n",
    "print(clientes_potenciais.pop(0))\n",
    "\n",
    "print(clientes_potenciais)\n",
    "\n",
    "# Queremos remover Marcelo\n",
    "print(clientes_potenciais.remove('Marcelo'))\n",
    "\n",
    "\n",
    "print(clientes_potenciais)\n"
   ]
  },
  {
   "cell_type": "code",
   "execution_count": 23,
   "id": "c816cda2-75c1-4d0a-90cd-65295d0496e0",
   "metadata": {},
   "outputs": [
    {
     "name": "stdout",
     "output_type": "stream",
     "text": [
      "Parabéns! Você acertou o exercício\n"
     ]
    }
   ],
   "source": [
    "from correcoes import exercicio_extra2_2\n",
    "exercicio_extra2_2(clientes_potenciais)"
   ]
  },
  {
   "cell_type": "markdown",
   "id": "dd4098be-3a6d-4c2c-99aa-1e7186723260",
   "metadata": {},
   "source": [
    "## Exercício de Dicionários"
   ]
  },
  {
   "cell_type": "markdown",
   "id": "d4b2e898-1c1d-46fd-9dd5-61f96a97c79b",
   "metadata": {},
   "source": [
    "#### Exercício\n",
    "\n",
    "Temos agora um dicionário contendo três dos nossos oito clientes e cinco dos nossos 20 processos. Termine de fazer essa transposição! Lembre-se que cada um dos clientes deve ser uma chave e que cada processo só pode aparecer uma única vez nos valores do nosso dicionário."
   ]
  },
  {
   "cell_type": "code",
   "execution_count": 1,
   "id": "81740ce1-e3c8-446d-a93c-55091d0988ad",
   "metadata": {},
   "outputs": [],
   "source": [
    "lista_clientes = ['Maria Berenice Dias', 'Pontes de Miranda', 'José Afonso da Silva', 'Aliomar Baleeiro',\n",
    "                  'Guilherme Nucci', 'Nelson Hungria', 'Sobral Pinto', 'Evandro Lins e Silva']\n",
    "len(lista_clientes)\n",
    "\n",
    "lista_processos = ['2002.766393', '2011.487453', '2004.314066', '1998.516307',\n",
    "                     '2011.491429', '2003.714034', '2000.695102', '2012.628045',\n",
    "                     '2017.462447', '1996.518281', '1997.416985', '2002.321557',\n",
    "                     '2002.737116', '2011.655314', '1990.414436', '2012.369756',\n",
    "                     '1996.773047', '1995.344760', '1993.328622', '2016.681535']"
   ]
  },
  {
   "cell_type": "code",
   "execution_count": 2,
   "id": "91242af4-e942-4a9c-ba3d-b005212ca0a7",
   "metadata": {},
   "outputs": [],
   "source": [
    "#escreva seu código aqui\n",
    "dicionario_clientes = {\n",
    "    'Maria Berenice Dias': ['2002.766393'],\n",
    "    'Pontes de Miranda': ['2011.487453', '2004.314066'],\n",
    "    'José Afonso da Silva': ['1998.516307', '2011.491429'],\n",
    "    'Aliomar Baleeiro': ['2003.714034', '2000.695102', '2012.628045'],\n",
    "    'Guilherme Nucci': ['2017.462447', '1996.518281', '1997.416985', '2002.321557'],\n",
    "    'Nelson Hungria':['2012.369756'],\n",
    "    'Sobral Pinto': ['2002.737116', '2011.655314', '1990.414436'],\n",
    "    'Evandro Lins e Silva': ['1996.773047', '1995.344760', '1993.328622', '2016.681535']\n",
    "}\n",
    "\n"
   ]
  },
  {
   "cell_type": "code",
   "execution_count": 3,
   "id": "8b1b2ac0-bff1-47e3-9e1d-55d9f2128e20",
   "metadata": {},
   "outputs": [
    {
     "name": "stdout",
     "output_type": "stream",
     "text": [
      "Parabéns! Você acertou o exercício!\n"
     ]
    }
   ],
   "source": [
    "from correcoes import aula4_ex1\n",
    "aula4_ex1(dicionario_clientes)"
   ]
  },
  {
   "cell_type": "markdown",
   "id": "7de70cbe-be48-4382-97a9-f7e9791f96c6",
   "metadata": {},
   "source": [
    "O método `.update()` toma como argumento um dicionário e altera no primeiro dicionário apenas os pares de chaves e valores mencionados nele. Assim, Órgão julgador e data_protocolo se mantêm inalterados. Apenas a `fase_atual` é atualizada para constar que agora não estamos mais na fase de embargos de declaração, mas sim na de recurso de apelação."
   ]
  },
  {
   "cell_type": "code",
   "execution_count": 4,
   "id": "5692fd8d-a750-4b4f-8e9a-ddf95009e42f",
   "metadata": {},
   "outputs": [],
   "source": [
    "dicionario_completo = {}\n",
    "dicionario_completo[\"Guilherme Nucci\"] = {'2003.714034' : {\"Órgão julgador\" : \"80ª Vara Cível\",\n",
    "                                                            \"data_protocolo\" : \"2003-08-19\",\n",
    "                                                           \"fase_atual\" : \"aguardando sentença\"},\n",
    "                                         '2000.695102' : {\"Órgão julgador\" : \"STF\",\n",
    "                                                          \"data_protocolo\" : \"2000-05-21\",\n",
    "                                                          \"fase_atual\" : \"Recurso Extraordinário\"},\n",
    "                                         '2012.628045' : {\"Órgão julgador\" : \"60ª Câmara Cível\",\n",
    "                                                          \"data_protocolo\" : \"2012-10-01\",\n",
    "                                                          \"fase_atual\" : \"Embargos de Declaração\"}}"
   ]
  },
  {
   "cell_type": "code",
   "execution_count": 5,
   "id": "68a36ba0-99f0-4bcc-b29e-fae1a6342d36",
   "metadata": {},
   "outputs": [
    {
     "data": {
      "text/plain": [
       "{'Órgão julgador': 'STF',\n",
       " 'data_protocolo': '2000-05-21',\n",
       " 'fase_atual': 'Recurso Extraordinário'}"
      ]
     },
     "execution_count": 5,
     "metadata": {},
     "output_type": "execute_result"
    }
   ],
   "source": [
    "dicionario_completo[\"Guilherme Nucci\"].pop(\"2000.695102\")"
   ]
  },
  {
   "cell_type": "code",
   "execution_count": 6,
   "id": "75a6b05e-f70f-48df-835e-c4c84c403564",
   "metadata": {},
   "outputs": [],
   "source": [
    "#escreva seu código aqui\n",
    "\n",
    "dicionario_completo[\"Guilherme Nucci\"][\"2012.628045\"]['fase_atual'] = 'Recurso de apelação'\n",
    "\n",
    "dicionario_completo[\"Guilherme Nucci\"][\"2012.628045\"]['Órgão julgador'] = \"60ª Câmara Cível\"\n"
   ]
  },
  {
   "cell_type": "code",
   "execution_count": 7,
   "id": "b13eb5a0-b538-48bc-b178-6d5356dfa61d",
   "metadata": {},
   "outputs": [
    {
     "name": "stdout",
     "output_type": "stream",
     "text": [
      "{'Guilherme Nucci': {'2003.714034': {'Órgão julgador': '80ª Vara Cível', 'data_protocolo': '2003-08-19', 'fase_atual': 'aguardando sentença'}, '2012.628045': {'Órgão julgador': '60ª Câmara Cível', 'data_protocolo': '2012-10-01', 'fase_atual': 'Recurso de apelação'}}}\n"
     ]
    }
   ],
   "source": [
    "print(dicionario_completo)"
   ]
  },
  {
   "cell_type": "code",
   "execution_count": 8,
   "id": "23d82287-dc18-445b-9531-4a2737a0b786",
   "metadata": {},
   "outputs": [
    {
     "name": "stdout",
     "output_type": "stream",
     "text": [
      "Parabéns! Você entendeu como funciona o método update()!\n"
     ]
    }
   ],
   "source": [
    "from correcoes import aula4_ex2\n",
    "aula4_ex2(dicionario_completo)"
   ]
  },
  {
   "cell_type": "markdown",
   "id": "a246a32a",
   "metadata": {},
   "source": [
    "#### Exercício extra\n",
    "\n",
    "Imagine que você acabou de terminar a faculdade, foi aprovado na OAB e está pronto para começar o seu escritório. Você fecha contratos com algumas pessoas físicas que concordaram em pagar um valor mensal em troca dos seus serviços de consultoria jurídica. Você precisa guardar certas informações a respeito de seus clientes e decide criar um dicionário com a \"idade\", o \"cpf\" e o \"valor_mensal\" devido por cada um. Faça isso (inventando os valores) para seus clientes (é necessário que você tenha pelo menos um cliente) e salve o resultado em uma variável chamada `dict_clientes` (esta variável também deve ser um dicionário)."
   ]
  },
  {
   "cell_type": "markdown",
   "id": "c2aac332",
   "metadata": {},
   "source": [
    "**A principal parte desse exercício é perceber que você deve criar um dicionário de dicionários, e seguir os tipos de variável para cada valor.**"
   ]
  },
  {
   "cell_type": "code",
   "execution_count": 7,
   "id": "77c85afb",
   "metadata": {},
   "outputs": [],
   "source": [
    "#seu código aqui!\n",
    "dict_clientes = {\n",
    "    \"José\": {\"idade\": 57, \"cpf\": \"549.645.245-89\", \"valor_mensal\": 549},\n",
    "    \"Thiago Bottino\": {\"idade\": 43, \"cpf\": \"159.632.245-86\", \"valor_mensal\": 870},\n",
    "    \"Antonio Porto\": {\"idade\": 48, \"cpf\": \"158.481.290-70\", \"valor_mensal\": 1452.56},\n",
    "    \n",
    "}"
   ]
  },
  {
   "cell_type": "code",
   "execution_count": 8,
   "id": "80cc524a",
   "metadata": {},
   "outputs": [
    {
     "name": "stdout",
     "output_type": "stream",
     "text": [
      "Parabéns! Você acertou o exercício!\n"
     ]
    }
   ],
   "source": [
    "from correcoes import exercicio_extra3\n",
    "exercicio_extra3(dict_clientes)"
   ]
  },
  {
   "cell_type": "markdown",
   "id": "b3ff673d-b465-446f-b7a6-5cbec584de47",
   "metadata": {},
   "source": [
    "# Iteração"
   ]
  },
  {
   "cell_type": "markdown",
   "id": "e7453afa-f780-4d84-a78c-9bad1fc8a055",
   "metadata": {},
   "source": [
    "#### Exercício\n",
    "\n",
    "Abaixo, você vai encontrar um dicionário (`dict_contratos`) contendo 3 dos clientes mais lucrativos do escritório (Maria Berenice Dias, Jorge Miranda e Pontes de Miranda) e os valores totais devidos por eles. Ocorre que o contrato celebrado com os detentores dos direitos de cada uma dessas obras previa a correção dos valores contratuais pela inflação medida pelo IPCA a cada ano de contrato. Sabendo que o IPCA de 2018 foi de 3,75%, faça a atualização dos valores devidos em `dict_contratos` usando um for loop."
   ]
  },
  {
   "cell_type": "code",
   "execution_count": 16,
   "id": "ea1c673b-2c26-463f-83b1-11a309e80f6b",
   "metadata": {},
   "outputs": [],
   "source": [
    "dict_contratos = {'Maria Berenice Dias' : 20000,\n",
    "                 'Jorge Miranda' : 2000,\n",
    "                 'Pontes de Miranda' : 40000}"
   ]
  },
  {
   "cell_type": "code",
   "execution_count": 17,
   "id": "45348615-f6ad-431c-9c20-a317caa3f7f4",
   "metadata": {},
   "outputs": [],
   "source": [
    "#seu código aqui\n",
    "\n",
    "for cliente, valor in dict_contratos.items():\n",
    "    dict_contratos[cliente] = valor * 1.0375"
   ]
  },
  {
   "cell_type": "code",
   "execution_count": 18,
   "id": "e8705a49-e622-429c-b4f1-24bc191e6d34",
   "metadata": {},
   "outputs": [
    {
     "name": "stdout",
     "output_type": "stream",
     "text": [
      "Parabéns! Você acertou o exercício!\n"
     ]
    }
   ],
   "source": [
    "from correcoes import aula5_ex1\n",
    "aula5_ex1(dict_contratos)"
   ]
  },
  {
   "cell_type": "markdown",
   "id": "06c2d2ab",
   "metadata": {},
   "source": [
    "Opção 2 - outra forma de fazer (elas podem até mesmo ser misturadas)"
   ]
  },
  {
   "cell_type": "code",
   "execution_count": 14,
   "id": "269018c9",
   "metadata": {},
   "outputs": [],
   "source": [
    "dict_contratos = {'Maria Berenice Dias' : 20000,\n",
    "                 'Jorge Miranda' : 2000,\n",
    "                 'Pontes de Miranda' : 40000}\n",
    "\n",
    "for cliente in dict_contratos:\n",
    "    dict_contratos[cliente] *= 1.0375"
   ]
  },
  {
   "cell_type": "code",
   "execution_count": 15,
   "id": "5d4b1459",
   "metadata": {},
   "outputs": [
    {
     "name": "stdout",
     "output_type": "stream",
     "text": [
      "Parabéns! Você acertou o exercício!\n"
     ]
    }
   ],
   "source": [
    "from correcoes import aula5_ex1\n",
    "aula5_ex1(dict_contratos)"
   ]
  },
  {
   "cell_type": "markdown",
   "id": "b3f2428f-4687-4adb-98df-bfbe637cdc2c",
   "metadata": {},
   "source": [
    "#### Exercício extra\n",
    "\n",
    "Nem só de tarefas estritamente jurídicas vive um escritório de advocacia. É necessário controlar o fluxo de pagamento dos seus clientes. Imagine um escritório que costuma parcelar os honorários advocatícios. Precisamos saber se vamos emitir boletos/cobrar clientes a cada um dos meses e qual o valor que ainda resta no contrato.\n",
    "\n",
    "Use for e while loops para percorrer `dict_financeiro`, definido abaixo, populando uma lista chamada `cobrancas`, contendo uma string para cada cobrança. As strings devem respeitar a seguinte formatação:\n",
    "\n",
    "\"<'nome do cliente'> deve pagar <'valor da parcela'> ao escritório. Depois dessa parcela, ficarão faltando mais <'número de parcelas'> parcelas a pagar, totalizando <'valor total após atualização'> reais\".\n",
    "\n",
    "Use o operador `+` para realizar a concatenação das strings. Lembre-se de usar `str()` na frente de qualquer número que você pretende concatenar dessa forma! Caso contrário, o Python retornará um erro.\n",
    "\n",
    "Após, rode a célula de correção.\n",
    "\n",
    "<blockquote>\n",
    "\n",
    "DICA: Você pode usar for loops dentro de for loops. Assim, você pode percorrer um dicionário como `dict_financeiro`, que contém um dicionário atrelado a cada chave e depois percorrer cada um desses valores novamente.\n",
    "\n",
    "</blockquote>"
   ]
  },
  {
   "cell_type": "code",
   "execution_count": 9,
   "id": "af201cbe-f482-4c2e-9bf6-8897226fa1d4",
   "metadata": {},
   "outputs": [],
   "source": [
    "dict_financeiro = {'Maria Berenice Dias' : {\"valor_total\" : 20000, \"valor_pago\" : 10000, \"parcelas_faltantes\" : 20},\n",
    "                   'Jorge Miranda' : {\"valor_total\" : 2280, \"valor_pago\" : 0, \"parcelas_faltantes\" : 12},\n",
    "                   'Pontes de Miranda' : {\"valor_total\" : 40000, \"valor_pago\" : 19750, \"parcelas_faltantes\" : 6}}"
   ]
  },
  {
   "cell_type": "markdown",
   "id": "01eaa537-d7cf-4d96-88c0-9da460b702a6",
   "metadata": {},
   "source": [
    "Nossa solução"
   ]
  },
  {
   "cell_type": "code",
   "execution_count": 10,
   "id": "6e74e127-da50-43b0-9d70-fd5df98acdcc",
   "metadata": {},
   "outputs": [],
   "source": [
    "cobrancas = [] # o mesmo que: list()\n",
    "\n",
    "for nome, info_financeira in dict_financeiro.items():\n",
    "    \n",
    "    valor_pago = info_financeira['valor_pago']\n",
    "    parcelas_faltantes = info_financeira['parcelas_faltantes']\n",
    "    \n",
    "    valor_a_pagar = info_financeira['valor_total'] - valor_pago\n",
    "    \n",
    "    valor_parcela = valor_a_pagar/parcelas_faltantes\n",
    "    \n",
    "    \n",
    "    for n_parcelas_faltantes in range(parcelas_faltantes, 0, -1):\n",
    "        parcelas_apos_pagamento = n_parcelas_faltantes - 1\n",
    "        valor_a_pagar -= valor_parcela\n",
    "        \n",
    "        \n",
    "        texto_cobranca = f\"{nome} deve pagar {valor_parcela} ao escritório. Depois dessa parcela, ficarão faltando mais {parcelas_apos_pagamento} parcelas a pagar, totalizando {valor_a_pagar} reais\"\n",
    "        \n",
    "        cobrancas.append(texto_cobranca)"
   ]
  },
  {
   "cell_type": "code",
   "execution_count": 11,
   "id": "ecb8a033-5c03-4c22-b1d6-1506c0b64aa3",
   "metadata": {},
   "outputs": [
    {
     "name": "stdout",
     "output_type": "stream",
     "text": [
      "Parabéns! Você compreendeu bem os loops for e while!\n"
     ]
    }
   ],
   "source": [
    "from correcoes import exercicio_extra4\n",
    "exercicio_extra4(dict_financeiro, cobrancas)"
   ]
  },
  {
   "cell_type": "markdown",
   "id": "77be3eff-7553-4cb5-bf94-36d7390c01d8",
   "metadata": {},
   "source": [
    "Com while"
   ]
  },
  {
   "cell_type": "code",
   "execution_count": 12,
   "id": "fd8d6360-509f-45b1-949a-b2df4b502693",
   "metadata": {},
   "outputs": [],
   "source": [
    "cobrancas = [] # o mesmo que: list()\n",
    "\n",
    "for nome, info_financeira in dict_financeiro.items():\n",
    "    \n",
    "    valor_pago = info_financeira['valor_pago']\n",
    "    parcelas_faltantes = info_financeira['parcelas_faltantes']\n",
    "    \n",
    "    valor_a_pagar = info_financeira['valor_total'] - valor_pago\n",
    "    \n",
    "    valor_parcela = valor_a_pagar/parcelas_faltantes\n",
    "    valor_total = info_financeira['valor_total']\n",
    "    \n",
    "    while valor_pago < valor_total:\n",
    "\n",
    "        parcelas_faltantes -= 1\n",
    "        valor_a_pagar -= valor_parcela\n",
    "        valor_pago += valor_parcela\n",
    "        \n",
    "        \n",
    "        texto_cobranca = f\"{nome} deve pagar {valor_parcela} ao escritório. Depois dessa parcela, ficarão faltando mais {parcelas_faltantes} parcelas a pagar, totalizando {valor_a_pagar} reais\"\n",
    "        \n",
    "        cobrancas.append(texto_cobranca)"
   ]
  },
  {
   "cell_type": "code",
   "execution_count": 13,
   "id": "e7691c56-ae8f-4500-93dc-8c87bb1db195",
   "metadata": {},
   "outputs": [
    {
     "name": "stdout",
     "output_type": "stream",
     "text": [
      "Parabéns! Você compreendeu bem os loops for e while!\n"
     ]
    }
   ],
   "source": [
    "from correcoes import exercicio_extra4\n",
    "exercicio_extra4(dict_financeiro, cobrancas)"
   ]
  },
  {
   "cell_type": "markdown",
   "id": "ea7cdf78-8485-42a3-81a4-746af696085f",
   "metadata": {},
   "source": [
    "# Funções"
   ]
  },
  {
   "cell_type": "markdown",
   "id": "641cfb62-374e-4f20-8f68-1c5833aa3afc",
   "metadata": {},
   "source": [
    "#### Exercício\n",
    "\n",
    "Imagine que o contrato de prestação de serviços que automatizamos tem como objeto a geração automática de documentos. Nesse caso, não basta automatizarmos o contrato do cliente conosco. Precisamos também gerar documentos para esses clientes de forma automática.\n",
    "\n",
    "Vamos supor que seus clientes querem gerar declarações automáticas no seguinte formato:\n",
    "\n",
    "<blockquote>\n",
    "\n",
    "Eu, Guilherme, brasileiro, solteiro, com residência à rua tal e inscrito no CPF sob o número tal, declaro, para os devidos fins, que não tenho rendimentos a declarar com relação ao ano calendário de 2018.\n",
    "\n",
    "</blockquote>\n",
    "\n",
    "Implemente uma função (ou adapte a existente) para criar essas declarações para todos as chaves de `usuarios`. Rode essa função em um `for` loop para gerar um arquivo .txt seguindo a seguinte convenção de nomes:\n",
    "\n",
    "<blockquote>\n",
    "    [nome do cliente] + \"_declaracao.txt\"\n",
    "</blockquote>\n",
    "\n",
    "Após criar esses arquivos na pasta de trabalho atual, rode o script de correção na célula imediatamente posterior."
   ]
  },
  {
   "cell_type": "markdown",
   "id": "d55ae244-59c8-4584-b591-f0eed7ef2f4a",
   "metadata": {},
   "source": [
    "Vamos ver como podemos gerar a string"
   ]
  },
  {
   "cell_type": "code",
   "execution_count": 25,
   "id": "f1e042b0-0266-4d0e-9faf-cdeafeeab9e2",
   "metadata": {},
   "outputs": [],
   "source": [
    "nome = 'José'\n",
    "nacionalidade = \"brasileiro\"\n",
    "estado_civil = 'solteiro'\n",
    "endereco = \"Praia de Botafogo 190, 13º andar\"\n",
    "cpf = '123456789-54'\n",
    "\n",
    "texto_declaracao = f\"Eu, {nome}, {nacionalidade}, {estado_civil}, com residência à {endereco} e inscrito no CPF sob o número {cpf}, declaro, para os devidos fins, que não tenho rendimentos a declarar com relação ao ano calendário de 2018.\"\n",
    "\n",
    "nome_arquivo = nome + \"_declaracao.txt\"\n",
    "\n",
    "with open(nome_arquivo, 'w') as fl:\n",
    "    fl.write(texto_declaracao)"
   ]
  },
  {
   "cell_type": "code",
   "execution_count": 35,
   "id": "41a40b9f-afe7-416b-8673-b856f0db0b46",
   "metadata": {},
   "outputs": [],
   "source": [
    "def gera_declaracao(nome, nacionalidade, estado_civil, endereco, cpf):\n",
    "    texto_declaracao = f\"Eu, {nome}, {nacionalidade}, {estado_civil}, com residência à {endereco} e inscrito no CPF sob o número {cpf}, declaro, para os devidos fins, que não tenho rendimentos a declarar com relação ao ano calendário de 2018.\"\n",
    "    \n",
    "    nome_arquivo = nome + \"_declaracao.txt\"\n",
    "    \n",
    "    with open(nome_arquivo, 'w') as fl:\n",
    "        fl.write(texto_declaracao)\n",
    "    \n",
    "    print(texto_declaracao)\n",
    "    "
   ]
  },
  {
   "cell_type": "code",
   "execution_count": 32,
   "id": "d4913ebe-f826-446b-a082-ce9ff745a874",
   "metadata": {},
   "outputs": [
    {
     "name": "stdout",
     "output_type": "stream",
     "text": [
      "Eu, Luiz, brasileiro, viúvo, com residência à Praia de Botafogo 190, 13º andar e inscrito no CPF sob o número 123456789-54, declaro, para os devidos fins, que não tenho rendimentos a declarar com relação ao ano calendário de 2018.\n"
     ]
    }
   ],
   "source": [
    "nome = 'Luiz'\n",
    "nacionalidade = \"brasileiro\"\n",
    "estado_civil = 'viúvo'\n",
    "endereco = \"Praia de Botafogo 190, 13º andar\"\n",
    "cpf = '123456789-54'\n",
    "\n",
    "gera_declaracao(nome, nacionalidade, estado_civil, endereco, cpf)"
   ]
  },
  {
   "cell_type": "code",
   "execution_count": 36,
   "id": "6b70e3d4-ccc6-4d83-92b6-3e57491cb83b",
   "metadata": {},
   "outputs": [
    {
     "name": "stdout",
     "output_type": "stream",
     "text": [
      "Eu, Caio, brasileiro, solteiro, com residência à Rua do stf, 123 e inscrito no CPF sob o número 84984465461, declaro, para os devidos fins, que não tenho rendimentos a declarar com relação ao ano calendário de 2018.\n",
      "Eu, Tício, português, casado, com residência à Avenida do Porto, 171 e inscrito no CPF sob o número 44785698544, declaro, para os devidos fins, que não tenho rendimentos a declarar com relação ao ano calendário de 2018.\n",
      "Eu, Semprônio, romeno, divorciado, com residência à Rua principal, 3 e inscrito no CPF sob o número 1114547564, declaro, para os devidos fins, que não tenho rendimentos a declarar com relação ao ano calendário de 2018.\n",
      "Eu, Mário, brasileiro, solteiro, com residência à Rua do armário, 4 e inscrito no CPF sob o número 78568462164, declaro, para os devidos fins, que não tenho rendimentos a declarar com relação ao ano calendário de 2018.\n",
      "Eu, João, brasileiro, viúvo, com residência à Rua do lalala, 129 e inscrito no CPF sob o número 12325434564765, declaro, para os devidos fins, que não tenho rendimentos a declarar com relação ao ano calendário de 2018.\n",
      "Eu, Pedro, brasileiro, solteiro, com residência à Esplanada dos ministérios, 10 e inscrito no CPF sob o número 123235345211165, declaro, para os devidos fins, que não tenho rendimentos a declarar com relação ao ano calendário de 2018.\n",
      "Eu, Marcos, espanhol, solteiro, com residência à Rua do lavradio, 123 e inscrito no CPF sob o número 48789136584, declaro, para os devidos fins, que não tenho rendimentos a declarar com relação ao ano calendário de 2018.\n"
     ]
    }
   ],
   "source": [
    "for usuario, dict_info in usuarios.items():\n",
    "    gera_declaracao(usuario, dict_info['nacionalidade'],\n",
    "                    dict_info['estado_civil'], dict_info['endereco'],\n",
    "                    dict_info['cpf'])\n",
    "    "
   ]
  },
  {
   "cell_type": "code",
   "execution_count": 40,
   "id": "c56b6d81-7a0e-47c4-a045-cb436304569a",
   "metadata": {},
   "outputs": [
    {
     "name": "stdout",
     "output_type": "stream",
     "text": [
      "Parabéns! Você conhece os fundamentos de document assembly!\n"
     ]
    }
   ],
   "source": [
    "from correcoes import aula6_ex2\n",
    "aula6_ex2(usuarios)"
   ]
  },
  {
   "cell_type": "markdown",
   "id": "5381d0fb-d5b9-435f-98af-c49ea144ebb2",
   "metadata": {},
   "source": [
    "# Aula 13 - docx "
   ]
  },
  {
   "cell_type": "markdown",
   "id": "575eb94c-267c-4552-ab69-bfa5e4f553a9",
   "metadata": {},
   "source": [
    "#### Exercício\n",
    "\n",
    "Nós já sabemos que cada uma das tags que foram incluídas no template podem ser substituídas programaticamente. Altere as tags do documento programaticamente pelas seguintes informações:\n",
    "\n",
    "{N_VARA} = 99 <br>\n",
    "{N_PROCESSO} = 2019.30989203-04<br>\n",
    "{NOME_CLIENTE} = Tício Romano<br>\n",
    "{DIA_DE_HOJE} = 28<br>\n",
    "{MES_ATUAL} = junho<br>\n",
    "{ANO_ATUAL} = 2020<br>\n",
    "{NOME_ADVOGADO} = Caio Mário<br>\n",
    "{N_OAB} = 00001\n",
    "\n",
    "E salve o resultado em um arquivo chamado \"peticao01.docx\"."
   ]
  },
  {
   "cell_type": "code",
   "execution_count": 7,
   "id": "77123eb1-51d5-4139-8713-8d42412baedc",
   "metadata": {},
   "outputs": [],
   "source": [
    "import docx\n",
    "\n",
    "#seu código aqui\n",
    "def cria_peticao(dicionario_dados):\n",
    "    \n",
    "    #primeiro lê o template do disco\n",
    "    modelo = docx.Document(\"template.docx\")\n",
    "    \n",
    "    for p in modelo.paragraphs: #percorre cada parágrafo do meu modelo\n",
    "        for chave in dicionario_dados: #pra cada parágrafo do modelo, verifica se cada uma das chaves está presente\n",
    "            p.text = p.text.replace(chave, dicionario_dados[chave]) #se estiver presente, substitui pelo valor do dicionário\n",
    "\n",
    "    modelo.save(\"peticao01.docx\")"
   ]
  },
  {
   "cell_type": "code",
   "execution_count": 18,
   "id": "3280ef95-2111-410f-a696-abcca5cb991a",
   "metadata": {},
   "outputs": [],
   "source": [
    "dicionario_teste = {\n",
    "\"{N_VARA}\" : \"99\",\n",
    "\"{N_PROCESSO}\" : \"2019.30989203-04\",\n",
    "\"{NOME_CLIENTE}\" : \"Tício Romano\",\n",
    "\"{DIA_DE_HOJE}\" : \"28\",\n",
    "\"{MES_ATUAL}\" : \"junho\",\n",
    "\"{ANO_ATUAL}\" : \"2020\",\n",
    "\"{NOME_ADVOGADO}\" : \"Caio Mário\",\n",
    "\"{N_OAB}\" : \"00001\"\n",
    "}"
   ]
  },
  {
   "cell_type": "code",
   "execution_count": 19,
   "id": "cb321b76-4fe2-4e4e-9cfb-9015b28d3bdb",
   "metadata": {},
   "outputs": [],
   "source": [
    "cria_peticao(dicionario_teste)"
   ]
  },
  {
   "cell_type": "code",
   "execution_count": 20,
   "id": "135be2f4-edf3-4c0a-87d7-b59933f94665",
   "metadata": {},
   "outputs": [
    {
     "name": "stdout",
     "output_type": "stream",
     "text": [
      "O número de processo que indicamos (2019.30989203-04) não consta do documento final\n"
     ]
    }
   ],
   "source": [
    "from correcoes import aula13_ex1\n",
    "aula13_ex1(\"peticao01.docx\")"
   ]
  },
  {
   "cell_type": "markdown",
   "id": "5aaf92d2-f6b3-4de1-9bd8-af7369781cdf",
   "metadata": {},
   "source": [
    "#### Exercício extra\n",
    "\n",
    "Nós aprendemos a criar documentos de word programaticamente para fazer isso várias vezes em poucos segundos. Não faz sentido usar Python se for pra criar uma petição por vez. Abaixo, você vai encontrar uma lista de dicionários contendo os dados a respeito de 6 processos hipotéticos. Crie um loop para gerar as 6 petições de uma única vez. O nome da primeira petição deve ser \"peticao01.docx\" (se você fez o exercício anterior, ela já está criada!), o da segunda deve ser \"peticao02.docx\", e assim por diante. Atenção! A ordem importa."
   ]
  },
  {
   "cell_type": "code",
   "execution_count": 1,
   "id": "3ecf2d8f-bf57-462d-af8f-0dfc536f8fff",
   "metadata": {},
   "outputs": [],
   "source": [
    "petitions_list = [\n",
    "    {\"{N_VARA}\" : \"99\",\n",
    "     \"{N_PROCESSO}\" : \"2019.30989203-04\",\n",
    "     \"{NOME_CLIENTE}\" : \"Tício Romano\",\n",
    "     \"{DIA_DE_HOJE}\" : \"28\",\n",
    "     \"{MES_ATUAL}\" : \"junho\",\n",
    "     \"{ANO_ATUAL}\" : \"2020\",\n",
    "     \"{NOME_ADVOGADO}\" : \"Caio Mário\",\n",
    "     \"{N_OAB}\" : \"00001\"},\n",
    "    {\"{N_VARA}\" : \"33\",\n",
    "     \"{N_PROCESSO}\" : \"2019.546897-04\",\n",
    "     \"{NOME_CLIENTE}\" : \"Semprônio Siciliano\",\n",
    "     \"{DIA_DE_HOJE}\" : \"29\",\n",
    "     \"{MES_ATUAL}\" : \"junho\",\n",
    "     \"{ANO_ATUAL}\" : \"2020\",\n",
    "     \"{NOME_ADVOGADO}\" : \"Caio Mário Filho\",\n",
    "     \"{N_OAB}\" : \"444444\"},\n",
    "    {\"{N_VARA}\" : \"28\",\n",
    "     \"{N_PROCESSO}\" : \"2019.8847214-01\",\n",
    "     \"{NOME_CLIENTE}\" : \"Mévio Scipriano\",\n",
    "     \"{DIA_DE_HOJE}\" : \"15\",\n",
    "     \"{MES_ATUAL}\" : \"junho\",\n",
    "     \"{ANO_ATUAL}\" : \"2020\",\n",
    "     \"{NOME_ADVOGADO}\" : \"Caio Mário\",\n",
    "     \"{N_OAB}\" : \"00001\"},\n",
    "    {\"{N_VARA}\" : \"18\",\n",
    "     \"{N_PROCESSO}\" : \"2019.111477-00\",\n",
    "     \"{NOME_CLIENTE}\" : \"Semprônio Siciliano\",\n",
    "     \"{DIA_DE_HOJE}\" : \"01\",\n",
    "     \"{MES_ATUAL}\" : \"julho\",\n",
    "     \"{ANO_ATUAL}\" : \"2020\",\n",
    "     \"{NOME_ADVOGADO}\" : \"Caio Mário Filho\",\n",
    "     \"{N_OAB}\" : \"444444\"},\n",
    "    {\"{N_VARA}\" : \"99\",\n",
    "     \"{N_PROCESSO}\" : \"2019.30989208-04\",\n",
    "     \"{NOME_CLIENTE}\" : \"Justiniano Augusto\",\n",
    "     \"{DIA_DE_HOJE}\" : \"28\",\n",
    "     \"{MES_ATUAL}\" : \"junho\",\n",
    "     \"{ANO_ATUAL}\" : \"2020\",\n",
    "     \"{NOME_ADVOGADO}\" : \"Caio Mário\",\n",
    "     \"{N_OAB}\" : \"00001\"},\n",
    "    {\"{N_VARA}\" : \"43\",\n",
    "     \"{N_PROCESSO}\" : \"2001.1007546-03\",\n",
    "     \"{NOME_CLIENTE}\" : \"Tício Romano\",\n",
    "     \"{DIA_DE_HOJE}\" : \"28\",\n",
    "     \"{MES_ATUAL}\" : \"junho\",\n",
    "     \"{ANO_ATUAL}\" : \"2020\",\n",
    "     \"{NOME_ADVOGADO}\" : \"Caio Mário\",\n",
    "     \"{N_OAB}\" : \"00001\"}\n",
    "]"
   ]
  },
  {
   "cell_type": "code",
   "execution_count": null,
   "id": "e22e3146-e48f-422d-8be4-2e394aedbf55",
   "metadata": {},
   "outputs": [],
   "source": [
    "#seu código aqui\n"
   ]
  },
  {
   "cell_type": "code",
   "execution_count": null,
   "id": "d84da431-8bbf-4999-8c4a-4f8c5a584165",
   "metadata": {},
   "outputs": [],
   "source": [
    "from correcoes import exercicio_extra10\n",
    "exercicio_extra10()"
   ]
  }
 ],
 "metadata": {
  "kernelspec": {
   "display_name": "Python 3",
   "language": "python",
   "name": "python3"
  },
  "language_info": {
   "codemirror_mode": {
    "name": "ipython",
    "version": 3
   },
   "file_extension": ".py",
   "mimetype": "text/x-python",
   "name": "python",
   "nbconvert_exporter": "python",
   "pygments_lexer": "ipython3",
   "version": "3.9.1"
  },
  "toc": {
   "base_numbering": 1,
   "nav_menu": {},
   "number_sections": true,
   "sideBar": true,
   "skip_h1_title": false,
   "title_cell": "Table of Contents",
   "title_sidebar": "Contents",
   "toc_cell": true,
   "toc_position": {},
   "toc_section_display": true,
   "toc_window_display": false
  }
 },
 "nbformat": 4,
 "nbformat_minor": 5
}

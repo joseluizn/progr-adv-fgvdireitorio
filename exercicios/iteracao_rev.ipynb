{
 "cells": [
  {
   "cell_type": "markdown",
   "metadata": {},
   "source": [
    "# Exercício de revisão - for loop e range\n",
    "\n",
    "Podemos usar iterações para repetir uma mesma operação várias vezes, ou para executar um conjunto de comandos sobre todos os elementos de determinada estrutura de dados.\n",
    "\n",
    "A ideia ao usarmos o loop é escrever o código que usaríamos para tratar um caso qualquer dentro do `for`, então podemos executá-lo para todos os casos apenas pela capacidade da iteração!\n",
    "\n",
    "A sintaxe básica do `for` loop é:\n",
    "\n",
    "```python\n",
    "for elemento in estrutura:\n",
    "    # fazer algo\n",
    "    # a identação delimita o escopo do for loop\n",
    "    pass\n",
    "# comandos fora do escopo só são executados\n",
    "# após o fim da iteração!\n",
    "```\n",
    "\n",
    "O comando pass acima tem o próposito apenas de marcar o código dentro do for. Ele não executa nenhuma ação.\n",
    "\n",
    "<b> Quando usarmos o texto `__` no código abaixo isso normalmente vai indicar que você deve alterar o código e inserir algum nome de variável no lugar desse texto. </b>"
   ]
  },
  {
   "cell_type": "markdown",
   "metadata": {},
   "source": [
    "## 1\n",
    "\n",
    "Altere o código a seguir para printar os elementos da lista 1 por 1"
   ]
  },
  {
   "cell_type": "code",
   "execution_count": null,
   "metadata": {},
   "outputs": [],
   "source": [
    "lista_doutrinadores = [\n",
    "    \"celso antônio bandeira de mello\",\n",
    "    \"josé dos santos carvalho filho\",\n",
    "    \"maria sylvia di pietro\",\n",
    "    \"rui barbosa\",\n",
    "    \"claus roxin\",\n",
    "    \"wendell holmes\",\n",
    "    \"kelse\"\n",
    "]\n",
    "\n",
    "# substituia o __ pelo nome da variável que você quer dar\n",
    "for __ in  lista_doutrinadores:\n",
    "    # preencha também aqui o nome da variável\n",
    "    autor = \n",
    "    # podemos usar o title para alterar a capitalização das strings!\n",
    "    print(autor.title())"
   ]
  },
  {
   "cell_type": "markdown",
   "metadata": {},
   "source": [
    "## 2\n",
    "\n",
    "Agora vamos salvar o nome modificado em uma nova lista com a capitalização apropriada."
   ]
  },
  {
   "cell_type": "code",
   "execution_count": null,
   "metadata": {},
   "outputs": [],
   "source": [
    "lista_doutrinadores = [\n",
    "    \"celso antônio bandeira de mello\",\n",
    "    \"josé dos santos carvalho filho\",\n",
    "    \"maria sylvia di pietro\",\n",
    "    \"rui barbosa\",\n",
    "    \"claus roxin\",\n",
    "    \"wendell holmes\",\n",
    "    \"kelse\"\n",
    "]\n",
    "\n",
    "# crie aqui uma lista vazia\n",
    "lista_capitalizada = \n",
    "\n",
    "# substituia o __ pelo nome da variável que você quer dar\n",
    "for doutrinador in  lista_doutrinadores:\n",
    "    # preencha também aqui o nome da variável\n",
    "    autor = doutrinador.title()\n",
    "    # podemos usar o title para alterar a capitalização das strings!\n",
    "    print(autor.title())\n",
    "    # Substitua a linha abaixo para adicionar o nome do doutrinador com a capitalização alterada\n",
    "    __ = None\n",
    "\n",
    "print(lista_capitalizada)\n"
   ]
  },
  {
   "cell_type": "markdown",
   "metadata": {},
   "source": [
    "# Iterando sobre dicionários.\n",
    "\n",
    "Podemos usar iteração também para iterar sobre um dicionário.\n",
    "\n",
    "Há algumas formas diferentes de realizar essa iteração, apenas sobre as chaves, apenas sobre os valores ou iterando sobre os dois!\n",
    "    \n",
    "Por padrão iremos iterar sobre as chaves."
   ]
  },
  {
   "cell_type": "code",
   "execution_count": 2,
   "metadata": {
    "scrolled": true
   },
   "outputs": [
    {
     "name": "stdout",
     "output_type": "stream",
     "text": [
      "gallahad\n",
      "robin\n"
     ]
    }
   ],
   "source": [
    "knights = {\"gallahad\": \"the pure\",\"robin\": \"the brave\"}\n",
    "\n",
    "for chave in knights:\n",
    "    print(chave)\n"
   ]
  },
  {
   "cell_type": "markdown",
   "metadata": {},
   "source": [
    "## 3"
   ]
  },
  {
   "cell_type": "markdown",
   "metadata": {},
   "source": [
    "Contudo, podemos usar a forma normal de acessar os valores do dicionário para acessar os valores correspondentes a chave!\n",
    "\n",
    "Altere o código abaixo para acessar também o valor do dicionário!"
   ]
  },
  {
   "cell_type": "code",
   "execution_count": null,
   "metadata": {},
   "outputs": [],
   "source": [
    "knights = {'gallahad': 'the pure', 'robin': 'the brave'}\n",
    "\n",
    "for chave in knights:\n",
    "    print(chave)\n",
    "    # substitua __ pela forma de acessar a chave\n",
    "    chave = __"
   ]
  },
  {
   "cell_type": "markdown",
   "metadata": {},
   "source": [
    "## 4\n",
    "\n",
    "Podemos também iterar tanto sobre a chave quanto sobre o valor.\n",
    "\n",
    "Para isso, devemos usar o método `.items()`. Como vamos passar por 2 variáveis, nesse caso devemos iterar pensando que para cada iteração vamos receber 2 variáveis!\n"
   ]
  },
  {
   "cell_type": "markdown",
   "metadata": {},
   "source": [
    "<details>\n",
    "  <summary><b>Explicação aprofundada</b> (<i>Clique para ver</i>)</summary>\n",
    "  \n",
    "  De fato, o que ocorre é que ao usar o método `.items()` estamos iterando sobre tuplas, onde o primeiro item é a chave e o segundo o valor.\n",
    "\n",
    "  Ao usarmos a sintaxe abaixo fazemos uma operação que podemos chamar de desestruturar a tupla, atribundo cada um de seus valores em 2 variáveis.\n",
    "</details>\n",
    "\n",
    "Veja o código abaixo:"
   ]
  },
  {
   "cell_type": "code",
   "execution_count": 10,
   "metadata": {},
   "outputs": [
    {
     "name": "stdout",
     "output_type": "stream",
     "text": [
      "A chave é: 'gallahad'. Seu valor é: 'the pure'.\n",
      "A chave é: 'robin'. Seu valor é: 'the brave'.\n"
     ]
    }
   ],
   "source": [
    "for key, value in knights.items():\n",
    "    print(f\"A chave é: '{key}'.\", f\"Seu valor é: '{value}'.\")"
   ]
  },
  {
   "cell_type": "markdown",
   "metadata": {},
   "source": [
    "Altere o código abaixo usando a mesma sintaxe para percorrer o dicionário."
   ]
  },
  {
   "cell_type": "code",
   "execution_count": null,
   "metadata": {},
   "outputs": [],
   "source": [
    "processo_clientes = {\n",
    "    \"Aliomar Baleeiro\": [\"RE 72.085\", \"HC 72.131\", \"ADI 12.143\"],\n",
    "    \"Visconde de Sabará\": [\"HC 97\"],\n",
    "    \"Carlos Maximiliano\": [\"MS 13.044\", \"AI 146.879\"],\n",
    "}\n",
    "\n",
    "# altere apenas a linha abaixo!\n",
    "for __ in processo_clientes:\n",
    "    print(f\"Para o cliente {cliente} temos os seguintes processos:\")\n",
    "    print(processos)"
   ]
  },
  {
   "cell_type": "markdown",
   "metadata": {},
   "source": [
    "## 5\n",
    "\n",
    "Um elemento importante de pensar sobre código é que podemos lidar com estruturas que contém informações arbitrárias.\n",
    "\n",
    "Assim, como podemos ver acima, cada valor do dicionário `processo_clientes` é uma lista. Ao atribuirmos à variável `processos` podemos fazer manipulações possíveis com listas.\n",
    "\n",
    "Um exemplo é iterar também sobre essa lista.\n",
    "\n",
    "Altere o código abaixo para iterar e imprimir individualmente cada um dos processos.\n",
    "\n",
    "**Observação**: perceba que agora usamos uma nova identação para indicar o escopo do segundo for, que está dentro do for maior. Em cada iteração do primeiro for vamos executar todas as iterações do segundo for antes de continuar o código."
   ]
  },
  {
   "cell_type": "code",
   "execution_count": null,
   "metadata": {},
   "outputs": [],
   "source": [
    "processo_clientes = {\n",
    "    \"Aliomar Baleeiro\": [\"RE 72.085\", \"HC 72.131\", \"ADI 12.143\"],\n",
    "    \"Visconde de Sabará\": [\"HC 97\"],\n",
    "    \"Carlos Maximiliano\": [\"MS 13.044\", \"AI 146.879\"],\n",
    "}\n",
    "\n",
    "for cliente, processos in processo_clientes.items():\n",
    "    print(f\"Para o cliente {cliente} temos os seguintes processos:\")\n",
    "    # altere apenas as linhas abaixo em __!\n",
    "    for __ in ___:\n",
    "        print(f\"\\t{__}\")\n",
    "    print(\"===================\")"
   ]
  },
  {
   "cell_type": "markdown",
   "metadata": {},
   "source": [
    "## 6\n",
    "\n",
    "Podemos também alterar essas listas.\n",
    "\n",
    "Uma especificidade de dicionários é que essas alterações ficam salvas."
   ]
  },
  {
   "cell_type": "code",
   "execution_count": 16,
   "metadata": {},
   "outputs": [
    {
     "name": "stdout",
     "output_type": "stream",
     "text": [
      "['RE 72.085', 'HC 72.131']\n",
      "[]\n",
      "['MS 13.044']\n",
      "{'Aliomar Baleeiro': ['RE 72.085', 'HC 72.131'], 'Visconde de Sabará': [], 'Carlos Maximiliano': ['MS 13.044']}\n"
     ]
    }
   ],
   "source": [
    "processo_clientes = {\n",
    "    \"Aliomar Baleeiro\": [\"RE 72.085\", \"HC 72.131\", \"ADI 12.143\"],\n",
    "    \"Visconde de Sabará\": [\"HC 97\"],\n",
    "    \"Carlos Maximiliano\": [\"MS 13.044\", \"AI 146.879\"],\n",
    "}\n",
    "\n",
    "for cliente, processos in processo_clientes.items():\n",
    "    # acesse a lista e utilize o método pop para remover o primeiro processo\n",
    "    processo_removido = processo_clientes[__]\n",
    "    print(f\"{processo_removido} foi removido da lista de processos do cliente {cliente}.\")\n",
    "    print(f\"Os processos restantes em nosso escritório são: {processos}\")\n",
    "# vamos ver que processo clientes não apresenta maios os processos removidos\n",
    "print(processo_clientes)"
   ]
  },
  {
   "cell_type": "markdown",
   "metadata": {},
   "source": [
    "# Range\n",
    "\n",
    "Vimos também que podemos usar a função `range` de algumas formas.\n",
    "\n",
    "Vamos focar aqui em seu uso em conjunto com a iteração.\n",
    "\n",
    "Seu uso mais simples permite executar um código um número arbitrário de vezes:"
   ]
  },
  {
   "cell_type": "code",
   "execution_count": 19,
   "metadata": {},
   "outputs": [
    {
     "name": "stdout",
     "output_type": "stream",
     "text": [
      "n = 0: \n",
      "n = 1: *\n",
      "n = 2: **\n",
      "n = 3: ***\n",
      "n = 4: ****\n"
     ]
    }
   ],
   "source": [
    "for n in range(5):\n",
    "    texto = \"*\" * n\n",
    "    print(f\"n = {n}:\", texto)"
   ]
  },
  {
   "cell_type": "markdown",
   "metadata": {},
   "source": [
    "Veja que começamos de 0 até o número anterior ao argumento recebido pela função.\n",
    "\n",
    "## 7\n",
    "\n",
    "Outra forma comum de usar ranges é combinando a função com a indexação de lista, como apresentado na aula de listas e tuplas.\n",
    "\n",
    "No geral, nesse casos vamos combiná-la com a função `len` que nos informa o tamanho de determinada variável.\n",
    "\n",
    "Agora, podemos pensar que o valor que a variável assume em cada iteração representa o índice da posição de uma lista que esteja sendo percorrida."
   ]
  },
  {
   "cell_type": "code",
   "execution_count": 21,
   "metadata": {},
   "outputs": [
    {
     "ename": "SyntaxError",
     "evalue": "invalid syntax (2963865944.py, line 3)",
     "output_type": "error",
     "traceback": [
      "\u001b[0;36m  Cell \u001b[0;32mIn[21], line 3\u001b[0;36m\u001b[0m\n\u001b[0;31m    n_processos =\u001b[0m\n\u001b[0m                  ^\u001b[0m\n\u001b[0;31mSyntaxError\u001b[0m\u001b[0;31m:\u001b[0m invalid syntax\n"
     ]
    }
   ],
   "source": [
    "lista_processos = [\"RE 72.085\", \"HC 72.131\", \"ADI 12.143\"]\n",
    "\n",
    "# utilize a função len para calcular o tamanho da lista de processos!\n",
    "n_processos = \n",
    "\n",
    "for i in range(n_processos):\n",
    "    print(f\"O processo {lista_processos[i]} está na posição [{i}] da lista.\")"
   ]
  },
  {
   "cell_type": "markdown",
   "metadata": {},
   "source": [
    "## 8\n",
    "\n",
    "Altere o código abaixo para passar a informação do ministro presenta na `lista_relatores`"
   ]
  },
  {
   "cell_type": "code",
   "execution_count": 22,
   "metadata": {},
   "outputs": [
    {
     "name": "stdout",
     "output_type": "stream",
     "text": [
      "O Ministro RE 72.085 está na posição [0] da lista de relatores.\n",
      "O Ministro HC 72.131 está na posição [1] da lista de relatores.\n",
      "O Ministro ADI 12.143 está na posição [2] da lista de relatores.\n"
     ]
    }
   ],
   "source": [
    "lista_processos = [\"RE 72.085\", \"HC 72.131\", \"ADI 12.143\"]\n",
    "\n",
    "lista_relatores = [\"Min. Celso de Mello\", \"Min. Marco Aurélio\", \"Min. Gilmar Mendes\"]\n",
    "\n",
    "# a variável no exercício anterior guarda o valor de len\n",
    "# mas poderíamos passar o resultado da função direto para a função range\n",
    "for i in range(len(lista_relatores)):\n",
    "    # altere a linha abaixo para acessar o nome do relator\n",
    "    print(f\"O Ministro {lista_processos[i]} está na posição [{i}] da lista de relatores.\")"
   ]
  },
  {
   "cell_type": "markdown",
   "metadata": {},
   "source": [
    "## 9\n",
    "\n",
    "Se sabemos que duas listas tem o mesmo tamanho, nada nos impede de acessar as duas simultaneamente."
   ]
  },
  {
   "cell_type": "code",
   "execution_count": null,
   "metadata": {},
   "outputs": [],
   "source": [
    "lista_processos = [\"RE 72.085\", \"HC 72.131\", \"ADI 12.143\"]\n",
    "\n",
    "lista_relatores = [\"Min. Celso de Mello\", \"Min. Marco Aurélio\", \"Min. Gilmar Mendes\"]\n",
    "\n",
    "for i in range(len(lista_processos)):\n",
    "    # altere a linha abaixo para acessar tanto o processo quanto o relator\n",
    "    print(f\"O relator do processo { __ } é o Ministro { __ }.\")\n"
   ]
  },
  {
   "cell_type": "markdown",
   "metadata": {},
   "source": [
    "## 10\n",
    "\n",
    "Vamos agora criar uma nova estrutura com os mesmos dados.\n",
    "\n",
    "Vamos criar uma lista vazia e preenchê-la com tuplas que associam o processo e o relator."
   ]
  },
  {
   "cell_type": "code",
   "execution_count": null,
   "metadata": {},
   "outputs": [],
   "source": [
    "lista_processos = [\"RE 72.085\", \"HC 72.131\", \"ADI 12.143\"]\n",
    "\n",
    "lista_relatores = [\"Min. Celso de Mello\", \"Min. Marco Aurélio\", \"Min. Gilmar Mendes\"]\n",
    "\n",
    "# cria uma lista vazia\n",
    "processo_relator = list()\n",
    "\n",
    "# a variável no exercício anterior guarda o valor de len\n",
    "# mas poderíamos passar o resultado da função direto para a função range\n",
    "for i in range(len(lista_processos)):\n",
    "    # altere a linha abaixo para acessar tanto o processo quanto o relator\n",
    "    print(f\"O relator do processo { __ } é o Ministro { __ }.\")\n",
    "    # altere a linha para criar uma tupla\n",
    "    tupla_p_r = __\n",
    "\n",
    "    processo_relator.append(tupla_p_r)\n",
    "\n",
    "print(processo_relator)"
   ]
  }
 ],
 "metadata": {
  "kernelspec": {
   "display_name": "Python 3 (ipykernel)",
   "language": "python",
   "name": "python3"
  },
  "language_info": {
   "codemirror_mode": {
    "name": "ipython",
    "version": 3
   },
   "file_extension": ".py",
   "mimetype": "text/x-python",
   "name": "python",
   "nbconvert_exporter": "python",
   "pygments_lexer": "ipython3",
   "version": "3.10.8"
  },
  "toc": {
   "base_numbering": 1,
   "nav_menu": {},
   "number_sections": true,
   "sideBar": true,
   "skip_h1_title": false,
   "title_cell": "Table of Contents",
   "title_sidebar": "Contents",
   "toc_cell": true,
   "toc_position": {},
   "toc_section_display": true,
   "toc_window_display": false
  }
 },
 "nbformat": 4,
 "nbformat_minor": 2
}
